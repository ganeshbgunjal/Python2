{
 "cells": [
  {
   "cell_type": "markdown",
   "id": "c3b8703b-0c7e-43c9-a7bb-2d18fd6e5969",
   "metadata": {},
   "source": [
    "### **If-Else Statements:-**\n",
    "Evaluates the condition and excutes the block of code if the condition is true."
   ]
  },
  {
   "cell_type": "code",
   "execution_count": 3,
   "id": "3a5eb77f-c3fe-4f41-b6ed-b070e1ffa581",
   "metadata": {},
   "outputs": [
    {
     "name": "stdout",
     "output_type": "stream",
     "text": [
      "You are adult\n"
     ]
    }
   ],
   "source": [
    "# If part executed.\n",
    "age = 30\n",
    "if age>=30:\n",
    "    print('You are adult')\n",
    "else:\n",
    "    print('You are teenage')"
   ]
  },
  {
   "cell_type": "code",
   "execution_count": 4,
   "id": "79b73ef4-1fdd-41d2-88e2-c5e74fcbf873",
   "metadata": {},
   "outputs": [
    {
     "name": "stdout",
     "output_type": "stream",
     "text": [
      "You are teenage\n"
     ]
    }
   ],
   "source": [
    "# Else part executed\n",
    "age = 29\n",
    "if age>=30: \n",
    "    print('You are adult')\n",
    "else:\n",
    "    print('You are teenage')\n"
   ]
  },
  {
   "cell_type": "markdown",
   "id": "4a16ec4f-30bd-4d41-a7de-f47b34136bc4",
   "metadata": {},
   "source": [
    "#### **Elif Statements:**\n",
    "It allows to check multiple conditions."
   ]
  },
  {
   "cell_type": "code",
   "execution_count": 8,
   "id": "b9a5a9fc-781f-4e34-ba56-ad62ffaf0f24",
   "metadata": {},
   "outputs": [
    {
     "name": "stdout",
     "output_type": "stream",
     "text": [
      "You are adult\n"
     ]
    }
   ],
   "source": [
    "age = 20    #else part executed\n",
    "if age<13:\n",
    "    print('You are child')\n",
    "elif age <18:\n",
    "    print('You are teenager')\n",
    "else:\n",
    "    print('You are adult')"
   ]
  },
  {
   "cell_type": "code",
   "execution_count": 9,
   "id": "3432fc5d-e31e-4db1-9fde-07178855d5a3",
   "metadata": {},
   "outputs": [
    {
     "name": "stdout",
     "output_type": "stream",
     "text": [
      "You are teenager\n"
     ]
    }
   ],
   "source": [
    "age = 17     #elif block executed\n",
    "if age<13:\n",
    "    print('You are child')\n",
    "elif age <18:\n",
    "    print('You are teenager')\n",
    "else:\n",
    "    print('You are adult')"
   ]
  },
  {
   "cell_type": "markdown",
   "id": "101b98f6-c8dc-4b5a-bb2c-d839f2c9c728",
   "metadata": {},
   "source": [
    "#### **Nested If statements:**\n",
    "Nested means If else under If else statements. "
   ]
  },
  {
   "cell_type": "code",
   "execution_count": 17,
   "id": "061dbd73-5bb6-4dbd-ad71-8c6707cd8324",
   "metadata": {},
   "outputs": [
    {
     "name": "stdin",
     "output_type": "stream",
     "text": [
      "Enter Number:  1\n"
     ]
    },
    {
     "name": "stdout",
     "output_type": "stream",
     "text": [
      "1 is Positive\n",
      "1 is Odd\n"
     ]
    }
   ],
   "source": [
    "num = int(input('Enter Number: '))\n",
    "if num >=0:\n",
    "    print(f'{num} is Positive')\n",
    "    if num % 2 == 0:\n",
    "        print(f'{num} is Even')\n",
    "    else:\n",
    "        print(f'{num} is Odd')\n",
    "else:\n",
    "    print('Enter right digit')"
   ]
  },
  {
   "cell_type": "markdown",
   "id": "b51072bf-fa9a-493d-83ce-040e5a3c3954",
   "metadata": {},
   "source": [
    "### **Practical Examples:**"
   ]
  },
  {
   "cell_type": "code",
   "execution_count": 20,
   "id": "1ee7a8ff-70d5-435a-87b1-4dfdfd2d0dc8",
   "metadata": {},
   "outputs": [
    {
     "name": "stdin",
     "output_type": "stream",
     "text": [
      "Enter Year:  2020\n"
     ]
    },
    {
     "name": "stdout",
     "output_type": "stream",
     "text": [
      "2020  is a leap year.\n"
     ]
    }
   ],
   "source": [
    "# Determine if a year is a leap year using nested statements.\n",
    "year = int(input('Enter Year: '))\n",
    "if year%4==0:\n",
    "    if year%100==0:\n",
    "        if year%400==0:\n",
    "            print(year,' is a leap year')\n",
    "        else:\n",
    "            print(f'{year} is a leap year')\n",
    "    else:\n",
    "        print(year,' is a leap year.')\n",
    "else:\n",
    "    print(year,' is not leap year')"
   ]
  },
  {
   "cell_type": "code",
   "execution_count": null,
   "id": "93e0d872-a30d-4413-b927-6f10ec4538f0",
   "metadata": {},
   "outputs": [],
   "source": [
    "# Simple calculator as in your photo."
   ]
  },
  {
   "cell_type": "code",
   "execution_count": null,
   "id": "0a900fcb-c252-4ddf-a74d-8081871e4e9a",
   "metadata": {},
   "outputs": [],
   "source": [
    "Determine the ticket price based on age and whether the person is student or "
   ]
  }
 ],
 "metadata": {
  "kernelspec": {
   "display_name": "Python 3 (ipykernel)",
   "language": "python",
   "name": "python3"
  },
  "language_info": {
   "codemirror_mode": {
    "name": "ipython",
    "version": 3
   },
   "file_extension": ".py",
   "mimetype": "text/x-python",
   "name": "python",
   "nbconvert_exporter": "python",
   "pygments_lexer": "ipython3",
   "version": "3.12.7"
  }
 },
 "nbformat": 4,
 "nbformat_minor": 5
}
