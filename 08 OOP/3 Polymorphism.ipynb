{
 "cells": [
  {
   "cell_type": "markdown",
   "id": "3908eb97-1413-460d-8c51-9f37493c3e09",
   "metadata": {},
   "source": [
    "### Polymorphism:"
   ]
  },
  {
   "cell_type": "markdown",
   "id": "3bfb5b59-f3c3-4f1b-8a72-1005593f38c5",
   "metadata": {},
   "source": [
    "**Polymorphism** is core concept in OOPs that allows objects of different classes to be treated as objects of common superclass. It provides a way to perfrom a single action in different forms. Ploymorphism is typically achieved through method overriding and interfaces."
   ]
  },
  {
   "cell_type": "markdown",
   "id": "2d685dde-a91e-40bb-874e-02105a33adba",
   "metadata": {},
   "source": [
    "### Method Overriding:\n",
    "method overriding allows a child class to provide a specific implementation of a method that is already defined in its parent class."
   ]
  },
  {
   "cell_type": "code",
   "execution_count": 3,
   "id": "e09083f5-63ee-4734-ab6c-79176a4b6125",
   "metadata": {},
   "outputs": [],
   "source": [
    "# Base class 1.\n",
    "class Animal:\n",
    "    def speak(self):\n",
    "        return 'Sound of a animal'\n",
    "\n",
    "\n",
    "\n",
    "# Derived class 1.\n",
    "class Dog(Animal):\n",
    "    def speak(self):\n",
    "        return 'bho bho'\n",
    "\n",
    "#derived class 2\n",
    "class Cat(Animal):\n",
    "    def speak(self):\n",
    "        return 'Meow Meow'\n",
    "    "
   ]
  },
  {
   "cell_type": "markdown",
   "id": "8d84a851-4ae1-41c9-b9cf-158e98810db9",
   "metadata": {},
   "source": [
    "in above code **speak method** is overrided. it is showing 3 different forms."
   ]
  },
  {
   "cell_type": "code",
   "execution_count": 5,
   "id": "34385dab-cd55-4343-8193-6aac5d1ff142",
   "metadata": {},
   "outputs": [
    {
     "name": "stdout",
     "output_type": "stream",
     "text": [
      "Dog: bho bho\n",
      "Cat: Meow Meow\n"
     ]
    }
   ],
   "source": [
    "dog = Dog()\n",
    "cat = Cat()\n",
    "print(f'Dog: {dog.speak()}')\n",
    "print(f'Cat: {cat.speak()}')"
   ]
  },
  {
   "cell_type": "markdown",
   "id": "d6bdb619-d3b8-4410-a6cf-db438d4f64a1",
   "metadata": {},
   "source": [
    "This is the polymorphism. here speak method is used as for dog speak and then cat speeak from same Animal base class."
   ]
  },
  {
   "cell_type": "markdown",
   "id": "ab81930e-936e-4544-a378-cffd3765ee6e",
   "metadata": {},
   "source": [
    "### Polymorphism with function and methods:"
   ]
  },
  {
   "cell_type": "code",
   "execution_count": 10,
   "id": "0343a950-8e4a-41a2-ad7c-f7370bf48572",
   "metadata": {},
   "outputs": [
    {
     "name": "stdout",
     "output_type": "stream",
     "text": [
      "The area is: 20\n",
      "The area is: 28.259999999999998\n"
     ]
    }
   ],
   "source": [
    "# Base class\n",
    "class Shape:\n",
    "    def area(self):\n",
    "        return 'The area of a Figure'\n",
    "\n",
    "# Derived class 1\n",
    "class Rectangle(Shape):\n",
    "    def __init__(self,width,height):\n",
    "        self.width=width\n",
    "        self.height=height\n",
    "\n",
    "    def area(self):\n",
    "        return self.width * self.height\n",
    "\n",
    "# Derived class 2\n",
    "class Circle(Shape):\n",
    "    def __init__(self,radius):\n",
    "        self.radius=radius\n",
    "\n",
    "    def area(self):\n",
    "        return 3.14 * self.radius * self.radius\n",
    "    \n",
    "# function that demonstrates the aread:\n",
    "def print_area(shape):\n",
    "    print(f'The area is: {shape.area()}')\n",
    "\n",
    "rectangle = Rectangle(4,5)\n",
    "circle = Circle(3)\n",
    "\n",
    "print_area(rectangle)\n",
    "print_area(circle)"
   ]
  },
  {
   "cell_type": "markdown",
   "id": "002eab58-5e2d-445e-a594-4ef91faea1d8",
   "metadata": {},
   "source": [
    "### Polymorphism with Abstract base classes:"
   ]
  },
  {
   "cell_type": "markdown",
   "id": "1927f9bb-2b3a-4101-b841-d81dc77a5594",
   "metadata": {},
   "source": [
    "**Abstract base class: (ABCs)** are used to define methods for a group of a related objects. They can enforce that derived classes implement particular methods, promoting consistancy across different implementations."
   ]
  },
  {
   "cell_type": "markdown",
   "id": "05335633-21b7-46d4-b396-10a70155586b",
   "metadata": {},
   "source": [
    "we can say that abstract class means empty class."
   ]
  },
  {
   "cell_type": "code",
   "execution_count": 11,
   "id": "dcc720be-e838-494f-beb9-3bd6a4dbaa91",
   "metadata": {},
   "outputs": [],
   "source": [
    "from abc import ABC,abstractmethod     #abc means abstract class.\n",
    "\n",
    "# Define a abstract class.\n",
    "class Vehicle(ABC):\n",
    "    @abstractmethod\n",
    "    def start_engine(self):\n",
    "        pass\n",
    "\n",
    "# Derived class 1\n",
    "class Car(Vehicle):\n",
    "    def start_engine(self):\n",
    "        return 'Car engine started'\n",
    "\n",
    "# Derived class 2.\n",
    "class Motorcycle(Vehicle):\n",
    "    def start_engine(self):\n",
    "        return 'Motor Cycle engine started.'\n",
    "\n",
    "# create object of the car and motorcycle.\n",
    "car = Car()\n",
    "motorcycle = Motorcycle()"
   ]
  },
  {
   "cell_type": "code",
   "execution_count": 12,
   "id": "ac26313b-2c56-42a5-a39c-3ba93d6c140a",
   "metadata": {},
   "outputs": [
    {
     "data": {
      "text/plain": [
       "'Car engine started'"
      ]
     },
     "execution_count": 12,
     "metadata": {},
     "output_type": "execute_result"
    }
   ],
   "source": [
    "car.start_engine()"
   ]
  },
  {
   "cell_type": "code",
   "execution_count": 14,
   "id": "b77b6700-ef95-4198-9cd3-54c16e55c176",
   "metadata": {},
   "outputs": [
    {
     "data": {
      "text/plain": [
       "'Motor Cycle engine started.'"
      ]
     },
     "execution_count": 14,
     "metadata": {},
     "output_type": "execute_result"
    }
   ],
   "source": [
    "motorcycle.start_engine()    #This is how abstract class works."
   ]
  },
  {
   "cell_type": "markdown",
   "id": "3fc33afc-59b5-40b0-ae5a-079b3b04859c",
   "metadata": {},
   "source": [
    "### Conclusion:-\n",
    "Polymorphism is a powerful feature of OOP that allows you for flexibility and integration in code design. it enables a single function to handle objects of different classes. each with its own implementations of a method. By understanding and applying polyporphism, you can create more extensinble and maintainable object oriented program. "
   ]
  },
  {
   "cell_type": "code",
   "execution_count": null,
   "id": "8e1523ef-6355-49d4-997b-f29b7834a9f1",
   "metadata": {},
   "outputs": [],
   "source": []
  }
 ],
 "metadata": {
  "kernelspec": {
   "display_name": "Python 3 (ipykernel)",
   "language": "python",
   "name": "python3"
  },
  "language_info": {
   "codemirror_mode": {
    "name": "ipython",
    "version": 3
   },
   "file_extension": ".py",
   "mimetype": "text/x-python",
   "name": "python",
   "nbconvert_exporter": "python",
   "pygments_lexer": "ipython3",
   "version": "3.12.7"
  }
 },
 "nbformat": 4,
 "nbformat_minor": 5
}
