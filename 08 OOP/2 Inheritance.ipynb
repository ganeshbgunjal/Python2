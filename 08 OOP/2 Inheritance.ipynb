{
 "cells": [
  {
   "cell_type": "markdown",
   "id": "1713e7fc-1e94-4a3a-afab-dab72c7813ab",
   "metadata": {},
   "source": [
    "### Inheritance:\n",
    "**Inheritance** is a core concept in Object-Oriented Programming (OOP) that allows a class (child class) to inherit attributes and methods from another class (parent class). This helps reuse code and create a hierarchy."
   ]
  },
  {
   "cell_type": "markdown",
   "id": "b1aa5ecd-c8c8-49e8-830b-64b09acb1894",
   "metadata": {},
   "source": [
    "**Inheritance** is the fundamental concept in the object oriented programming that allows a class to inherit attributes and methods from another class. This lesson teaches how single and multiple inheritance demonstrating how to create and use them in python."
   ]
  },
  {
   "cell_type": "markdown",
   "id": "ed76eb3e-7699-475e-9be1-3ee7900bb916",
   "metadata": {},
   "source": [
    "#### Inheritance: (single Inheritance: only one child class is inheriting the parent class)"
   ]
  },
  {
   "cell_type": "code",
   "execution_count": 1,
   "id": "f7da2297-6253-49ae-b116-b20878baabcb",
   "metadata": {},
   "outputs": [],
   "source": [
    "class Car:\n",
    "    def __init__(self,windows,doors,enginetype):\n",
    "        self.windows = windows\n",
    "        self.doors = doors\n",
    "        self.enginetype = enginetype\n",
    "\n",
    "    def drive(self):\n",
    "        print(f'The person will drive {self.enginetype} car.')\n",
    "        "
   ]
  },
  {
   "cell_type": "code",
   "execution_count": 3,
   "id": "e5a672fc-87f1-4ae0-92c9-40210f259cdb",
   "metadata": {},
   "outputs": [
    {
     "name": "stdout",
     "output_type": "stream",
     "text": [
      "The person will drive Petrol car.\n",
      "None\n"
     ]
    }
   ],
   "source": [
    "car1 = Car(4,5,'Petrol')\n",
    "print(car1.drive())"
   ]
  },
  {
   "cell_type": "code",
   "execution_count": 4,
   "id": "dd2f7f8a-8eb2-416c-a68c-49ad45c83f98",
   "metadata": {},
   "outputs": [],
   "source": [
    "#create inheritance:\n",
    "class Tesla(Car):\n",
    "    def __init__(self,windows,doors,enginetype,is_selfdriving):\n",
    "        super().__init__(windows,doors,enginetype)\n",
    "        self.is_selfdriving = is_selfdriving\n",
    "\n",
    "    def selfdriving(self):\n",
    "        print(f'Tesla supports self driving: {self.is_selfdriving}')"
   ]
  },
  {
   "cell_type": "code",
   "execution_count": 5,
   "id": "9833b66c-a4c5-4aea-b8a3-df66a68eff3e",
   "metadata": {},
   "outputs": [],
   "source": [
    "tesla1 = Tesla(4,5,'Electric',True)"
   ]
  },
  {
   "cell_type": "code",
   "execution_count": 7,
   "id": "d68f7bdf-1bb4-4068-bcc4-c32a770e230d",
   "metadata": {},
   "outputs": [
    {
     "name": "stdout",
     "output_type": "stream",
     "text": [
      "Doors: 5\n",
      "The person will drive Electric car.\n",
      "None\n"
     ]
    }
   ],
   "source": [
    "print(f'Doors: {tesla1.doors}')\n",
    "print(tesla1.drive())"
   ]
  },
  {
   "cell_type": "code",
   "execution_count": 8,
   "id": "29104e6f-ebdd-410f-b820-d164546f7b9b",
   "metadata": {},
   "outputs": [
    {
     "name": "stdout",
     "output_type": "stream",
     "text": [
      "Engine type is: Electric\n",
      "Tesla supports self driving: True\n",
      "None\n"
     ]
    }
   ],
   "source": [
    "print(f'Engine type is: {tesla1.enginetype}')\n",
    "print(tesla1.selfdriving())"
   ]
  },
  {
   "cell_type": "markdown",
   "id": "ebee4b8b-83a9-4c2d-bd8e-eebaf082622c",
   "metadata": {},
   "source": [
    "### Multiple Inheritance:\n",
    "##### When a class inherits from more than one base class"
   ]
  },
  {
   "cell_type": "code",
   "execution_count": 2,
   "id": "be14e6de-f2e2-422e-bde3-2e4e729af85e",
   "metadata": {},
   "outputs": [],
   "source": [
    "# base class 1.  (parent class 1)\n",
    "class Animal:\n",
    "    def __init__(self,name):\n",
    "        self.name = name\n",
    "\n",
    "    def speak(self):\n",
    "        print('Subclass must implement this method.')\n",
    "\n",
    "\n",
    "# Base class 2.   (parent class 2)\n",
    "class Pet:\n",
    "    def __init__(self,owner):\n",
    "        self.owner = owner\n",
    "\n",
    "\n",
    "# Derived class.(child class)\n",
    "\n",
    "class Dog(Animal,Pet):\n",
    "    def __init__(self,name,owner):\n",
    "        Animal.__init__(self,name)\n",
    "        Pet.__init__(self,owner)\n",
    "\n",
    "    def speak(self):\n",
    "        return f'{self.name} says bho bho'\n",
    "\n",
    "dog = Dog('bibtya','Ganesh')\n",
    "\n"
   ]
  },
  {
   "cell_type": "code",
   "execution_count": 3,
   "id": "6d932bf7-5302-46b3-a863-f81d2e984f86",
   "metadata": {},
   "outputs": [
    {
     "name": "stdout",
     "output_type": "stream",
     "text": [
      "Dog name: bibtya\n",
      "Dog Owner: Ganesh\n",
      "bibtya says bho bho\n"
     ]
    }
   ],
   "source": [
    "print(f'Dog name: {dog.name}')\n",
    "print(f'Dog Owner: {dog.owner}')\n",
    "print(dog.speak())"
   ]
  },
  {
   "cell_type": "markdown",
   "id": "38ea5de9-6d7a-4ddb-bbee-26d7ab77ebd9",
   "metadata": {},
   "source": [
    "#### from above code, we seen that from 2 different classes we inherits their property/attributes and methods.\n"
   ]
  },
  {
   "cell_type": "code",
   "execution_count": null,
   "id": "c71a150c-3944-408e-95ce-0c116a3df762",
   "metadata": {},
   "outputs": [],
   "source": []
  }
 ],
 "metadata": {
  "kernelspec": {
   "display_name": "Python 3 (ipykernel)",
   "language": "python",
   "name": "python3"
  },
  "language_info": {
   "codemirror_mode": {
    "name": "ipython",
    "version": 3
   },
   "file_extension": ".py",
   "mimetype": "text/x-python",
   "name": "python",
   "nbconvert_exporter": "python",
   "pygments_lexer": "ipython3",
   "version": "3.12.7"
  }
 },
 "nbformat": 4,
 "nbformat_minor": 5
}
