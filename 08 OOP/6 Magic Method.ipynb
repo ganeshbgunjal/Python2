{
 "cells": [
  {
   "cell_type": "markdown",
   "id": "b0915725-350c-4fd9-9bab-e12b5c74f2b6",
   "metadata": {},
   "source": [
    "### Magic Methods:"
   ]
  },
  {
   "cell_type": "markdown",
   "id": "63bf3935-da26-44a7-8fcb-fdc217849fe1",
   "metadata": {},
   "source": [
    "**Magic methods** in python also known as **Dunder methods.** means double underscore methods.are special methods that starts and end with double underscore. This methods unable you define the behaviour of a objects for built-in operations such as arithmatic operations, comparisons and more."
   ]
  },
  {
   "cell_type": "markdown",
   "id": "ee19bbce-c81e-4bc0-8309-90486ae7dffa",
   "metadata": {},
   "source": [
    "**Magic methods** are pre-defined methods that you can overrride to change the behaviour of your objects. some common magic methods are: "
   ]
  },
  {
   "cell_type": "code",
   "execution_count": 1,
   "id": "2f0ee8dd-a4d2-42bb-b645-d2b0f367188f",
   "metadata": {},
   "outputs": [
    {
     "data": {
      "text/plain": [
       "'\\n__init__ : initialise new instance of a class.\\n __str__ : returns a string represenation of a object\\n __repr__ : returns official representation of an obejcts. \\n __len__ : returns length of objects. \\n __getitem__ : gets item of from a container. \\n __setitem__ : sets an item in a container.\\n '"
      ]
     },
     "execution_count": 1,
     "metadata": {},
     "output_type": "execute_result"
    }
   ],
   "source": [
    "'''\n",
    "__init__ : initialise new instance of a class.\n",
    " __str__ : returns a string represenation of a object\n",
    " __repr__ : returns official representation of an obejcts. \n",
    " __len__ : returns length of objects. \n",
    " __getitem__ : gets item of from a container. \n",
    " __setitem__ : sets an item in a container.\n",
    " '''"
   ]
  },
  {
   "cell_type": "code",
   "execution_count": 2,
   "id": "26f4e99b-5377-478d-9654-57a3264b1162",
   "metadata": {},
   "outputs": [
    {
     "data": {
      "text/plain": [
       "['__class__',\n",
       " '__delattr__',\n",
       " '__dict__',\n",
       " '__dir__',\n",
       " '__doc__',\n",
       " '__eq__',\n",
       " '__format__',\n",
       " '__ge__',\n",
       " '__getattribute__',\n",
       " '__getstate__',\n",
       " '__gt__',\n",
       " '__hash__',\n",
       " '__init__',\n",
       " '__init_subclass__',\n",
       " '__le__',\n",
       " '__lt__',\n",
       " '__module__',\n",
       " '__ne__',\n",
       " '__new__',\n",
       " '__reduce__',\n",
       " '__reduce_ex__',\n",
       " '__repr__',\n",
       " '__setattr__',\n",
       " '__sizeof__',\n",
       " '__str__',\n",
       " '__subclasshook__',\n",
       " '__weakref__']"
      ]
     },
     "execution_count": 2,
     "metadata": {},
     "output_type": "execute_result"
    }
   ],
   "source": [
    "class Person:\n",
    "    pass\n",
    "\n",
    "person = Person()\n",
    "dir(person)"
   ]
  },
  {
   "cell_type": "markdown",
   "id": "34fa1d70-8d29-43c5-85da-fa7794ce3639",
   "metadata": {},
   "source": [
    "#### Above all are magic methods for this class."
   ]
  },
  {
   "cell_type": "code",
   "execution_count": 3,
   "id": "1d3bed41-0645-4f73-b3f9-6b85ce07f64b",
   "metadata": {},
   "outputs": [],
   "source": [
    "# Basic methods:\n",
    "class Person:\n",
    "    def __init__(self,name,age):\n",
    "        self.name=name\n",
    "        self.age=age\n",
    "\n",
    "person = Person('Ganesh',33)\n"
   ]
  },
  {
   "cell_type": "code",
   "execution_count": 4,
   "id": "bffc23a5-bd5f-49ae-bbee-7f3e602aafa0",
   "metadata": {},
   "outputs": [
    {
     "name": "stdout",
     "output_type": "stream",
     "text": [
      "<__main__.Person object at 0x0000019346BB9E50>\n"
     ]
    }
   ],
   "source": [
    "print(person)"
   ]
  },
  {
   "cell_type": "code",
   "execution_count": 9,
   "id": "e317a98e-a8e6-4ea0-98e5-991e5a7bed56",
   "metadata": {},
   "outputs": [
    {
     "name": "stdout",
     "output_type": "stream",
     "text": [
      "Ganesh is 33 years old.\n",
      "Person name: Ganesh and age is:33.\n"
     ]
    }
   ],
   "source": [
    "# Basic methods:\n",
    "class Person:\n",
    "    def __init__(self,name,age):\n",
    "        self.name=name\n",
    "        self.age=age\n",
    "\n",
    "    def __str__(self):      #override tha main function of __str__ method. we modify the function of this method.\n",
    "        return f'{self.name} is {self.age} years old.'\n",
    "\n",
    "    def __repr__(self):\n",
    "        return f'Person name: {self.name} and age is:{self.age}.'\n",
    "person = Person('Ganesh',33)\n",
    "print(person)\n",
    "print(repr(person))"
   ]
  },
  {
   "cell_type": "markdown",
   "id": "d137799f-c9dd-49f6-b2e7-2f7564bdc94d",
   "metadata": {},
   "source": [
    "#### In above code we modify or override the magic methods.\n",
    "#### we change their origin function or behaviour. "
   ]
  },
  {
   "cell_type": "code",
   "execution_count": null,
   "id": "19865387-099f-4511-b81e-fff1c1968091",
   "metadata": {},
   "outputs": [],
   "source": []
  }
 ],
 "metadata": {
  "kernelspec": {
   "display_name": "Python 3 (ipykernel)",
   "language": "python",
   "name": "python3"
  },
  "language_info": {
   "codemirror_mode": {
    "name": "ipython",
    "version": 3
   },
   "file_extension": ".py",
   "mimetype": "text/x-python",
   "name": "python",
   "nbconvert_exporter": "python",
   "pygments_lexer": "ipython3",
   "version": "3.12.7"
  }
 },
 "nbformat": 4,
 "nbformat_minor": 5
}
