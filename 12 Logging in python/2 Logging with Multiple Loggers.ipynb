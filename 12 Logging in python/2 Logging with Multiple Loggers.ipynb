{
 "cells": [
  {
   "cell_type": "markdown",
   "id": "d1dd7e1c-bca0-4b34-8e0a-6bb36c9b72f8",
   "metadata": {},
   "source": [
    "### Logging with Multiple Loggers:"
   ]
  },
  {
   "cell_type": "markdown",
   "id": "5e65a4a6-1b7f-4ae2-b25b-a66f948ee3d7",
   "metadata": {},
   "source": [
    "* **You can create multiple loggers from various part of your applications**"
   ]
  },
  {
   "cell_type": "code",
   "execution_count": 1,
   "id": "4b32ab8f-2c91-4918-9fda-d36469621f26",
   "metadata": {},
   "outputs": [],
   "source": [
    "import logging\n"
   ]
  },
  {
   "cell_type": "markdown",
   "id": "09169897-56ad-4368-bb5d-de07e6849a40",
   "metadata": {},
   "source": [
    "#### Create a logger for Module 1:"
   ]
  },
  {
   "cell_type": "code",
   "execution_count": 2,
   "id": "459b448b-e3e5-4a8e-8f1c-db7d39479c5e",
   "metadata": {},
   "outputs": [],
   "source": [
    "logger1 = logging.getLogger('Module1')\n",
    "logger1.setLevel(logging.DEBUG)\n",
    "\n",
    "# Create a logger for module 2.\n",
    "\n",
    "logger2 = logging.getLogger('Module2')\n",
    "logger2.setLevel(logging.WARNING)\n",
    "\n",
    "\n",
    "logging.basicConfig(\n",
    "    filename='app.log',\n",
    "    filemode='w',\n",
    "    level=logging.DEBUG,\n",
    "    format= '%(asctime)s - %(name)s - %(levelname)s - %(message)s',\n",
    "    datefmt = '%Y-%m-%d %H-%M-%S'\n",
    ")\n",
    "\n",
    "# Log messages with differnet loggers:\n",
    "logger1.debug('This is debug message for module1')\n",
    "logger2.warning('This is warning message for module 2')\n",
    "logger2.error('This is error message for module 2')"
   ]
  },
  {
   "cell_type": "markdown",
   "id": "f89ef38c-1b28-4bb6-8315-3734420fadcb",
   "metadata": {},
   "source": [
    "Now here one thing is that when logs are created, there will be this module names when log is created. in previous logging file, only \"root\" module is displayed. Now there will be specific module name will be display after this is called. In app.log file this result is given. **Note this thing** "
   ]
  },
  {
   "cell_type": "code",
   "execution_count": null,
   "id": "f01303f8-a9e6-4f32-87fa-1c279a9266e2",
   "metadata": {},
   "outputs": [],
   "source": []
  }
 ],
 "metadata": {
  "kernelspec": {
   "display_name": "Python 3 (ipykernel)",
   "language": "python",
   "name": "python3"
  },
  "language_info": {
   "codemirror_mode": {
    "name": "ipython",
    "version": 3
   },
   "file_extension": ".py",
   "mimetype": "text/x-python",
   "name": "python",
   "nbconvert_exporter": "python",
   "pygments_lexer": "ipython3",
   "version": "3.12.7"
  }
 },
 "nbformat": 4,
 "nbformat_minor": 5
}
