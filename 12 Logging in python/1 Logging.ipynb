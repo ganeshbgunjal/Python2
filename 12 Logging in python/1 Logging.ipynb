{
 "cells": [
  {
   "cell_type": "markdown",
   "id": "df5b36a5-2cc7-40c0-96eb-163231e9ed08",
   "metadata": {},
   "source": [
    "### Logging:"
   ]
  },
  {
   "cell_type": "markdown",
   "id": "714f9633-2db7-435d-a65c-25b7b901410c",
   "metadata": {},
   "source": [
    "Logging is a crucial aspect of any application, providing a way to track events, errors and operational events. Python's built in logging module offers a flexible framework for emmiting log message from python program. In this lesson we are going to cover basics of logging including how to configure logging, log levels and best practices for using logging in Python application.  "
   ]
  },
  {
   "cell_type": "code",
   "execution_count": null,
   "id": "218da6a9-8167-4138-bf76-1d3ff10ccc96",
   "metadata": {},
   "outputs": [],
   "source": []
  }
 ],
 "metadata": {
  "kernelspec": {
   "display_name": "Python 3 (ipykernel)",
   "language": "python",
   "name": "python3"
  },
  "language_info": {
   "codemirror_mode": {
    "name": "ipython",
    "version": 3
   },
   "file_extension": ".py",
   "mimetype": "text/x-python",
   "name": "python",
   "nbconvert_exporter": "python",
   "pygments_lexer": "ipython3",
   "version": "3.12.7"
  }
 },
 "nbformat": 4,
 "nbformat_minor": 5
}
