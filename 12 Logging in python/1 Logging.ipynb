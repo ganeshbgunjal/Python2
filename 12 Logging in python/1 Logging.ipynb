{
 "cells": [
  {
   "cell_type": "markdown",
   "id": "df5b36a5-2cc7-40c0-96eb-163231e9ed08",
   "metadata": {},
   "source": [
    "### Logging:"
   ]
  },
  {
   "cell_type": "markdown",
   "id": "714f9633-2db7-435d-a65c-25b7b901410c",
   "metadata": {},
   "source": [
    "Logging is a crucial aspect of any application, providing a way to track events, errors and operational events. Python's built in logging module offers a flexible framework for emmiting log message from python program. In this lesson we are going to cover basics of logging including how to configure logging, log levels and best practices for using logging in Python application.  "
   ]
  },
  {
   "cell_type": "markdown",
   "id": "c3c0b7ce-4389-4167-aa02-ebbd72d2e73a",
   "metadata": {},
   "source": [
    "Logging is useful in project to track everything like warning and error and while debugging."
   ]
  },
  {
   "cell_type": "code",
   "execution_count": 1,
   "id": "df9c107f-a76b-4583-ade7-a218da55bddd",
   "metadata": {},
   "outputs": [],
   "source": [
    "import logging"
   ]
  },
  {
   "cell_type": "markdown",
   "id": "a6bc8be6-a741-47a1-97c6-6d1ab145e7e3",
   "metadata": {},
   "source": [
    "#### Configure the basic logging setting:"
   ]
  },
  {
   "cell_type": "code",
   "execution_count": null,
   "id": "5e6d87cf-b616-4d02-a18c-dd420e2d1d8b",
   "metadata": {},
   "outputs": [],
   "source": [
    "logging.basicConfig(level=logging)"
   ]
  }
 ],
 "metadata": {
  "kernelspec": {
   "display_name": "Python 3 (ipykernel)",
   "language": "python",
   "name": "python3"
  },
  "language_info": {
   "codemirror_mode": {
    "name": "ipython",
    "version": 3
   },
   "file_extension": ".py",
   "mimetype": "text/x-python",
   "name": "python",
   "nbconvert_exporter": "python",
   "pygments_lexer": "ipython3",
   "version": "3.12.7"
  }
 },
 "nbformat": 4,
 "nbformat_minor": 5
}
