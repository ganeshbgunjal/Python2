{
 "cells": [
  {
   "cell_type": "markdown",
   "id": "df5b36a5-2cc7-40c0-96eb-163231e9ed08",
   "metadata": {},
   "source": [
    "### Logging:"
   ]
  },
  {
   "cell_type": "markdown",
   "id": "714f9633-2db7-435d-a65c-25b7b901410c",
   "metadata": {},
   "source": [
    "Logging is a crucial aspect of any application, providing a way to track events, errors and operational events. Python's built in logging module offers a flexible framework for emmiting log message from python program. In this lesson we are going to cover basics of logging including how to configure logging, log levels and best practices for using logging in Python application.  "
   ]
  },
  {
   "cell_type": "markdown",
   "id": "c3c0b7ce-4389-4167-aa02-ebbd72d2e73a",
   "metadata": {},
   "source": [
    "Logging is useful in project to track everything like warning and error and while debugging."
   ]
  },
  {
   "cell_type": "code",
   "execution_count": 1,
   "id": "df9c107f-a76b-4583-ade7-a218da55bddd",
   "metadata": {},
   "outputs": [],
   "source": [
    "import logging"
   ]
  },
  {
   "cell_type": "markdown",
   "id": "a6bc8be6-a741-47a1-97c6-6d1ab145e7e3",
   "metadata": {},
   "source": [
    "#### Configure the basic logging setting:"
   ]
  },
  {
   "cell_type": "code",
   "execution_count": 2,
   "id": "5e6d87cf-b616-4d02-a18c-dd420e2d1d8b",
   "metadata": {},
   "outputs": [],
   "source": [
    "# logging.basicConfig(level=logging.DEBUG,format= '%(asctime)s - %(levelname)s - %(message)s')\n",
    "\n",
    "# logging.debug('This is a debug message')\n",
    "# logging.info('This is an info message')\n",
    "# logging.warning('This is a warning message')\n",
    "# logging.error('This is an error message')\n",
    "# logging.critical('This is a critical message')\n",
    "\n"
   ]
  },
  {
   "cell_type": "markdown",
   "id": "f43316df-ee00-4d5b-b6f9-a6780f8202cb",
   "metadata": {},
   "source": [
    "### Log Levels:"
   ]
  },
  {
   "cell_type": "markdown",
   "id": "2784ba8d-6c1c-42dc-9cb4-1340b70d4e4a",
   "metadata": {},
   "source": [
    "Python's logging module has several log levels indicating the severity of log levels. The default levels are:  \n",
    "* DEBUG: Detailed Information, typically of ineterest only when diagnosing problems. \n",
    "* INFO: Confirmation that things are working as expected.\n",
    "* WARNING: An indication that something unexpected happened or indicative of some problems in the near future(e.g. Disk space low) The software is still working as expected.\n",
    "* ERROR: Due to more serious problem the software has not been able to perform some functions.\n",
    "* CRITICAL: A very serious error, indicating that the problem itself maybe unable to continue running."
   ]
  },
  {
   "cell_type": "markdown",
   "id": "9854a574-446b-458b-88ef-d72a5f9d2aff",
   "metadata": {},
   "source": [
    "#### Configuring the Logging: "
   ]
  },
  {
   "cell_type": "code",
   "execution_count": 3,
   "id": "ac400431-8b5a-4d81-9e98-3a872bf19286",
   "metadata": {},
   "outputs": [],
   "source": [
    "logging.basicConfig(\n",
    "    filename='app.log',\n",
    "    filemode='w',\n",
    "    level=logging.DEBUG,\n",
    "    format= '%(asctime)s - %(name)s - %(levelname)s - %(message)s',\n",
    "    datefmt = '%Y-%m-%d %H-%M-%S'\n",
    ")\n",
    "\n",
    "logging.debug('This is a debug message')\n",
    "logging.info('This is an info message')\n",
    "logging.warning('This is a warning message')\n",
    "logging.error('This is an error message')\n",
    "logging.critical('This is a critical message')\n"
   ]
  },
  {
   "cell_type": "markdown",
   "id": "b529bc09-f573-41a3-b411-b0f4983c9b00",
   "metadata": {},
   "source": [
    "* If I write again some log message, then it must be saved."
   ]
  },
  {
   "cell_type": "code",
   "execution_count": 4,
   "id": "400ac234-8a2e-4400-97fb-a291e9fbe136",
   "metadata": {},
   "outputs": [],
   "source": [
    "logging.debug('This is a debug message')\n",
    "logging.info('This is an info message')\n",
    "logging.warning('This is a warning message')\n",
    "logging.error('This is an error message')\n",
    "logging.critical('This is a critical message')"
   ]
  },
  {
   "cell_type": "code",
   "execution_count": null,
   "id": "397c8daf-bd4f-415a-bda0-26e34188c1ab",
   "metadata": {},
   "outputs": [],
   "source": []
  }
 ],
 "metadata": {
  "kernelspec": {
   "display_name": "Python 3 (ipykernel)",
   "language": "python",
   "name": "python3"
  },
  "language_info": {
   "codemirror_mode": {
    "name": "ipython",
    "version": 3
   },
   "file_extension": ".py",
   "mimetype": "text/x-python",
   "name": "python",
   "nbconvert_exporter": "python",
   "pygments_lexer": "ipython3",
   "version": "3.12.7"
  }
 },
 "nbformat": 4,
 "nbformat_minor": 5
}
