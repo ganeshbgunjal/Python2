{
 "cells": [
  {
   "cell_type": "markdown",
   "id": "ba258a02-7026-4252-8577-d9c267d0ffff",
   "metadata": {},
   "source": [
    "### Logging with A Real world example: "
   ]
  },
  {
   "cell_type": "markdown",
   "id": "69818845-f88c-4548-98f2-9b30f3e67143",
   "metadata": {},
   "source": [
    "#### Logging Settings:"
   ]
  },
  {
   "cell_type": "code",
   "execution_count": null,
   "id": "4ffd083d-46c1-43d2-8bbf-827462c380bf",
   "metadata": {},
   "outputs": [],
   "source": [
    "import logging\n",
    "logging.basicConfig(\n",
    "    filename='app1.log',\n",
    "    level=logging.DEBUG,\n",
    "    format= '%(asctime)s - %(name)s - %(levelname)s - %(message)s',\n",
    "    datefmt = '%Y-%m-%d %H-%M-%S',\n",
    "    handlers= [\n",
    "        logging.FileHandler('app1.log'),     #will save file logs\n",
    "        logging.StreamHandler()                #will save streaming logs\n",
    "    ]\n",
    ")\n",
    "\n",
    "logger = logging.getLogger('ArithmaticApp')\n",
    "\n",
    "def add(a,b):\n",
    "    result = a+b\n",
    "    logging.debug(f'Adding {a} + {b}= {result}')\n",
    "    return result\n",
    "\n",
    "def substract(a,b):\n",
    "    result = a-b\n",
    "    logging.debug(f'Substracting {a} - {b}= {result}')\n",
    "    return result\n",
    "\n",
    "def multiplication(a,b):\n",
    "    result = a*b\n",
    "    logging.debug(f'Multiplying {a} * {b}= {result}')\n",
    "    return result\n",
    "\n",
    "def division(a,b):\n",
    "    try:\n",
    "        result = a/b\n",
    "        logging.debug(f'Adding {a} / {b}= {result}')\n",
    "        return result\n",
    "    except ZeroDivisionError:\n",
    "        print(f'Error: {e}')\n",
    "        logger.error('Division by zero error.')\n",
    "        return None\n",
    "\n",
    "add(10,15)\n",
    "substract(15,10)\n",
    "multiplication(10,20)\n",
    "division(20,10)"
   ]
  }
 ],
 "metadata": {
  "kernelspec": {
   "display_name": "Python 3 (ipykernel)",
   "language": "python",
   "name": "python3"
  },
  "language_info": {
   "codemirror_mode": {
    "name": "ipython",
    "version": 3
   },
   "file_extension": ".py",
   "mimetype": "text/x-python",
   "name": "python",
   "nbconvert_exporter": "python",
   "pygments_lexer": "ipython3",
   "version": "3.12.7"
  }
 },
 "nbformat": 4,
 "nbformat_minor": 5
}
