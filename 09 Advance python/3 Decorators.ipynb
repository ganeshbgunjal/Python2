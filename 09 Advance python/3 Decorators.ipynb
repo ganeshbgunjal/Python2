{
 "cells": [
  {
   "cell_type": "markdown",
   "id": "e121ba21-bf57-4146-abeb-27bf37e26b30",
   "metadata": {},
   "source": [
    "### Decorators:\n",
    "Decorators are powerful and flexible feature in python that allows you to modify the behaviour of function or class method. They are commonly used to add functionality to function or methods without modifying their acyual code. this lesson covers the basics of decorators including how to create and use them."
   ]
  },
  {
   "cell_type": "code",
   "execution_count": 2,
   "id": "84d8f964-13a2-42e6-93c6-8c8059252daf",
   "metadata": {},
   "outputs": [],
   "source": [
    "def Welcome():\n",
    "    print('Welcome to Advanced python course..')"
   ]
  },
  {
   "cell_type": "code",
   "execution_count": 3,
   "id": "b0d94789-6cf2-4790-abac-dd4f87a5303a",
   "metadata": {},
   "outputs": [
    {
     "name": "stdout",
     "output_type": "stream",
     "text": [
      "Welcome to Advanced python course..\n"
     ]
    }
   ],
   "source": [
    "Welcome()"
   ]
  },
  {
   "cell_type": "markdown",
   "id": "99760495-c72b-4230-8af4-f7e1df559a65",
   "metadata": {},
   "source": [
    "#### Function Copy"
   ]
  },
  {
   "cell_type": "code",
   "execution_count": 4,
   "id": "ca51542f-6730-4648-bf26-2bed11a6800b",
   "metadata": {},
   "outputs": [],
   "source": [
    "wel = Welcome"
   ]
  },
  {
   "cell_type": "code",
   "execution_count": 5,
   "id": "41b16a1d-d131-4783-ac2a-917bf2571e1e",
   "metadata": {},
   "outputs": [
    {
     "data": {
      "text/plain": [
       "<function __main__.Welcome()>"
      ]
     },
     "execution_count": 5,
     "metadata": {},
     "output_type": "execute_result"
    }
   ],
   "source": [
    "wel"
   ]
  },
  {
   "cell_type": "code",
   "execution_count": 7,
   "id": "e17f39d1-800b-42ba-99aa-be3f7c557a4e",
   "metadata": {},
   "outputs": [
    {
     "name": "stdout",
     "output_type": "stream",
     "text": [
      "Welcome to Advanced python course..\n"
     ]
    }
   ],
   "source": [
    "wel()   #copied function to this variable."
   ]
  },
  {
   "cell_type": "code",
   "execution_count": 8,
   "id": "cff3337d-d43a-4485-95c1-c02afada4462",
   "metadata": {},
   "outputs": [],
   "source": [
    "del Welcome"
   ]
  },
  {
   "cell_type": "code",
   "execution_count": 10,
   "id": "acce8198-6e49-4ee9-a516-a5bf7c855653",
   "metadata": {},
   "outputs": [
    {
     "name": "stdout",
     "output_type": "stream",
     "text": [
      "Welcome to Advanced python course..\n"
     ]
    }
   ],
   "source": [
    "wel()    #after deleting main function copy of the function still there. it has not deleted."
   ]
  },
  {
   "cell_type": "markdown",
   "id": "584d7784-cd4d-4475-9f55-61f3938e9af8",
   "metadata": {},
   "source": [
    "#### Closures:\n",
    "Function inside a function."
   ]
  },
  {
   "cell_type": "code",
   "execution_count": 18,
   "id": "d878e0c0-9efb-454b-b7f6-95bfac68ecbd",
   "metadata": {},
   "outputs": [],
   "source": [
    "def main_welcome():\n",
    "    msg='Welcome'\n",
    "    def sub_welcome_method():\n",
    "        print('Welcome to the advance course.!')\n",
    "        print(msg)\n",
    "        print('Learn this method properly.')\n",
    "    return sub_welcome_method()"
   ]
  },
  {
   "cell_type": "code",
   "execution_count": 19,
   "id": "a77fc1e6-0480-49b8-bfb4-c936f3161d50",
   "metadata": {},
   "outputs": [
    {
     "name": "stdout",
     "output_type": "stream",
     "text": [
      "Welcome to the advance course.!\n",
      "Welcome\n",
      "Learn this method properly.\n"
     ]
    }
   ],
   "source": [
    "main_welcome()     #local variable \"msg\" is displayed here."
   ]
  },
  {
   "cell_type": "code",
   "execution_count": 23,
   "id": "639db718-1515-4297-92b0-d776be62cd6d",
   "metadata": {},
   "outputs": [],
   "source": [
    "def main_welcome(func):\n",
    "    def sub_welcome_method():\n",
    "        print('Welcome to the advance course.!')\n",
    "        func('Welcom to this tutorial')\n",
    "        print('Learn this method properly.')\n",
    "    return sub_welcome_method()"
   ]
  },
  {
   "cell_type": "code",
   "execution_count": 25,
   "id": "dbd49bba-6488-4d78-aa66-e1958cbdf077",
   "metadata": {},
   "outputs": [
    {
     "name": "stdout",
     "output_type": "stream",
     "text": [
      "Welcome to the advance course.!\n",
      "Welcom to this tutorial\n",
      "Learn this method properly.\n"
     ]
    }
   ],
   "source": [
    "main_welcome(print)   #Here func is a inbuilt function and print is another function."
   ]
  },
  {
   "cell_type": "markdown",
   "id": "3dc9a9d9-2165-4316-b29b-d565e10edb51",
   "metadata": {},
   "source": [
    "### Decorator:"
   ]
  },
  {
   "cell_type": "code",
   "execution_count": 26,
   "id": "a32b6bfb-f07f-47bd-9686-a8cddcd4f7dc",
   "metadata": {},
   "outputs": [],
   "source": [
    "def main_welcome(func):\n",
    "    def sub_welcome_method():\n",
    "        print('Welcome to the advance course.!')\n",
    "        func()\n",
    "        print('Learn this method properly.')\n",
    "    return sub_welcome_method()"
   ]
  },
  {
   "cell_type": "code",
   "execution_count": 28,
   "id": "9b9afc4b-7939-457b-92df-46d9c78f50b3",
   "metadata": {},
   "outputs": [
    {
     "name": "stdout",
     "output_type": "stream",
     "text": [
      "This is an advanced python course..\n"
     ]
    }
   ],
   "source": [
    "def course_introduction():\n",
    "    print(\"This is an advanced python course..\")\n",
    "\n",
    "course_introduction()"
   ]
  },
  {
   "cell_type": "code",
   "execution_count": 29,
   "id": "7b1273b9-e380-4b0d-bb14-1e55b5329654",
   "metadata": {},
   "outputs": [
    {
     "name": "stdout",
     "output_type": "stream",
     "text": [
      "Welcome to the advance course.!\n",
      "This is an advanced python course..\n",
      "Learn this method properly.\n"
     ]
    }
   ],
   "source": [
    "main_welcome(course_introduction)    #we are giving parameter as a second function."
   ]
  },
  {
   "cell_type": "markdown",
   "id": "6b66012b-4480-4f9e-bc2d-a271d8248738",
   "metadata": {},
   "source": [
    "#### below is the code which shows actual implementation of Decorator:"
   ]
  },
  {
   "cell_type": "code",
   "execution_count": 31,
   "id": "05d84347-81fa-4d73-925c-4415ab10125c",
   "metadata": {},
   "outputs": [
    {
     "name": "stdout",
     "output_type": "stream",
     "text": [
      "Welcome to the advance course.!\n",
      "This is an advanced python course with decorators..\n",
      "Learn this method properly.\n"
     ]
    }
   ],
   "source": [
    "@main_welcome      #this is called decorator wheere one function is called like this.\n",
    "def course_introduction():\n",
    "    print(\"This is an advanced python course with decorators..\")"
   ]
  },
  {
   "cell_type": "markdown",
   "id": "4e1bb5fd-f8da-46ad-aec2-3cf104ee427d",
   "metadata": {},
   "source": [
    "above code shows that second method is going under the first method."
   ]
  },
  {
   "cell_type": "markdown",
   "id": "48680873-5a65-45e0-85e8-a34c331d8292",
   "metadata": {},
   "source": [
    "#### Example 2:"
   ]
  },
  {
   "cell_type": "code",
   "execution_count": 32,
   "id": "47c4e4ca-55a5-4315-8efb-01ff5fa9ceda",
   "metadata": {},
   "outputs": [],
   "source": [
    "def my_decorator(func):\n",
    "    def wrapper():\n",
    "        print('Something is happen before function is called.')\n",
    "        func()\n",
    "        print('Something is happen aftere function is called..')\n",
    "    return wrapper"
   ]
  },
  {
   "cell_type": "code",
   "execution_count": 33,
   "id": "fd942cd3-b5fb-49a4-a356-eaef54f05e11",
   "metadata": {},
   "outputs": [],
   "source": [
    "@my_decorator\n",
    "def say_hello():\n",
    "    print('Hello Python World')"
   ]
  },
  {
   "cell_type": "code",
   "execution_count": 35,
   "id": "56a29a36-354c-4ac5-8a67-df959e6084de",
   "metadata": {},
   "outputs": [
    {
     "name": "stdout",
     "output_type": "stream",
     "text": [
      "Something is happen before function is called.\n",
      "Hello Python World\n",
      "Something is happen aftere function is called..\n"
     ]
    }
   ],
   "source": [
    "say_hello()    #this method will return this and his parent function also. this is decorators."
   ]
  },
  {
   "cell_type": "markdown",
   "id": "56730d48-aa3e-4007-88e2-0b135d01163b",
   "metadata": {},
   "source": [
    "### Decorators with Arguments:"
   ]
  },
  {
   "cell_type": "code",
   "execution_count": 36,
   "id": "80212710-2925-4d84-b1bc-d55e63525913",
   "metadata": {},
   "outputs": [],
   "source": [
    "def repeat(n):\n",
    "    def decorator(func):\n",
    "        def wrapper(*args,**kwargs):\n",
    "            for _ in range(n):\n",
    "                func(*args,**kwargs)\n",
    "        return wrapper\n",
    "    return decorator\n",
    "        "
   ]
  },
  {
   "cell_type": "code",
   "execution_count": 37,
   "id": "2f39066f-e911-4669-afaa-049fb82493e2",
   "metadata": {},
   "outputs": [],
   "source": [
    "@repeat(3)\n",
    "def say_hello():\n",
    "    print('Hello Python World.!')"
   ]
  },
  {
   "cell_type": "code",
   "execution_count": 38,
   "id": "10008d05-df7c-4e83-ab27-bced6b008db7",
   "metadata": {},
   "outputs": [
    {
     "name": "stdout",
     "output_type": "stream",
     "text": [
      "Hello Python World.!\n",
      "Hello Python World.!\n",
      "Hello Python World.!\n"
     ]
    }
   ],
   "source": [
    "say_hello()"
   ]
  },
  {
   "cell_type": "markdown",
   "id": "7a43bc91-d29e-4382-8128-fda987d5acca",
   "metadata": {},
   "source": [
    "#### Conclusion:"
   ]
  },
  {
   "cell_type": "markdown",
   "id": "5f88e49a-f3ef-4038-a049-677c27cb60c0",
   "metadata": {},
   "source": [
    "Decorators are powerful tool in python extending and modifying the behaviour of functions and methods. they provide clean and redable way to add functionality such as logging, timing, access control and more without changing the original code. Understanding and using decorators effectively can significantly enhance your python programmign skills."
   ]
  },
  {
   "cell_type": "code",
   "execution_count": null,
   "id": "eed17337-ed4d-4955-9c7c-644cb3a0dd32",
   "metadata": {},
   "outputs": [],
   "source": []
  }
 ],
 "metadata": {
  "kernelspec": {
   "display_name": "Python 3 (ipykernel)",
   "language": "python",
   "name": "python3"
  },
  "language_info": {
   "codemirror_mode": {
    "name": "ipython",
    "version": 3
   },
   "file_extension": ".py",
   "mimetype": "text/x-python",
   "name": "python",
   "nbconvert_exporter": "python",
   "pygments_lexer": "ipython3",
   "version": "3.12.7"
  }
 },
 "nbformat": 4,
 "nbformat_minor": 5
}
