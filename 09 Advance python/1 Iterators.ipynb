{
 "cells": [
  {
   "cell_type": "markdown",
   "id": "ab8c8ab2-9e29-44f5-84cc-0349e9d5e4e0",
   "metadata": {},
   "source": [
    "### Iterators:"
   ]
  },
  {
   "cell_type": "markdown",
   "id": "ee4df7db-1ae3-4408-9a47-8b152fff78bf",
   "metadata": {},
   "source": [
    "An **iterator** is an object that allows traversal through a sequence (like lists, tuples, or strings) one element at a time.  \n",
    "Iterators are advance in python concepts that allows for efficient looping and memory management. Iterators provides a way to access elements of a collection sequentially without exposing the underlying structure."
   ]
  },
  {
   "cell_type": "markdown",
   "id": "5ea1b228-13ff-4ef9-ba43-1697d800a597",
   "metadata": {},
   "source": [
    "**Iterable:** An object that can return an iterator (e.g., lists, tuples, dictionaries, sets).  \n",
    "**Iterator:** An object that implements the __iter__() and __next__() methods."
   ]
  },
  {
   "cell_type": "code",
   "execution_count": 1,
   "id": "e9db03dc-c439-4b2c-a1ff-d949d4e30ae1",
   "metadata": {},
   "outputs": [
    {
     "name": "stdout",
     "output_type": "stream",
     "text": [
      "1\n",
      "2\n",
      "3\n",
      "4\n",
      "5\n",
      "6\n",
      "7\n"
     ]
    }
   ],
   "source": [
    "lst = [1,2,3,4,5,6,7]\n",
    "for i in lst:\n",
    "    print(i)"
   ]
  },
  {
   "cell_type": "code",
   "execution_count": 2,
   "id": "d12fff95-bede-4f6d-ae46-57aeac61e215",
   "metadata": {},
   "outputs": [
    {
     "name": "stdout",
     "output_type": "stream",
     "text": [
      "<class 'list'>\n"
     ]
    }
   ],
   "source": [
    "print(type(lst))"
   ]
  },
  {
   "cell_type": "code",
   "execution_count": 4,
   "id": "41d56662-f9fc-456e-8470-5b1a0dce39de",
   "metadata": {},
   "outputs": [
    {
     "name": "stdout",
     "output_type": "stream",
     "text": [
      "<list_iterator object at 0x000001DC5A743A30>\n",
      "<class 'list_iterator'>\n"
     ]
    }
   ],
   "source": [
    "# Iterator.\n",
    "iterator = iter(lst)\n",
    "print(iterator)\n",
    "print(type(iterator))"
   ]
  },
  {
   "cell_type": "markdown",
   "id": "69129e94-7aa4-4190-8a0b-ccea868bc048",
   "metadata": {},
   "source": [
    "it is not showing list elements. its easy loading technique. we hahve to iterate it for printing elements."
   ]
  },
  {
   "cell_type": "code",
   "execution_count": 16,
   "id": "e9addf7e-24d0-47c5-b214-5e0fc2d3ea33",
   "metadata": {},
   "outputs": [
    {
     "ename": "StopIteration",
     "evalue": "",
     "output_type": "error",
     "traceback": [
      "\u001b[1;31m---------------------------------------------------------------------------\u001b[0m",
      "\u001b[1;31mStopIteration\u001b[0m                             Traceback (most recent call last)",
      "Cell \u001b[1;32mIn[16], line 2\u001b[0m\n\u001b[0;32m      1\u001b[0m \u001b[38;5;66;03m# iterate thr all the elements.\u001b[39;00m\n\u001b[1;32m----> 2\u001b[0m \u001b[38;5;28mnext\u001b[39m(iterator)\n",
      "\u001b[1;31mStopIteration\u001b[0m: "
     ]
    }
   ],
   "source": [
    "# iterate thr all the elements.\n",
    "next(iterator)"
   ]
  },
  {
   "cell_type": "markdown",
   "id": "2ea3348a-6aa0-414d-80c9-ad178c1c7516",
   "metadata": {},
   "source": [
    "its goes to next element now. first there was element 1."
   ]
  },
  {
   "cell_type": "code",
   "execution_count": 31,
   "id": "3358cb74-9f02-4593-a213-121fae0b26c5",
   "metadata": {},
   "outputs": [],
   "source": [
    "iterator = iter(lst)\n"
   ]
  },
  {
   "cell_type": "code",
   "execution_count": 39,
   "id": "e1747837-8fe1-4461-b0d4-6341ee678ee8",
   "metadata": {},
   "outputs": [
    {
     "name": "stdout",
     "output_type": "stream",
     "text": [
      "The elements are finished. no element is left.\n"
     ]
    }
   ],
   "source": [
    "try:\n",
    "    print(next(iterator))\n",
    "except StopIteration:\n",
    "    print('The elements are finished. no element is left.')"
   ]
  },
  {
   "cell_type": "code",
   "execution_count": 40,
   "id": "32b851fe-5364-4062-8426-4faafe961c31",
   "metadata": {},
   "outputs": [],
   "source": [
    "str_iter = \"Ganesh Gunjal\"\n",
    "iterator = iter(str_iter)\n"
   ]
  },
  {
   "cell_type": "code",
   "execution_count": 44,
   "id": "0cd4fdc6-99a5-4bfe-9dde-faf42ca42d23",
   "metadata": {},
   "outputs": [
    {
     "name": "stdout",
     "output_type": "stream",
     "text": [
      "n\n"
     ]
    }
   ],
   "source": [
    "print(next(iterator))"
   ]
  },
  {
   "cell_type": "code",
   "execution_count": 57,
   "id": "92720ade-20af-4cdb-941f-f725272ce2f2",
   "metadata": {},
   "outputs": [
    {
     "name": "stdout",
     "output_type": "stream",
     "text": [
      "string iterator comes at the end now.\n"
     ]
    }
   ],
   "source": [
    "try:\n",
    "    print(next(iterator))\n",
    "except StopIteration:\n",
    "    print('string iterator comes at the end now.')"
   ]
  },
  {
   "cell_type": "code",
   "execution_count": null,
   "id": "221a37ed-6b41-4fd7-971d-a7f9926e066a",
   "metadata": {},
   "outputs": [],
   "source": []
  }
 ],
 "metadata": {
  "kernelspec": {
   "display_name": "Python 3 (ipykernel)",
   "language": "python",
   "name": "python3"
  },
  "language_info": {
   "codemirror_mode": {
    "name": "ipython",
    "version": 3
   },
   "file_extension": ".py",
   "mimetype": "text/x-python",
   "name": "python",
   "nbconvert_exporter": "python",
   "pygments_lexer": "ipython3",
   "version": "3.12.7"
  }
 },
 "nbformat": 4,
 "nbformat_minor": 5
}
