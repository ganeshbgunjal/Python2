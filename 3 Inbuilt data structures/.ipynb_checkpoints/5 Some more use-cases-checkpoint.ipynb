{
 "cells": [
  {
   "cell_type": "markdown",
   "id": "dfd8ece5-c6ba-4f04-aed1-1ac58d5e93f4",
   "metadata": {},
   "source": [
    "#### Some More Use cases"
   ]
  },
  {
   "cell_type": "markdown",
   "id": "934527ac-7812-4985-9224-cde3dd796c32",
   "metadata": {},
   "source": [
    "#### **Example:1** Manage a To Do list"
   ]
  },
  {
   "cell_type": "code",
   "execution_count": 2,
   "id": "6bf06a33-08a8-49f1-9653-c5576aaad534",
   "metadata": {},
   "outputs": [
    {
     "name": "stdout",
     "output_type": "stream",
     "text": [
      "Dont forget to pay the utility bills\n",
      "Remaining to do list\n",
      "\n",
      "-Buy groceries-\n",
      "-pay the bills-\n",
      "-schedule meeting-\n",
      "-go for a run-\n"
     ]
    }
   ],
   "source": [
    "to_do_list = ['Buy groceries','clean the house','pay the bills']\n",
    "\n",
    "##adding some more tasks\n",
    "to_do_list.append('schedule meeting')\n",
    "to_do_list.append('go for a run')\n",
    "\n",
    "#removing completed task\n",
    "to_do_list.remove('clean the house')\n",
    "\n",
    "#checking if the task is in the list\n",
    "if 'pay the bills' in to_do_list:\n",
    "    print('Dont forget to pay the utility bills')\n",
    "\n",
    "print('Remaining to do list\\n')\n",
    "for task in to_do_list:\n",
    "    print(f'-{task}-')"
   ]
  },
  {
   "cell_type": "markdown",
   "id": "61247791-67b5-4145-909a-9981585e347c",
   "metadata": {},
   "source": [
    "#### **Example:2** Organising student grades:\n",
    "    Create a list to store and calculate average grade of students"
   ]
  },
  {
   "cell_type": "code",
   "execution_count": 3,
   "id": "89ff1b26-37fc-45b4-8704-dd618258db1d",
   "metadata": {},
   "outputs": [
    {
     "name": "stdout",
     "output_type": "stream",
     "text": [
      "Average grade: 88.00\n",
      "Highest grade: 95\n",
      "Lowest grade: 78\n"
     ]
    }
   ],
   "source": [
    "#organising student grades\n",
    "grades = [85, 92, 78, 90, 88]\n",
    "\n",
    "#adding new grade\n",
    "grades.append(95)\n",
    "\n",
    "#calculating average grades\n",
    "average_grade = sum(grades)/len(grades)\n",
    "print(f'Average grade: {average_grade:.2f}')\n",
    "\n",
    "#finding highest and lowest grades\n",
    "highest_grade = max(grades)\n",
    "lowest_grade = min(grades)\n",
    "print(f'Highest grade: {highest_grade}')\n",
    "print(f'Lowest grade: {lowest_grade}')\n"
   ]
  },
  {
   "cell_type": "markdown",
   "id": "2f93b4ac-5384-43b6-ad9c-eba43f46bea1",
   "metadata": {},
   "source": [
    "#### **Example:3** Managing An Inventory\n",
    "    Use a list to manage inventory items in a store"
   ]
  },
  {
   "cell_type": "code",
   "execution_count": 4,
   "id": "641a2869-c932-428f-80e3-1bd419258c6c",
   "metadata": {},
   "outputs": [
    {
     "name": "stdout",
     "output_type": "stream",
     "text": [
      "oranges are in the stock\n",
      "Inventory List\n",
      "-Apples-\n",
      "-oranges-\n",
      "-grapes-\n",
      "-Strawberries-\n"
     ]
    }
   ],
   "source": [
    "#Managing the inventory\n",
    "inventory = ['Apples','bananas','oranges','grapes']\n",
    "\n",
    "#adding new inventory\n",
    "inventory.append('Strawberries')\n",
    "\n",
    "#removing the inventory\n",
    "inventory.remove('bananas')\n",
    "\n",
    "#cheking items in the stocks\n",
    "item = 'oranges'\n",
    "if item in inventory:\n",
    "    print(f'{item} are in the stock')\n",
    "else:\n",
    "        print(f'{Item} out of the stock')\n",
    "\n",
    "#printing the inventory\n",
    "print('Inventory List')\n",
    "for item in inventory:\n",
    "    print(f'-{item}-')"
   ]
  },
  {
   "cell_type": "markdown",
   "id": "a58553bb-5d6a-4fc8-990f-fc5a7dce928c",
   "metadata": {},
   "source": [
    "#### **Example: 4** Collecting User Feedback\n",
    "    use a list to collect and analyse feedbacks"
   ]
  },
  {
   "cell_type": "code",
   "execution_count": 8,
   "id": "51dea2ef-02e7-4c20-a882-db995cd9f76a",
   "metadata": {},
   "outputs": [
    {
     "name": "stdout",
     "output_type": "stream",
     "text": [
      "Positive Feedback Count: 3\n",
      "User Feedback\n",
      "-Great service.\n",
      "-Very satisfied\n",
      "-could be better\n",
      "-Excellent experience\n",
      "-great delivery\n",
      "-Not happy with the service\n"
     ]
    }
   ],
   "source": [
    "#collecting user feedback\n",
    "feedback = ['Great service.','Very satisfied','could be better','Excellent experience','great delivery']\n",
    "\n",
    "#adding new feedback\n",
    "feedback.append('Not happy with the service')\n",
    "\n",
    "#counting specific feedback\n",
    "positive_feedback_count = sum(1 for comment in feedback if 'great' in comment.lower() or 'excellent' in comment.lower())\n",
    "print(f'Positive Feedback Count: {positive_feedback_count}')\n",
    "\n",
    "## printing all feedbacks\n",
    "print('User Feedback')\n",
    "for comment in feedback:\n",
    "    print(f'-{comment}')"
   ]
  },
  {
   "cell_type": "code",
   "execution_count": null,
   "id": "9e20b7b3-6f4a-49bd-ac49-81e6a7c11cdd",
   "metadata": {},
   "outputs": [],
   "source": []
  }
 ],
 "metadata": {
  "kernelspec": {
   "display_name": "Python 3 (ipykernel)",
   "language": "python",
   "name": "python3"
  },
  "language_info": {
   "codemirror_mode": {
    "name": "ipython",
    "version": 3
   },
   "file_extension": ".py",
   "mimetype": "text/x-python",
   "name": "python",
   "nbconvert_exporter": "python",
   "pygments_lexer": "ipython3",
   "version": "3.12.7"
  }
 },
 "nbformat": 4,
 "nbformat_minor": 5
}
