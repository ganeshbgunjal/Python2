{
 "cells": [
  {
   "cell_type": "markdown",
   "id": "2de137eb-49c0-45be-ad41-c823da9a3be0",
   "metadata": {},
   "source": [
    "## **Tuples:**  \n",
    "1. Tuples are ordered collection of data.\n",
    "2. they are immutable. once they asssign, they can not be changed."
   ]
  },
  {
   "cell_type": "code",
   "execution_count": 1,
   "id": "0ed63ec7-82e3-413b-b17a-6a953830361a",
   "metadata": {},
   "outputs": [
    {
     "name": "stdout",
     "output_type": "stream",
     "text": [
      "()\n",
      "<class 'tuple'>\n"
     ]
    }
   ],
   "source": [
    "tup = ()\n",
    "print(tup)\n",
    "print(type(tup))"
   ]
  },
  {
   "cell_type": "code",
   "execution_count": 3,
   "id": "b25c2fdc-ae88-4ebf-9793-c74bdbf79b8c",
   "metadata": {},
   "outputs": [
    {
     "name": "stdout",
     "output_type": "stream",
     "text": [
      "<class 'tuple'>\n"
     ]
    }
   ],
   "source": [
    "tup1 = tuple()   #another way of creating tuple.\n",
    "print(type(tup1))"
   ]
  },
  {
   "cell_type": "code",
   "execution_count": 4,
   "id": "77fd99b3-34c6-4b3a-804d-086a3bd11927",
   "metadata": {},
   "outputs": [
    {
     "name": "stdout",
     "output_type": "stream",
     "text": [
      "<class 'tuple'>\n"
     ]
    }
   ],
   "source": [
    "numbers = tuple([1,2,3,4,5,6,7,8])\n",
    "print(type(numbers))"
   ]
  },
  {
   "cell_type": "code",
   "execution_count": 5,
   "id": "41f0509b-b54d-4730-b965-37fbd7583f82",
   "metadata": {},
   "outputs": [
    {
     "name": "stdout",
     "output_type": "stream",
     "text": [
      "(1, 2, 3, 4, 5, 6, 7, 8)\n"
     ]
    }
   ],
   "source": [
    "print(numbers)"
   ]
  },
  {
   "cell_type": "code",
   "execution_count": 6,
   "id": "dde02010-a856-4269-bc95-ad3a375444ff",
   "metadata": {},
   "outputs": [
    {
     "name": "stdout",
     "output_type": "stream",
     "text": [
      "1\n"
     ]
    }
   ],
   "source": [
    "print(numbers[0])"
   ]
  },
  {
   "cell_type": "code",
   "execution_count": 7,
   "id": "74d3a1db-1250-4d19-b140-7c5dd5d97fef",
   "metadata": {},
   "outputs": [
    {
     "name": "stdout",
     "output_type": "stream",
     "text": [
      "4\n"
     ]
    }
   ],
   "source": [
    "print(numbers[3])"
   ]
  },
  {
   "cell_type": "code",
   "execution_count": 8,
   "id": "6f3dec6c-3d75-48bf-9d3b-c8d8da7c4a7f",
   "metadata": {},
   "outputs": [],
   "source": [
    "mixedd_tuple = (1,1.1,'ganesh',True)"
   ]
  },
  {
   "cell_type": "code",
   "execution_count": 9,
   "id": "8535be48-b031-404d-8868-ac86d4b92751",
   "metadata": {},
   "outputs": [
    {
     "name": "stdout",
     "output_type": "stream",
     "text": [
      "(1, 1.1, 'ganesh', True)\n"
     ]
    }
   ],
   "source": [
    "print(mixedd_tuple)"
   ]
  },
  {
   "cell_type": "code",
   "execution_count": 10,
   "id": "5c11f15a-0d0b-4f73-ac32-a02457983b17",
   "metadata": {},
   "outputs": [
    {
     "name": "stdout",
     "output_type": "stream",
     "text": [
      "ganesh\n"
     ]
    }
   ],
   "source": [
    "print(mixedd_tuple[2])"
   ]
  },
  {
   "cell_type": "code",
   "execution_count": 12,
   "id": "7cba9097-dc21-4b7e-a0b8-5468534da96a",
   "metadata": {},
   "outputs": [
    {
     "ename": "TypeError",
     "evalue": "'tuple' object does not support item assignment",
     "output_type": "error",
     "traceback": [
      "\u001b[1;31m---------------------------------------------------------------------------\u001b[0m",
      "\u001b[1;31mTypeError\u001b[0m                                 Traceback (most recent call last)",
      "Cell \u001b[1;32mIn[12], line 1\u001b[0m\n\u001b[1;32m----> 1\u001b[0m mixedd_tuple[\u001b[38;5;241m2\u001b[39m] \u001b[38;5;241m=\u001b[39m \u001b[38;5;124m\"\u001b[39m\u001b[38;5;124mGanesh\u001b[39m\u001b[38;5;124m\"\u001b[39m\n",
      "\u001b[1;31mTypeError\u001b[0m: 'tuple' object does not support item assignment"
     ]
    }
   ],
   "source": [
    "mixedd_tuple[2] = \"Ganesh\"  #tuples are immutable."
   ]
  },
  {
   "cell_type": "code",
   "execution_count": 13,
   "id": "d1c3f2c0-f358-42d8-84a3-5c787d60c1f5",
   "metadata": {},
   "outputs": [
    {
     "data": {
      "text/plain": [
       "(2, 3, 4, 5)"
      ]
     },
     "execution_count": 13,
     "metadata": {},
     "output_type": "execute_result"
    }
   ],
   "source": [
    "numbers[1:5]"
   ]
  },
  {
   "cell_type": "code",
   "execution_count": 15,
   "id": "c46a5345-6cd1-43d4-8065-d7b4ac0d704a",
   "metadata": {},
   "outputs": [
    {
     "data": {
      "text/plain": [
       "8"
      ]
     },
     "execution_count": 15,
     "metadata": {},
     "output_type": "execute_result"
    }
   ],
   "source": [
    "numbers[-1]   #last number"
   ]
  },
  {
   "cell_type": "code",
   "execution_count": 16,
   "id": "502be1ca-82d5-4ade-9c71-9f7891abe6e0",
   "metadata": {},
   "outputs": [
    {
     "data": {
      "text/plain": [
       "(8, 7, 6, 5, 4, 3, 2, 1)"
      ]
     },
     "execution_count": 16,
     "metadata": {},
     "output_type": "execute_result"
    }
   ],
   "source": [
    "numbers[::-1]"
   ]
  },
  {
   "cell_type": "code",
   "execution_count": null,
   "id": "77599c6f-4f3c-4cfa-9799-f66c212d49c0",
   "metadata": {},
   "outputs": [],
   "source": []
  }
 ],
 "metadata": {
  "kernelspec": {
   "display_name": "Python 3 (ipykernel)",
   "language": "python",
   "name": "python3"
  },
  "language_info": {
   "codemirror_mode": {
    "name": "ipython",
    "version": 3
   },
   "file_extension": ".py",
   "mimetype": "text/x-python",
   "name": "python",
   "nbconvert_exporter": "python",
   "pygments_lexer": "ipython3",
   "version": "3.12.7"
  }
 },
 "nbformat": 4,
 "nbformat_minor": 5
}
