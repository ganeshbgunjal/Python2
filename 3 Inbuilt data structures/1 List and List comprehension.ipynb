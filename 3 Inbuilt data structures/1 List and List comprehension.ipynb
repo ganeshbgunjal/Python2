{
 "cells": [
  {
   "cell_type": "markdown",
   "id": "0b50ea02-ae03-471e-ab4b-ed56318d32e2",
   "metadata": {},
   "source": [
    "### **List:**\n",
    "1. Lists are ordered collection of items.\n",
    "2. they can contain item of different data type."
   ]
  },
  {
   "cell_type": "code",
   "execution_count": 1,
   "id": "8d5efaf0-1390-4de1-99bd-bc483f161483",
   "metadata": {},
   "outputs": [],
   "source": [
    "lst = [2,2.2,'Ganesh',True]"
   ]
  },
  {
   "cell_type": "code",
   "execution_count": 2,
   "id": "9a18b9a9-0d49-4f28-aee5-5a9e47cb2765",
   "metadata": {},
   "outputs": [
    {
     "data": {
      "text/plain": [
       "[2, 2.2, 'Ganesh', True]"
      ]
     },
     "execution_count": 2,
     "metadata": {},
     "output_type": "execute_result"
    }
   ],
   "source": [
    "lst"
   ]
  },
  {
   "cell_type": "code",
   "execution_count": 3,
   "id": "a45ef5c9-1ebc-43a2-974f-67dbbf4d01cc",
   "metadata": {},
   "outputs": [
    {
     "name": "stdout",
     "output_type": "stream",
     "text": [
      "<class 'list'>\n"
     ]
    }
   ],
   "source": [
    "print(type(lst))"
   ]
  },
  {
   "cell_type": "code",
   "execution_count": 4,
   "id": "b83c3494-19ef-4723-80df-b32f1a04e2f8",
   "metadata": {},
   "outputs": [],
   "source": [
    "# accessing list items\n",
    "fruits = ['Apple','Banana','cherry','mango','grapes']"
   ]
  },
  {
   "cell_type": "code",
   "execution_count": 5,
   "id": "6a597ce9-e8f1-41ce-b40d-f33b97c94c68",
   "metadata": {},
   "outputs": [
    {
     "data": {
      "text/plain": [
       "'Apple'"
      ]
     },
     "execution_count": 5,
     "metadata": {},
     "output_type": "execute_result"
    }
   ],
   "source": [
    "fruits[0]  #this is ordered collection. coz every element has index."
   ]
  },
  {
   "cell_type": "code",
   "execution_count": 6,
   "id": "0ca8f53b-001c-4d95-9f01-efad52e9e9e4",
   "metadata": {},
   "outputs": [
    {
     "data": {
      "text/plain": [
       "'cherry'"
      ]
     },
     "execution_count": 6,
     "metadata": {},
     "output_type": "execute_result"
    }
   ],
   "source": [
    "fruits[2]"
   ]
  },
  {
   "cell_type": "code",
   "execution_count": 7,
   "id": "0eec37ac-a799-4916-96df-3074e41cb8f8",
   "metadata": {},
   "outputs": [
    {
     "data": {
      "text/plain": [
       "['Banana', 'cherry', 'mango']"
      ]
     },
     "execution_count": 7,
     "metadata": {},
     "output_type": "execute_result"
    }
   ],
   "source": [
    "fruits[1:4]  #4th index is excluded."
   ]
  },
  {
   "cell_type": "code",
   "execution_count": 8,
   "id": "294e4131-a960-46cb-af78-84fc8d28c5ce",
   "metadata": {},
   "outputs": [
    {
     "data": {
      "text/plain": [
       "['Banana', 'cherry', 'mango', 'grapes']"
      ]
     },
     "execution_count": 8,
     "metadata": {},
     "output_type": "execute_result"
    }
   ],
   "source": [
    "fruits[1:]   #from 1st index to last index."
   ]
  },
  {
   "cell_type": "code",
   "execution_count": 9,
   "id": "fa57e712-2559-4977-9ebb-7e9486abb346",
   "metadata": {},
   "outputs": [
    {
     "data": {
      "text/plain": [
       "'grapes'"
      ]
     },
     "execution_count": 9,
     "metadata": {},
     "output_type": "execute_result"
    }
   ],
   "source": [
    "fruits[-1]   #from last one."
   ]
  },
  {
   "cell_type": "code",
   "execution_count": 10,
   "id": "b48c5cfd-cd2d-4242-bfeb-99cacb86d529",
   "metadata": {},
   "outputs": [
    {
     "data": {
      "text/plain": [
       "[]"
      ]
     },
     "execution_count": 10,
     "metadata": {},
     "output_type": "execute_result"
    }
   ],
   "source": [
    "fruits[-1:-3]"
   ]
  },
  {
   "cell_type": "code",
   "execution_count": 11,
   "id": "b2c61791-d38b-4bdf-ac78-b890ed978258",
   "metadata": {},
   "outputs": [
    {
     "data": {
      "text/plain": [
       "['cherry', 'mango']"
      ]
     },
     "execution_count": 11,
     "metadata": {},
     "output_type": "execute_result"
    }
   ],
   "source": [
    "fruits[-3:-1]"
   ]
  },
  {
   "cell_type": "markdown",
   "id": "c4fc701a-5225-4104-becc-c9f5fcb290c7",
   "metadata": {},
   "source": [
    "### Modifying the list elements:"
   ]
  },
  {
   "cell_type": "code",
   "execution_count": 12,
   "id": "c552ec06-9d3b-4fa8-aa80-785db945520c",
   "metadata": {},
   "outputs": [],
   "source": [
    "fruits[3] = 'Guava'   #this is mutable. we can change its element."
   ]
  },
  {
   "cell_type": "code",
   "execution_count": 13,
   "id": "677e59c4-6a6d-48b0-8c85-afa0bdf0b94f",
   "metadata": {},
   "outputs": [
    {
     "data": {
      "text/plain": [
       "['Apple', 'Banana', 'cherry', 'Guava', 'grapes']"
      ]
     },
     "execution_count": 13,
     "metadata": {},
     "output_type": "execute_result"
    }
   ],
   "source": [
    "fruits"
   ]
  },
  {
   "cell_type": "markdown",
   "id": "be2a54de-96b3-4a06-bf3e-01ea01cbfd74",
   "metadata": {},
   "source": [
    "### List Methods:"
   ]
  },
  {
   "cell_type": "code",
   "execution_count": 14,
   "id": "d00052c7-e30f-42f1-ace4-989a63df1859",
   "metadata": {},
   "outputs": [],
   "source": [
    "fruits.append('pineapple')   #it will add at the end of the list."
   ]
  },
  {
   "cell_type": "code",
   "execution_count": 15,
   "id": "dac10f92-b4ee-40dd-9f65-5af63fe958a0",
   "metadata": {},
   "outputs": [
    {
     "data": {
      "text/plain": [
       "['Apple', 'Banana', 'cherry', 'Guava', 'grapes', 'pineapple']"
      ]
     },
     "execution_count": 15,
     "metadata": {},
     "output_type": "execute_result"
    }
   ],
   "source": [
    "fruits"
   ]
  },
  {
   "cell_type": "code",
   "execution_count": 16,
   "id": "c1927e98-8df5-4b9a-91b2-b02102c2b966",
   "metadata": {},
   "outputs": [],
   "source": [
    "fruits.insert(2,'Watermelon')\n"
   ]
  },
  {
   "cell_type": "code",
   "execution_count": 17,
   "id": "b51988e7-77a3-4acd-a18c-58e4c2e21d2e",
   "metadata": {},
   "outputs": [
    {
     "data": {
      "text/plain": [
       "['Apple', 'Banana', 'Watermelon', 'cherry', 'Guava', 'grapes', 'pineapple']"
      ]
     },
     "execution_count": 17,
     "metadata": {},
     "output_type": "execute_result"
    }
   ],
   "source": [
    "fruits"
   ]
  },
  {
   "cell_type": "code",
   "execution_count": 18,
   "id": "a97a59db-f242-42a7-8d55-7e250d17806f",
   "metadata": {},
   "outputs": [],
   "source": [
    "fruits.remove('pineapple')"
   ]
  },
  {
   "cell_type": "code",
   "execution_count": 19,
   "id": "c13d1513-78e6-460e-8fc8-cb88aba41cff",
   "metadata": {},
   "outputs": [
    {
     "data": {
      "text/plain": [
       "['Apple', 'Banana', 'Watermelon', 'cherry', 'Guava', 'grapes']"
      ]
     },
     "execution_count": 19,
     "metadata": {},
     "output_type": "execute_result"
    }
   ],
   "source": [
    "fruits"
   ]
  },
  {
   "cell_type": "code",
   "execution_count": 20,
   "id": "df73008d-a12f-44c4-aafe-81d4725effc7",
   "metadata": {},
   "outputs": [
    {
     "data": {
      "text/plain": [
       "'grapes'"
      ]
     },
     "execution_count": 20,
     "metadata": {},
     "output_type": "execute_result"
    }
   ],
   "source": [
    "fruits.pop()   #remove last item "
   ]
  },
  {
   "cell_type": "code",
   "execution_count": 21,
   "id": "7c1ec339-d4ec-4509-a22f-98a24d3230b5",
   "metadata": {},
   "outputs": [
    {
     "data": {
      "text/plain": [
       "['Apple', 'Banana', 'Watermelon', 'cherry', 'Guava']"
      ]
     },
     "execution_count": 21,
     "metadata": {},
     "output_type": "execute_result"
    }
   ],
   "source": [
    "fruits"
   ]
  },
  {
   "cell_type": "code",
   "execution_count": 22,
   "id": "7a7b1f40-8c88-4c6c-af17-593c5488da17",
   "metadata": {},
   "outputs": [
    {
     "data": {
      "text/plain": [
       "3"
      ]
     },
     "execution_count": 22,
     "metadata": {},
     "output_type": "execute_result"
    }
   ],
   "source": [
    "fruits.index('cherry')"
   ]
  },
  {
   "cell_type": "code",
   "execution_count": 23,
   "id": "f6e0520c-f451-492a-a365-b73dd598cd8a",
   "metadata": {},
   "outputs": [],
   "source": [
    "fruits.insert(4,'banana')"
   ]
  },
  {
   "cell_type": "code",
   "execution_count": 24,
   "id": "94aa19f1-0a8a-4f2f-a717-35136d8cf65a",
   "metadata": {},
   "outputs": [
    {
     "data": {
      "text/plain": [
       "['Apple', 'Banana', 'Watermelon', 'cherry', 'banana', 'Guava']"
      ]
     },
     "execution_count": 24,
     "metadata": {},
     "output_type": "execute_result"
    }
   ],
   "source": [
    "fruits"
   ]
  },
  {
   "cell_type": "code",
   "execution_count": 25,
   "id": "93784389-abe3-4679-b456-56ab9b58ab53",
   "metadata": {},
   "outputs": [
    {
     "data": {
      "text/plain": [
       "1"
      ]
     },
     "execution_count": 25,
     "metadata": {},
     "output_type": "execute_result"
    }
   ],
   "source": [
    "fruits.count('banana')   #its case sensitive. it doesnt coount 'Banana'"
   ]
  },
  {
   "cell_type": "code",
   "execution_count": 26,
   "id": "367a98d8-e051-4d47-83f8-6d2e9d7fe60a",
   "metadata": {},
   "outputs": [],
   "source": [
    "fruits.sort()"
   ]
  },
  {
   "cell_type": "code",
   "execution_count": 27,
   "id": "cb23254f-ab26-4ff3-a142-b20ecfac56e7",
   "metadata": {},
   "outputs": [
    {
     "data": {
      "text/plain": [
       "['Apple', 'Banana', 'Guava', 'Watermelon', 'banana', 'cherry']"
      ]
     },
     "execution_count": 27,
     "metadata": {},
     "output_type": "execute_result"
    }
   ],
   "source": [
    "fruits"
   ]
  },
  {
   "cell_type": "code",
   "execution_count": 28,
   "id": "74b07dea-1586-4d46-ad96-67a90b30030e",
   "metadata": {},
   "outputs": [],
   "source": [
    "fruits.reverse()"
   ]
  },
  {
   "cell_type": "code",
   "execution_count": 29,
   "id": "3beba929-6d08-452e-bc20-4b4a44d023e8",
   "metadata": {},
   "outputs": [
    {
     "data": {
      "text/plain": [
       "['cherry', 'banana', 'Watermelon', 'Guava', 'Banana', 'Apple']"
      ]
     },
     "execution_count": 29,
     "metadata": {},
     "output_type": "execute_result"
    }
   ],
   "source": [
    "fruits"
   ]
  },
  {
   "cell_type": "code",
   "execution_count": 30,
   "id": "d6fc9b92-b8bf-49f9-a5e0-31036266f143",
   "metadata": {},
   "outputs": [],
   "source": [
    "numbers = [1,2,3,4,5,6,7,8,9,10]"
   ]
  },
  {
   "cell_type": "code",
   "execution_count": 31,
   "id": "e563e3f1-2d9d-4de6-ab6b-d9999c378e00",
   "metadata": {},
   "outputs": [
    {
     "data": {
      "text/plain": [
       "[2, 3, 4, 5, 6, 7, 8, 9, 10]"
      ]
     },
     "execution_count": 31,
     "metadata": {},
     "output_type": "execute_result"
    }
   ],
   "source": [
    "numbers[1:]"
   ]
  },
  {
   "cell_type": "code",
   "execution_count": 32,
   "id": "64083b70-b2b7-42f9-a12a-73678480e8d6",
   "metadata": {},
   "outputs": [
    {
     "data": {
      "text/plain": [
       "[2, 3, 4, 5, 6]"
      ]
     },
     "execution_count": 32,
     "metadata": {},
     "output_type": "execute_result"
    }
   ],
   "source": [
    "numbers[1:6]"
   ]
  },
  {
   "cell_type": "code",
   "execution_count": 33,
   "id": "1bfbe99a-c548-4fe0-b1a8-beb86dec7f6e",
   "metadata": {},
   "outputs": [
    {
     "data": {
      "text/plain": [
       "[1, 3, 5, 7, 9]"
      ]
     },
     "execution_count": 33,
     "metadata": {},
     "output_type": "execute_result"
    }
   ],
   "source": [
    "numbers[::2]"
   ]
  },
  {
   "cell_type": "code",
   "execution_count": 34,
   "id": "ae983922-8045-4dbc-bf35-621222d7bdef",
   "metadata": {},
   "outputs": [
    {
     "data": {
      "text/plain": [
       "[10, 9, 8, 7, 6, 5, 4, 3, 2, 1]"
      ]
     },
     "execution_count": 34,
     "metadata": {},
     "output_type": "execute_result"
    }
   ],
   "source": [
    "numbers[::-1]"
   ]
  },
  {
   "cell_type": "code",
   "execution_count": 35,
   "id": "aa862041-b7c9-473a-bd12-da8d737f2084",
   "metadata": {},
   "outputs": [
    {
     "data": {
      "text/plain": [
       "[10, 8, 6, 4, 2]"
      ]
     },
     "execution_count": 35,
     "metadata": {},
     "output_type": "execute_result"
    }
   ],
   "source": [
    "numbers[::-2]"
   ]
  },
  {
   "cell_type": "code",
   "execution_count": 36,
   "id": "c2340581-d458-460c-9733-fc3e0f6dba3b",
   "metadata": {},
   "outputs": [
    {
     "data": {
      "text/plain": [
       "[1, 2, 3, 4, 5, 6, 7, 8, 9, 10]"
      ]
     },
     "execution_count": 36,
     "metadata": {},
     "output_type": "execute_result"
    }
   ],
   "source": [
    "numbers[::]"
   ]
  },
  {
   "cell_type": "markdown",
   "id": "ecd488cd-5726-4024-82be-11afff89df53",
   "metadata": {},
   "source": [
    "### Iterating over the list:"
   ]
  },
  {
   "cell_type": "code",
   "execution_count": 37,
   "id": "4b16b521-fad4-4126-aeec-f59d8486cb16",
   "metadata": {},
   "outputs": [
    {
     "name": "stdout",
     "output_type": "stream",
     "text": [
      "1\n",
      "2\n",
      "3\n",
      "4\n",
      "5\n",
      "6\n",
      "7\n",
      "8\n",
      "9\n",
      "10\n"
     ]
    }
   ],
   "source": [
    "for i in numbers:\n",
    "    print(i)"
   ]
  },
  {
   "cell_type": "code",
   "execution_count": 38,
   "id": "a763da1c-faa7-4f50-98ee-7a286ee150c1",
   "metadata": {},
   "outputs": [
    {
     "name": "stdout",
     "output_type": "stream",
     "text": [
      "index:0, number:1\n",
      "index:1, number:2\n",
      "index:2, number:3\n",
      "index:3, number:4\n",
      "index:4, number:5\n",
      "index:5, number:6\n",
      "index:6, number:7\n",
      "index:7, number:8\n",
      "index:8, number:9\n",
      "index:9, number:10\n"
     ]
    }
   ],
   "source": [
    "for index,number in enumerate(numbers):\n",
    "    print(f'index:{index}, number:{number}')"
   ]
  },
  {
   "cell_type": "markdown",
   "id": "b7c9784a-632b-496e-9ab1-f774f3fc7821",
   "metadata": {},
   "source": [
    "### **List Comprehension:**"
   ]
  },
  {
   "cell_type": "markdown",
   "id": "bdbf4435-d838-4e6d-9bf1-2969e07d4036",
   "metadata": {},
   "source": [
    "Syntax:-\n",
    "1. Basics syntax:-- [expression for item in iterable]\n",
    "2. basics syntax with some logic:-- [expression for item in iterable if condition]    \n"
   ]
  },
  {
   "cell_type": "code",
   "execution_count": 40,
   "id": "7ab46809-f84b-46fc-be6f-a328ce4918ab",
   "metadata": {},
   "outputs": [
    {
     "name": "stdout",
     "output_type": "stream",
     "text": [
      "[0, 1, 4, 9, 16, 25, 36, 49, 64, 81, 100]\n"
     ]
    }
   ],
   "source": [
    "lst = []\n",
    "for i in range(11):\n",
    "    lst.append(i**2)\n",
    "print(lst)"
   ]
  },
  {
   "cell_type": "markdown",
   "id": "e8237436-79a5-4383-9610-5eb453d0e552",
   "metadata": {},
   "source": [
    "### Basic List comprehension:-"
   ]
  },
  {
   "cell_type": "code",
   "execution_count": 41,
   "id": "2bb7e617-9775-4a3a-8333-10f623b249cb",
   "metadata": {},
   "outputs": [
    {
     "data": {
      "text/plain": [
       "[0, 1, 4, 9, 16, 25, 36, 49, 64, 81]"
      ]
     },
     "execution_count": 41,
     "metadata": {},
     "output_type": "execute_result"
    }
   ],
   "source": [
    "[x**2 for x in range(10)]"
   ]
  },
  {
   "cell_type": "code",
   "execution_count": 43,
   "id": "3016210f-4e05-428a-b5cd-1319e0d9acf8",
   "metadata": {},
   "outputs": [
    {
     "name": "stdout",
     "output_type": "stream",
     "text": [
      "[1, 4, 9, 16, 25, 36, 49, 64, 81, 100]\n"
     ]
    }
   ],
   "source": [
    "square = [x**2 for x in range(1,11)]\n",
    "print(square)"
   ]
  },
  {
   "cell_type": "markdown",
   "id": "8d589e37-be1a-4e19-8579-54f08ac34a96",
   "metadata": {},
   "source": [
    "### List comprehension with some condition:-"
   ]
  },
  {
   "cell_type": "code",
   "execution_count": 45,
   "id": "1ac17214-7f62-4e45-bc8e-c07547713b8f",
   "metadata": {},
   "outputs": [
    {
     "name": "stdout",
     "output_type": "stream",
     "text": [
      "[2, 4, 6, 8, 10]\n"
     ]
    }
   ],
   "source": [
    "lst = []\n",
    "for i in range(1,11):\n",
    "    if i%2 == 0:\n",
    "        lst.append(i)\n",
    "print(lst)"
   ]
  },
  {
   "cell_type": "code",
   "execution_count": 47,
   "id": "d9915a61-bde7-4c2c-8ca6-8a0953ede067",
   "metadata": {},
   "outputs": [
    {
     "name": "stdout",
     "output_type": "stream",
     "text": [
      "[2, 4, 6, 8, 10]\n"
     ]
    }
   ],
   "source": [
    "even_num = [x for x in range(1,11) if x%2 == 0]\n",
    "print(even_num)"
   ]
  },
  {
   "cell_type": "code",
   "execution_count": 48,
   "id": "f04e1a22-66bc-471c-b490-a8fa98dbbd4b",
   "metadata": {},
   "outputs": [
    {
     "name": "stdout",
     "output_type": "stream",
     "text": [
      "[1, 3, 5, 7, 9]\n"
     ]
    }
   ],
   "source": [
    "odd_num = [x for x in range(1,11) if x%2!=0]\n",
    "print(odd_num)"
   ]
  },
  {
   "cell_type": "markdown",
   "id": "e7149e6e-9939-46fc-8657-e59375cd5a02",
   "metadata": {},
   "source": [
    "### Nested list Comprehension:-"
   ]
  },
  {
   "cell_type": "markdown",
   "id": "281fd2a9-e9ac-4425-bd0b-b259ed1b20c0",
   "metadata": {},
   "source": [
    "**Syntax:-**  \n",
    "[expression for x1 in iterable1 for x2 in iterable2]"
   ]
  },
  {
   "cell_type": "code",
   "execution_count": 50,
   "id": "bd70ea6f-e530-4e63-bf97-68b8f6a02526",
   "metadata": {},
   "outputs": [
    {
     "name": "stdout",
     "output_type": "stream",
     "text": [
      "[[1, 'a'], [1, 'b'], [1, 'c'], [1, 'd'], [2, 'a'], [2, 'b'], [2, 'c'], [2, 'd'], [3, 'a'], [3, 'b'], [3, 'c'], [3, 'd'], [4, 'a'], [4, 'b'], [4, 'c'], [4, 'd']]\n"
     ]
    }
   ],
   "source": [
    "lst1 = [1,2,3,4]\n",
    "lst2 = ['a','b','c','d']\n",
    "\n",
    "pair = [[i,j] for i in lst1 for j in lst2]\n",
    "print(pair)"
   ]
  },
  {
   "cell_type": "markdown",
   "id": "31d7a77b-a3e1-49ca-8626-f095b5663375",
   "metadata": {},
   "source": [
    "### List comprehension with some functions:"
   ]
  },
  {
   "cell_type": "code",
   "execution_count": 54,
   "id": "817ce5cf-5a79-43d4-a334-265932a13a69",
   "metadata": {},
   "outputs": [
    {
     "name": "stdout",
     "output_type": "stream",
     "text": [
      "[['hello', 5], ['world', 5], ['python', 6], ['list', 4], ['comprehension', 13], ['ganesh', 6]]\n"
     ]
    }
   ],
   "source": [
    "lst = ['hello','world','python','list','comprehension','ganesh']\n",
    "length = [[x,len(x)] for x in lst]\n",
    "print(length)"
   ]
  },
  {
   "cell_type": "code",
   "execution_count": null,
   "id": "63c640ca-2767-4b73-95be-7ba58c134ad4",
   "metadata": {},
   "outputs": [],
   "source": []
  }
 ],
 "metadata": {
  "kernelspec": {
   "display_name": "Python 3 (ipykernel)",
   "language": "python",
   "name": "python3"
  },
  "language_info": {
   "codemirror_mode": {
    "name": "ipython",
    "version": 3
   },
   "file_extension": ".py",
   "mimetype": "text/x-python",
   "name": "python",
   "nbconvert_exporter": "python",
   "pygments_lexer": "ipython3",
   "version": "3.12.7"
  }
 },
 "nbformat": 4,
 "nbformat_minor": 5
}
