{
 "cells": [
  {
   "cell_type": "markdown",
   "id": "cc3d64e6-76ad-4c99-bdd0-d851eaed508a",
   "metadata": {},
   "source": [
    "### **Dictionary:-**\n",
    "1. Dictionaries are the **unordered collection** of the items.\n",
    "2. they store data in the key: value pair.\n",
    "3. every key must be unique. if we give another value to the key. the value will be replace. not another same key will be created.\n",
    "4. keys must be immutable."
   ]
  },
  {
   "cell_type": "code",
   "execution_count": 1,
   "id": "a7382c08-d55d-4864-940b-a0d03eec6d8c",
   "metadata": {},
   "outputs": [
    {
     "name": "stdout",
     "output_type": "stream",
     "text": [
      "<class 'dict'>\n"
     ]
    }
   ],
   "source": [
    "empty_dict = {}\n",
    "print(type(empty_dict))"
   ]
  },
  {
   "cell_type": "code",
   "execution_count": 2,
   "id": "3d7ccaf6-1bea-4d02-89af-bc4574a073c8",
   "metadata": {},
   "outputs": [],
   "source": [
    "info = {\n",
    "    'Name' : 'Ganesh',\n",
    "    'Surname' : 'Gunjal',\n",
    "    'Age' : 33,\n",
    "    'Education' : 'BE Computers',\n",
    "    'Profession' : 'Data Scientist'\n",
    "}"
   ]
  },
  {
   "cell_type": "code",
   "execution_count": 3,
   "id": "c35ceac1-9e3a-4b2a-a77d-5942e5c390d0",
   "metadata": {},
   "outputs": [
    {
     "name": "stdout",
     "output_type": "stream",
     "text": [
      "{'Name': 'Ganesh', 'Surname': 'Gunjal', 'Age': 33, 'Education': 'BE Computers', 'Profession': 'Data Scientist'}\n"
     ]
    }
   ],
   "source": [
    "print(info)"
   ]
  },
  {
   "cell_type": "code",
   "execution_count": 4,
   "id": "1905ee05-e6ed-46e2-9707-5c5768435630",
   "metadata": {},
   "outputs": [
    {
     "name": "stdout",
     "output_type": "stream",
     "text": [
      "Ganesh\n"
     ]
    }
   ],
   "source": [
    "print(info['Name'])"
   ]
  },
  {
   "cell_type": "code",
   "execution_count": 5,
   "id": "00d0565d-52fa-48b3-a358-b3a313056d1c",
   "metadata": {},
   "outputs": [
    {
     "name": "stdout",
     "output_type": "stream",
     "text": [
      "BE Computers\n"
     ]
    }
   ],
   "source": [
    "print(info['Education'])"
   ]
  },
  {
   "cell_type": "markdown",
   "id": "8ba2cf43-9886-41f6-af8c-cb15daf85c92",
   "metadata": {},
   "source": [
    "Another thing is, when value is not present for any key, it will give error. best practice is that USE .get() method."
   ]
  },
  {
   "cell_type": "code",
   "execution_count": 6,
   "id": "ba8fc001-cf74-4789-aedb-f0860a2e9e77",
   "metadata": {},
   "outputs": [
    {
     "data": {
      "text/plain": [
       "'Ganesh'"
      ]
     },
     "execution_count": 6,
     "metadata": {},
     "output_type": "execute_result"
    }
   ],
   "source": [
    "info.get('Name')"
   ]
  },
  {
   "cell_type": "code",
   "execution_count": 7,
   "id": "96c640f0-9bd8-4826-829c-5f5c28ab5d10",
   "metadata": {},
   "outputs": [
    {
     "data": {
      "text/plain": [
       "'BE Computers'"
      ]
     },
     "execution_count": 7,
     "metadata": {},
     "output_type": "execute_result"
    }
   ],
   "source": [
    "info.get('Education')"
   ]
  },
  {
   "cell_type": "code",
   "execution_count": 10,
   "id": "de0804b6-e16c-41fa-a425-2c3bd56c9317",
   "metadata": {},
   "outputs": [
    {
     "name": "stdout",
     "output_type": "stream",
     "text": [
      "None\n"
     ]
    }
   ],
   "source": [
    "print(info.get('Adress'))    #The address is not given in the dictionary, yet it doesn't give an error."
   ]
  },
  {
   "cell_type": "code",
   "execution_count": 12,
   "id": "754ce1e5-c6b9-48b3-bd5e-d21a22df8d52",
   "metadata": {},
   "outputs": [
    {
     "name": "stdout",
     "output_type": "stream",
     "text": [
      "Not present\n"
     ]
    }
   ],
   "source": [
    "#another thing is we can give any default value. we gave default as Not present.\n",
    "#Another thing is that we can provide a default value. We set the default to 'Not present.\n",
    "\n",
    "print(info.get('Adress','Not present'))"
   ]
  },
  {
   "cell_type": "code",
   "execution_count": null,
   "id": "772e6e05-fb53-43c1-a3d4-d51ab1e136ee",
   "metadata": {},
   "outputs": [],
   "source": []
  }
 ],
 "metadata": {
  "kernelspec": {
   "display_name": "Python 3 (ipykernel)",
   "language": "python",
   "name": "python3"
  },
  "language_info": {
   "codemirror_mode": {
    "name": "ipython",
    "version": 3
   },
   "file_extension": ".py",
   "mimetype": "text/x-python",
   "name": "python",
   "nbconvert_exporter": "python",
   "pygments_lexer": "ipython3",
   "version": "3.12.7"
  }
 },
 "nbformat": 4,
 "nbformat_minor": 5
}
