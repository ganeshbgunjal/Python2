{
 "cells": [
  {
   "cell_type": "markdown",
   "id": "cc3d64e6-76ad-4c99-bdd0-d851eaed508a",
   "metadata": {},
   "source": [
    "### **Dictionary:-**\n",
    "1. Dictionaries are the **unordered collection** of the items.\n",
    "2. they store data in the key: value pair.\n",
    "3. every key must be unique. if we give another value to the key. the value will be replace. not another same key will be created.\n",
    "4. keys must be immutable."
   ]
  },
  {
   "cell_type": "code",
   "execution_count": 1,
   "id": "a7382c08-d55d-4864-940b-a0d03eec6d8c",
   "metadata": {},
   "outputs": [
    {
     "name": "stdout",
     "output_type": "stream",
     "text": [
      "<class 'dict'>\n"
     ]
    }
   ],
   "source": [
    "empty_dict = {}\n",
    "print(type(empty_dict))"
   ]
  },
  {
   "cell_type": "code",
   "execution_count": 2,
   "id": "3d7ccaf6-1bea-4d02-89af-bc4574a073c8",
   "metadata": {},
   "outputs": [],
   "source": [
    "info = {\n",
    "    'Name' : 'Ganesh',\n",
    "    'Surname' : 'Gunjal',\n",
    "    'Age' : 33,\n",
    "    'Education' : 'BE Computers',\n",
    "    'Profession' : 'Data Scientist'\n",
    "}"
   ]
  },
  {
   "cell_type": "code",
   "execution_count": 3,
   "id": "c35ceac1-9e3a-4b2a-a77d-5942e5c390d0",
   "metadata": {},
   "outputs": [
    {
     "name": "stdout",
     "output_type": "stream",
     "text": [
      "{'Name': 'Ganesh', 'Surname': 'Gunjal', 'Age': 33, 'Education': 'BE Computers', 'Profession': 'Data Scientist'}\n"
     ]
    }
   ],
   "source": [
    "print(info)"
   ]
  },
  {
   "cell_type": "code",
   "execution_count": 4,
   "id": "1905ee05-e6ed-46e2-9707-5c5768435630",
   "metadata": {},
   "outputs": [
    {
     "name": "stdout",
     "output_type": "stream",
     "text": [
      "Ganesh\n"
     ]
    }
   ],
   "source": [
    "print(info['Name'])"
   ]
  },
  {
   "cell_type": "code",
   "execution_count": 5,
   "id": "00d0565d-52fa-48b3-a358-b3a313056d1c",
   "metadata": {},
   "outputs": [
    {
     "name": "stdout",
     "output_type": "stream",
     "text": [
      "BE Computers\n"
     ]
    }
   ],
   "source": [
    "print(info['Education'])"
   ]
  },
  {
   "cell_type": "markdown",
   "id": "8ba2cf43-9886-41f6-af8c-cb15daf85c92",
   "metadata": {},
   "source": [
    "Another thing is, when value is not present for any key, it will give error. best practice is that USE .get() method."
   ]
  },
  {
   "cell_type": "code",
   "execution_count": 6,
   "id": "ba8fc001-cf74-4789-aedb-f0860a2e9e77",
   "metadata": {},
   "outputs": [
    {
     "data": {
      "text/plain": [
       "'Ganesh'"
      ]
     },
     "execution_count": 6,
     "metadata": {},
     "output_type": "execute_result"
    }
   ],
   "source": [
    "info.get('Name')"
   ]
  },
  {
   "cell_type": "code",
   "execution_count": 7,
   "id": "96c640f0-9bd8-4826-829c-5f5c28ab5d10",
   "metadata": {},
   "outputs": [
    {
     "data": {
      "text/plain": [
       "'BE Computers'"
      ]
     },
     "execution_count": 7,
     "metadata": {},
     "output_type": "execute_result"
    }
   ],
   "source": [
    "info.get('Education')"
   ]
  },
  {
   "cell_type": "code",
   "execution_count": 10,
   "id": "de0804b6-e16c-41fa-a425-2c3bd56c9317",
   "metadata": {},
   "outputs": [
    {
     "name": "stdout",
     "output_type": "stream",
     "text": [
      "None\n"
     ]
    }
   ],
   "source": [
    "print(info.get('Adress'))    #The address is not given in the dictionary, yet it doesn't give an error."
   ]
  },
  {
   "cell_type": "code",
   "execution_count": 12,
   "id": "754ce1e5-c6b9-48b3-bd5e-d21a22df8d52",
   "metadata": {},
   "outputs": [
    {
     "name": "stdout",
     "output_type": "stream",
     "text": [
      "Not present\n"
     ]
    }
   ],
   "source": [
    "#another thing is we can give any default value. we gave default as Not present.\n",
    "#Another thing is that we can provide a default value. We set the default to 'Not present.\n",
    "\n",
    "print(info.get('Adress','Not present'))"
   ]
  },
  {
   "cell_type": "markdown",
   "id": "c4db85e4-22bc-43e3-aac8-4f6b5215b6c0",
   "metadata": {},
   "source": [
    "#### Modifying Dictionary element:\n",
    "1. dictionares are mutable. we can add, update, delete values."
   ]
  },
  {
   "cell_type": "code",
   "execution_count": 13,
   "id": "3b9b824a-4b16-469f-8ca6-1845eb04c1f3",
   "metadata": {},
   "outputs": [],
   "source": [
    "info['Adress'] = 'Bangalore'"
   ]
  },
  {
   "cell_type": "code",
   "execution_count": 14,
   "id": "b6fdd89e-6761-47c0-b127-02be6b6ad084",
   "metadata": {},
   "outputs": [
    {
     "name": "stdout",
     "output_type": "stream",
     "text": [
      "{'Name': 'Ganesh', 'Surname': 'Gunjal', 'Age': 33, 'Education': 'BE Computers', 'Profession': 'Data Scientist', 'Adress': 'Bangalore'}\n"
     ]
    }
   ],
   "source": [
    "print(info)"
   ]
  },
  {
   "cell_type": "code",
   "execution_count": 15,
   "id": "864a6e43-1ee1-4000-b996-907919bd81c7",
   "metadata": {},
   "outputs": [],
   "source": [
    "info['Coompany'] = 'Microsoft'"
   ]
  },
  {
   "cell_type": "code",
   "execution_count": 16,
   "id": "4a313f72-9161-46a3-98a3-708e594c8c28",
   "metadata": {},
   "outputs": [
    {
     "data": {
      "text/plain": [
       "{'Name': 'Ganesh',\n",
       " 'Surname': 'Gunjal',\n",
       " 'Age': 33,\n",
       " 'Education': 'BE Computers',\n",
       " 'Profession': 'Data Scientist',\n",
       " 'Adress': 'Bangalore',\n",
       " 'Coompany': 'Microsoft'}"
      ]
     },
     "execution_count": 16,
     "metadata": {},
     "output_type": "execute_result"
    }
   ],
   "source": [
    "info"
   ]
  },
  {
   "cell_type": "code",
   "execution_count": 19,
   "id": "81242736-f1ae-4c5d-a737-308d599c027d",
   "metadata": {},
   "outputs": [],
   "source": [
    "del(info['Coompany'])"
   ]
  },
  {
   "cell_type": "code",
   "execution_count": 20,
   "id": "f81afcf0-7b70-4328-8617-a717faa68e0c",
   "metadata": {},
   "outputs": [
    {
     "data": {
      "text/plain": [
       "{'Name': 'Ganesh',\n",
       " 'Surname': 'Gunjal',\n",
       " 'Age': 33,\n",
       " 'Education': 'BE Computers',\n",
       " 'Profession': 'Data Scientist',\n",
       " 'Adress': 'Bangalore'}"
      ]
     },
     "execution_count": 20,
     "metadata": {},
     "output_type": "execute_result"
    }
   ],
   "source": [
    "info"
   ]
  },
  {
   "cell_type": "code",
   "execution_count": 21,
   "id": "1b96a8e4-0b24-4fc3-a846-7e8f0eee8a25",
   "metadata": {},
   "outputs": [],
   "source": [
    "info['Company'] = 'Microsoft'"
   ]
  },
  {
   "cell_type": "code",
   "execution_count": 22,
   "id": "e4dbf9cf-3596-477d-925b-4fbe9f9f1f8a",
   "metadata": {},
   "outputs": [
    {
     "data": {
      "text/plain": [
       "{'Name': 'Ganesh',\n",
       " 'Surname': 'Gunjal',\n",
       " 'Age': 33,\n",
       " 'Education': 'BE Computers',\n",
       " 'Profession': 'Data Scientist',\n",
       " 'Adress': 'Bangalore',\n",
       " 'Company': 'Microsoft'}"
      ]
     },
     "execution_count": 22,
     "metadata": {},
     "output_type": "execute_result"
    }
   ],
   "source": [
    "info"
   ]
  },
  {
   "cell_type": "code",
   "execution_count": 23,
   "id": "775fbeae-601a-4b9e-a3ed-82c7dfe784e3",
   "metadata": {},
   "outputs": [],
   "source": [
    "del info['Adress']"
   ]
  },
  {
   "cell_type": "code",
   "execution_count": 24,
   "id": "79f903a0-a457-44b0-845e-1136db7f11d5",
   "metadata": {},
   "outputs": [],
   "source": [
    "info['Address'] = 'Bangalore'"
   ]
  },
  {
   "cell_type": "code",
   "execution_count": 25,
   "id": "acb4caad-2981-4b54-a8a1-588ba9fa2b43",
   "metadata": {},
   "outputs": [
    {
     "data": {
      "text/plain": [
       "{'Name': 'Ganesh',\n",
       " 'Surname': 'Gunjal',\n",
       " 'Age': 33,\n",
       " 'Education': 'BE Computers',\n",
       " 'Profession': 'Data Scientist',\n",
       " 'Company': 'Microsoft',\n",
       " 'Address': 'Bangalore'}"
      ]
     },
     "execution_count": 25,
     "metadata": {},
     "output_type": "execute_result"
    }
   ],
   "source": [
    "info"
   ]
  },
  {
   "cell_type": "markdown",
   "id": "87469b42-2823-4b42-9de8-90f6a2453c95",
   "metadata": {},
   "source": [
    "#### Dictionary Methods:"
   ]
  },
  {
   "cell_type": "code",
   "execution_count": 26,
   "id": "ff8838ab-919a-42ec-8cee-202fa1f9190d",
   "metadata": {},
   "outputs": [
    {
     "data": {
      "text/plain": [
       "dict_keys(['Name', 'Surname', 'Age', 'Education', 'Profession', 'Company', 'Address'])"
      ]
     },
     "execution_count": 26,
     "metadata": {},
     "output_type": "execute_result"
    }
   ],
   "source": [
    "# 1 To get all the keys:\n",
    "info.keys()"
   ]
  },
  {
   "cell_type": "code",
   "execution_count": 27,
   "id": "46cb29bb-12d2-4563-80a0-9006899bfe00",
   "metadata": {},
   "outputs": [
    {
     "data": {
      "text/plain": [
       "7"
      ]
     },
     "execution_count": 27,
     "metadata": {},
     "output_type": "execute_result"
    }
   ],
   "source": [
    "len(info.keys())"
   ]
  },
  {
   "cell_type": "code",
   "execution_count": 28,
   "id": "69bb873c-b1c8-4741-88f1-0e644d694082",
   "metadata": {},
   "outputs": [
    {
     "data": {
      "text/plain": [
       "dict_values(['Ganesh', 'Gunjal', 33, 'BE Computers', 'Data Scientist', 'Microsoft', 'Bangalore'])"
      ]
     },
     "execution_count": 28,
     "metadata": {},
     "output_type": "execute_result"
    }
   ],
   "source": [
    "# 2. To get all the values:\n",
    "info.values()"
   ]
  },
  {
   "cell_type": "code",
   "execution_count": 29,
   "id": "549817f7-3abf-4363-a3d1-fd3423892ac8",
   "metadata": {},
   "outputs": [
    {
     "data": {
      "text/plain": [
       "7"
      ]
     },
     "execution_count": 29,
     "metadata": {},
     "output_type": "execute_result"
    }
   ],
   "source": [
    "len(info.values())"
   ]
  },
  {
   "cell_type": "code",
   "execution_count": 30,
   "id": "94c1ab4f-ef6c-4ebd-9c78-dc7a25a552da",
   "metadata": {},
   "outputs": [
    {
     "data": {
      "text/plain": [
       "dict_items([('Name', 'Ganesh'), ('Surname', 'Gunjal'), ('Age', 33), ('Education', 'BE Computers'), ('Profession', 'Data Scientist'), ('Company', 'Microsoft'), ('Address', 'Bangalore')])"
      ]
     },
     "execution_count": 30,
     "metadata": {},
     "output_type": "execute_result"
    }
   ],
   "source": [
    "# 3. to get key and values:\n",
    "info.items()"
   ]
  },
  {
   "cell_type": "code",
   "execution_count": 34,
   "id": "9ce6d9af-d2a1-4f94-ab9a-3ffc5cbdf813",
   "metadata": {},
   "outputs": [
    {
     "name": "stdout",
     "output_type": "stream",
     "text": [
      "Name : Ganesh\n",
      "Surname : Gunjal\n",
      "Age : 33\n",
      "Education : BE Computers\n",
      "Profession : Data Scientist\n",
      "Company : Microsoft\n",
      "Address : Bangalore\n"
     ]
    }
   ],
   "source": [
    "for key,value in info.items():\n",
    "    print(key,':',value)"
   ]
  },
  {
   "cell_type": "code",
   "execution_count": 36,
   "id": "82177697-e598-4a92-9991-67c94a9b6016",
   "metadata": {},
   "outputs": [
    {
     "name": "stdout",
     "output_type": "stream",
     "text": [
      "0 Name : Ganesh\n",
      "1 Surname : Gunjal\n",
      "2 Age : 33\n",
      "3 Education : BE Computers\n",
      "4 Profession : Data Scientist\n",
      "5 Company : Microsoft\n",
      "6 Address : Bangalore\n"
     ]
    }
   ],
   "source": [
    "for i,(key,value) in enumerate(info.items()):\n",
    "    print(i,key,':', value)"
   ]
  },
  {
   "cell_type": "code",
   "execution_count": 37,
   "id": "6507ee47-a5c6-473f-8ebb-7c8f0b3bcbd1",
   "metadata": {},
   "outputs": [
    {
     "name": "stdout",
     "output_type": "stream",
     "text": [
      "{'Name': 'Ganesh', 'Surname': 'Gunjal', 'Age': 33, 'Education': 'BE Computers', 'Profession': 'Data Scientist', 'Company': 'Microsoft', 'Address': 'Bangalore'}\n",
      "{'Name': 'Ganesh', 'Surname': 'Gunjal', 'Age': 33, 'Education': 'BE Computers', 'Profession': 'Data Scientist', 'Company': 'Microsoft', 'Address': 'Bangalore'}\n"
     ]
    }
   ],
   "source": [
    "#shallow copy: very imporatant in the project.\n",
    "info_copy = info\n",
    "print(info)\n",
    "print(info_copy)"
   ]
  },
  {
   "cell_type": "code",
   "execution_count": 38,
   "id": "842320d4-2d5b-4444-b5f9-9187ad32d9ce",
   "metadata": {},
   "outputs": [],
   "source": [
    "info['Name'] = 'Ganesh1'"
   ]
  },
  {
   "cell_type": "code",
   "execution_count": 40,
   "id": "774cf3f9-a26b-4cce-b7f3-0e09684c3b35",
   "metadata": {},
   "outputs": [
    {
     "name": "stdout",
     "output_type": "stream",
     "text": [
      "{'Name': 'Ganesh1', 'Surname': 'Gunjal', 'Age': 33, 'Education': 'BE Computers', 'Profession': 'Data Scientist', 'Company': 'Microsoft', 'Address': 'Bangalore'}\n",
      "{'Name': 'Ganesh1', 'Surname': 'Gunjal', 'Age': 33, 'Education': 'BE Computers', 'Profession': 'Data Scientist', 'Company': 'Microsoft', 'Address': 'Bangalore'}\n"
     ]
    }
   ],
   "source": [
    "print(info)\n",
    "print(info_copy)   #both names changed. mind this."
   ]
  },
  {
   "cell_type": "markdown",
   "id": "0ecc2957-d534-424e-89db-b006d6021ef8",
   "metadata": {},
   "source": [
    "so for this, there is another process of copying,"
   ]
  },
  {
   "cell_type": "code",
   "execution_count": 41,
   "id": "95f8c403-80e7-4ddf-87f2-e5052d3bc9bc",
   "metadata": {},
   "outputs": [],
   "source": [
    "info_copy1 = info.copy()  #it will allocate another memory. it will give reference of this variable to the another memory.  "
   ]
  },
  {
   "cell_type": "code",
   "execution_count": 42,
   "id": "0e2d0e25-3412-4063-afa8-30354c8cb39e",
   "metadata": {},
   "outputs": [
    {
     "name": "stdout",
     "output_type": "stream",
     "text": [
      "{'Name': 'Ganesh1', 'Surname': 'Gunjal', 'Age': 33, 'Education': 'BE Computers', 'Profession': 'Data Scientist', 'Company': 'Microsoft', 'Address': 'Bangalore'}\n",
      "{'Name': 'Ganesh1', 'Surname': 'Gunjal', 'Age': 33, 'Education': 'BE Computers', 'Profession': 'Data Scientist', 'Company': 'Microsoft', 'Address': 'Bangalore'}\n"
     ]
    }
   ],
   "source": [
    "print(info)\n",
    "print(info_copy1)"
   ]
  },
  {
   "cell_type": "code",
   "execution_count": 43,
   "id": "e503bc94-6206-4673-b17a-dd764bfe0f86",
   "metadata": {},
   "outputs": [],
   "source": [
    "info['Name'] = 'Ganesh2'"
   ]
  },
  {
   "cell_type": "code",
   "execution_count": 47,
   "id": "044a0d1f-89d0-4ef7-89a8-d61a68fafcec",
   "metadata": {},
   "outputs": [
    {
     "name": "stdout",
     "output_type": "stream",
     "text": [
      "Original: {'Name': 'Ganesh2', 'Surname': 'Gunjal', 'Age': 33, 'Education': 'BE Computers', 'Profession': 'Data Scientist', 'Company': 'Microsoft', 'Address': 'Bangalore'}\n",
      "Copy: {'Name': 'Ganesh1', 'Surname': 'Gunjal', 'Age': 33, 'Education': 'BE Computers', 'Profession': 'Data Scientist', 'Company': 'Microsoft', 'Address': 'Bangalore'}\n"
     ]
    }
   ],
   "source": [
    "print('Original:',info)\n",
    "print('Copy:',info_copy1)    #Here, the copy is not changed when the original value is changed."
   ]
  },
  {
   "cell_type": "markdown",
   "id": "a0dea6e3-d065-474f-a1e0-860c2205f545",
   "metadata": {},
   "source": [
    "#### Iterating Over the dictionary:"
   ]
  },
  {
   "cell_type": "code",
   "execution_count": 48,
   "id": "9ec65b97-28c3-4fce-aae1-c7e145229b78",
   "metadata": {},
   "outputs": [
    {
     "name": "stdout",
     "output_type": "stream",
     "text": [
      "Name\n",
      "Surname\n",
      "Age\n",
      "Education\n",
      "Profession\n",
      "Company\n",
      "Address\n"
     ]
    }
   ],
   "source": [
    "for keys in info.keys():\n",
    "    print(keys)"
   ]
  },
  {
   "cell_type": "code",
   "execution_count": 49,
   "id": "ce7cd021-3dc9-4586-a148-56d0c4ebf7f8",
   "metadata": {},
   "outputs": [
    {
     "name": "stdout",
     "output_type": "stream",
     "text": [
      "Ganesh2\n",
      "Gunjal\n",
      "33\n",
      "BE Computers\n",
      "Data Scientist\n",
      "Microsoft\n",
      "Bangalore\n"
     ]
    }
   ],
   "source": [
    "for values in info.values():\n",
    "    print(values)"
   ]
  },
  {
   "cell_type": "code",
   "execution_count": 52,
   "id": "4408d334-2a08-42fa-a3a3-d8b060a7953b",
   "metadata": {},
   "outputs": [
    {
     "name": "stdout",
     "output_type": "stream",
     "text": [
      "Name : Ganesh2\n",
      "Surname : Gunjal\n",
      "Age : 33\n",
      "Education : BE Computers\n",
      "Profession : Data Scientist\n",
      "Company : Microsoft\n",
      "Address : Bangalore\n"
     ]
    }
   ],
   "source": [
    "for key,value in info.items():\n",
    "    print(f'{key} : {value}')"
   ]
  },
  {
   "cell_type": "markdown",
   "id": "73243b7a-6435-46eb-86c6-9e7d4c1c4831",
   "metadata": {},
   "source": [
    "#### Nested dictionaries:"
   ]
  },
  {
   "cell_type": "code",
   "execution_count": 54,
   "id": "81c18e67-f2ab-4fa4-acd6-098564776a9a",
   "metadata": {},
   "outputs": [],
   "source": [
    "students = {\n",
    "    'Student1' : {'Name':'Ganesh','Surname':'Gunjal','Age':33},\n",
    "    'Student2' : {'Name':'Dilip','Surname':'Gunjal','Age':32},\n",
    "    'Student3' : {'Name':'Amol','Surname':'Gunjal','Age':22}\n",
    "}"
   ]
  },
  {
   "cell_type": "code",
   "execution_count": 55,
   "id": "58507fe6-956d-4c8b-963a-2ac75890b6d9",
   "metadata": {},
   "outputs": [
    {
     "name": "stdout",
     "output_type": "stream",
     "text": [
      "{'Student1': {'Name': 'Ganesh', 'Surname': 'Gunjal', 'Age': 33}, 'Student2': {'Name': 'Dilip', 'Surname': 'Gunjal', 'Age': 32}, 'Student3': {'Name': 'Amol', 'Surname': 'Gunjal', 'Age': 22}}\n"
     ]
    }
   ],
   "source": [
    "print(students)"
   ]
  },
  {
   "cell_type": "code",
   "execution_count": 64,
   "id": "ea928eb3-c37e-424a-9c4e-a4566e9aff21",
   "metadata": {},
   "outputs": [
    {
     "name": "stdout",
     "output_type": "stream",
     "text": [
      "32\n"
     ]
    }
   ],
   "source": [
    "print(students['Student2']['Age'])"
   ]
  },
  {
   "cell_type": "code",
   "execution_count": 59,
   "id": "a28f10c6-1b9b-4966-9d9a-0eb6746aa793",
   "metadata": {},
   "outputs": [
    {
     "name": "stdout",
     "output_type": "stream",
     "text": [
      "Student1 : {'Name': 'Ganesh', 'Surname': 'Gunjal', 'Age': 33}\n",
      "Student2 : {'Name': 'Dilip', 'Surname': 'Gunjal', 'Age': 32}\n",
      "Student3 : {'Name': 'Amol', 'Surname': 'Gunjal', 'Age': 22}\n"
     ]
    }
   ],
   "source": [
    "for s,v in students.items():\n",
    "    print(f'{s} : {v}')"
   ]
  },
  {
   "cell_type": "code",
   "execution_count": 63,
   "id": "bc3ae559-eb4a-498f-8cdd-59a2d3acbed0",
   "metadata": {},
   "outputs": [
    {
     "name": "stdout",
     "output_type": "stream",
     "text": [
      "Student1 : {'Name': 'Ganesh', 'Surname': 'Gunjal', 'Age': 33}\n"
     ]
    }
   ],
   "source": [
    "# to print first value\n",
    "first_key = list(students.keys())[0]\n",
    "first_value = students[first_key]\n",
    "\n",
    "print(f'{first_key} : {first_value}')"
   ]
  },
  {
   "cell_type": "markdown",
   "id": "381d7636-677c-4cee-9dd1-578dbf371420",
   "metadata": {},
   "source": [
    "### Iterating over nested dictionaries"
   ]
  },
  {
   "cell_type": "code",
   "execution_count": 65,
   "id": "6ab61c52-98e9-418b-88c7-e58efb2023e8",
   "metadata": {},
   "outputs": [
    {
     "name": "stdout",
     "output_type": "stream",
     "text": [
      "{'Student1': {'Name': 'Ganesh', 'Surname': 'Gunjal', 'Age': 33}, 'Student2': {'Name': 'Dilip', 'Surname': 'Gunjal', 'Age': 32}, 'Student3': {'Name': 'Amol', 'Surname': 'Gunjal', 'Age': 22}}\n"
     ]
    }
   ],
   "source": [
    "print(students)"
   ]
  },
  {
   "cell_type": "code",
   "execution_count": 70,
   "id": "94402ac8-4aa6-4c67-a2c3-a0a5ced3a448",
   "metadata": {},
   "outputs": [
    {
     "name": "stdout",
     "output_type": "stream",
     "text": [
      "Student1 : {'Name': 'Ganesh', 'Surname': 'Gunjal', 'Age': 33}\n",
      "----------------------------------------\n",
      "Name : Ganesh\n",
      "Surname : Gunjal\n",
      "Age : 33\n",
      "Student2 : {'Name': 'Dilip', 'Surname': 'Gunjal', 'Age': 32}\n",
      "----------------------------------------\n",
      "Name : Dilip\n",
      "Surname : Gunjal\n",
      "Age : 32\n",
      "Student3 : {'Name': 'Amol', 'Surname': 'Gunjal', 'Age': 22}\n",
      "----------------------------------------\n",
      "Name : Amol\n",
      "Surname : Gunjal\n",
      "Age : 22\n"
     ]
    }
   ],
   "source": [
    "for student_id,student_info in students.items():\n",
    "    print(f'{student_id} : {student_info}')\n",
    "    print('----------------------------------------')\n",
    "    for key, value in student_info.items():\n",
    "        print(f'{key} : {value}')"
   ]
  },
  {
   "cell_type": "markdown",
   "id": "4d2d34d1-5f2a-4c6c-aa4c-3d7182cdcad2",
   "metadata": {},
   "source": [
    "#### Dictionary Comprehension:-"
   ]
  },
  {
   "cell_type": "code",
   "execution_count": 75,
   "id": "e63a98f1-70de-42dd-8705-7f33ee18e1a1",
   "metadata": {},
   "outputs": [],
   "source": [
    "squares = {x:x**2 for x in range(1,10)}"
   ]
  },
  {
   "cell_type": "code",
   "execution_count": 76,
   "id": "412f4de9-6666-4105-874f-760dc4a4dc3f",
   "metadata": {},
   "outputs": [
    {
     "data": {
      "text/plain": [
       "{1: 1, 2: 4, 3: 9, 4: 16, 5: 25, 6: 36, 7: 49, 8: 64, 9: 81}"
      ]
     },
     "execution_count": 76,
     "metadata": {},
     "output_type": "execute_result"
    }
   ],
   "source": [
    "squares"
   ]
  },
  {
   "cell_type": "code",
   "execution_count": 77,
   "id": "26fd719a-5c8e-43e7-9095-0e31e81be48c",
   "metadata": {},
   "outputs": [
    {
     "data": {
      "text/plain": [
       "dict_keys([1, 2, 3, 4, 5, 6, 7, 8, 9])"
      ]
     },
     "execution_count": 77,
     "metadata": {},
     "output_type": "execute_result"
    }
   ],
   "source": [
    "squares.keys()"
   ]
  },
  {
   "cell_type": "code",
   "execution_count": 79,
   "id": "f53861af-9123-4b4f-b763-32193aab2210",
   "metadata": {},
   "outputs": [
    {
     "data": {
      "text/plain": [
       "dict_values([1, 4, 9, 16, 25, 36, 49, 64, 81])"
      ]
     },
     "execution_count": 79,
     "metadata": {},
     "output_type": "execute_result"
    }
   ],
   "source": [
    "squares.values()"
   ]
  },
  {
   "cell_type": "code",
   "execution_count": 80,
   "id": "a4998a81-d688-4e7d-9eae-884ce772278f",
   "metadata": {},
   "outputs": [],
   "source": [
    "even_squares = {x:x**2 for x in range(1,11) if x%2==0}"
   ]
  },
  {
   "cell_type": "code",
   "execution_count": 81,
   "id": "163e2ae8-a5ce-4db2-888d-0d2dc8f52a36",
   "metadata": {},
   "outputs": [
    {
     "data": {
      "text/plain": [
       "{2: 4, 4: 16, 6: 36, 8: 64, 10: 100}"
      ]
     },
     "execution_count": 81,
     "metadata": {},
     "output_type": "execute_result"
    }
   ],
   "source": [
    "even_squares"
   ]
  },
  {
   "cell_type": "code",
   "execution_count": 82,
   "id": "9a9ce1b0-162e-45b7-851f-ba18368be313",
   "metadata": {},
   "outputs": [],
   "source": [
    "odd_squares = {y:y**2 for y in range(1,11) if y%2!=0}"
   ]
  },
  {
   "cell_type": "code",
   "execution_count": 83,
   "id": "45c5bb78-8966-4140-8f2a-820de1c39a47",
   "metadata": {},
   "outputs": [
    {
     "data": {
      "text/plain": [
       "{1: 1, 3: 9, 5: 25, 7: 49, 9: 81}"
      ]
     },
     "execution_count": 83,
     "metadata": {},
     "output_type": "execute_result"
    }
   ],
   "source": [
    "odd_squares"
   ]
  },
  {
   "cell_type": "markdown",
   "id": "6c5d9267-6773-4e7c-949f-5683295136a9",
   "metadata": {},
   "source": [
    "#### Some useful use-cases"
   ]
  },
  {
   "cell_type": "code",
   "execution_count": 87,
   "id": "9bb9aaca-8ebd-4951-b31e-ad2287901d56",
   "metadata": {},
   "outputs": [
    {
     "name": "stdout",
     "output_type": "stream",
     "text": [
      "{1: 1, 2: 2, 3: 3, 4: 5, 5: 1}\n"
     ]
    }
   ],
   "source": [
    "numbers = [1,2,2,3,3,3,4,4,4,4,4,5]\n",
    "\n",
    "frequency = {}\n",
    "\n",
    "for num in numbers:\n",
    "    if num in frequency:\n",
    "        frequency[num] = frequency[num] +1\n",
    "    else:\n",
    "        frequency[num] = 1\n",
    "\n",
    "print(frequency)"
   ]
  },
  {
   "cell_type": "code",
   "execution_count": 88,
   "id": "27df8b53-a3df-4913-954b-058b289119b5",
   "metadata": {},
   "outputs": [],
   "source": [
    "# another easy method.\n",
    "from collections import Counter"
   ]
  },
  {
   "cell_type": "code",
   "execution_count": 91,
   "id": "f62c85c7-b46c-4427-a837-f29bc82e3551",
   "metadata": {},
   "outputs": [
    {
     "name": "stdout",
     "output_type": "stream",
     "text": [
      "Counter({4: 5, 3: 3, 2: 2, 1: 1, 5: 1})\n"
     ]
    }
   ],
   "source": [
    "frequency = Counter(numbers)\n",
    "print(frequency)"
   ]
  },
  {
   "cell_type": "code",
   "execution_count": null,
   "id": "b1f49869-d96f-4691-b17c-89a448b4463e",
   "metadata": {},
   "outputs": [],
   "source": []
  }
 ],
 "metadata": {
  "kernelspec": {
   "display_name": "Python 3 (ipykernel)",
   "language": "python",
   "name": "python3"
  },
  "language_info": {
   "codemirror_mode": {
    "name": "ipython",
    "version": 3
   },
   "file_extension": ".py",
   "mimetype": "text/x-python",
   "name": "python",
   "nbconvert_exporter": "python",
   "pygments_lexer": "ipython3",
   "version": "3.12.7"
  }
 },
 "nbformat": 4,
 "nbformat_minor": 5
}
