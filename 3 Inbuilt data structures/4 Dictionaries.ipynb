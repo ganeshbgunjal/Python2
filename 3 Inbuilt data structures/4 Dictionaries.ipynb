{
 "cells": [
  {
   "cell_type": "markdown",
   "id": "cc3d64e6-76ad-4c99-bdd0-d851eaed508a",
   "metadata": {},
   "source": [
    "### **Dictionary:-**\n",
    "1. Dictionaries are the **unordered collection** of the items.\n",
    "2. they store data in the key: value pair.\n",
    "3. every key must be unique. if we give another value to the key. the value will be replace. not another same key will be created.\n",
    "4. keys must be immutable."
   ]
  },
  {
   "cell_type": "code",
   "execution_count": 1,
   "id": "a7382c08-d55d-4864-940b-a0d03eec6d8c",
   "metadata": {},
   "outputs": [
    {
     "name": "stdout",
     "output_type": "stream",
     "text": [
      "<class 'dict'>\n"
     ]
    }
   ],
   "source": [
    "empty_dict = {}\n",
    "print(type(empty_dict))"
   ]
  },
  {
   "cell_type": "code",
   "execution_count": 2,
   "id": "3d7ccaf6-1bea-4d02-89af-bc4574a073c8",
   "metadata": {},
   "outputs": [],
   "source": [
    "info = {\n",
    "    'Name' : 'Ganesh',\n",
    "    'Surname' : 'Gunjal',\n",
    "    'Age' : 33,\n",
    "    'Education' : 'BE Computers',\n",
    "    'Profession' : 'Data Scientist'\n",
    "}"
   ]
  },
  {
   "cell_type": "code",
   "execution_count": 3,
   "id": "c35ceac1-9e3a-4b2a-a77d-5942e5c390d0",
   "metadata": {},
   "outputs": [
    {
     "name": "stdout",
     "output_type": "stream",
     "text": [
      "{'Name': 'Ganesh', 'Surname': 'Gunjal', 'Age': 33, 'Education': 'BE Computers', 'Profession': 'Data Scientist'}\n"
     ]
    }
   ],
   "source": [
    "print(info)"
   ]
  },
  {
   "cell_type": "code",
   "execution_count": 4,
   "id": "1905ee05-e6ed-46e2-9707-5c5768435630",
   "metadata": {},
   "outputs": [
    {
     "name": "stdout",
     "output_type": "stream",
     "text": [
      "Ganesh\n"
     ]
    }
   ],
   "source": [
    "print(info['Name'])"
   ]
  },
  {
   "cell_type": "code",
   "execution_count": 5,
   "id": "00d0565d-52fa-48b3-a358-b3a313056d1c",
   "metadata": {},
   "outputs": [
    {
     "name": "stdout",
     "output_type": "stream",
     "text": [
      "BE Computers\n"
     ]
    }
   ],
   "source": [
    "print(info['Education'])"
   ]
  },
  {
   "cell_type": "markdown",
   "id": "8ba2cf43-9886-41f6-af8c-cb15daf85c92",
   "metadata": {},
   "source": [
    "Another thing is, when value is not present for any key, it will give error. best practice is that USE .get() method."
   ]
  },
  {
   "cell_type": "code",
   "execution_count": 6,
   "id": "ba8fc001-cf74-4789-aedb-f0860a2e9e77",
   "metadata": {},
   "outputs": [
    {
     "data": {
      "text/plain": [
       "'Ganesh'"
      ]
     },
     "execution_count": 6,
     "metadata": {},
     "output_type": "execute_result"
    }
   ],
   "source": [
    "info.get('Name')"
   ]
  },
  {
   "cell_type": "code",
   "execution_count": 7,
   "id": "96c640f0-9bd8-4826-829c-5f5c28ab5d10",
   "metadata": {},
   "outputs": [
    {
     "data": {
      "text/plain": [
       "'BE Computers'"
      ]
     },
     "execution_count": 7,
     "metadata": {},
     "output_type": "execute_result"
    }
   ],
   "source": [
    "info.get('Education')"
   ]
  },
  {
   "cell_type": "code",
   "execution_count": 10,
   "id": "de0804b6-e16c-41fa-a425-2c3bd56c9317",
   "metadata": {},
   "outputs": [
    {
     "name": "stdout",
     "output_type": "stream",
     "text": [
      "None\n"
     ]
    }
   ],
   "source": [
    "print(info.get('Adress'))    #The address is not given in the dictionary, yet it doesn't give an error."
   ]
  },
  {
   "cell_type": "code",
   "execution_count": 12,
   "id": "754ce1e5-c6b9-48b3-bd5e-d21a22df8d52",
   "metadata": {},
   "outputs": [
    {
     "name": "stdout",
     "output_type": "stream",
     "text": [
      "Not present\n"
     ]
    }
   ],
   "source": [
    "#another thing is we can give any default value. we gave default as Not present.\n",
    "#Another thing is that we can provide a default value. We set the default to 'Not present.\n",
    "\n",
    "print(info.get('Adress','Not present'))"
   ]
  },
  {
   "cell_type": "markdown",
   "id": "c4db85e4-22bc-43e3-aac8-4f6b5215b6c0",
   "metadata": {},
   "source": [
    "#### Modifying Dictionary element:\n",
    "1. dictionares are mutable. we can add, update, delete values."
   ]
  },
  {
   "cell_type": "code",
   "execution_count": 13,
   "id": "3b9b824a-4b16-469f-8ca6-1845eb04c1f3",
   "metadata": {},
   "outputs": [],
   "source": [
    "info['Adress'] = 'Bangalore'"
   ]
  },
  {
   "cell_type": "code",
   "execution_count": 14,
   "id": "b6fdd89e-6761-47c0-b127-02be6b6ad084",
   "metadata": {},
   "outputs": [
    {
     "name": "stdout",
     "output_type": "stream",
     "text": [
      "{'Name': 'Ganesh', 'Surname': 'Gunjal', 'Age': 33, 'Education': 'BE Computers', 'Profession': 'Data Scientist', 'Adress': 'Bangalore'}\n"
     ]
    }
   ],
   "source": [
    "print(info)"
   ]
  },
  {
   "cell_type": "code",
   "execution_count": 15,
   "id": "864a6e43-1ee1-4000-b996-907919bd81c7",
   "metadata": {},
   "outputs": [],
   "source": [
    "info['Coompany'] = 'Microsoft'"
   ]
  },
  {
   "cell_type": "code",
   "execution_count": 16,
   "id": "4a313f72-9161-46a3-98a3-708e594c8c28",
   "metadata": {},
   "outputs": [
    {
     "data": {
      "text/plain": [
       "{'Name': 'Ganesh',\n",
       " 'Surname': 'Gunjal',\n",
       " 'Age': 33,\n",
       " 'Education': 'BE Computers',\n",
       " 'Profession': 'Data Scientist',\n",
       " 'Adress': 'Bangalore',\n",
       " 'Coompany': 'Microsoft'}"
      ]
     },
     "execution_count": 16,
     "metadata": {},
     "output_type": "execute_result"
    }
   ],
   "source": [
    "info"
   ]
  },
  {
   "cell_type": "code",
   "execution_count": 19,
   "id": "81242736-f1ae-4c5d-a737-308d599c027d",
   "metadata": {},
   "outputs": [],
   "source": [
    "del(info['Coompany'])"
   ]
  },
  {
   "cell_type": "code",
   "execution_count": 20,
   "id": "f81afcf0-7b70-4328-8617-a717faa68e0c",
   "metadata": {},
   "outputs": [
    {
     "data": {
      "text/plain": [
       "{'Name': 'Ganesh',\n",
       " 'Surname': 'Gunjal',\n",
       " 'Age': 33,\n",
       " 'Education': 'BE Computers',\n",
       " 'Profession': 'Data Scientist',\n",
       " 'Adress': 'Bangalore'}"
      ]
     },
     "execution_count": 20,
     "metadata": {},
     "output_type": "execute_result"
    }
   ],
   "source": [
    "info"
   ]
  },
  {
   "cell_type": "code",
   "execution_count": 21,
   "id": "1b96a8e4-0b24-4fc3-a846-7e8f0eee8a25",
   "metadata": {},
   "outputs": [],
   "source": [
    "info['Company'] = 'Microsoft'"
   ]
  },
  {
   "cell_type": "code",
   "execution_count": 22,
   "id": "e4dbf9cf-3596-477d-925b-4fbe9f9f1f8a",
   "metadata": {},
   "outputs": [
    {
     "data": {
      "text/plain": [
       "{'Name': 'Ganesh',\n",
       " 'Surname': 'Gunjal',\n",
       " 'Age': 33,\n",
       " 'Education': 'BE Computers',\n",
       " 'Profession': 'Data Scientist',\n",
       " 'Adress': 'Bangalore',\n",
       " 'Company': 'Microsoft'}"
      ]
     },
     "execution_count": 22,
     "metadata": {},
     "output_type": "execute_result"
    }
   ],
   "source": [
    "info"
   ]
  },
  {
   "cell_type": "code",
   "execution_count": 23,
   "id": "775fbeae-601a-4b9e-a3ed-82c7dfe784e3",
   "metadata": {},
   "outputs": [],
   "source": [
    "del info['Adress']"
   ]
  },
  {
   "cell_type": "code",
   "execution_count": 24,
   "id": "79f903a0-a457-44b0-845e-1136db7f11d5",
   "metadata": {},
   "outputs": [],
   "source": [
    "info['Address'] = 'Bangalore'"
   ]
  },
  {
   "cell_type": "code",
   "execution_count": 25,
   "id": "acb4caad-2981-4b54-a8a1-588ba9fa2b43",
   "metadata": {},
   "outputs": [
    {
     "data": {
      "text/plain": [
       "{'Name': 'Ganesh',\n",
       " 'Surname': 'Gunjal',\n",
       " 'Age': 33,\n",
       " 'Education': 'BE Computers',\n",
       " 'Profession': 'Data Scientist',\n",
       " 'Company': 'Microsoft',\n",
       " 'Address': 'Bangalore'}"
      ]
     },
     "execution_count": 25,
     "metadata": {},
     "output_type": "execute_result"
    }
   ],
   "source": [
    "info"
   ]
  },
  {
   "cell_type": "markdown",
   "id": "87469b42-2823-4b42-9de8-90f6a2453c95",
   "metadata": {},
   "source": [
    "#### Dictionary Methods:"
   ]
  },
  {
   "cell_type": "code",
   "execution_count": 26,
   "id": "ff8838ab-919a-42ec-8cee-202fa1f9190d",
   "metadata": {},
   "outputs": [
    {
     "data": {
      "text/plain": [
       "dict_keys(['Name', 'Surname', 'Age', 'Education', 'Profession', 'Company', 'Address'])"
      ]
     },
     "execution_count": 26,
     "metadata": {},
     "output_type": "execute_result"
    }
   ],
   "source": [
    "# 1 To get all the keys:\n",
    "info.keys()"
   ]
  },
  {
   "cell_type": "code",
   "execution_count": 27,
   "id": "46cb29bb-12d2-4563-80a0-9006899bfe00",
   "metadata": {},
   "outputs": [
    {
     "data": {
      "text/plain": [
       "7"
      ]
     },
     "execution_count": 27,
     "metadata": {},
     "output_type": "execute_result"
    }
   ],
   "source": [
    "len(info.keys())"
   ]
  },
  {
   "cell_type": "code",
   "execution_count": 28,
   "id": "69bb873c-b1c8-4741-88f1-0e644d694082",
   "metadata": {},
   "outputs": [
    {
     "data": {
      "text/plain": [
       "dict_values(['Ganesh', 'Gunjal', 33, 'BE Computers', 'Data Scientist', 'Microsoft', 'Bangalore'])"
      ]
     },
     "execution_count": 28,
     "metadata": {},
     "output_type": "execute_result"
    }
   ],
   "source": [
    "# 2. To get all the values:\n",
    "info.values()"
   ]
  },
  {
   "cell_type": "code",
   "execution_count": 29,
   "id": "549817f7-3abf-4363-a3d1-fd3423892ac8",
   "metadata": {},
   "outputs": [
    {
     "data": {
      "text/plain": [
       "7"
      ]
     },
     "execution_count": 29,
     "metadata": {},
     "output_type": "execute_result"
    }
   ],
   "source": [
    "len(info.values())"
   ]
  },
  {
   "cell_type": "code",
   "execution_count": 30,
   "id": "94c1ab4f-ef6c-4ebd-9c78-dc7a25a552da",
   "metadata": {},
   "outputs": [
    {
     "data": {
      "text/plain": [
       "dict_items([('Name', 'Ganesh'), ('Surname', 'Gunjal'), ('Age', 33), ('Education', 'BE Computers'), ('Profession', 'Data Scientist'), ('Company', 'Microsoft'), ('Address', 'Bangalore')])"
      ]
     },
     "execution_count": 30,
     "metadata": {},
     "output_type": "execute_result"
    }
   ],
   "source": [
    "# 3. to get key and values:\n",
    "info.items()"
   ]
  },
  {
   "cell_type": "code",
   "execution_count": 34,
   "id": "9ce6d9af-d2a1-4f94-ab9a-3ffc5cbdf813",
   "metadata": {},
   "outputs": [
    {
     "name": "stdout",
     "output_type": "stream",
     "text": [
      "Name : Ganesh\n",
      "Surname : Gunjal\n",
      "Age : 33\n",
      "Education : BE Computers\n",
      "Profession : Data Scientist\n",
      "Company : Microsoft\n",
      "Address : Bangalore\n"
     ]
    }
   ],
   "source": [
    "for key,value in info.items():\n",
    "    print(key,':',value)"
   ]
  },
  {
   "cell_type": "code",
   "execution_count": 36,
   "id": "82177697-e598-4a92-9991-67c94a9b6016",
   "metadata": {},
   "outputs": [
    {
     "name": "stdout",
     "output_type": "stream",
     "text": [
      "0 Name : Ganesh\n",
      "1 Surname : Gunjal\n",
      "2 Age : 33\n",
      "3 Education : BE Computers\n",
      "4 Profession : Data Scientist\n",
      "5 Company : Microsoft\n",
      "6 Address : Bangalore\n"
     ]
    }
   ],
   "source": [
    "for i,(key,value) in enumerate(info.items()):\n",
    "    print(i,key,':', value)"
   ]
  },
  {
   "cell_type": "code",
   "execution_count": null,
   "id": "6507ee47-a5c6-473f-8ebb-7c8f0b3bcbd1",
   "metadata": {},
   "outputs": [],
   "source": []
  }
 ],
 "metadata": {
  "kernelspec": {
   "display_name": "Python 3 (ipykernel)",
   "language": "python",
   "name": "python3"
  },
  "language_info": {
   "codemirror_mode": {
    "name": "ipython",
    "version": 3
   },
   "file_extension": ".py",
   "mimetype": "text/x-python",
   "name": "python",
   "nbconvert_exporter": "python",
   "pygments_lexer": "ipython3",
   "version": "3.12.7"
  }
 },
 "nbformat": 4,
 "nbformat_minor": 5
}
