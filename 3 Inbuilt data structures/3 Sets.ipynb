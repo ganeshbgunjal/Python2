{
 "cells": [
  {
   "cell_type": "markdown",
   "id": "1256b2ed-9367-4108-84b0-fda2b476b158",
   "metadata": {},
   "source": [
    "### **Sets:-**\n",
    "1. Sets are used for storing unique items.\n",
    "2. they are unordered. means they have no any specific order.\n",
    "3. they do now allow duplicate values.\n",
    "4. they are useful in membership tests, eliminating duplicate values, and performing mathematical operations like set union intersection difference and symmetric difference.."
   ]
  },
  {
   "cell_type": "code",
   "execution_count": null,
   "id": "9c152f46-bc41-4156-b3a8-53e4c389e0d4",
   "metadata": {},
   "outputs": [],
   "source": []
  }
 ],
 "metadata": {
  "kernelspec": {
   "display_name": "Python 3 (ipykernel)",
   "language": "python",
   "name": "python3"
  },
  "language_info": {
   "codemirror_mode": {
    "name": "ipython",
    "version": 3
   },
   "file_extension": ".py",
   "mimetype": "text/x-python",
   "name": "python",
   "nbconvert_exporter": "python",
   "pygments_lexer": "ipython3",
   "version": "3.12.7"
  }
 },
 "nbformat": 4,
 "nbformat_minor": 5
}
