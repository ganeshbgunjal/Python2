{
 "cells": [
  {
   "cell_type": "markdown",
   "id": "51df1ea7-3581-4db3-96d8-bd7fb04d9f21",
   "metadata": {},
   "source": [
    "### Exceptions:\n",
    "It allows you to handle errors gracefully and take corrective actions without stopping the execution of the program. This session will cover the basics of exceptions, including how to use try except else and finally block."
   ]
  },
  {
   "cell_type": "markdown",
   "id": "7fa89854-063c-4349-80bf-495155730e62",
   "metadata": {},
   "source": [
    "Exceptions are the program that distrupts the normal flow of the program. They occur when an error is encountered during program execution.   \n",
    "Common execeptions are:- \n",
    "1. ZeroDivisionError:- divide by zero error  \n",
    "2. FileNotFoundError:- file not found  \n",
    "3. ValueError:- Invalid value  \n",
    "4. TypeError:- Invalid type  "
   ]
  },
  {
   "cell_type": "code",
   "execution_count": 2,
   "id": "f728fb94-1644-4c52-91c4-91ecd6dbe7c6",
   "metadata": {},
   "outputs": [
    {
     "ename": "NameError",
     "evalue": "name 'b' is not defined",
     "output_type": "error",
     "traceback": [
      "\u001b[1;31m---------------------------------------------------------------------------\u001b[0m",
      "\u001b[1;31mNameError\u001b[0m                                 Traceback (most recent call last)",
      "Cell \u001b[1;32mIn[2], line 1\u001b[0m\n\u001b[1;32m----> 1\u001b[0m a \u001b[38;5;241m=\u001b[39m b\n",
      "\u001b[1;31mNameError\u001b[0m: name 'b' is not defined"
     ]
    }
   ],
   "source": [
    "a = b"
   ]
  },
  {
   "cell_type": "markdown",
   "id": "6f2457bb-1b39-49f0-ba7e-c95ab3fba4d7",
   "metadata": {},
   "source": [
    "here exception is raised and telling that there is name error.   \n",
    "so for this we will use try except block (try catch block in other languages)"
   ]
  },
  {
   "cell_type": "markdown",
   "id": "c34e66fd-8952-4dac-ad99-dcf09b5b5df1",
   "metadata": {},
   "source": [
    "### Try Except Block:"
   ]
  },
  {
   "cell_type": "code",
   "execution_count": 4,
   "id": "d1d75fc9-fc8b-4e5f-9178-4582ac36273f",
   "metadata": {},
   "outputs": [
    {
     "name": "stdout",
     "output_type": "stream",
     "text": [
      "The variable is not assigned\n"
     ]
    }
   ],
   "source": [
    "try:       #its the place where exception may rise\n",
    "    a = b\n",
    "except:\n",
    "    print('The variable is not assigned')"
   ]
  },
  {
   "cell_type": "code",
   "execution_count": 5,
   "id": "fca2fe7f-e1eb-43d3-9f7a-cc6607d8efc4",
   "metadata": {},
   "outputs": [
    {
     "name": "stdout",
     "output_type": "stream",
     "text": [
      "name 'b' is not defined\n"
     ]
    }
   ],
   "source": [
    "try:       #its the place where exception may rise\n",
    "    a = b\n",
    "except NameError as e:\n",
    "    print(e)"
   ]
  },
  {
   "cell_type": "code",
   "execution_count": 6,
   "id": "ced8af2c-6096-4785-abf0-cc1ea6f1706b",
   "metadata": {},
   "outputs": [
    {
     "ename": "ZeroDivisionError",
     "evalue": "division by zero",
     "output_type": "error",
     "traceback": [
      "\u001b[1;31m---------------------------------------------------------------------------\u001b[0m",
      "\u001b[1;31mZeroDivisionError\u001b[0m                         Traceback (most recent call last)",
      "Cell \u001b[1;32mIn[6], line 1\u001b[0m\n\u001b[1;32m----> 1\u001b[0m result \u001b[38;5;241m=\u001b[39m \u001b[38;5;241m1\u001b[39m\u001b[38;5;241m/\u001b[39m\u001b[38;5;241m0\u001b[39m\n",
      "\u001b[1;31mZeroDivisionError\u001b[0m: division by zero"
     ]
    }
   ],
   "source": [
    "result = 1/0"
   ]
  },
  {
   "cell_type": "code",
   "execution_count": 8,
   "id": "8b10ba0a-6297-4415-9804-3d070f6526e4",
   "metadata": {},
   "outputs": [
    {
     "name": "stdout",
     "output_type": "stream",
     "text": [
      "division by zero\n",
      "Enter proper denominator\n"
     ]
    }
   ],
   "source": [
    "try:\n",
    "    result = 1/0\n",
    "except ZeroDivisionError as e:\n",
    "    print(e)\n",
    "    print('Enter proper denominator')\n",
    "    "
   ]
  },
  {
   "cell_type": "code",
   "execution_count": 11,
   "id": "de6ce97a-ceb4-43c0-be14-c09177ee74da",
   "metadata": {},
   "outputs": [
    {
     "name": "stdout",
     "output_type": "stream",
     "text": [
      "division by zero\n"
     ]
    }
   ],
   "source": [
    "try:\n",
    "    1/0\n",
    "    a=b\n",
    "except ZeroDivisionError as e:\n",
    "    print(e)\n",
    "except Exception as e1:      #Exception is a class where all exceptions are mentioned.\n",
    "    print(e1)\n",
    "    print('Main excution got caught here.')"
   ]
  },
  {
   "cell_type": "markdown",
   "id": "b3c16e83-7807-4646-b1c6-5f8f54dec0dc",
   "metadata": {},
   "source": [
    "Using Exception as a catch-all can be useful when handling unknown errors, but it's generally better to catch specific exceptions first (like ZeroDivisionError in your case). The generic except Exception: should usually be the last except block to handle any unexpected errors."
   ]
  },
  {
   "cell_type": "code",
   "execution_count": 15,
   "id": "2176da2d-f0cd-4941-b9fd-d5ba6e0f87e7",
   "metadata": {},
   "outputs": [
    {
     "name": "stdin",
     "output_type": "stream",
     "text": [
      "Enter num: c\n"
     ]
    },
    {
     "name": "stdout",
     "output_type": "stream",
     "text": [
      "This is not a valid number.\n"
     ]
    }
   ],
   "source": [
    "try:\n",
    "    num = int(input('Enter num:'))\n",
    "    result = 10/num\n",
    "except ValueError:\n",
    "    print('This is not a valid number.')\n",
    "except ZeroDivisionError:\n",
    "    print('Enter number greater than 0')"
   ]
  },
  {
   "cell_type": "markdown",
   "id": "9b3768d0-f977-4e30-a26b-5f789053f917",
   "metadata": {},
   "source": [
    "### Try Except Else Block:\n",
    "After catching all errors,if we want some block of code must get executed then **Else** part is used.  \n",
    "it will either display result or will show appropriate result."
   ]
  },
  {
   "cell_type": "code",
   "execution_count": 18,
   "id": "916814a5-0ea3-41ee-8217-adf5a2bc6e87",
   "metadata": {},
   "outputs": [
    {
     "name": "stdin",
     "output_type": "stream",
     "text": [
      "Enter num: 2\n"
     ]
    },
    {
     "name": "stdout",
     "output_type": "stream",
     "text": [
      "Result is: 5.0\n"
     ]
    }
   ],
   "source": [
    "try:\n",
    "    num = int(input('Enter num:'))\n",
    "    result = 10/num\n",
    "except ValueError:\n",
    "    print('This is not valid number.')\n",
    "except ZeroDivisionError:\n",
    "    print('Enter number greater than 0')\n",
    "except Exception as e:\n",
    "    print(e)\n",
    "else:\n",
    "    print(f'Result is: {result}')"
   ]
  },
  {
   "cell_type": "markdown",
   "id": "c8d6ee71-f73e-4d45-be83-93105321669d",
   "metadata": {},
   "source": [
    "### Try Except Else Finally:"
   ]
  },
  {
   "cell_type": "code",
   "execution_count": 20,
   "id": "d01353f3-b107-4946-af4e-a367dc321a94",
   "metadata": {},
   "outputs": [
    {
     "name": "stdin",
     "output_type": "stream",
     "text": [
      "Enter number: c\n"
     ]
    },
    {
     "name": "stdout",
     "output_type": "stream",
     "text": [
      "This is not valid number.\n",
      "Excution completed\n"
     ]
    }
   ],
   "source": [
    "try:\n",
    "    num = int(input('Enter number:'))\n",
    "    res = 10/num\n",
    "except ValueError:\n",
    "    print('This is not valid number.')\n",
    "except ZeroDivisionError:\n",
    "    print('Enter number greatere than zero.')\n",
    "except Exception as e:\n",
    "    print(e)\n",
    "else:\n",
    "    print(f'Result is: {res}')\n",
    "finally:\n",
    "    print('Excution completed')"
   ]
  },
  {
   "cell_type": "markdown",
   "id": "27fc4122-3fcf-4fb3-a908-4408c7ac37f2",
   "metadata": {},
   "source": [
    "### File handling and Exception handling:"
   ]
  },
  {
   "cell_type": "code",
   "execution_count": 30,
   "id": "c6aee684-cb25-45e8-9c2e-ba75c917d199",
   "metadata": {},
   "outputs": [
    {
     "name": "stdout",
     "output_type": "stream",
     "text": [
      "name 'b' is not defined\n",
      "File is closed.\n"
     ]
    }
   ],
   "source": [
    "try:\n",
    "    file = open('example1.txt','r')\n",
    "    data = file.read()\n",
    "    a = b\n",
    "    print(data)\n",
    "except FileNotFoundError:\n",
    "    print('File does not exists.')\n",
    "except Exception as e:\n",
    "    print(e)\n",
    "finally:\n",
    "    if 'file' in locals() or not file.closed():\n",
    "        file.close()\n",
    "        print('File is closed.')\n",
    "    "
   ]
  },
  {
   "cell_type": "code",
   "execution_count": null,
   "id": "cfdd22b0-8ad3-45c9-8ffb-89c887cbe55f",
   "metadata": {},
   "outputs": [],
   "source": []
  },
  {
   "cell_type": "code",
   "execution_count": null,
   "id": "4b5a4735-8666-40b8-a6fc-417637c1f600",
   "metadata": {},
   "outputs": [],
   "source": []
  }
 ],
 "metadata": {
  "kernelspec": {
   "display_name": "Python 3 (ipykernel)",
   "language": "python",
   "name": "python3"
  },
  "language_info": {
   "codemirror_mode": {
    "name": "ipython",
    "version": 3
   },
   "file_extension": ".py",
   "mimetype": "text/x-python",
   "name": "python",
   "nbconvert_exporter": "python",
   "pygments_lexer": "ipython3",
   "version": "3.12.7"
  }
 },
 "nbformat": 4,
 "nbformat_minor": 5
}
