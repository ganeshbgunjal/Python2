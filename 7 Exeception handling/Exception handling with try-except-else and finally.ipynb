{
 "cells": [
  {
   "cell_type": "markdown",
   "id": "51df1ea7-3581-4db3-96d8-bd7fb04d9f21",
   "metadata": {},
   "source": [
    "### Exceptions:\n",
    "It allows you to handle errors gracefully and take corrective actions without stopping the execution of the program. This session will cover the basics of exceptions, including how to use try except else and finally block."
   ]
  },
  {
   "cell_type": "markdown",
   "id": "7fa89854-063c-4349-80bf-495155730e62",
   "metadata": {},
   "source": [
    "Exceptions are the program that distrupts the normal flow of the program. They occur when an error is encountered during program execution.   \n",
    "Common execeptions are:- \n",
    "1. ZeroDivisionError:- divide by zero error  \n",
    "2. FileNotFoundError:- file not found  \n",
    "3. ValueError:- Invalid value  \n",
    "4. TypeError:- Invalid type  "
   ]
  },
  {
   "cell_type": "code",
   "execution_count": 2,
   "id": "f728fb94-1644-4c52-91c4-91ecd6dbe7c6",
   "metadata": {},
   "outputs": [
    {
     "ename": "NameError",
     "evalue": "name 'b' is not defined",
     "output_type": "error",
     "traceback": [
      "\u001b[1;31m---------------------------------------------------------------------------\u001b[0m",
      "\u001b[1;31mNameError\u001b[0m                                 Traceback (most recent call last)",
      "Cell \u001b[1;32mIn[2], line 1\u001b[0m\n\u001b[1;32m----> 1\u001b[0m a \u001b[38;5;241m=\u001b[39m b\n",
      "\u001b[1;31mNameError\u001b[0m: name 'b' is not defined"
     ]
    }
   ],
   "source": [
    "a = b"
   ]
  },
  {
   "cell_type": "markdown",
   "id": "6f2457bb-1b39-49f0-ba7e-c95ab3fba4d7",
   "metadata": {},
   "source": [
    "here exception is raised and telling that there is name error.   \n",
    "so for this we will use try except block (try catch block in other languages)"
   ]
  },
  {
   "cell_type": "code",
   "execution_count": 4,
   "id": "d1d75fc9-fc8b-4e5f-9178-4582ac36273f",
   "metadata": {},
   "outputs": [
    {
     "name": "stdout",
     "output_type": "stream",
     "text": [
      "The variable is not assigned\n"
     ]
    }
   ],
   "source": [
    "try:       #its the place where exception may rise\n",
    "    a = b\n",
    "except:\n",
    "    print('The variable is not assigned')"
   ]
  },
  {
   "cell_type": "code",
   "execution_count": 5,
   "id": "fca2fe7f-e1eb-43d3-9f7a-cc6607d8efc4",
   "metadata": {},
   "outputs": [
    {
     "name": "stdout",
     "output_type": "stream",
     "text": [
      "name 'b' is not defined\n"
     ]
    }
   ],
   "source": [
    "try:       #its the place where exception may rise\n",
    "    a = b\n",
    "except NameError as e:\n",
    "    print(e)"
   ]
  },
  {
   "cell_type": "code",
   "execution_count": 6,
   "id": "ced8af2c-6096-4785-abf0-cc1ea6f1706b",
   "metadata": {},
   "outputs": [
    {
     "ename": "ZeroDivisionError",
     "evalue": "division by zero",
     "output_type": "error",
     "traceback": [
      "\u001b[1;31m---------------------------------------------------------------------------\u001b[0m",
      "\u001b[1;31mZeroDivisionError\u001b[0m                         Traceback (most recent call last)",
      "Cell \u001b[1;32mIn[6], line 1\u001b[0m\n\u001b[1;32m----> 1\u001b[0m result \u001b[38;5;241m=\u001b[39m \u001b[38;5;241m1\u001b[39m\u001b[38;5;241m/\u001b[39m\u001b[38;5;241m0\u001b[39m\n",
      "\u001b[1;31mZeroDivisionError\u001b[0m: division by zero"
     ]
    }
   ],
   "source": [
    "result = 1/0"
   ]
  },
  {
   "cell_type": "code",
   "execution_count": 8,
   "id": "8b10ba0a-6297-4415-9804-3d070f6526e4",
   "metadata": {},
   "outputs": [
    {
     "name": "stdout",
     "output_type": "stream",
     "text": [
      "division by zero\n",
      "Enter proper denominator\n"
     ]
    }
   ],
   "source": [
    "try:\n",
    "    result = 1/0\n",
    "except ZeroDivisionError as e:\n",
    "    print(e)\n",
    "    print('Enter proper denominator')\n",
    "    "
   ]
  },
  {
   "cell_type": "code",
   "execution_count": 11,
   "id": "de6ce97a-ceb4-43c0-be14-c09177ee74da",
   "metadata": {},
   "outputs": [
    {
     "name": "stdout",
     "output_type": "stream",
     "text": [
      "division by zero\n"
     ]
    }
   ],
   "source": [
    "try:\n",
    "    1/0\n",
    "    a=b\n",
    "except ZeroDivisionError as e:\n",
    "    print(e)\n",
    "except Exception as e1:      #Exception is a class where all exceptions are mentioned.\n",
    "    print(e1)\n",
    "    print('Main excution got caught here.')"
   ]
  },
  {
   "cell_type": "markdown",
   "id": "b3c16e83-7807-4646-b1c6-5f8f54dec0dc",
   "metadata": {},
   "source": [
    "Using Exception as a catch-all can be useful when handling unknown errors, but it's generally better to catch specific exceptions first (like ZeroDivisionError in your case). The generic except Exception: should usually be the last except block to handle any unexpected errors."
   ]
  },
  {
   "cell_type": "code",
   "execution_count": null,
   "id": "2176da2d-f0cd-4941-b9fd-d5ba6e0f87e7",
   "metadata": {},
   "outputs": [],
   "source": [
    "try:\n",
    "    num = int(input('Enter num:'))\n",
    "    result = 10/num\n",
    "except ValueError:\n",
    "    print('Enter number greatere than 0')\n",
    "except ZeroDivisionError:\n",
    "    print()"
   ]
  }
 ],
 "metadata": {
  "kernelspec": {
   "display_name": "Python 3 (ipykernel)",
   "language": "python",
   "name": "python3"
  },
  "language_info": {
   "codemirror_mode": {
    "name": "ipython",
    "version": 3
   },
   "file_extension": ".py",
   "mimetype": "text/x-python",
   "name": "python",
   "nbconvert_exporter": "python",
   "pygments_lexer": "ipython3",
   "version": "3.12.7"
  }
 },
 "nbformat": 4,
 "nbformat_minor": 5
}
