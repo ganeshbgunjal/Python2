{
 "cells": [
  {
   "cell_type": "markdown",
   "id": "e98e8579-9032-4602-b5be-d88fea1c5337",
   "metadata": {},
   "source": [
    "### Custom Exceptions: (Raise and Throw an exceptions)"
   ]
  },
  {
   "cell_type": "markdown",
   "id": "deae3eb2-63f2-42db-969c-35536862a42b",
   "metadata": {},
   "source": [
    "**Custom exceptions** in Python allow you to create your own error types by defining new exception classes. This is useful when you want to handle specific errors in a meaningful way."
   ]
  },
  {
   "cell_type": "code",
   "execution_count": 1,
   "id": "380ff33e-cbbb-4f9f-8024-40462e683d2d",
   "metadata": {},
   "outputs": [],
   "source": [
    "class Error(Exception):\n",
    "    pass\n",
    "\n",
    "\n",
    "class DobException(Error):\n",
    "    pass"
   ]
  },
  {
   "cell_type": "code",
   "execution_count": null,
   "id": "dd3188d6-bf8d-46a7-a346-7f5013b5ffdd",
   "metadata": {},
   "outputs": [],
   "source": []
  }
 ],
 "metadata": {
  "kernelspec": {
   "display_name": "Python 3 (ipykernel)",
   "language": "python",
   "name": "python3"
  },
  "language_info": {
   "codemirror_mode": {
    "name": "ipython",
    "version": 3
   },
   "file_extension": ".py",
   "mimetype": "text/x-python",
   "name": "python",
   "nbconvert_exporter": "python",
   "pygments_lexer": "ipython3",
   "version": "3.12.7"
  }
 },
 "nbformat": 4,
 "nbformat_minor": 5
}
