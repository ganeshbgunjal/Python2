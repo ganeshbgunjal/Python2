{
 "cells": [
  {
   "cell_type": "markdown",
   "id": "1713e7fc-1e94-4a3a-afab-dab72c7813ab",
   "metadata": {},
   "source": [
    "### Inheritance:\n",
    "**Inheritance** is a core concept in Object-Oriented Programming (OOP) that allows a class (child class) to inherit attributes and methods from another class (parent class). This helps reuse code and create a hierarchy."
   ]
  },
  {
   "cell_type": "markdown",
   "id": "b1aa5ecd-c8c8-49e8-830b-64b09acb1894",
   "metadata": {},
   "source": [
    "**Inheritance** is the fundamental concept in the object oriented programming that allows a class to inherit attributes and methods from another class. This lesson teaches how single and multiple inheritance demonstrating how to create and use them in python."
   ]
  },
  {
   "cell_type": "code",
   "execution_count": null,
   "id": "f7da2297-6253-49ae-b116-b20878baabcb",
   "metadata": {},
   "outputs": [],
   "source": []
  }
 ],
 "metadata": {
  "kernelspec": {
   "display_name": "Python 3 (ipykernel)",
   "language": "python",
   "name": "python3"
  },
  "language_info": {
   "codemirror_mode": {
    "name": "ipython",
    "version": 3
   },
   "file_extension": ".py",
   "mimetype": "text/x-python",
   "name": "python",
   "nbconvert_exporter": "python",
   "pygments_lexer": "ipython3",
   "version": "3.12.7"
  }
 },
 "nbformat": 4,
 "nbformat_minor": 5
}
