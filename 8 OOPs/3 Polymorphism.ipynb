{
 "cells": [
  {
   "cell_type": "code",
   "execution_count": null,
   "id": "34518d52-127a-4002-bd9f-75d6479db337",
   "metadata": {},
   "outputs": [],
   "source": []
  }
 ],
 "metadata": {
  "kernelspec": {
   "display_name": "",
   "name": ""
  },
  "language_info": {
   "name": ""
  }
 },
 "nbformat": 4,
 "nbformat_minor": 5
}
