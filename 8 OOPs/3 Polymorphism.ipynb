{
 "cells": [
  {
   "cell_type": "markdown",
   "id": "3908eb97-1413-460d-8c51-9f37493c3e09",
   "metadata": {},
   "source": [
    "### Polymorphism:"
   ]
  },
  {
   "cell_type": "markdown",
   "id": "3bfb5b59-f3c3-4f1b-8a72-1005593f38c5",
   "metadata": {},
   "source": [
    "**Polymorphism** is core concept in OOPs that allows objects of different classes to be treated as objects of common superclass. It provides a way to perfrom a single action in different forms. Ploymorphism is typically achieved through method overriding and interfaces."
   ]
  },
  {
   "cell_type": "markdown",
   "id": "2d685dde-a91e-40bb-874e-02105a33adba",
   "metadata": {},
   "source": [
    "### Method Overriding:\n",
    "method overriding allows a child class to provide a specific implementation of a method that is already defined in its parent class."
   ]
  },
  {
   "cell_type": "code",
   "execution_count": 3,
   "id": "e09083f5-63ee-4734-ab6c-79176a4b6125",
   "metadata": {},
   "outputs": [],
   "source": [
    "# Base class 1.\n",
    "class Animal:\n",
    "    def speak(self):\n",
    "        return 'Sound of a animal'\n",
    "\n",
    "\n",
    "\n",
    "# Derived class 1.\n",
    "class Dog(Animal):\n",
    "    def speak(self):\n",
    "        return 'bho bho'\n",
    "\n",
    "#derived class 2\n",
    "class Cat(Animal):\n",
    "    def speak(self):\n",
    "        return 'Meow Meow'\n",
    "    "
   ]
  },
  {
   "cell_type": "markdown",
   "id": "8d84a851-4ae1-41c9-b9cf-158e98810db9",
   "metadata": {},
   "source": [
    "in above code **speak method** is overrided. it is showing 3 different forms."
   ]
  },
  {
   "cell_type": "code",
   "execution_count": 5,
   "id": "34385dab-cd55-4343-8193-6aac5d1ff142",
   "metadata": {},
   "outputs": [
    {
     "name": "stdout",
     "output_type": "stream",
     "text": [
      "Dog: bho bho\n",
      "Cat: Meow Meow\n"
     ]
    }
   ],
   "source": [
    "dog = Dog()\n",
    "cat = Cat()\n",
    "print(f'Dog: {dog.speak()}')\n",
    "print(f'Cat: {cat.speak()}')"
   ]
  },
  {
   "cell_type": "markdown",
   "id": "d6bdb619-d3b8-4410-a6cf-db438d4f64a1",
   "metadata": {},
   "source": [
    "This is the polymorphism. here speak method is used as for dog speak and then cat speeak from same Animal base class."
   ]
  },
  {
   "cell_type": "markdown",
   "id": "ab81930e-936e-4544-a378-cffd3765ee6e",
   "metadata": {},
   "source": [
    "### Polymorphism with function and methods:"
   ]
  },
  {
   "cell_type": "code",
   "execution_count": 10,
   "id": "0343a950-8e4a-41a2-ad7c-f7370bf48572",
   "metadata": {},
   "outputs": [
    {
     "name": "stdout",
     "output_type": "stream",
     "text": [
      "The area is: 20\n",
      "The area is: 28.259999999999998\n"
     ]
    }
   ],
   "source": [
    "# Base class\n",
    "class Shape:\n",
    "    def area(self):\n",
    "        return 'The area of a Figure'\n",
    "\n",
    "# Derived class 1\n",
    "class Rectangle(Shape):\n",
    "    def __init__(self,width,height):\n",
    "        self.width=width\n",
    "        self.height=height\n",
    "\n",
    "    def area(self):\n",
    "        return self.width * self.height\n",
    "\n",
    "# Derived class 2\n",
    "class Circle(Shape):\n",
    "    def __init__(self,radius):\n",
    "        self.radius=radius\n",
    "\n",
    "    def area(self):\n",
    "        return 3.14 * self.radius * self.radius\n",
    "    \n",
    "# function that demonstrates the aread:\n",
    "def print_area(shape):\n",
    "    print(f'The area is: {shape.area()}')\n",
    "\n",
    "rectangle = Rectangle(4,5)\n",
    "circle = Circle(3)\n",
    "\n",
    "print_area(rectangle)\n",
    "print_area(circle)"
   ]
  },
  {
   "cell_type": "code",
   "execution_count": null,
   "id": "759c2ae6-bd93-433b-9046-7cf79f47c378",
   "metadata": {},
   "outputs": [],
   "source": []
  }
 ],
 "metadata": {
  "kernelspec": {
   "display_name": "Python 3 (ipykernel)",
   "language": "python",
   "name": "python3"
  },
  "language_info": {
   "codemirror_mode": {
    "name": "ipython",
    "version": 3
   },
   "file_extension": ".py",
   "mimetype": "text/x-python",
   "name": "python",
   "nbconvert_exporter": "python",
   "pygments_lexer": "ipython3",
   "version": "3.12.7"
  }
 },
 "nbformat": 4,
 "nbformat_minor": 5
}
