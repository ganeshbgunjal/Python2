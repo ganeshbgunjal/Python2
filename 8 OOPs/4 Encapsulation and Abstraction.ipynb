{
 "cells": [
  {
   "cell_type": "markdown",
   "id": "db9b64d4-00b0-4eb3-9b1d-f03b9524e56a",
   "metadata": {},
   "source": [
    "### Encapsulation and Abstraction:\n",
    "These are two fundamental principles of oops that helps designing robust, maintainable and reusable code. **Encapsulation** involves building data and methods that operates on the data within a single unit, while **Abstraction** involves hiding complex implementation details and exposing only the necessory features."
   ]
  },
  {
   "cell_type": "code",
   "execution_count": null,
   "id": "fc5dfcb4-6a22-4255-a498-184839f43f41",
   "metadata": {},
   "outputs": [],
   "source": [
    "### Encapsulation:\n",
    "Encapsulation is the concepts of wrapping data(variables) methods(functions) together in a single unit. It restricts direct access to some of the objects components which is a preventing "
   ]
  }
 ],
 "metadata": {
  "kernelspec": {
   "display_name": "Python 3 (ipykernel)",
   "language": "python",
   "name": "python3"
  },
  "language_info": {
   "codemirror_mode": {
    "name": "ipython",
    "version": 3
   },
   "file_extension": ".py",
   "mimetype": "text/x-python",
   "name": "python",
   "nbconvert_exporter": "python",
   "pygments_lexer": "ipython3",
   "version": "3.12.7"
  }
 },
 "nbformat": 4,
 "nbformat_minor": 5
}
