{
 "cells": [
  {
   "cell_type": "markdown",
   "id": "00f71fb2-75ae-4edd-b9a2-c254b3d8146e",
   "metadata": {},
   "source": [
    "### Operator Overloading:\n",
    "It allows you to define the behaviour of operators(+,-,* etc) for custom objects. you can achieve this overriding specific magic methods in your classs."
   ]
  },
  {
   "cell_type": "code",
   "execution_count": 4,
   "id": "5433e0cf-737b-43bd-b7d0-abba29c6b3d2",
   "metadata": {},
   "outputs": [
    {
     "data": {
      "text/plain": [
       "2"
      ]
     },
     "execution_count": 4,
     "metadata": {},
     "output_type": "execute_result"
    }
   ],
   "source": [
    "1+1"
   ]
  },
  {
   "cell_type": "code",
   "execution_count": 5,
   "id": "e120dac4-6a7b-4bc1-97c2-6e5205563841",
   "metadata": {},
   "outputs": [
    {
     "data": {
      "text/plain": [
       "0"
      ]
     },
     "execution_count": 5,
     "metadata": {},
     "output_type": "execute_result"
    }
   ],
   "source": [
    "1-1"
   ]
  },
  {
   "cell_type": "code",
   "execution_count": 6,
   "id": "faeda7d2-f69a-4dc3-b636-6cd6e59664ac",
   "metadata": {},
   "outputs": [
    {
     "data": {
      "text/plain": [
       "True"
      ]
     },
     "execution_count": 6,
     "metadata": {},
     "output_type": "execute_result"
    }
   ],
   "source": [
    "12>5"
   ]
  },
  {
   "cell_type": "markdown",
   "id": "89deded2-ce46-49e7-a68a-6cb8e2a2edd3",
   "metadata": {},
   "source": [
    "##### question is how this shows?"
   ]
  },
  {
   "cell_type": "code",
   "execution_count": 7,
   "id": "aa77d7c0-204f-4edd-8ae9-85848097244c",
   "metadata": {},
   "outputs": [
    {
     "data": {
      "text/plain": [
       "'\\n__add__(self,other) : adds two objects using + operator.\\n__sub__(self,other) : substracts two objects using - operators. \\n__mul__(self,other) : multiplies two objects using * operators. \\n__truediv__(self,other) : Divides two objects using / operators. \\n__eq__(self,other) : checks if two objects are equal using the == sign. \\n__lt__(Self,other) : checks if one object is less than another using < operator \\n'"
      ]
     },
     "execution_count": 7,
     "metadata": {},
     "output_type": "execute_result"
    }
   ],
   "source": [
    "'''\n",
    "__add__(self,other) : adds two objects using + operator.\n",
    "__sub__(self,other) : substracts two objects using - operators. \n",
    "__mul__(self,other) : multiplies two objects using * operators. \n",
    "__truediv__(self,other) : Divides two objects using / operators. \n",
    "__eq__(self,other) : checks if two objects are equal using the == sign. \n",
    "__lt__(Self,other) : checks if one object is less than another using < operator \n",
    "'''"
   ]
  },
  {
   "cell_type": "markdown",
   "id": "c2f9ef65-eb9f-4039-bf4a-0249ebea30ee",
   "metadata": {},
   "source": [
    "#### Mathematical operations for vector.\n",
    "these are custom one."
   ]
  },
  {
   "cell_type": "code",
   "execution_count": 12,
   "id": "691cbe11-5714-41c4-bbe8-de021af8e20a",
   "metadata": {},
   "outputs": [],
   "source": [
    "\n",
    "class Vector:\n",
    "    def __init__(self,x,y):\n",
    "        self.x = x\n",
    "        self.y = y\n",
    "\n",
    "    def __add__(self,other):\n",
    "        return Vector(self.x+other.x,self.y+other.y)\n",
    "        \n",
    "    def __sub__(self,other):\n",
    "        return Vector(self.x-other.x,self.y-other.y)\n",
    "        \n",
    "    def __mul__(self,other):\n",
    "        return Vector(self.x*other.x,self.y*other.y)\n",
    "\n",
    "    def __eq__(self,other):\n",
    "        return Vector(self.x==other.x,self.y==other.y)\n",
    "\n",
    "    def __str__(self):\n",
    "        return f\"Vector({self.x}, {self.y})\"\n",
    "\n",
    "# create vector of the class.\n",
    "v1 = Vector(2,3)\n",
    "v2 = Vector(4,5)\n",
    "\n"
   ]
  },
  {
   "cell_type": "code",
   "execution_count": 13,
   "id": "c58c4702-1eef-4ca7-bb08-413c4cf9774a",
   "metadata": {},
   "outputs": [
    {
     "name": "stdout",
     "output_type": "stream",
     "text": [
      "Vector(6, 8)\n"
     ]
    }
   ],
   "source": [
    "print(v1+v2)"
   ]
  },
  {
   "cell_type": "code",
   "execution_count": 14,
   "id": "f76c4ec6-2d3d-49a2-baf0-d42f6bcb9ccd",
   "metadata": {},
   "outputs": [
    {
     "name": "stdout",
     "output_type": "stream",
     "text": [
      "Vector(-2, -2)\n"
     ]
    }
   ],
   "source": [
    "print(v1-v2)"
   ]
  },
  {
   "cell_type": "code",
   "execution_count": 16,
   "id": "ab8dcc5b-5416-45f4-a1ad-1d14e56d382e",
   "metadata": {},
   "outputs": [
    {
     "name": "stdout",
     "output_type": "stream",
     "text": [
      "Vector(8, 15)\n"
     ]
    }
   ],
   "source": [
    "print(v1*v2)"
   ]
  },
  {
   "cell_type": "code",
   "execution_count": null,
   "id": "c443beb4-292d-4c7f-a855-998a37ca6611",
   "metadata": {},
   "outputs": [],
   "source": [
    "# Complex Number:\n",
    "class ComplexNumber:\n",
    "    def __init__(self, real, imag):\n",
    "        self.real = real\n",
    "        self.imag = imag\n",
    "\n",
    "    def __add__(self, other):\n",
    "        return ComplexNumber(self.real + other.real, self.imag + other.imag)\n",
    "\n",
    "    def __sub__(self, other):\n",
    "        return ComplexNumber(self.real - other.real, self.imag - other.imag)\n",
    "\n",
    "    def __mul__(self, other):\n",
    "        real_part = self.real * other.real - self.imag * other.imag\n",
    "        imag_part = self.real * other.imag + self.imag * other.real\n",
    "        return ComplexNumber(real_part, imag_part)\n",
    "\n",
    "    def __eq__(self, other):\n",
    "        return self.real == other.real and self.imag == other.imag\n",
    "\n",
    "    def __str__(self):\n",
    "        return f\"{self.real} + {self.imag}i\" if self.imag >= 0 else f\"{self.real} - {-self.imag}i\"\n",
    "\n",
    "# Create complex number instances\n",
    "c1 = ComplexNumber(2, 3)\n",
    "c2 = ComplexNumber(1, 4)\n",
    "\n",
    "print(\"Addition:\", c1 + c2)  # Output: 3 + 7i\n",
    "print(\"Subtraction:\", c1 - c2)  # Output: 1 - 1i\n",
    "print(\"Multiplication:\", c1 * c2)  # Output: -10 + 11i\n",
    "print(\"Equality:\", c1 == c2)  # Output: False\n"
   ]
  },
  {
   "cell_type": "code",
   "execution_count": null,
   "id": "67e013ef-c0ad-4ec0-a6f8-b8ccd9e290a3",
   "metadata": {},
   "outputs": [],
   "source": [
    "class ComplexNumber:\n",
    "    def __init__(self,real,imag):\n",
    "        self.real = real\n",
    "        self.imag = imag\n",
    "\n",
    "    def __add__(self,real,imag):\n",
    "        return ComplexNumber(sel)"
   ]
  }
 ],
 "metadata": {
  "kernelspec": {
   "display_name": "Python 3 (ipykernel)",
   "language": "python",
   "name": "python3"
  },
  "language_info": {
   "codemirror_mode": {
    "name": "ipython",
    "version": 3
   },
   "file_extension": ".py",
   "mimetype": "text/x-python",
   "name": "python",
   "nbconvert_exporter": "python",
   "pygments_lexer": "ipython3",
   "version": "3.12.7"
  }
 },
 "nbformat": 4,
 "nbformat_minor": 5
}
