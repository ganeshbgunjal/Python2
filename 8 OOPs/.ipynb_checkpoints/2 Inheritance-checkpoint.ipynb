{
 "cells": [
  {
   "cell_type": "markdown",
   "id": "1713e7fc-1e94-4a3a-afab-dab72c7813ab",
   "metadata": {},
   "source": [
    "### Inheritance:\n",
    "**Inheritance** is a core concept in Object-Oriented Programming (OOP) that allows a class (child class) to inherit attributes and methods from another class (parent class). This helps reuse code and create a hierarchy."
   ]
  },
  {
   "cell_type": "code",
   "execution_count": null,
   "id": "d124abe7-d6b8-488f-b34a-6f79ccd6dc90",
   "metadata": {},
   "outputs": [],
   "source": []
  }
 ],
 "metadata": {
  "kernelspec": {
   "display_name": "Python 3 (ipykernel)",
   "language": "python",
   "name": "python3"
  },
  "language_info": {
   "codemirror_mode": {
    "name": "ipython",
    "version": 3
   },
   "file_extension": ".py",
   "mimetype": "text/x-python",
   "name": "python",
   "nbconvert_exporter": "python",
   "pygments_lexer": "ipython3",
   "version": "3.12.7"
  }
 },
 "nbformat": 4,
 "nbformat_minor": 5
}
