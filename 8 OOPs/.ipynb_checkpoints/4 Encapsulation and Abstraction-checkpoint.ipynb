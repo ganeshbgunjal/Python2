{
 "cells": [
  {
   "cell_type": "markdown",
   "id": "db9b64d4-00b0-4eb3-9b1d-f03b9524e56a",
   "metadata": {},
   "source": [
    "### Encapsulation and Abstraction:\n",
    "These are two fundamental principles of oops that helps designing robust, maintainable and reusable code. **Encapsulation** involves building data and methods that operates on the data within a single unit, while **Abstraction** involves hiding complex implementation details and exposing only the necessory features."
   ]
  },
  {
   "cell_type": "markdown",
   "id": "34639941-66a4-458f-b618-2a6c8db28093",
   "metadata": {},
   "source": [
    "### Encapsulation:\n",
    "Encapsulation is the concepts of wrapping **data(variables) and methods(functions)** together in a single unit. It restricts direct access to some of the objects components which is a preventing accidental interference and misuse of the data."
   ]
  },
  {
   "cell_type": "markdown",
   "id": "1c2fc2cd-443b-4e8f-9162-b4df6e048b86",
   "metadata": {},
   "source": [
    "#### Encapsulation with Getter and setter method:\n",
    "#### Public private and Protected variables:"
   ]
  },
  {
   "cell_type": "code",
   "execution_count": 10,
   "id": "e3350618-6969-41f7-baa6-053818769cd8",
   "metadata": {},
   "outputs": [
    {
     "name": "stdout",
     "output_type": "stream",
     "text": [
      "34\n",
      "Ganesh\n"
     ]
    }
   ],
   "source": [
    "class Person:\n",
    "    def __init__(self,name,age):\n",
    "        self.name=name                #this is public variable as we can use it in whole code/outside of this class \n",
    "        self.age=age              #this is public variable as we can use it in whole code/outside of this class\n",
    "\n",
    "    def get_name(self):\n",
    "        return self.name\n",
    "\n",
    "person =Person('Ganesh',34)\n",
    "print(person.age)\n",
    "print(person.get_name())"
   ]
  },
  {
   "cell_type": "code",
   "execution_count": 3,
   "id": "983e2035-231b-4b9f-8b93-af054d957697",
   "metadata": {},
   "outputs": [
    {
     "data": {
      "text/plain": [
       "['__class__',\n",
       " '__delattr__',\n",
       " '__dict__',\n",
       " '__dir__',\n",
       " '__doc__',\n",
       " '__eq__',\n",
       " '__format__',\n",
       " '__ge__',\n",
       " '__getattribute__',\n",
       " '__getstate__',\n",
       " '__gt__',\n",
       " '__hash__',\n",
       " '__init__',\n",
       " '__init_subclass__',\n",
       " '__le__',\n",
       " '__lt__',\n",
       " '__module__',\n",
       " '__ne__',\n",
       " '__new__',\n",
       " '__reduce__',\n",
       " '__reduce_ex__',\n",
       " '__repr__',\n",
       " '__setattr__',\n",
       " '__sizeof__',\n",
       " '__str__',\n",
       " '__subclasshook__',\n",
       " '__weakref__',\n",
       " 'age',\n",
       " 'name']"
      ]
     },
     "execution_count": 3,
     "metadata": {},
     "output_type": "execute_result"
    }
   ],
   "source": [
    "dir(person)    #all this methods that can be use with this class."
   ]
  },
  {
   "cell_type": "markdown",
   "id": "cff4e9ac-a9fb-4c54-b6a5-96fa8fe0a4a9",
   "metadata": {},
   "source": [
    "### Private variables/ access specifiers:"
   ]
  },
  {
   "cell_type": "code",
   "execution_count": 23,
   "id": "1dc37c35-f270-4cff-a1f5-2c2f3a4060ad",
   "metadata": {},
   "outputs": [],
   "source": [
    "class Person:\n",
    "    def __init__(self,name,age,gender):\n",
    "        self.__name = name       #This is private variable.\n",
    "        self.__age = age          #This is private variable.\n",
    "        self.gender = gender\n",
    "def get_name(self):\n",
    "    return self.__name\n"
   ]
  },
  {
   "cell_type": "code",
   "execution_count": 25,
   "id": "d5c5c7f1-f3c7-4390-bbf8-43313989d0b7",
   "metadata": {},
   "outputs": [
    {
     "ename": "AttributeError",
     "evalue": "'Person' object has no attribute '__name'",
     "output_type": "error",
     "traceback": [
      "\u001b[1;31m---------------------------------------------------------------------------\u001b[0m",
      "\u001b[1;31mAttributeError\u001b[0m                            Traceback (most recent call last)",
      "Cell \u001b[1;32mIn[25], line 2\u001b[0m\n\u001b[0;32m      1\u001b[0m person \u001b[38;5;241m=\u001b[39m Person(\u001b[38;5;124m'\u001b[39m\u001b[38;5;124mganesh\u001b[39m\u001b[38;5;124m'\u001b[39m,\u001b[38;5;241m34\u001b[39m,\u001b[38;5;124m'\u001b[39m\u001b[38;5;124mmale\u001b[39m\u001b[38;5;124m'\u001b[39m)\n\u001b[1;32m----> 2\u001b[0m get_name(person)\n",
      "Cell \u001b[1;32mIn[23], line 7\u001b[0m, in \u001b[0;36mget_name\u001b[1;34m(self)\u001b[0m\n\u001b[0;32m      6\u001b[0m \u001b[38;5;28;01mdef\u001b[39;00m \u001b[38;5;21mget_name\u001b[39m(\u001b[38;5;28mself\u001b[39m):\n\u001b[1;32m----> 7\u001b[0m     \u001b[38;5;28;01mreturn\u001b[39;00m \u001b[38;5;28mself\u001b[39m\u001b[38;5;241m.\u001b[39m__name\n",
      "\u001b[1;31mAttributeError\u001b[0m: 'Person' object has no attribute '__name'"
     ]
    }
   ],
   "source": [
    "person = Person('ganesh',34,'male')\n",
    "get_name(person)   #showing error because name is private variable. not accessible outside class."
   ]
  },
  {
   "cell_type": "code",
   "execution_count": 22,
   "id": "b8c3aaf5-57bb-42e6-aa78-e81defe64680",
   "metadata": {},
   "outputs": [
    {
     "data": {
      "text/plain": [
       "['_Person__age',\n",
       " '_Person__name',\n",
       " '__class__',\n",
       " '__delattr__',\n",
       " '__dict__',\n",
       " '__dir__',\n",
       " '__doc__',\n",
       " '__eq__',\n",
       " '__format__',\n",
       " '__ge__',\n",
       " '__getattribute__',\n",
       " '__getstate__',\n",
       " '__gt__',\n",
       " '__hash__',\n",
       " '__init__',\n",
       " '__init_subclass__',\n",
       " '__le__',\n",
       " '__lt__',\n",
       " '__module__',\n",
       " '__ne__',\n",
       " '__new__',\n",
       " '__reduce__',\n",
       " '__reduce_ex__',\n",
       " '__repr__',\n",
       " '__setattr__',\n",
       " '__sizeof__',\n",
       " '__str__',\n",
       " '__subclasshook__',\n",
       " '__weakref__',\n",
       " 'gender',\n",
       " 'get_name']"
      ]
     },
     "execution_count": 22,
     "metadata": {},
     "output_type": "execute_result"
    }
   ],
   "source": [
    "dir(person)     #gender is public variable. and name and age are private variables. \n",
    "# they displayed like '_Person__age', '_Person__name' this."
   ]
  },
  {
   "cell_type": "code",
   "execution_count": null,
   "id": "1dd9b769-9a95-4c28-aa67-7fdcdcf474d7",
   "metadata": {},
   "outputs": [],
   "source": []
  }
 ],
 "metadata": {
  "kernelspec": {
   "display_name": "Python 3 (ipykernel)",
   "language": "python",
   "name": "python3"
  },
  "language_info": {
   "codemirror_mode": {
    "name": "ipython",
    "version": 3
   },
   "file_extension": ".py",
   "mimetype": "text/x-python",
   "name": "python",
   "nbconvert_exporter": "python",
   "pygments_lexer": "ipython3",
   "version": "3.12.7"
  }
 },
 "nbformat": 4,
 "nbformat_minor": 5
}
