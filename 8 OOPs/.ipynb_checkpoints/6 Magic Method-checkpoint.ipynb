{
 "cells": [
  {
   "cell_type": "markdown",
   "id": "b0915725-350c-4fd9-9bab-e12b5c74f2b6",
   "metadata": {},
   "source": [
    "### Magic Methods:"
   ]
  },
  {
   "cell_type": "markdown",
   "id": "63bf3935-da26-44a7-8fcb-fdc217849fe1",
   "metadata": {},
   "source": [
    "**Magic methods** in python also known as **Dunder methods.** means double underscore methods.are special methods that starts and end with double underscore. This methods unable you define the behaviour of a objects for built-in operations such as arithmatic operations, comparisons and more."
   ]
  },
  {
   "cell_type": "code",
   "execution_count": null,
   "id": "2ef9b886-fd9a-43ee-b4e5-2e03257fa5a6",
   "metadata": {},
   "outputs": [],
   "source": []
  }
 ],
 "metadata": {
  "kernelspec": {
   "display_name": "Python 3 (ipykernel)",
   "language": "python",
   "name": "python3"
  },
  "language_info": {
   "codemirror_mode": {
    "name": "ipython",
    "version": 3
   },
   "file_extension": ".py",
   "mimetype": "text/x-python",
   "name": "python",
   "nbconvert_exporter": "python",
   "pygments_lexer": "ipython3",
   "version": "3.12.7"
  }
 },
 "nbformat": 4,
 "nbformat_minor": 5
}
