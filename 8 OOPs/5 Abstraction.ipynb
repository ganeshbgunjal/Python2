{
 "cells": [
  {
   "cell_type": "code",
   "execution_count": null,
   "id": "cd15aa3e-d6ed-4274-a27d-6dce80e0870a",
   "metadata": {},
   "outputs": [],
   "source": []
  }
 ],
 "metadata": {
  "kernelspec": {
   "display_name": "",
   "name": ""
  },
  "language_info": {
   "name": ""
  }
 },
 "nbformat": 4,
 "nbformat_minor": 5
}
