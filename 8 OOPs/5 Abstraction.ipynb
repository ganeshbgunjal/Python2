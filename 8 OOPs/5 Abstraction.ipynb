{
 "cells": [
  {
   "cell_type": "markdown",
   "id": "53229af8-124c-4ec7-aa7a-afa99b128d53",
   "metadata": {},
   "source": [
    "### Abstraction:\n",
    "**Abstraction** is a concept of hiding the complex implementation details and showing only the necessory features of an objects. this helps in reducing programming complexicity and effors. "
   ]
  },
  {
   "cell_type": "code",
   "execution_count": 1,
   "id": "34c4f571-10e3-4120-85ff-67a12e65ba97",
   "metadata": {},
   "outputs": [],
   "source": [
    "from abc import ABC"
   ]
  },
  {
   "cell_type": "code",
   "execution_count": null,
   "id": "9a2e05c6-b5a7-49d4-a6ee-4fb9f4a83551",
   "metadata": {},
   "outputs": [],
   "source": []
  }
 ],
 "metadata": {
  "kernelspec": {
   "display_name": "Python 3 (ipykernel)",
   "language": "python",
   "name": "python3"
  },
  "language_info": {
   "codemirror_mode": {
    "name": "ipython",
    "version": 3
   },
   "file_extension": ".py",
   "mimetype": "text/x-python",
   "name": "python",
   "nbconvert_exporter": "python",
   "pygments_lexer": "ipython3",
   "version": "3.12.7"
  }
 },
 "nbformat": 4,
 "nbformat_minor": 5
}
