{
 "cells": [
  {
   "cell_type": "markdown",
   "id": "ceb3d4e1-607a-4d35-a325-1f9005e53672",
   "metadata": {},
   "source": [
    "### OOPs:\n",
    "**Objects Oriented Programming.**  \n",
    "it uses 'objects' to design computer program or any application. this lesson covers basics of creating classes and objects, including instance of variables. "
   ]
  },
  {
   "cell_type": "markdown",
   "id": "58a51eca-9ede-4a1a-9906-9cd37fecfb2f",
   "metadata": {},
   "source": [
    "any project we develope, it need this programming.  \n",
    "it increases reusability of code.  \n",
    "we develope application very efficiently."
   ]
  },
  {
   "cell_type": "markdown",
   "id": "7ffb9808-f3eb-48ac-b7a5-55808fa78fab",
   "metadata": {},
   "source": [
    "### Class:\n",
    "Its a blue print for creating objects, attributes and methods.\n"
   ]
  },
  {
   "cell_type": "code",
   "execution_count": 1,
   "id": "576b81c8-db28-4de4-b580-eaadea3b2ec9",
   "metadata": {},
   "outputs": [],
   "source": [
    "class Car:\n",
    "    pass\n",
    "\n",
    "audi = Car()\n",
    "bmw = Car()"
   ]
  },
  {
   "cell_type": "code",
   "execution_count": 2,
   "id": "9e9d82d9-68b2-47f3-bd25-a673a7a1f9d7",
   "metadata": {},
   "outputs": [
    {
     "name": "stdout",
     "output_type": "stream",
     "text": [
      "<class '__main__.Car'>\n"
     ]
    }
   ],
   "source": [
    "print(type(audi))"
   ]
  },
  {
   "cell_type": "code",
   "execution_count": 4,
   "id": "ab040ae7-126c-485f-a5bd-f674d1e3063f",
   "metadata": {},
   "outputs": [
    {
     "name": "stdout",
     "output_type": "stream",
     "text": [
      "<__main__.Car object at 0x00000220B8FE3440>\n",
      "<__main__.Car object at 0x00000220B8FE3170>\n"
     ]
    }
   ],
   "source": [
    "print(audi)\n",
    "print(bmw)    #these are car objects aat this specific memory locations."
   ]
  },
  {
   "cell_type": "code",
   "execution_count": null,
   "id": "ce1438bd-f0b1-4ff7-93a5-77025bc54c48",
   "metadata": {},
   "outputs": [],
   "source": []
  }
 ],
 "metadata": {
  "kernelspec": {
   "display_name": "Python 3 (ipykernel)",
   "language": "python",
   "name": "python3"
  },
  "language_info": {
   "codemirror_mode": {
    "name": "ipython",
    "version": 3
   },
   "file_extension": ".py",
   "mimetype": "text/x-python",
   "name": "python",
   "nbconvert_exporter": "python",
   "pygments_lexer": "ipython3",
   "version": "3.12.7"
  }
 },
 "nbformat": 4,
 "nbformat_minor": 5
}
