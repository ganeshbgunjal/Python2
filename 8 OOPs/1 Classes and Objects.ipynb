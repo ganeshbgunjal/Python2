{
 "cells": [
  {
   "cell_type": "markdown",
   "id": "ceb3d4e1-607a-4d35-a325-1f9005e53672",
   "metadata": {},
   "source": [
    "### OOPs:\n",
    "**Objects Oriented Programming.**  \n",
    "it uses 'objects' to design computer program or any application. this lesson covers basics of creating classes and objects, including instance of variables. "
   ]
  },
  {
   "cell_type": "markdown",
   "id": "58a51eca-9ede-4a1a-9906-9cd37fecfb2f",
   "metadata": {},
   "source": [
    "any project we develope, it need this programming.  \n",
    "it increases reusability of code.  \n",
    "we develope application very efficiently."
   ]
  },
  {
   "cell_type": "markdown",
   "id": "7ffb9808-f3eb-48ac-b7a5-55808fa78fab",
   "metadata": {},
   "source": [
    "### Class:\n",
    "Its a blue print for creating objects, attributes and methods.\n"
   ]
  },
  {
   "cell_type": "code",
   "execution_count": 1,
   "id": "576b81c8-db28-4de4-b580-eaadea3b2ec9",
   "metadata": {},
   "outputs": [],
   "source": [
    "class Car:\n",
    "    pass\n",
    "\n",
    "audi = Car()\n",
    "bmw = Car()"
   ]
  },
  {
   "cell_type": "code",
   "execution_count": 2,
   "id": "9e9d82d9-68b2-47f3-bd25-a673a7a1f9d7",
   "metadata": {},
   "outputs": [
    {
     "name": "stdout",
     "output_type": "stream",
     "text": [
      "<class '__main__.Car'>\n"
     ]
    }
   ],
   "source": [
    "print(type(audi))"
   ]
  },
  {
   "cell_type": "code",
   "execution_count": 4,
   "id": "ab040ae7-126c-485f-a5bd-f674d1e3063f",
   "metadata": {},
   "outputs": [
    {
     "name": "stdout",
     "output_type": "stream",
     "text": [
      "<__main__.Car object at 0x00000220B8FE3440>\n",
      "<__main__.Car object at 0x00000220B8FE3170>\n"
     ]
    }
   ],
   "source": [
    "print(audi)\n",
    "print(bmw)    #these are car objects aat this specific memory locations."
   ]
  },
  {
   "cell_type": "code",
   "execution_count": 5,
   "id": "6978fe92-147a-478b-8be9-4c570b1aaa98",
   "metadata": {},
   "outputs": [
    {
     "name": "stdout",
     "output_type": "stream",
     "text": [
      "4\n"
     ]
    }
   ],
   "source": [
    "audi.windows = 4\n",
    "print(audi.windows)   This is one method to show instance variable but this is not appropriate method to write."
   ]
  },
  {
   "cell_type": "markdown",
   "id": "03d48581-7e9d-407d-b909-a3c2218d0ca5",
   "metadata": {},
   "source": [
    "### Instance variable and Methods:"
   ]
  },
  {
   "cell_type": "code",
   "execution_count": 6,
   "id": "a8a0d89e-2c42-463d-86a7-1c47686f5955",
   "metadata": {},
   "outputs": [],
   "source": [
    "class Dog:\n",
    "    # constructor:   __init__ is called as constructor or entry point of class.\n",
    "    def __init__(self,name,age):\n",
    "        self.name = name     #this is called instance variable. this are the properties that talks about the dog.\n",
    "        self.age = age        #this is called instance variable.\n",
    "    "
   ]
  },
  {
   "cell_type": "code",
   "execution_count": 7,
   "id": "eccb14bf-db55-471b-9e10-4614cb0eeaa1",
   "metadata": {},
   "outputs": [],
   "source": [
    "# creating object.\n",
    "dog1 = Dog('Buddy',3)"
   ]
  },
  {
   "cell_type": "code",
   "execution_count": 10,
   "id": "119132ec-7d15-4a34-81be-199f8208243b",
   "metadata": {},
   "outputs": [
    {
     "name": "stdout",
     "output_type": "stream",
     "text": [
      "3\n",
      "Buddy\n"
     ]
    }
   ],
   "source": [
    "print(dog1.age)\n",
    "print(dog1.name)\n"
   ]
  },
  {
   "cell_type": "code",
   "execution_count": 11,
   "id": "00dc1c1b-7f10-47e7-b1d1-811573f77feb",
   "metadata": {},
   "outputs": [
    {
     "name": "stdout",
     "output_type": "stream",
     "text": [
      "lyka\n",
      "6\n"
     ]
    }
   ],
   "source": [
    "dog2 = Dog('lyka',6)\n",
    "print(dog2.name)\n",
    "print(dog2.age)"
   ]
  },
  {
   "cell_type": "markdown",
   "id": "ae3a69a8-d3eb-4422-aa5f-71db9dd7d501",
   "metadata": {},
   "source": [
    "### Define a class with instance method:"
   ]
  },
  {
   "cell_type": "code",
   "execution_count": 12,
   "id": "310af4fd-9471-428f-a43d-70e19c7f61f8",
   "metadata": {},
   "outputs": [],
   "source": [
    "class Dog:\n",
    "    def __init__(self,name,age):\n",
    "        self.name = name\n",
    "        self.age = age\n",
    "\n",
    "    def bark(self):   # duw to self, we can use instance variable here.\n",
    "        print(f'{self.name} barks like bho bho')"
   ]
  },
  {
   "cell_type": "code",
   "execution_count": 13,
   "id": "c1d63c92-1bc2-44de-b407-d0af659408b0",
   "metadata": {},
   "outputs": [
    {
     "name": "stdout",
     "output_type": "stream",
     "text": [
      "Buddy barks like bho bho\n"
     ]
    }
   ],
   "source": [
    "dog1 = Dog('Buddy',3)\n",
    "dog1.bark()"
   ]
  },
  {
   "cell_type": "code",
   "execution_count": null,
   "id": "77254225-abc8-460b-ac74-93edf61b4f6a",
   "metadata": {},
   "outputs": [],
   "source": [
    "dog2 =Dog('bibtya')"
   ]
  }
 ],
 "metadata": {
  "kernelspec": {
   "display_name": "Python 3 (ipykernel)",
   "language": "python",
   "name": "python3"
  },
  "language_info": {
   "codemirror_mode": {
    "name": "ipython",
    "version": 3
   },
   "file_extension": ".py",
   "mimetype": "text/x-python",
   "name": "python",
   "nbconvert_exporter": "python",
   "pygments_lexer": "ipython3",
   "version": "3.12.7"
  }
 },
 "nbformat": 4,
 "nbformat_minor": 5
}
