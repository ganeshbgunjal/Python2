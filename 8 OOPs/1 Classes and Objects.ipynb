{
 "cells": [
  {
   "cell_type": "markdown",
   "id": "ceb3d4e1-607a-4d35-a325-1f9005e53672",
   "metadata": {},
   "source": [
    "### OOPs:\n",
    "**Objects Oriented Programming.**  \n",
    "it uses 'objects' to design computer program or any application. this lesson covers basics of creating classes and objects, including instance of variables. "
   ]
  },
  {
   "cell_type": "markdown",
   "id": "58a51eca-9ede-4a1a-9906-9cd37fecfb2f",
   "metadata": {},
   "source": [
    "any project we develope, it need this programming.  \n",
    "it increases reusability of "
   ]
  },
  {
   "cell_type": "code",
   "execution_count": null,
   "id": "bf98df7d-bc45-41ef-92e0-0ade3d785ce9",
   "metadata": {},
   "outputs": [],
   "source": []
  }
 ],
 "metadata": {
  "kernelspec": {
   "display_name": "Python 3 (ipykernel)",
   "language": "python",
   "name": "python3"
  },
  "language_info": {
   "codemirror_mode": {
    "name": "ipython",
    "version": 3
   },
   "file_extension": ".py",
   "mimetype": "text/x-python",
   "name": "python",
   "nbconvert_exporter": "python",
   "pygments_lexer": "ipython3",
   "version": "3.12.7"
  }
 },
 "nbformat": 4,
 "nbformat_minor": 5
}
