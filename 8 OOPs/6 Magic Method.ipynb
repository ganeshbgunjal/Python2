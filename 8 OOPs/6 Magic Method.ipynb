{
 "cells": [
  {
   "cell_type": "markdown",
   "id": "b0915725-350c-4fd9-9bab-e12b5c74f2b6",
   "metadata": {},
   "source": [
    "### Magic Methods:"
   ]
  },
  {
   "cell_type": "code",
   "execution_count": null,
   "id": "40eb4f83-8569-417e-9eb2-fd22898b6d40",
   "metadata": {},
   "outputs": [],
   "source": []
  }
 ],
 "metadata": {
  "kernelspec": {
   "display_name": "Python 3 (ipykernel)",
   "language": "python",
   "name": "python3"
  },
  "language_info": {
   "codemirror_mode": {
    "name": "ipython",
    "version": 3
   },
   "file_extension": ".py",
   "mimetype": "text/x-python",
   "name": "python",
   "nbconvert_exporter": "python",
   "pygments_lexer": "ipython3",
   "version": "3.12.7"
  }
 },
 "nbformat": 4,
 "nbformat_minor": 5
}
