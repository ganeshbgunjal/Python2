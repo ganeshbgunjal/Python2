{
 "cells": [
  {
   "cell_type": "markdown",
   "id": "2de137eb-49c0-45be-ad41-c823da9a3be0",
   "metadata": {},
   "source": [
    "## **Tuples:**  \n",
    "1. Tuples are ordered collection of data.\n",
    "2. they are immutable. once they asssign, they can not be changed."
   ]
  },
  {
   "cell_type": "code",
   "execution_count": 1,
   "id": "0ed63ec7-82e3-413b-b17a-6a953830361a",
   "metadata": {},
   "outputs": [
    {
     "name": "stdout",
     "output_type": "stream",
     "text": [
      "()\n",
      "<class 'tuple'>\n"
     ]
    }
   ],
   "source": [
    "tup = ()\n",
    "print(tup)\n",
    "print(type(tup))"
   ]
  },
  {
   "cell_type": "code",
   "execution_count": 3,
   "id": "b25c2fdc-ae88-4ebf-9793-c74bdbf79b8c",
   "metadata": {},
   "outputs": [
    {
     "name": "stdout",
     "output_type": "stream",
     "text": [
      "<class 'tuple'>\n"
     ]
    }
   ],
   "source": [
    "tup1 = tuple()   #another way of creating tuple.\n",
    "print(type(tup1))"
   ]
  },
  {
   "cell_type": "code",
   "execution_count": 4,
   "id": "77fd99b3-34c6-4b3a-804d-086a3bd11927",
   "metadata": {},
   "outputs": [
    {
     "name": "stdout",
     "output_type": "stream",
     "text": [
      "<class 'tuple'>\n"
     ]
    }
   ],
   "source": [
    "numbers = tuple([1,2,3,4,5,6,7,8])\n",
    "print(type(numbers))"
   ]
  },
  {
   "cell_type": "code",
   "execution_count": 5,
   "id": "41f0509b-b54d-4730-b965-37fbd7583f82",
   "metadata": {},
   "outputs": [
    {
     "name": "stdout",
     "output_type": "stream",
     "text": [
      "(1, 2, 3, 4, 5, 6, 7, 8)\n"
     ]
    }
   ],
   "source": [
    "print(numbers)"
   ]
  },
  {
   "cell_type": "code",
   "execution_count": 6,
   "id": "dde02010-a856-4269-bc95-ad3a375444ff",
   "metadata": {},
   "outputs": [
    {
     "name": "stdout",
     "output_type": "stream",
     "text": [
      "1\n"
     ]
    }
   ],
   "source": [
    "print(numbers[0])"
   ]
  },
  {
   "cell_type": "code",
   "execution_count": 7,
   "id": "74d3a1db-1250-4d19-b140-7c5dd5d97fef",
   "metadata": {},
   "outputs": [
    {
     "name": "stdout",
     "output_type": "stream",
     "text": [
      "4\n"
     ]
    }
   ],
   "source": [
    "print(numbers[3])"
   ]
  },
  {
   "cell_type": "code",
   "execution_count": 8,
   "id": "6f3dec6c-3d75-48bf-9d3b-c8d8da7c4a7f",
   "metadata": {},
   "outputs": [],
   "source": [
    "mixedd_tuple = (1,1.1,'ganesh',True)"
   ]
  },
  {
   "cell_type": "code",
   "execution_count": 9,
   "id": "8535be48-b031-404d-8868-ac86d4b92751",
   "metadata": {},
   "outputs": [
    {
     "name": "stdout",
     "output_type": "stream",
     "text": [
      "(1, 1.1, 'ganesh', True)\n"
     ]
    }
   ],
   "source": [
    "print(mixedd_tuple)"
   ]
  },
  {
   "cell_type": "code",
   "execution_count": 10,
   "id": "5c11f15a-0d0b-4f73-ac32-a02457983b17",
   "metadata": {},
   "outputs": [
    {
     "name": "stdout",
     "output_type": "stream",
     "text": [
      "ganesh\n"
     ]
    }
   ],
   "source": [
    "print(mixedd_tuple[2])"
   ]
  },
  {
   "cell_type": "code",
   "execution_count": 12,
   "id": "7cba9097-dc21-4b7e-a0b8-5468534da96a",
   "metadata": {},
   "outputs": [
    {
     "ename": "TypeError",
     "evalue": "'tuple' object does not support item assignment",
     "output_type": "error",
     "traceback": [
      "\u001b[1;31m---------------------------------------------------------------------------\u001b[0m",
      "\u001b[1;31mTypeError\u001b[0m                                 Traceback (most recent call last)",
      "Cell \u001b[1;32mIn[12], line 1\u001b[0m\n\u001b[1;32m----> 1\u001b[0m mixedd_tuple[\u001b[38;5;241m2\u001b[39m] \u001b[38;5;241m=\u001b[39m \u001b[38;5;124m\"\u001b[39m\u001b[38;5;124mGanesh\u001b[39m\u001b[38;5;124m\"\u001b[39m\n",
      "\u001b[1;31mTypeError\u001b[0m: 'tuple' object does not support item assignment"
     ]
    }
   ],
   "source": [
    "mixedd_tuple[2] = \"Ganesh\"  #tuples are immutable."
   ]
  },
  {
   "cell_type": "code",
   "execution_count": 13,
   "id": "d1c3f2c0-f358-42d8-84a3-5c787d60c1f5",
   "metadata": {},
   "outputs": [
    {
     "data": {
      "text/plain": [
       "(2, 3, 4, 5)"
      ]
     },
     "execution_count": 13,
     "metadata": {},
     "output_type": "execute_result"
    }
   ],
   "source": [
    "numbers[1:5]"
   ]
  },
  {
   "cell_type": "code",
   "execution_count": 15,
   "id": "c46a5345-6cd1-43d4-8065-d7b4ac0d704a",
   "metadata": {},
   "outputs": [
    {
     "data": {
      "text/plain": [
       "8"
      ]
     },
     "execution_count": 15,
     "metadata": {},
     "output_type": "execute_result"
    }
   ],
   "source": [
    "numbers[-1]   #last number"
   ]
  },
  {
   "cell_type": "code",
   "execution_count": 16,
   "id": "502be1ca-82d5-4ade-9c71-9f7891abe6e0",
   "metadata": {},
   "outputs": [
    {
     "data": {
      "text/plain": [
       "(8, 7, 6, 5, 4, 3, 2, 1)"
      ]
     },
     "execution_count": 16,
     "metadata": {},
     "output_type": "execute_result"
    }
   ],
   "source": [
    "numbers[::-1]"
   ]
  },
  {
   "cell_type": "code",
   "execution_count": 17,
   "id": "77599c6f-4f3c-4cfa-9799-f66c212d49c0",
   "metadata": {},
   "outputs": [],
   "source": [
    "concate_tuple = numbers + mixedd_tuple"
   ]
  },
  {
   "cell_type": "code",
   "execution_count": 18,
   "id": "a5ad31af-1b83-4f71-8c36-1525f364b81a",
   "metadata": {},
   "outputs": [
    {
     "name": "stdout",
     "output_type": "stream",
     "text": [
      "(1, 2, 3, 4, 5, 6, 7, 8, 1, 1.1, 'ganesh', True)\n"
     ]
    }
   ],
   "source": [
    "print(concate_tuple)"
   ]
  },
  {
   "cell_type": "code",
   "execution_count": 20,
   "id": "1c85b9a0-0d9c-413a-bcb4-570e7a862fbd",
   "metadata": {},
   "outputs": [
    {
     "data": {
      "text/plain": [
       "(1, 1.1, 'ganesh', True, 1, 1.1, 'ganesh', True, 1, 1.1, 'ganesh', True)"
      ]
     },
     "execution_count": 20,
     "metadata": {},
     "output_type": "execute_result"
    }
   ],
   "source": [
    "mixedd_tuple * 3   #it will repeat 3 times."
   ]
  },
  {
   "cell_type": "markdown",
   "id": "84bdaf80-c2e2-46be-80d1-9118eed4cf70",
   "metadata": {},
   "source": [
    "### Immutable nature of tuple:- \n",
    "1. tuples are immutable means once they assign any value, that can not changed.\n",
    "2. lists are mutable.\n",
    "3. we can only access that value but can change."
   ]
  },
  {
   "cell_type": "code",
   "execution_count": 24,
   "id": "f0da7401-0365-466b-af06-8281dee69da6",
   "metadata": {},
   "outputs": [],
   "source": [
    "numbers = (1,1,2,2,1, 2, 3, 4, 5, 6, 7, 8)"
   ]
  },
  {
   "cell_type": "code",
   "execution_count": 26,
   "id": "ed016eba-f618-4411-af87-f8c0d8e31b5b",
   "metadata": {},
   "outputs": [
    {
     "data": {
      "text/plain": [
       "3"
      ]
     },
     "execution_count": 26,
     "metadata": {},
     "output_type": "execute_result"
    }
   ],
   "source": [
    "numbers.count(2)"
   ]
  },
  {
   "cell_type": "code",
   "execution_count": 28,
   "id": "6eea2e3d-f48b-422e-86e1-337983aed796",
   "metadata": {},
   "outputs": [
    {
     "data": {
      "text/plain": [
       "2"
      ]
     },
     "execution_count": 28,
     "metadata": {},
     "output_type": "execute_result"
    }
   ],
   "source": [
    "numbers.index(2)   #here element is given and index is output."
   ]
  },
  {
   "cell_type": "markdown",
   "id": "af915c7a-1ba8-4092-9abc-72680447e524",
   "metadata": {},
   "source": [
    "#### Packing of tuple:"
   ]
  },
  {
   "cell_type": "code",
   "execution_count": 30,
   "id": "64ac6447-cffa-4e78-8270-0ce851ddbd99",
   "metadata": {},
   "outputs": [
    {
     "name": "stdout",
     "output_type": "stream",
     "text": [
      "(1, 'ganesh gunjal', 3.14)\n"
     ]
    }
   ],
   "source": [
    "packed_tuple = 1,\"ganesh gunjal\",3.14\n",
    "print(packed_tuple)"
   ]
  },
  {
   "cell_type": "markdown",
   "id": "6c642f15-42a0-4d86-a66a-1e79ee2d9289",
   "metadata": {},
   "source": [
    "#### Unpacking of tuple:"
   ]
  },
  {
   "cell_type": "code",
   "execution_count": 31,
   "id": "e3400afa-fde2-4353-b1ad-69dc2f7db6f3",
   "metadata": {},
   "outputs": [],
   "source": [
    "a,b,c = packed_tuple"
   ]
  },
  {
   "cell_type": "code",
   "execution_count": 32,
   "id": "6641d5ea-a4cf-4800-87e0-650768b2b0bd",
   "metadata": {},
   "outputs": [
    {
     "name": "stdout",
     "output_type": "stream",
     "text": [
      "1\n",
      "ganesh gunjal\n",
      "3.14\n"
     ]
    }
   ],
   "source": [
    "print(a)\n",
    "print(b)\n",
    "print(c)"
   ]
  },
  {
   "cell_type": "markdown",
   "id": "44287c9a-6ecc-4fed-b4a8-21de5828011d",
   "metadata": {},
   "source": [
    "#### Unpacking with *"
   ]
  },
  {
   "cell_type": "code",
   "execution_count": 33,
   "id": "43eee9d1-e94a-48af-984b-d5d421193df2",
   "metadata": {},
   "outputs": [],
   "source": [
    "first,*middle,last = (1,2,3,4,5,6)"
   ]
  },
  {
   "cell_type": "code",
   "execution_count": 34,
   "id": "39a638ff-eedf-45c2-a1a3-300c440a4a9e",
   "metadata": {},
   "outputs": [
    {
     "name": "stdout",
     "output_type": "stream",
     "text": [
      "1\n",
      "[2, 3, 4, 5]\n",
      "6\n"
     ]
    }
   ],
   "source": [
    "print(first)\n",
    "print(middle)\n",
    "print(last)"
   ]
  },
  {
   "cell_type": "markdown",
   "id": "bc782e12-a779-4a2b-a349-790f917fcd1b",
   "metadata": {},
   "source": [
    "#### Nested List: List inside list"
   ]
  },
  {
   "cell_type": "code",
   "execution_count": 35,
   "id": "2eacc231-71d5-4281-b57b-2609414d4c2d",
   "metadata": {},
   "outputs": [],
   "source": [
    "lst = [[1,2,3,4],[1,6,7,8,'ganesh'],[1,7,8,97,3,]]"
   ]
  },
  {
   "cell_type": "code",
   "execution_count": 36,
   "id": "a536451e-6f28-41b7-90a2-b16b9dda32a4",
   "metadata": {},
   "outputs": [
    {
     "data": {
      "text/plain": [
       "[[1, 2, 3, 4], [1, 6, 7, 8, 'ganesh'], [1, 7, 8, 97, 3]]"
      ]
     },
     "execution_count": 36,
     "metadata": {},
     "output_type": "execute_result"
    }
   ],
   "source": [
    "lst"
   ]
  },
  {
   "cell_type": "markdown",
   "id": "6839adcf-6b5f-4ba0-a744-a777680ffa75",
   "metadata": {},
   "source": [
    "#### Accessing nested list elements"
   ]
  },
  {
   "cell_type": "code",
   "execution_count": 42,
   "id": "2255e705-6909-4f7b-8490-39986aba1cb7",
   "metadata": {},
   "outputs": [
    {
     "data": {
      "text/plain": [
       "[1, 2, 3]"
      ]
     },
     "execution_count": 42,
     "metadata": {},
     "output_type": "execute_result"
    }
   ],
   "source": [
    "lst[0][:3]"
   ]
  },
  {
   "cell_type": "code",
   "execution_count": 37,
   "id": "e049005e-bd26-40e3-a287-a8b1d0eea330",
   "metadata": {},
   "outputs": [
    {
     "data": {
      "text/plain": [
       "[1, 2, 3, 4]"
      ]
     },
     "execution_count": 37,
     "metadata": {},
     "output_type": "execute_result"
    }
   ],
   "source": [
    "lst[0]"
   ]
  },
  {
   "cell_type": "code",
   "execution_count": 38,
   "id": "ccd70860-326a-4082-b57c-bc4587e75c8b",
   "metadata": {},
   "outputs": [
    {
     "data": {
      "text/plain": [
       "[1, 6, 7, 8, 'ganesh']"
      ]
     },
     "execution_count": 38,
     "metadata": {},
     "output_type": "execute_result"
    }
   ],
   "source": [
    "lst[1]"
   ]
  },
  {
   "cell_type": "code",
   "execution_count": 39,
   "id": "3aafdb20-aef1-4d18-823a-671340a64b2a",
   "metadata": {},
   "outputs": [
    {
     "data": {
      "text/plain": [
       "8"
      ]
     },
     "execution_count": 39,
     "metadata": {},
     "output_type": "execute_result"
    }
   ],
   "source": [
    "lst[1][3]"
   ]
  },
  {
   "cell_type": "code",
   "execution_count": 41,
   "id": "56b7888f-abce-44e6-9dbe-ab3c0c7e73dc",
   "metadata": {},
   "outputs": [
    {
     "data": {
      "text/plain": [
       "'n'"
      ]
     },
     "execution_count": 41,
     "metadata": {},
     "output_type": "execute_result"
    }
   ],
   "source": [
    "lst[1][4][2]"
   ]
  },
  {
   "cell_type": "code",
   "execution_count": 43,
   "id": "1724a547-5587-49c9-b105-d2d31c9e89a3",
   "metadata": {},
   "outputs": [],
   "source": [
    "nested_tuple = ((1,2,3),('a','b','c'),(True,False))"
   ]
  },
  {
   "cell_type": "code",
   "execution_count": 44,
   "id": "08ca055a-7a14-4e7c-a689-fea7898874dc",
   "metadata": {},
   "outputs": [
    {
     "data": {
      "text/plain": [
       "((1, 2, 3), ('a', 'b', 'c'), (True, False))"
      ]
     },
     "execution_count": 44,
     "metadata": {},
     "output_type": "execute_result"
    }
   ],
   "source": [
    "nested_tuple"
   ]
  },
  {
   "cell_type": "code",
   "execution_count": 45,
   "id": "70eef585-9158-4f33-8bb7-51ee30e9d287",
   "metadata": {},
   "outputs": [
    {
     "data": {
      "text/plain": [
       "('a', 'b', 'c')"
      ]
     },
     "execution_count": 45,
     "metadata": {},
     "output_type": "execute_result"
    }
   ],
   "source": [
    "nested_tuple[1]"
   ]
  },
  {
   "cell_type": "code",
   "execution_count": 46,
   "id": "9489e054-f268-4768-bf3e-9b3e0f6f5ec8",
   "metadata": {},
   "outputs": [
    {
     "data": {
      "text/plain": [
       "'b'"
      ]
     },
     "execution_count": 46,
     "metadata": {},
     "output_type": "execute_result"
    }
   ],
   "source": [
    "nested_tuple[1][1]"
   ]
  },
  {
   "cell_type": "markdown",
   "id": "54dc4607-e53d-4df1-952b-c624aaf9f1f3",
   "metadata": {},
   "source": [
    "#### Iterating with the tuple:"
   ]
  },
  {
   "cell_type": "code",
   "execution_count": 47,
   "id": "4003eae3-e5e3-4590-9a00-e74abf57f82c",
   "metadata": {},
   "outputs": [],
   "source": [
    "nested_tuple = ((1,2,3),('a','b','c'),(True,False))"
   ]
  },
  {
   "cell_type": "code",
   "execution_count": 49,
   "id": "8f171b35-14ef-48fd-b824-d9d3abcbeb3b",
   "metadata": {},
   "outputs": [
    {
     "name": "stdout",
     "output_type": "stream",
     "text": [
      "1 2 3 \n",
      "a b c \n",
      "True False \n"
     ]
    }
   ],
   "source": [
    "for sub_item in nested_tuple:\n",
    "    for item in sub_item:\n",
    "        print(item,end=' ')\n",
    "    print()    #this print is for priting next line"
   ]
  },
  {
   "cell_type": "code",
   "execution_count": null,
   "id": "a5f75cf0-aaf6-4288-8cee-c10d97fb8403",
   "metadata": {},
   "outputs": [],
   "source": []
  }
 ],
 "metadata": {
  "kernelspec": {
   "display_name": "Python 3 (ipykernel)",
   "language": "python",
   "name": "python3"
  },
  "language_info": {
   "codemirror_mode": {
    "name": "ipython",
    "version": 3
   },
   "file_extension": ".py",
   "mimetype": "text/x-python",
   "name": "python",
   "nbconvert_exporter": "python",
   "pygments_lexer": "ipython3",
   "version": "3.12.7"
  }
 },
 "nbformat": 4,
 "nbformat_minor": 5
}
