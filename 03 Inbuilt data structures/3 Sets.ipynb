{
 "cells": [
  {
   "cell_type": "markdown",
   "id": "1256b2ed-9367-4108-84b0-fda2b476b158",
   "metadata": {},
   "source": [
    "### **Sets:-**\n",
    "1. Sets are used for storing unique items.\n",
    "2. they are unordered. means they have no any specific order.\n",
    "3. they do now allow duplicate values.\n",
    "4. they are useful in membership tests, eliminating duplicate values, and performing mathematical operations like set union intersection difference and symmetric difference..\n",
    "5. **when we pass any list and if list contains duplicate values, then that duplicate value will be removed. this is most imp thing.**"
   ]
  },
  {
   "cell_type": "markdown",
   "id": "c67543a6-a026-4903-81de-1cf5a75d5551",
   "metadata": {},
   "source": [
    "#### Creating a sets:"
   ]
  },
  {
   "cell_type": "code",
   "execution_count": 1,
   "id": "7c9cc380-ac07-4b2a-ae40-787a83df903b",
   "metadata": {},
   "outputs": [
    {
     "name": "stdout",
     "output_type": "stream",
     "text": [
      "{1, 2, 3, 4, 5, 6}\n",
      "<class 'type'>\n"
     ]
    }
   ],
   "source": [
    "set1 = {1,2,3,3,3,4,5,5,6}\n",
    "print(set1)\n",
    "print(type(set))"
   ]
  },
  {
   "cell_type": "code",
   "execution_count": 2,
   "id": "321822f8-c92d-46a2-b5ef-cd72d31f3bc7",
   "metadata": {},
   "outputs": [
    {
     "data": {
      "text/plain": [
       "6"
      ]
     },
     "execution_count": 2,
     "metadata": {},
     "output_type": "execute_result"
    }
   ],
   "source": [
    "len(set1)"
   ]
  },
  {
   "cell_type": "markdown",
   "id": "97908b5b-1560-4d7b-85f6-4b40c65c334c",
   "metadata": {},
   "source": [
    "#### Adding and Removing element in sets:"
   ]
  },
  {
   "cell_type": "code",
   "execution_count": 3,
   "id": "2f1f4995-4c2f-487b-918b-3eb68c5e5603",
   "metadata": {},
   "outputs": [
    {
     "data": {
      "text/plain": [
       "{1, 2, 3, 4, 5, 6}"
      ]
     },
     "execution_count": 3,
     "metadata": {},
     "output_type": "execute_result"
    }
   ],
   "source": [
    "set1"
   ]
  },
  {
   "cell_type": "code",
   "execution_count": 4,
   "id": "7d6f74de-156e-461b-ab61-4ae52d46e883",
   "metadata": {},
   "outputs": [],
   "source": [
    "set1.add(7)"
   ]
  },
  {
   "cell_type": "code",
   "execution_count": 5,
   "id": "9edbb75f-6a8d-4cf2-bf9e-d12a393f74d5",
   "metadata": {},
   "outputs": [
    {
     "data": {
      "text/plain": [
       "{1, 2, 3, 4, 5, 6, 7}"
      ]
     },
     "execution_count": 5,
     "metadata": {},
     "output_type": "execute_result"
    }
   ],
   "source": [
    "set1"
   ]
  },
  {
   "cell_type": "code",
   "execution_count": 6,
   "id": "e2da033d-e5c7-4d04-9475-e139d6c7be12",
   "metadata": {},
   "outputs": [],
   "source": [
    "set1.remove(2)"
   ]
  },
  {
   "cell_type": "code",
   "execution_count": 7,
   "id": "bd696826-6a1f-4ef6-8c85-086110417581",
   "metadata": {},
   "outputs": [
    {
     "data": {
      "text/plain": [
       "{1, 3, 4, 5, 6, 7}"
      ]
     },
     "execution_count": 7,
     "metadata": {},
     "output_type": "execute_result"
    }
   ],
   "source": [
    "set1   #element 2 removed."
   ]
  },
  {
   "cell_type": "code",
   "execution_count": 8,
   "id": "00072b78-9413-4e41-ae2d-415dff644388",
   "metadata": {},
   "outputs": [],
   "source": [
    "set1.update([22,33,44,55,66])"
   ]
  },
  {
   "cell_type": "code",
   "execution_count": 9,
   "id": "11eb7da1-a6d8-46dc-988c-2200a7ced83b",
   "metadata": {},
   "outputs": [
    {
     "data": {
      "text/plain": [
       "{1, 3, 4, 5, 6, 7, 22, 33, 44, 55, 66}"
      ]
     },
     "execution_count": 9,
     "metadata": {},
     "output_type": "execute_result"
    }
   ],
   "source": [
    "set1"
   ]
  },
  {
   "cell_type": "code",
   "execution_count": 10,
   "id": "8ea492ca-2109-49ea-b352-d6480afd856e",
   "metadata": {},
   "outputs": [
    {
     "ename": "KeyError",
     "evalue": "100",
     "output_type": "error",
     "traceback": [
      "\u001b[1;31m---------------------------------------------------------------------------\u001b[0m",
      "\u001b[1;31mKeyError\u001b[0m                                  Traceback (most recent call last)",
      "Cell \u001b[1;32mIn[10], line 1\u001b[0m\n\u001b[1;32m----> 1\u001b[0m set1\u001b[38;5;241m.\u001b[39mremove(\u001b[38;5;241m100\u001b[39m)\n",
      "\u001b[1;31mKeyError\u001b[0m: 100"
     ]
    }
   ],
   "source": [
    "set1.remove(100)  #element is not present. that why showing error. "
   ]
  },
  {
   "cell_type": "code",
   "execution_count": null,
   "id": "1414ce85-8633-4b17-b096-855896e4ae42",
   "metadata": {},
   "outputs": [],
   "source": [
    "set1.discard(100)   #element 100 is not present still i dont give any error."
   ]
  },
  {
   "cell_type": "code",
   "execution_count": 11,
   "id": "700ab600-326f-4b76-a0ec-1ccb9d9255b0",
   "metadata": {},
   "outputs": [
    {
     "name": "stdout",
     "output_type": "stream",
     "text": [
      "1\n",
      "{66, 3, 4, 5, 6, 7, 22, 33, 44, 55}\n"
     ]
    }
   ],
   "source": [
    "pop_item = set1.pop()   #it will remove first element in the set.\n",
    "print(pop_item)\n",
    "print(set1)"
   ]
  },
  {
   "cell_type": "markdown",
   "id": "2d694bd0-d4db-4d68-b261-2f328d6b725f",
   "metadata": {},
   "source": [
    "### Set Membership"
   ]
  },
  {
   "cell_type": "code",
   "execution_count": 12,
   "id": "19db12fc-c9b0-40e0-88ca-d17b1eaa1551",
   "metadata": {},
   "outputs": [
    {
     "data": {
      "text/plain": [
       "{3, 4, 5, 6, 7, 22, 33, 44, 55, 66}"
      ]
     },
     "execution_count": 12,
     "metadata": {},
     "output_type": "execute_result"
    }
   ],
   "source": [
    "set1"
   ]
  },
  {
   "cell_type": "code",
   "execution_count": 13,
   "id": "4ce37ade-6426-48f5-80ee-b59a9be23c40",
   "metadata": {},
   "outputs": [
    {
     "name": "stdout",
     "output_type": "stream",
     "text": [
      "True\n"
     ]
    }
   ],
   "source": [
    "print(3 in set1)"
   ]
  },
  {
   "cell_type": "code",
   "execution_count": 14,
   "id": "f0c759a3-90b0-4d7f-8643-5b364c3db754",
   "metadata": {},
   "outputs": [
    {
     "name": "stdout",
     "output_type": "stream",
     "text": [
      "True\n"
     ]
    }
   ],
   "source": [
    "print(33 in set1)"
   ]
  },
  {
   "cell_type": "code",
   "execution_count": 15,
   "id": "5a34fe83-b5e0-4d7d-bf94-c4b36f843bbf",
   "metadata": {},
   "outputs": [
    {
     "name": "stdout",
     "output_type": "stream",
     "text": [
      "False\n"
     ]
    }
   ],
   "source": [
    "print(333 in set1)"
   ]
  },
  {
   "cell_type": "code",
   "execution_count": 16,
   "id": "efa3fed8-c27a-4845-bd4f-fdbb0626f2cb",
   "metadata": {},
   "outputs": [],
   "source": [
    "set1 = {1,2,3,4,5}\n",
    "set2 = {4,5,6,7,8,9}\n"
   ]
  },
  {
   "cell_type": "code",
   "execution_count": 17,
   "id": "d0889299-95ed-486b-be02-56f91ec56529",
   "metadata": {},
   "outputs": [
    {
     "data": {
      "text/plain": [
       "{1, 2, 3, 4, 5, 6, 7, 8, 9}"
      ]
     },
     "execution_count": 17,
     "metadata": {},
     "output_type": "execute_result"
    }
   ],
   "source": [
    "set1.union(set2)   #combining two set elements."
   ]
  },
  {
   "cell_type": "code",
   "execution_count": 18,
   "id": "3b9baebb-d4b8-42c8-9bc5-993110d9c5cf",
   "metadata": {},
   "outputs": [
    {
     "data": {
      "text/plain": [
       "{4, 5}"
      ]
     },
     "execution_count": 18,
     "metadata": {},
     "output_type": "execute_result"
    }
   ],
   "source": [
    "set1.intersection(set2)     #finding common element between 2 sets."
   ]
  },
  {
   "cell_type": "code",
   "execution_count": 19,
   "id": "3274b86f-3507-4944-94e4-14456c358f64",
   "metadata": {},
   "outputs": [],
   "source": [
    "set1 = {1,2,3,4,5}\n",
    "set2 = {4,5,6,7,8,9}"
   ]
  },
  {
   "cell_type": "code",
   "execution_count": 20,
   "id": "86880064-740f-40e1-bb05-d7c7d2a5bf23",
   "metadata": {},
   "outputs": [],
   "source": [
    "set1.intersection_update(set2)   #it will common element and will update in set1. and other elemenet will removed in set1."
   ]
  },
  {
   "cell_type": "code",
   "execution_count": 21,
   "id": "e55cd37d-9a50-4610-ace7-f703a411d85b",
   "metadata": {},
   "outputs": [
    {
     "name": "stdout",
     "output_type": "stream",
     "text": [
      "{4, 5}\n",
      "{4, 5, 6, 7, 8, 9}\n"
     ]
    }
   ],
   "source": [
    "print(set1)\n",
    "print(set2)"
   ]
  },
  {
   "cell_type": "code",
   "execution_count": 22,
   "id": "09742b3d-30cf-4228-b947-c129ae86962d",
   "metadata": {},
   "outputs": [],
   "source": [
    "set1 = {1,2,3,4,5}\n",
    "set2 = {4,5,6,7,8,9}"
   ]
  },
  {
   "cell_type": "code",
   "execution_count": 23,
   "id": "6f340ff6-3f6c-4dc5-ae72-de335e3c482b",
   "metadata": {},
   "outputs": [
    {
     "data": {
      "text/plain": [
       "{1, 2, 3}"
      ]
     },
     "execution_count": 23,
     "metadata": {},
     "output_type": "execute_result"
    }
   ],
   "source": [
    "set1.difference(set2)  #element present in set1 only and avoiding common element."
   ]
  },
  {
   "cell_type": "code",
   "execution_count": 24,
   "id": "a6b70bab-644f-4da5-a693-0ec21640d592",
   "metadata": {},
   "outputs": [
    {
     "data": {
      "text/plain": [
       "{6, 7, 8, 9}"
      ]
     },
     "execution_count": 24,
     "metadata": {},
     "output_type": "execute_result"
    }
   ],
   "source": [
    "set2.difference(set1)"
   ]
  },
  {
   "cell_type": "code",
   "execution_count": 25,
   "id": "8441359d-52a2-4660-8187-b36f25e98c38",
   "metadata": {},
   "outputs": [
    {
     "data": {
      "text/plain": [
       "{1, 2, 3, 6, 7, 8, 9}"
      ]
     },
     "execution_count": 25,
     "metadata": {},
     "output_type": "execute_result"
    }
   ],
   "source": [
    "set1.symmetric_difference(set2)   #unique element from both sets"
   ]
  },
  {
   "cell_type": "markdown",
   "id": "5ffd2777-e49d-4381-bb76-2f25b04f5bb8",
   "metadata": {},
   "source": [
    "### Set Methods:"
   ]
  },
  {
   "cell_type": "code",
   "execution_count": 26,
   "id": "7a452508-9957-46b8-a0ba-ca76bc60093b",
   "metadata": {},
   "outputs": [],
   "source": [
    "set1 = {1,2,3}\n",
    "set2 = {3,4,5}"
   ]
  },
  {
   "cell_type": "markdown",
   "id": "cb470a64-2a8e-4377-9e64-1abf833b5ece",
   "metadata": {},
   "source": [
    "**SUBSET:-** set A is a subset of set B if all elements of A exist in B."
   ]
  },
  {
   "cell_type": "code",
   "execution_count": 27,
   "id": "75179f2e-7c49-44a0-8c70-09570206e290",
   "metadata": {},
   "outputs": [
    {
     "data": {
      "text/plain": [
       "False"
      ]
     },
     "execution_count": 27,
     "metadata": {},
     "output_type": "execute_result"
    }
   ],
   "source": [
    "set1.issubset(set2)"
   ]
  },
  {
   "cell_type": "code",
   "execution_count": 28,
   "id": "d4b8faf7-e529-40ee-8483-43314d23cbec",
   "metadata": {},
   "outputs": [],
   "source": [
    "set1 = {1,2,3}\n",
    "set2 = {1,2,3}"
   ]
  },
  {
   "cell_type": "code",
   "execution_count": 29,
   "id": "2f20ca81-26b7-47d0-a330-7b47ac2ccdb8",
   "metadata": {},
   "outputs": [
    {
     "data": {
      "text/plain": [
       "True"
      ]
     },
     "execution_count": 29,
     "metadata": {},
     "output_type": "execute_result"
    }
   ],
   "source": [
    "set1.issubset(set2)   #Because set1 and set2 has same element"
   ]
  },
  {
   "cell_type": "markdown",
   "id": "97d386d8-81bc-44de-a63d-1ad1dfca2b58",
   "metadata": {},
   "source": [
    "#### Counting unique words in text:-"
   ]
  },
  {
   "cell_type": "code",
   "execution_count": 36,
   "id": "86b4d00e-4706-40e0-9293-e872b44e4e4f",
   "metadata": {},
   "outputs": [],
   "source": [
    "text= 'In this tutorial we we discussing about sets sets'\n"
   ]
  },
  {
   "cell_type": "code",
   "execution_count": 37,
   "id": "17767b4d-cefa-4a6e-b8ef-bec282f1584f",
   "metadata": {},
   "outputs": [],
   "source": [
    "words = text.split()"
   ]
  },
  {
   "cell_type": "code",
   "execution_count": 38,
   "id": "91030b08-c13b-46be-a851-637f269ea890",
   "metadata": {},
   "outputs": [],
   "source": [
    "unique_words = set(words)"
   ]
  },
  {
   "cell_type": "code",
   "execution_count": 39,
   "id": "14ab4515-56a8-4ccf-b2d1-50ee3f7cbd13",
   "metadata": {},
   "outputs": [
    {
     "data": {
      "text/plain": [
       "{'In', 'about', 'discussing', 'sets', 'this', 'tutorial', 'we'}"
      ]
     },
     "execution_count": 39,
     "metadata": {},
     "output_type": "execute_result"
    }
   ],
   "source": [
    "unique_words"
   ]
  },
  {
   "cell_type": "code",
   "execution_count": 40,
   "id": "db1893a9-fef1-4046-8c74-8b43c864357a",
   "metadata": {},
   "outputs": [
    {
     "data": {
      "text/plain": [
       "7"
      ]
     },
     "execution_count": 40,
     "metadata": {},
     "output_type": "execute_result"
    }
   ],
   "source": [
    "len(unique_words)"
   ]
  },
  {
   "cell_type": "code",
   "execution_count": null,
   "id": "fe8992a7-9254-437f-bda6-630513521992",
   "metadata": {},
   "outputs": [],
   "source": []
  }
 ],
 "metadata": {
  "kernelspec": {
   "display_name": "Python 3 (ipykernel)",
   "language": "python",
   "name": "python3"
  },
  "language_info": {
   "codemirror_mode": {
    "name": "ipython",
    "version": 3
   },
   "file_extension": ".py",
   "mimetype": "text/x-python",
   "name": "python",
   "nbconvert_exporter": "python",
   "pygments_lexer": "ipython3",
   "version": "3.12.7"
  }
 },
 "nbformat": 4,
 "nbformat_minor": 5
}
