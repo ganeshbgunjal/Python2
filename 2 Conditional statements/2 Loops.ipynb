{
 "cells": [
  {
   "cell_type": "markdown",
   "id": "75a50518-b102-4426-83d9-dfe928694ddb",
   "metadata": {},
   "source": [
    "### **Loops:** \n",
    "1. For loop\n",
    "2. While Loop\n",
    "3. break\n",
    "4. continue"
   ]
  },
  {
   "cell_type": "markdown",
   "id": "0d2f8ce9-205e-4d01-a26d-5f932ae77079",
   "metadata": {},
   "source": [
    "**For Loop:**  \n",
    "It iterate over sequence of numbers or characters."
   ]
  },
  {
   "cell_type": "code",
   "execution_count": 1,
   "id": "e9449fa7-dfc0-471b-96a1-ea6a4d7d2947",
   "metadata": {},
   "outputs": [
    {
     "name": "stdout",
     "output_type": "stream",
     "text": [
      "0\n",
      "1\n",
      "2\n",
      "3\n",
      "4\n",
      "5\n",
      "6\n",
      "7\n",
      "8\n",
      "9\n"
     ]
    }
   ],
   "source": [
    "for i in range(10):\n",
    "    print(i)"
   ]
  },
  {
   "cell_type": "code",
   "execution_count": 2,
   "id": "2e15745d-6080-4100-8a9a-383770a261f1",
   "metadata": {},
   "outputs": [
    {
     "name": "stdout",
     "output_type": "stream",
     "text": [
      "1\n",
      "2\n",
      "3\n",
      "4\n",
      "5\n",
      "6\n",
      "7\n",
      "8\n",
      "9\n",
      "10\n"
     ]
    }
   ],
   "source": [
    "for i in range(1,11):\n",
    "    print(i)"
   ]
  },
  {
   "cell_type": "code",
   "execution_count": 8,
   "id": "ec8c1a41-312d-4427-88e6-e78a4a2ab227",
   "metadata": {},
   "outputs": [
    {
     "name": "stdin",
     "output_type": "stream",
     "text": [
      "Enter name:  ganesh gunjal\n"
     ]
    },
    {
     "name": "stdout",
     "output_type": "stream",
     "text": [
      "g\n",
      "a\n",
      "n\n",
      "e\n",
      "s\n",
      "h\n",
      " \n",
      "g\n",
      "u\n",
      "n\n",
      "j\n",
      "a\n",
      "l\n",
      "Done\n"
     ]
    }
   ],
   "source": [
    "name = input('Enter name: ')\n",
    "for i in name:\n",
    "    print(i)\n",
    "\n",
    "print('Done')"
   ]
  },
  {
   "cell_type": "code",
   "execution_count": 6,
   "id": "99f0e093-084c-4535-8b8a-8483891b2db3",
   "metadata": {},
   "outputs": [
    {
     "name": "stdout",
     "output_type": "stream",
     "text": [
      "10\n",
      "9\n",
      "8\n",
      "7\n",
      "6\n",
      "5\n",
      "4\n",
      "3\n",
      "2\n"
     ]
    }
   ],
   "source": [
    "for i in range(10,1,-1):   ## 1 is excluded. \n",
    "    print(i)"
   ]
  },
  {
   "cell_type": "code",
   "execution_count": 7,
   "id": "d0f28a6f-25b4-4b7f-8c05-0199c17ee948",
   "metadata": {},
   "outputs": [
    {
     "name": "stdout",
     "output_type": "stream",
     "text": [
      "10\n",
      "8\n",
      "6\n",
      "4\n",
      "2\n"
     ]
    }
   ],
   "source": [
    "for i in range(10,1,-2):\n",
    "    print(i)"
   ]
  },
  {
   "cell_type": "markdown",
   "id": "a0211688-c6fa-4433-90f5-4b1a3189576b",
   "metadata": {},
   "source": [
    "### **While Loop:** \n",
    "The while loop continues to execute as long as the condition is true."
   ]
  },
  {
   "cell_type": "code",
   "execution_count": 12,
   "id": "b8b6c6b3-2a44-48e5-a143-e791a3d7f2a9",
   "metadata": {},
   "outputs": [
    {
     "name": "stdout",
     "output_type": "stream",
     "text": [
      "0\n",
      "1\n",
      "2\n",
      "3\n",
      "4\n"
     ]
    }
   ],
   "source": [
    "count = 0\n",
    "while count<5:\n",
    "    print(count)\n",
    "    count+=1"
   ]
  },
  {
   "cell_type": "code",
   "execution_count": 13,
   "id": "f0155e79-7aef-4404-93c7-60d263709960",
   "metadata": {},
   "outputs": [
    {
     "name": "stdout",
     "output_type": "stream",
     "text": [
      "0\n",
      "1\n",
      "2\n",
      "3\n",
      "4\n",
      "5\n"
     ]
    }
   ],
   "source": [
    "count = 0\n",
    "while count <=5:\n",
    "    print(count)\n",
    "    count = count+1"
   ]
  },
  {
   "cell_type": "markdown",
   "id": "14faa318-58d6-4fda-9442-d07c7aed46c9",
   "metadata": {},
   "source": [
    "**Loop Control statements:**\n",
    "1. Break:- \n",
    "2. Continue"
   ]
  },
  {
   "cell_type": "code",
   "execution_count": 17,
   "id": "cf014520-56ca-4e60-b6df-b54493700756",
   "metadata": {},
   "outputs": [
    {
     "name": "stdout",
     "output_type": "stream",
     "text": [
      "0\n",
      "1\n",
      "2\n",
      "3\n",
      "4\n",
      "5\n",
      "6\n",
      "Outside loop\n"
     ]
    }
   ],
   "source": [
    "for i in range(10):\n",
    "    if i==7:\n",
    "        break\n",
    "    print(i)\n",
    "print('Outside loop')"
   ]
  },
  {
   "cell_type": "code",
   "execution_count": 18,
   "id": "05034c90-90a0-4524-8572-b2dd8ec2fcb0",
   "metadata": {},
   "outputs": [
    {
     "name": "stdout",
     "output_type": "stream",
     "text": [
      "0\n",
      "1\n",
      "2\n",
      "3\n",
      "4\n",
      "5\n",
      "6\n",
      "8\n",
      "9\n",
      "outside loop.\n"
     ]
    }
   ],
   "source": [
    "for i in range(10):\n",
    "    if i == 7:   #it will skip  7 and will go on.\n",
    "        continue\n",
    "    print(i)\n",
    "print('outside loop.')"
   ]
  },
  {
   "cell_type": "code",
   "execution_count": 20,
   "id": "d3cf6973-daec-42f0-bb99-fbc2f63f69b7",
   "metadata": {},
   "outputs": [
    {
     "name": "stdout",
     "output_type": "stream",
     "text": [
      "1\n",
      "3\n",
      "5\n",
      "7\n",
      "9\n"
     ]
    }
   ],
   "source": [
    "for i in range(11):\n",
    "    if i%2==0:\n",
    "        continue\n",
    "    print(i)"
   ]
  },
  {
   "cell_type": "markdown",
   "id": "94340da8-be2d-4f6b-84ee-2fe0b91d8c26",
   "metadata": {},
   "source": [
    "### **Nested Loop:**\n",
    "Loop inside loop is called nested loop."
   ]
  },
  {
   "cell_type": "code",
   "execution_count": 23,
   "id": "0eb54ab7-479d-4cf7-8ef3-960f0d2617a7",
   "metadata": {},
   "outputs": [
    {
     "name": "stdout",
     "output_type": "stream",
     "text": [
      "i:0,j:0\n",
      "i:0,j:1\n",
      "i:0,j:2\n",
      "i:1,j:0\n",
      "i:1,j:1\n",
      "i:1,j:2\n",
      "i:2,j:0\n",
      "i:2,j:1\n",
      "i:2,j:2\n"
     ]
    }
   ],
   "source": [
    "for i in range(3):\n",
    "    for j in range(3):\n",
    "        print(f'i:{i},j:{j}')"
   ]
  },
  {
   "cell_type": "markdown",
   "id": "afc21463-f54f-465e-b187-cd36743d1911",
   "metadata": {},
   "source": [
    "**Examples:**"
   ]
  },
  {
   "cell_type": "markdown",
   "id": "8ca7844b-f064-4d5a-b547-553326f38ad0",
   "metadata": {},
   "source": [
    "**Calculate sum of first N numbers using while loop.**\n"
   ]
  },
  {
   "cell_type": "code",
   "execution_count": 25,
   "id": "75790ecf-a9da-4e35-9135-659811108a24",
   "metadata": {},
   "outputs": [
    {
     "name": "stdout",
     "output_type": "stream",
     "text": [
      "55\n"
     ]
    }
   ],
   "source": [
    "sum=0\n",
    "n = 10\n",
    "count = 1\n",
    "\n",
    "while count <= n:\n",
    "    sum = sum + count\n",
    "    count = count + 1\n",
    "print(sum)"
   ]
  },
  {
   "cell_type": "code",
   "execution_count": 29,
   "id": "f0c6048a-51e7-4df1-b629-ccca2423e628",
   "metadata": {},
   "outputs": [
    {
     "name": "stdin",
     "output_type": "stream",
     "text": [
      "Enter number to calculate sum: 15\n"
     ]
    },
    {
     "name": "stdout",
     "output_type": "stream",
     "text": [
      "Sum of first 15 number is 120\n"
     ]
    }
   ],
   "source": [
    "sum = 0\n",
    "n = int(input('Enter number to calculate sum:'))\n",
    "count = 1\n",
    "while count<=n:\n",
    "    sum = sum + count\n",
    "    count = count + 1\n",
    "print(f'Sum of first {n} number is {sum}')"
   ]
  },
  {
   "cell_type": "markdown",
   "id": "7580b9a7-5d92-41f0-a122-52f789ed6859",
   "metadata": {},
   "source": [
    "**Calculate sum of first N numbers using while loop.**\n"
   ]
  },
  {
   "cell_type": "code",
   "execution_count": 32,
   "id": "7caa0c8a-8c3f-433c-9f50-ec2f60d9a583",
   "metadata": {},
   "outputs": [
    {
     "name": "stdin",
     "output_type": "stream",
     "text": [
      "Enter number to calculate sum:  15\n"
     ]
    },
    {
     "name": "stdout",
     "output_type": "stream",
     "text": [
      "Sum of first 15 numners is 120\n"
     ]
    }
   ],
   "source": [
    "n = int(input('Enter number to calculate sum: '))\n",
    "sum=0\n",
    "for i in range(n+1):\n",
    "    sum = sum + i\n",
    "print(f'Sum of first {n} numners is {sum}')\n",
    "    "
   ]
  },
  {
   "cell_type": "markdown",
   "id": "133a5640-3018-44d3-9a98-78f7bcb7abfd",
   "metadata": {},
   "source": [
    "**Display prime numbers between 1 to 100.**  \n",
    "prime number means it can divide with 1 and itself only.   \n",
    "Special Case:: 1 is not prime number.   \n",
    "2 is the only one even prime number."
   ]
  },
  {
   "cell_type": "code",
   "execution_count": 37,
   "id": "46ddd17d-944c-4857-a238-b4e686b418de",
   "metadata": {},
   "outputs": [
    {
     "name": "stdout",
     "output_type": "stream",
     "text": [
      "2\n",
      "3\n",
      "5\n",
      "7\n",
      "11\n",
      "13\n",
      "17\n",
      "19\n",
      "23\n",
      "29\n",
      "31\n",
      "37\n",
      "41\n",
      "43\n",
      "47\n",
      "53\n",
      "59\n",
      "61\n",
      "67\n",
      "71\n",
      "73\n",
      "79\n",
      "83\n",
      "89\n",
      "97\n"
     ]
    }
   ],
   "source": [
    "for num in range(1,101):\n",
    "    if num>1:\n",
    "        for i in range(2,num):\n",
    "            if num%i==0:\n",
    "                break\n",
    "        else: \n",
    "            print(num)"
   ]
  },
  {
   "cell_type": "code",
   "execution_count": null,
   "id": "614f72a5-a83e-4d75-990c-b846c05315dc",
   "metadata": {},
   "outputs": [],
   "source": []
  }
 ],
 "metadata": {
  "kernelspec": {
   "display_name": "Python 3 (ipykernel)",
   "language": "python",
   "name": "python3"
  },
  "language_info": {
   "codemirror_mode": {
    "name": "ipython",
    "version": 3
   },
   "file_extension": ".py",
   "mimetype": "text/x-python",
   "name": "python",
   "nbconvert_exporter": "python",
   "pygments_lexer": "ipython3",
   "version": "3.12.7"
  }
 },
 "nbformat": 4,
 "nbformat_minor": 5
}
