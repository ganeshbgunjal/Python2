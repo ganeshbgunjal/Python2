{
 "cells": [
  {
   "cell_type": "markdown",
   "id": "8495a13d-cbe9-44f4-8631-f065ae54651c",
   "metadata": {},
   "source": [
    "### **Data Types:**\n",
    "its the classification of data that tells the compiler or interpreter how the programmer intends to use the data."
   ]
  },
  {
   "cell_type": "markdown",
   "id": "199c544f-1879-4992-89f6-209deb3b07c4",
   "metadata": {},
   "source": [
    "#### Importance of data types::\n",
    "1. data types ensures that the data is stored in an efficient way.\n",
    "2. they help in performing correct operations on data.\n",
    "3. Proper use of data types can prevent error and bugs in the program."
   ]
  },
  {
   "cell_type": "code",
   "execution_count": 1,
   "id": "7d204234-2898-4656-8152-a94493a69bce",
   "metadata": {},
   "outputs": [
    {
     "name": "stdout",
     "output_type": "stream",
     "text": [
      "34\n"
     ]
    },
    {
     "data": {
      "text/plain": [
       "int"
      ]
     },
     "execution_count": 1,
     "metadata": {},
     "output_type": "execute_result"
    }
   ],
   "source": [
    "#Integer data types:\n",
    "age = 34\n",
    "print(age)\n",
    "type(age)"
   ]
  },
  {
   "cell_type": "code",
   "execution_count": 2,
   "id": "6cbac5f0-bf58-442d-a246-9590875c78c5",
   "metadata": {},
   "outputs": [
    {
     "name": "stdout",
     "output_type": "stream",
     "text": [
      "98.7\n"
     ]
    },
    {
     "data": {
      "text/plain": [
       "float"
      ]
     },
     "execution_count": 2,
     "metadata": {},
     "output_type": "execute_result"
    }
   ],
   "source": [
    "percent = 98.7\n",
    "print(percent)\n",
    "type(percent)"
   ]
  },
  {
   "cell_type": "code",
   "execution_count": 3,
   "id": "d8e4dd7f-00fd-4ec0-84ed-3c00e9ff7356",
   "metadata": {},
   "outputs": [
    {
     "name": "stdout",
     "output_type": "stream",
     "text": [
      "Ganesh\n"
     ]
    },
    {
     "data": {
      "text/plain": [
       "str"
      ]
     },
     "execution_count": 3,
     "metadata": {},
     "output_type": "execute_result"
    }
   ],
   "source": [
    "name = 'Ganesh'\n",
    "print(name)\n",
    "type(name)"
   ]
  },
  {
   "cell_type": "code",
   "execution_count": 4,
   "id": "733d70ce-153c-4669-91a8-5385f51ab411",
   "metadata": {},
   "outputs": [
    {
     "name": "stdout",
     "output_type": "stream",
     "text": [
      "True\n"
     ]
    },
    {
     "data": {
      "text/plain": [
       "bool"
      ]
     },
     "execution_count": 4,
     "metadata": {},
     "output_type": "execute_result"
    }
   ],
   "source": [
    "is_Student = True\n",
    "print(is_Student)\n",
    "type(is_Student)"
   ]
  },
  {
   "cell_type": "code",
   "execution_count": 5,
   "id": "6348a906-9cf3-4ec9-9fb0-12e47d53434c",
   "metadata": {},
   "outputs": [
    {
     "ename": "TypeError",
     "evalue": "can only concatenate str (not \"int\") to str",
     "output_type": "error",
     "traceback": [
      "\u001b[1;31m---------------------------------------------------------------------------\u001b[0m",
      "\u001b[1;31mTypeError\u001b[0m                                 Traceback (most recent call last)",
      "Cell \u001b[1;32mIn[5], line 2\u001b[0m\n\u001b[0;32m      1\u001b[0m \u001b[38;5;66;03m# Some errors coming while typing data types\u001b[39;00m\n\u001b[1;32m----> 2\u001b[0m result \u001b[38;5;241m=\u001b[39m \u001b[38;5;124m'\u001b[39m\u001b[38;5;124mHello\u001b[39m\u001b[38;5;124m'\u001b[39m \u001b[38;5;241m+\u001b[39m  \u001b[38;5;241m5\u001b[39m\n",
      "\u001b[1;31mTypeError\u001b[0m: can only concatenate str (not \"int\") to str"
     ]
    }
   ],
   "source": [
    "# Some errors coming while typing data types\n",
    "result = 'Hello' +  5"
   ]
  },
  {
   "cell_type": "code",
   "execution_count": 6,
   "id": "537883fc-3ce4-45fa-aa88-901aa47f2c62",
   "metadata": {},
   "outputs": [
    {
     "name": "stdout",
     "output_type": "stream",
     "text": [
      "Hello5\n"
     ]
    }
   ],
   "source": [
    "result = 'Hello' +  str(5)\n",
    "print(result)"
   ]
  },
  {
   "cell_type": "markdown",
   "id": "35fa4456-bfa0-4dd8-89e6-923cb306ea90",
   "metadata": {},
   "source": [
    "### **Advance Data types:-**\n",
    "1. List\n",
    "2. Tuples\n",
    "3. Dictionary\n",
    "4. Set"
   ]
  },
  {
   "cell_type": "markdown",
   "id": "8844743c-8205-4ed7-8577-7ffc8f6fecdf",
   "metadata": {},
   "source": [
    "will see them in some another video."
   ]
  },
  {
   "cell_type": "code",
   "execution_count": null,
   "id": "1e46bc99-18a1-4888-98fd-f5a506fa1159",
   "metadata": {},
   "outputs": [],
   "source": []
  }
 ],
 "metadata": {
  "kernelspec": {
   "display_name": "Python 3 (ipykernel)",
   "language": "python",
   "name": "python3"
  },
  "language_info": {
   "codemirror_mode": {
    "name": "ipython",
    "version": 3
   },
   "file_extension": ".py",
   "mimetype": "text/x-python",
   "name": "python",
   "nbconvert_exporter": "python",
   "pygments_lexer": "ipython3",
   "version": "3.12.7"
  }
 },
 "nbformat": 4,
 "nbformat_minor": 5
}
