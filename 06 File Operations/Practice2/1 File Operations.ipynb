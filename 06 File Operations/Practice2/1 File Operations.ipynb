{
 "cells": [
  {
   "cell_type": "markdown",
   "id": "afdb2108-783f-4231-aa43-7eb52238e759",
   "metadata": {},
   "source": [
    "## File Handling and operations:-"
   ]
  },
  {
   "cell_type": "markdown",
   "id": "0eeaf052-3d00-48ef-afd8-37910ad45636",
   "metadata": {},
   "source": [
    "### What is File Handling?\n",
    "- File handling in Python allows us to create, read, write, and append files.  \n",
    "- It enables persistent storage of data, so that even after the program ends, the data is saved."
   ]
  },
  {
   "cell_type": "markdown",
   "id": "a06f6dc7-22f1-41e3-8adf-735fc6fc44cd",
   "metadata": {},
   "source": [
    "### Why File Handling is Important\n",
    "- Stores data permanently (unlike variables which store temporarily)\n",
    "\n",
    "- Essential for tasks like saving logs, reading datasets, config files, etc.\n",
    "\n",
    "- Used in automation, web development, data science, and more"
   ]
  },
  {
   "cell_type": "markdown",
   "id": "e677ddbe-aee9-4a43-b79a-d6eb2fcc73cb",
   "metadata": {},
   "source": [
    "### File Operations\n",
    "Python supports four main file operations:-\n",
    "1. Open a file\n",
    "2. Read/Write/Append\n",
    "3. Close the file\n",
    "4. Other operations like seek, tell, etc."
   ]
  },
  {
   "cell_type": "markdown",
   "id": "3b94753d-102e-438d-bccc-ae03c08e6c22",
   "metadata": {},
   "source": [
    "### Modes in File Handling\n",
    "\n",
    "**1. \"r\"** :-\tRead (file must exist)  \n",
    "**2. \"w\"**  :-\tWrite (creates new or overwrites existing)  \n",
    "**3. \"a\"**\t:-  Append (adds data at end of file)  \n",
    "**4. \"r+\"** :-\tRead and write  \n",
    "**5. \"w+\"** :- \tWrite and read (overwrites file)  \n",
    "**6. \"a+\"** :-\tAppend and read  \n",
    "**7.  \"b\"** :\tBinary mode (e.g., \"rb\", \"wb\") for images, videos"
   ]
  },
  {
   "cell_type": "markdown",
   "id": "f7d97dd3-8317-4b37-9e9c-a65dfa95d81c",
   "metadata": {},
   "source": [
    "##Reading the whole file:-- "
   ]
  },
  {
   "cell_type": "code",
   "execution_count": 5,
   "id": "fd2119d6-d724-4e0d-841b-cab3dfb17869",
   "metadata": {},
   "outputs": [
    {
     "name": "stdout",
     "output_type": "stream",
     "text": [
      "This is first file for the understanding file operations.\n",
      "Ganesh you are becoming Data Scientist. \n",
      "You are pro Data Scientist.\n"
     ]
    }
   ],
   "source": [
    "with open('example.txt','r') as file:\n",
    "    content = file.read()\n",
    "    print(content)"
   ]
  },
  {
   "cell_type": "markdown",
   "id": "04b18f7d-8772-4d78-b2af-2a2ea839bccf",
   "metadata": {},
   "source": [
    "### Read file line by line:-"
   ]
  },
  {
   "cell_type": "code",
   "execution_count": 9,
   "id": "a52157c0-62ac-4b6a-84b2-46aee4f17150",
   "metadata": {},
   "outputs": [
    {
     "name": "stdout",
     "output_type": "stream",
     "text": [
      "This is first file for the understanding file operations.\n",
      "Ganesh you are becoming Data Scientist.\n",
      "You are pro Data Scientist.\n"
     ]
    }
   ],
   "source": [
    "with open('example.txt','r') as file:\n",
    "    for line in file:\n",
    "        print(line.strip())  #.strip() removes extra spaces and new line characters."
   ]
  },
  {
   "cell_type": "markdown",
   "id": "3c74b3a2-a788-459d-ac12-5b386d7ee350",
   "metadata": {},
   "source": [
    "### Writing the file(Overwriting):- "
   ]
  },
  {
   "cell_type": "code",
   "execution_count": 10,
   "id": "295c7815-b321-4f03-ac92-8f2731f60c83",
   "metadata": {},
   "outputs": [],
   "source": [
    "with open('example.txt','w') as file:\n",
    "    file.write('Hello Python World!\\n')\n",
    "    file.write('This is another new line for write function!')"
   ]
  },
  {
   "cell_type": "markdown",
   "id": "977b6754-aafd-4c4f-8aca-0f4915ba0afb",
   "metadata": {},
   "source": [
    "### Write a file without Overwriting:-"
   ]
  },
  {
   "cell_type": "code",
   "execution_count": 14,
   "id": "a285dcdf-ed2a-49d4-a1b9-97d40407aec8",
   "metadata": {},
   "outputs": [],
   "source": [
    "with open('example.txt','a') as file:\n",
    "    file.write('This is append operation!\\n')\n",
    "    file.write('This is another line for this operation!')"
   ]
  },
  {
   "cell_type": "markdown",
   "id": "5bbf43f2-de01-4792-8c5d-c368bbf54467",
   "metadata": {},
   "source": [
    "### Writing a list of lines:"
   ]
  },
  {
   "cell_type": "code",
   "execution_count": 15,
   "id": "e7ebb897-bec9-4101-85d6-120413c05622",
   "metadata": {},
   "outputs": [],
   "source": [
    "lines = ['First line \\n','Second line \\n','Third line']\n",
    "with open('information.txt','w') as file:\n",
    "    file.writelines(lines)"
   ]
  },
  {
   "cell_type": "code",
   "execution_count": 16,
   "id": "404fe22d-4c9e-4cff-b84f-f246ff194eee",
   "metadata": {},
   "outputs": [],
   "source": [
    "lines = ['4th line \\n','5th line \\n','6th line']\n",
    "with open('information.txt','a') as file:\n",
    "    file.writelines(lines)"
   ]
  },
  {
   "cell_type": "markdown",
   "id": "ba268e3a-8a50-4768-b3ad-1c1bbaaa8ac4",
   "metadata": {},
   "source": [
    "### Binary Files:--\n",
    "This files have extension .bin"
   ]
  },
  {
   "cell_type": "code",
   "execution_count": 18,
   "id": "126527a3-5c80-458d-aaae-cd2875536b49",
   "metadata": {},
   "outputs": [
    {
     "name": "stdout",
     "output_type": "stream",
     "text": [
      "First line \n",
      "\n",
      "Second line \n",
      "\n",
      "Third line\n",
      "\n",
      "4th line \n"
     ]
    }
   ],
   "source": [
    "with open('binaryFile.bin','r') as file:\n",
    "    for line in file:\n",
    "        print(line)"
   ]
  },
  {
   "cell_type": "code",
   "execution_count": 24,
   "id": "bfb7aeca-2d64-492c-8ec9-9a4cc03633e0",
   "metadata": {},
   "outputs": [],
   "source": [
    "binary_string = \"01001000 01100101 01101100 01101100 01101111\"\n",
    "byte_data = bytes([int(b, 2) for b in binary_string.split()])\n",
    "\n",
    "with open('binaryFile.bin','wb') as file:\n",
    "    file.write(byte_data)"
   ]
  },
  {
   "cell_type": "code",
   "execution_count": 25,
   "id": "499480f4-8a8b-44ac-b912-7d864013bf4d",
   "metadata": {},
   "outputs": [
    {
     "name": "stdout",
     "output_type": "stream",
     "text": [
      "b'Hello'\n"
     ]
    }
   ],
   "source": [
    "with open('binaryFile.bin','rb') as file:\n",
    "    content = file.read()\n",
    "    print(content)"
   ]
  },
  {
   "cell_type": "markdown",
   "id": "3585d7ee-daa0-4eb7-aacf-7135a196d975",
   "metadata": {},
   "source": [
    "### Read the content from source text file to the destination test file:--"
   ]
  },
  {
   "cell_type": "code",
   "execution_count": 26,
   "id": "a9fd4550-89b6-48e9-93f2-8fe272bc5850",
   "metadata": {},
   "outputs": [],
   "source": [
    "with open('example.txt','r') as source_file:\n",
    "    content = source_file.read()\n",
    "\n",
    "with open('destination.txt','w') as destination_file:\n",
    "    destination_file.write(content)"
   ]
  },
  {
   "cell_type": "code",
   "execution_count": null,
   "id": "909a34d0-95c9-4c5f-93c9-32563de5b3d0",
   "metadata": {},
   "outputs": [],
   "source": []
  }
 ],
 "metadata": {
  "kernelspec": {
   "display_name": "Python 3 (ipykernel)",
   "language": "python",
   "name": "python3"
  },
  "language_info": {
   "codemirror_mode": {
    "name": "ipython",
    "version": 3
   },
   "file_extension": ".py",
   "mimetype": "text/x-python",
   "name": "python",
   "nbconvert_exporter": "python",
   "pygments_lexer": "ipython3",
   "version": "3.12.7"
  }
 },
 "nbformat": 4,
 "nbformat_minor": 5
}
