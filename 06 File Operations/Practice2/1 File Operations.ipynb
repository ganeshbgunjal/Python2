{
 "cells": [
  {
   "cell_type": "markdown",
   "id": "afdb2108-783f-4231-aa43-7eb52238e759",
   "metadata": {},
   "source": [
    "## File Handling and operations:-"
   ]
  },
  {
   "cell_type": "markdown",
   "id": "0eeaf052-3d00-48ef-afd8-37910ad45636",
   "metadata": {},
   "source": [
    "### What is File Handling?\n",
    "- File handling in Python allows us to create, read, write, and append files.  \n",
    "- It enables persistent storage of data, so that even after the program ends, the data is saved."
   ]
  },
  {
   "cell_type": "markdown",
   "id": "a06f6dc7-22f1-41e3-8adf-735fc6fc44cd",
   "metadata": {},
   "source": [
    "### Why File Handling is Important\n",
    "- Stores data permanently (unlike variables which store temporarily)\n",
    "\n",
    "- Essential for tasks like saving logs, reading datasets, config files, etc.\n",
    "\n",
    "- Used in automation, web development, data science, and more"
   ]
  },
  {
   "cell_type": "markdown",
   "id": "e677ddbe-aee9-4a43-b79a-d6eb2fcc73cb",
   "metadata": {},
   "source": [
    "### File Operations\n",
    "Python supports four main file operations:-\n",
    "1. Open a file\n",
    "2. Read/Write/Append\n",
    "3. Close the file\n",
    "4. Other operations like seek, tell, etc."
   ]
  },
  {
   "cell_type": "markdown",
   "id": "3b94753d-102e-438d-bccc-ae03c08e6c22",
   "metadata": {},
   "source": [
    "### Modes in File Handling\n",
    "\n",
    "**1. \"r\"** :-\tRead (file must exist)  \n",
    "**2. \"w\"**  :-\tWrite (creates new or overwrites existing)  \n",
    "**3. \"a\"**\t:-  Append (adds data at end of file)  \n",
    "**4. \"r+\"** :-\tRead and write  \n",
    "**5. \"w+\"** :- \tWrite and read (overwrites file)  \n",
    "**6. \"a+\"** :-\tAppend and read  \n",
    "**7.  \"b\"** :\tBinary mode (e.g., \"rb\", \"wb\") for images, videos"
   ]
  },
  {
   "cell_type": "markdown",
   "id": "f7d97dd3-8317-4b37-9e9c-a65dfa95d81c",
   "metadata": {},
   "source": [
    "##Reading the whole file:-- "
   ]
  },
  {
   "cell_type": "code",
   "execution_count": 5,
   "id": "fd2119d6-d724-4e0d-841b-cab3dfb17869",
   "metadata": {},
   "outputs": [
    {
     "name": "stdout",
     "output_type": "stream",
     "text": [
      "This is first file for the understanding file operations.\n",
      "Ganesh you are becoming Data Scientist. \n",
      "You are pro Data Scientist.\n"
     ]
    }
   ],
   "source": [
    "with open('example.txt','r') as file:\n",
    "    content = file.read()\n",
    "    print(content)"
   ]
  },
  {
   "cell_type": "markdown",
   "id": "04b18f7d-8772-4d78-b2af-2a2ea839bccf",
   "metadata": {},
   "source": [
    "### Read file line by line:-"
   ]
  },
  {
   "cell_type": "code",
   "execution_count": 9,
   "id": "a52157c0-62ac-4b6a-84b2-46aee4f17150",
   "metadata": {},
   "outputs": [
    {
     "name": "stdout",
     "output_type": "stream",
     "text": [
      "This is first file for the understanding file operations.\n",
      "Ganesh you are becoming Data Scientist.\n",
      "You are pro Data Scientist.\n"
     ]
    }
   ],
   "source": [
    "with open('example.txt','r') as file:\n",
    "    for line in file:\n",
    "        print(line.strip())"
   ]
  },
  {
   "cell_type": "code",
   "execution_count": null,
   "id": "b665dcea-cfb1-426d-bfbe-44228daf8fa8",
   "metadata": {},
   "outputs": [],
   "source": []
  }
 ],
 "metadata": {
  "kernelspec": {
   "display_name": "Python 3 (ipykernel)",
   "language": "python",
   "name": "python3"
  },
  "language_info": {
   "codemirror_mode": {
    "name": "ipython",
    "version": 3
   },
   "file_extension": ".py",
   "mimetype": "text/x-python",
   "name": "python",
   "nbconvert_exporter": "python",
   "pygments_lexer": "ipython3",
   "version": "3.12.7"
  }
 },
 "nbformat": 4,
 "nbformat_minor": 5
}
