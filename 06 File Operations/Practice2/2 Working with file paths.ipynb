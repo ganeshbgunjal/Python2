{
 "cells": [
  {
   "cell_type": "markdown",
   "id": "9b7e413e-1cfd-4a9a-b2df-18eece7fd7ea",
   "metadata": {},
   "source": [
    "## Working with file paths:-"
   ]
  },
  {
   "cell_type": "markdown",
   "id": "c6e75795-ffe8-42cb-b92c-d99bf0a9a1cf",
   "metadata": {},
   "source": [
    "### Create a directory"
   ]
  },
  {
   "cell_type": "code",
   "execution_count": 1,
   "id": "fccd251e-8428-4018-9d8b-1f05564b733b",
   "metadata": {},
   "outputs": [],
   "source": [
    "import os"
   ]
  },
  {
   "cell_type": "code",
   "execution_count": 2,
   "id": "0498721e-62cb-40c1-8238-c92ca64a038a",
   "metadata": {},
   "outputs": [
    {
     "name": "stdout",
     "output_type": "stream",
     "text": [
      "Directory Package created\n"
     ]
    }
   ],
   "source": [
    "new_directory = 'Package'\n",
    "os.mkdir(new_directory)\n",
    "print(f'Directory {new_directory} created')"
   ]
  },
  {
   "cell_type": "markdown",
   "id": "0095d2d9-8373-4f28-8055-92f07abf1f32",
   "metadata": {},
   "source": [
    "### Listing all the files and directories:-"
   ]
  },
  {
   "cell_type": "code",
   "execution_count": 3,
   "id": "5655ef22-4847-4534-b61c-f8c5ee0bfbfd",
   "metadata": {},
   "outputs": [
    {
     "name": "stdout",
     "output_type": "stream",
     "text": [
      "['.ipynb_checkpoints', '1 File Operations.ipynb', '2 Working with file paths.ipynb', 'binaryFile.bin', 'destination.txt', 'example.txt', 'example1.txt', 'information.txt', 'Package']\n"
     ]
    }
   ],
   "source": [
    "items = os.listdir('.')   # this (.) means list all files and folders in current directory\n",
    "print(items)"
   ]
  },
  {
   "cell_type": "markdown",
   "id": "0e18ce07-1f3c-4212-9b5c-aa3b922f16ef",
   "metadata": {},
   "source": [
    "### Joining Paths"
   ]
  },
  {
   "cell_type": "markdown",
   "id": "7f618d93-cf7c-4133-ad1f-b884a093a758",
   "metadata": {},
   "source": [
    "This is very important feature."
   ]
  },
  {
   "cell_type": "code",
   "execution_count": 4,
   "id": "3c4d081b-476e-427c-aae6-3a0f7d4a87dd",
   "metadata": {},
   "outputs": [
    {
     "name": "stdout",
     "output_type": "stream",
     "text": [
      "folder\\file.txt\n"
     ]
    }
   ],
   "source": [
    "dir_name = 'folder'\n",
    "file_name = 'file.txt'\n",
    "full_path = os.path.join(dir_name,file_name)\n",
    "print(full_path)"
   ]
  },
  {
   "cell_type": "markdown",
   "id": "1c0cbf01-8d45-4e8b-a15d-fa084e5e9724",
   "metadata": {},
   "source": [
    "### To see with full folder structure:-"
   ]
  },
  {
   "cell_type": "code",
   "execution_count": 6,
   "id": "a2be9536-92a4-4e8a-bc68-7604c62afcc9",
   "metadata": {},
   "outputs": [
    {
     "name": "stdout",
     "output_type": "stream",
     "text": [
      "D:\\2. Udemy Course\\1 Python\\Course Data\\06 File Operations\\Practice2\\folder\\file.txt\n"
     ]
    }
   ],
   "source": [
    "dir_name = 'folder'\n",
    "file_name = 'file.txt'\n",
    "full_path = os.path.join(os.getcwd(),dir_name,file_name)\n",
    "print(full_path)"
   ]
  },
  {
   "cell_type": "code",
   "execution_count": 7,
   "id": "99b4fda8-5145-4195-a003-c449530f2229",
   "metadata": {},
   "outputs": [
    {
     "name": "stdout",
     "output_type": "stream",
     "text": [
      "The path 'example.txt' exists\n"
     ]
    }
   ],
   "source": [
    "path = 'example.txt'\n",
    "if os.path.exists(path):\n",
    "    print(f\"The path '{path}' exists\")\n",
    "else:\n",
    "    print(f\"The path '{path}' does not exists\")"
   ]
  },
  {
   "cell_type": "code",
   "execution_count": 8,
   "id": "fa9cf5f6-1559-4e95-9d11-ce911a5a7b9f",
   "metadata": {},
   "outputs": [
    {
     "name": "stdout",
     "output_type": "stream",
     "text": [
      "The path 'ex.txt' does not exists\n"
     ]
    }
   ],
   "source": [
    "path = 'ex.txt'\n",
    "if os.path.exists(path):\n",
    "    print(f\"The path '{path}' exists\")\n",
    "else:\n",
    "    print(f\"The path '{path}' does not exists\")"
   ]
  },
  {
   "cell_type": "markdown",
   "id": "210ec327-31e4-4a1b-947f-e302aad4fd5b",
   "metadata": {},
   "source": [
    "### Checking If the path is file or directory:-"
   ]
  },
  {
   "cell_type": "code",
   "execution_count": 15,
   "id": "57fbc94f-a322-4ddd-8fea-d4d9d744faa0",
   "metadata": {},
   "outputs": [
    {
     "name": "stdout",
     "output_type": "stream",
     "text": [
      "Given path 'example.txt' is file path\n"
     ]
    }
   ],
   "source": [
    "path = 'example.txt'\n",
    "if os.path.isfile(path):\n",
    "    print(f\"Given path '{path}' is file path\")\n",
    "elif os.path.isdir(path1):\n",
    "    print(f\"Given path '{path}' is file directory\")\n",
    "else:\n",
    "    print(f\"The path '{path}' is neither file path or directory path\")"
   ]
  },
  {
   "cell_type": "code",
   "execution_count": 16,
   "id": "22e56c4b-3b8d-4379-9256-1af738144940",
   "metadata": {},
   "outputs": [
    {
     "name": "stdout",
     "output_type": "stream",
     "text": [
      "The path 'D:\\2. Udemy Course\\1 Python\\Course Data\\06 File Operations\\Practice2\\folder\\file.txt' is neither a file path nor a directory path\n"
     ]
    }
   ],
   "source": [
    "path = r'D:\\2. Udemy Course\\1 Python\\Course Data\\06 File Operations\\Practice2\\folder\\file.txt'\n",
    "\n",
    "if os.path.isfile(path):\n",
    "    print(f\"Given path '{path}' is a file path\")\n",
    "elif os.path.isdir(path):\n",
    "    print(f\"Given path '{path}' is a file directory\")\n",
    "else:\n",
    "    print(f\"The path '{path}' is neither a file path nor a directory path\")"
   ]
  },
  {
   "cell_type": "markdown",
   "id": "98b05f4b-f9e8-4b60-b603-5f72efca70ce",
   "metadata": {},
   "source": [
    "### Getting the absolute path:-"
   ]
  },
  {
   "cell_type": "code",
   "execution_count": null,
   "id": "0386df74-b3f1-4579-853b-be4bb867429d",
   "metadata": {},
   "outputs": [],
   "source": []
  }
 ],
 "metadata": {
  "kernelspec": {
   "display_name": "Python 3 (ipykernel)",
   "language": "python",
   "name": "python3"
  },
  "language_info": {
   "codemirror_mode": {
    "name": "ipython",
    "version": 3
   },
   "file_extension": ".py",
   "mimetype": "text/x-python",
   "name": "python",
   "nbconvert_exporter": "python",
   "pygments_lexer": "ipython3",
   "version": "3.12.7"
  }
 },
 "nbformat": 4,
 "nbformat_minor": 5
}
