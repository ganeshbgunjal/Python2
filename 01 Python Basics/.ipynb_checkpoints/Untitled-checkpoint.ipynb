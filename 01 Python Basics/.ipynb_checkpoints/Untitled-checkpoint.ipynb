{
 "cells": [
  {
   "cell_type": "markdown",
   "id": "3a19038b-7495-4db4-8ba9-04790e2c9b7f",
   "metadata": {},
   "source": [
    "#### Operators:"
   ]
  },
  {
   "cell_type": "markdown",
   "id": "7771d81f-8d2c-4cf0-be51-a348ef86e7e2",
   "metadata": {},
   "source": [
    "1. Arithmatic Operator\n",
    "2. Comparison Operator\n",
    "3. Relational Operator\n",
    "4. Logical Operator\n",
    "5. Identity Operator"
   ]
  },
  {
   "cell_type": "code",
   "execution_count": null,
   "id": "0af8d570-5dee-4699-878a-8d3edc295bb0",
   "metadata": {},
   "outputs": [],
   "source": [
    "1."
   ]
  }
 ],
 "metadata": {
  "kernelspec": {
   "display_name": "Python 3 (ipykernel)",
   "language": "python",
   "name": "python3"
  },
  "language_info": {
   "codemirror_mode": {
    "name": "ipython",
    "version": 3
   },
   "file_extension": ".py",
   "mimetype": "text/x-python",
   "name": "python",
   "nbconvert_exporter": "python",
   "pygments_lexer": "ipython3",
   "version": "3.12.7"
  }
 },
 "nbformat": 4,
 "nbformat_minor": 5
}
