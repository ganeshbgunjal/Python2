{
 "cells": [
  {
   "cell_type": "markdown",
   "id": "0574cd15-edff-4def-970b-b3552d4f875b",
   "metadata": {},
   "source": [
    "### **Operators:-**\n",
    "1. Arithmatic operators\n",
    "2. Comparison Operators\n",
    "3. Relational Operators\n",
    "4. Logical Operators\n",
    "5. Indentify operators"
   ]
  },
  {
   "cell_type": "markdown",
   "id": "ea63dd5e-5a96-4639-b2c8-e1cf60f94f7e",
   "metadata": {},
   "source": [
    "**1. Arithmatic Operators:-**"
   ]
  },
  {
   "cell_type": "code",
   "execution_count": 1,
   "id": "0cdd6b9a-ec55-48bf-b838-660b1159f1f5",
   "metadata": {},
   "outputs": [
    {
     "name": "stdout",
     "output_type": "stream",
     "text": [
      "Addition:  30\n",
      "Substraction:  10\n",
      "Multiplication:  200\n",
      "Division:  2.0\n",
      "Modulus/Remainder:  0\n",
      "A to the Power b 10240000000000\n"
     ]
    }
   ],
   "source": [
    "a = 20\n",
    "b = 10\n",
    "print('Addition: ',a+b)\n",
    "print('Substraction: ',a-b)\n",
    "print('Multiplication: ',a*b)\n",
    "print('Division: ',a/b)\n",
    "print('Modulus/Remainder: ',a%b)\n",
    "print('A to the Power b',a**b)   #Exponential Operaotrs"
   ]
  },
  {
   "cell_type": "markdown",
   "id": "56f0d765-5a11-41f6-b472-d3bde0b6e962",
   "metadata": {},
   "source": [
    "**2. Comparison Operators:-**"
   ]
  },
  {
   "cell_type": "code",
   "execution_count": 2,
   "id": "8b464f2d-3fcf-4389-a082-9715e6e83d27",
   "metadata": {},
   "outputs": [
    {
     "data": {
      "text/plain": [
       "True"
      ]
     },
     "execution_count": 2,
     "metadata": {},
     "output_type": "execute_result"
    }
   ],
   "source": [
    "a = 10\n",
    "b = 10\n",
    "\n",
    "a==b"
   ]
  },
  {
   "cell_type": "code",
   "execution_count": 3,
   "id": "87b361a2-82f5-4e5b-b767-824597d9a065",
   "metadata": {},
   "outputs": [
    {
     "data": {
      "text/plain": [
       "False"
      ]
     },
     "execution_count": 3,
     "metadata": {},
     "output_type": "execute_result"
    }
   ],
   "source": [
    "a!=b"
   ]
  },
  {
   "cell_type": "code",
   "execution_count": 4,
   "id": "544ac35d-d0db-4b0a-93be-dca193038679",
   "metadata": {},
   "outputs": [
    {
     "data": {
      "text/plain": [
       "False"
      ]
     },
     "execution_count": 4,
     "metadata": {},
     "output_type": "execute_result"
    }
   ],
   "source": [
    "a<b"
   ]
  },
  {
   "cell_type": "code",
   "execution_count": 5,
   "id": "074d2851-86ba-447b-8dce-f75ffc496ce3",
   "metadata": {},
   "outputs": [
    {
     "data": {
      "text/plain": [
       "False"
      ]
     },
     "execution_count": 5,
     "metadata": {},
     "output_type": "execute_result"
    }
   ],
   "source": [
    "a>b\n"
   ]
  },
  {
   "cell_type": "code",
   "execution_count": 6,
   "id": "9df68860-b148-4be4-856c-56af5e579cba",
   "metadata": {},
   "outputs": [
    {
     "data": {
      "text/plain": [
       "True"
      ]
     },
     "execution_count": 6,
     "metadata": {},
     "output_type": "execute_result"
    }
   ],
   "source": [
    "a>=b"
   ]
  },
  {
   "cell_type": "code",
   "execution_count": 7,
   "id": "b6b91ac5-0138-4eca-bf2c-4973677e3247",
   "metadata": {},
   "outputs": [
    {
     "data": {
      "text/plain": [
       "True"
      ]
     },
     "execution_count": 7,
     "metadata": {},
     "output_type": "execute_result"
    }
   ],
   "source": [
    "a<=b"
   ]
  },
  {
   "cell_type": "code",
   "execution_count": 8,
   "id": "5defe348-2f3c-4585-814f-44785c269ecd",
   "metadata": {},
   "outputs": [
    {
     "data": {
      "text/plain": [
       "True"
      ]
     },
     "execution_count": 8,
     "metadata": {},
     "output_type": "execute_result"
    }
   ],
   "source": [
    "str1 = 'Ganesh'\n",
    "str2 = 'Ganesh'\n",
    "\n",
    "str1==str2"
   ]
  },
  {
   "cell_type": "code",
   "execution_count": 9,
   "id": "5d263ec7-e4aa-4361-954a-5d5ff1c75f4a",
   "metadata": {},
   "outputs": [
    {
     "data": {
      "text/plain": [
       "False"
      ]
     },
     "execution_count": 9,
     "metadata": {},
     "output_type": "execute_result"
    }
   ],
   "source": [
    "str1 = 'Ganesh'\n",
    "str2 = 'ganesh'\n",
    "\n",
    "str1==str2"
   ]
  },
  {
   "cell_type": "markdown",
   "id": "b8a7a4bf-f39a-42a0-bcb0-92d088549a80",
   "metadata": {},
   "source": [
    "**3.Logical Operators:-**  \n",
    "1. AND:- Both conditions must be true.\n",
    "2. OR:- one condition maybe true, it will give you true.\n",
    "3. NOT:- nagation"
   ]
  },
  {
   "cell_type": "code",
   "execution_count": 10,
   "id": "ef7a4781-ffe1-480a-a1ef-17527416df65",
   "metadata": {},
   "outputs": [
    {
     "data": {
      "text/plain": [
       "True"
      ]
     },
     "execution_count": 10,
     "metadata": {},
     "output_type": "execute_result"
    }
   ],
   "source": [
    "a = True\n",
    "b = True\n",
    "a and b"
   ]
  },
  {
   "cell_type": "code",
   "execution_count": 11,
   "id": "63de2c27-c879-4778-a040-ed60e92ab2ce",
   "metadata": {},
   "outputs": [
    {
     "data": {
      "text/plain": [
       "True"
      ]
     },
     "execution_count": 11,
     "metadata": {},
     "output_type": "execute_result"
    }
   ],
   "source": [
    "a or b"
   ]
  },
  {
   "cell_type": "code",
   "execution_count": 12,
   "id": "a25f2f11-a9da-4496-a767-80d000e4a1c2",
   "metadata": {},
   "outputs": [
    {
     "data": {
      "text/plain": [
       "False"
      ]
     },
     "execution_count": 12,
     "metadata": {},
     "output_type": "execute_result"
    }
   ],
   "source": [
    "not a"
   ]
  },
  {
   "cell_type": "code",
   "execution_count": 13,
   "id": "05d4d9e4-43f5-43cf-9caa-646a35430746",
   "metadata": {},
   "outputs": [
    {
     "data": {
      "text/plain": [
       "False"
      ]
     },
     "execution_count": 13,
     "metadata": {},
     "output_type": "execute_result"
    }
   ],
   "source": [
    "a = False\n",
    "b = False\n",
    "\n",
    "a and b"
   ]
  },
  {
   "cell_type": "code",
   "execution_count": 14,
   "id": "b51a745b-28c5-4fcc-8fa2-e015f0d73c40",
   "metadata": {},
   "outputs": [
    {
     "data": {
      "text/plain": [
       "False"
      ]
     },
     "execution_count": 14,
     "metadata": {},
     "output_type": "execute_result"
    }
   ],
   "source": [
    "a or b"
   ]
  },
  {
   "cell_type": "code",
   "execution_count": 15,
   "id": "682ff4c1-d694-4175-bb68-c10f08a04573",
   "metadata": {},
   "outputs": [
    {
     "data": {
      "text/plain": [
       "True"
      ]
     },
     "execution_count": 15,
     "metadata": {},
     "output_type": "execute_result"
    }
   ],
   "source": [
    "not b"
   ]
  },
  {
   "cell_type": "markdown",
   "id": "9de518bd-6d10-48da-8ab8-bd481ba1ce85",
   "metadata": {},
   "source": [
    "### **Simple Calculator**"
   ]
  },
  {
   "cell_type": "code",
   "execution_count": 21,
   "id": "1650aac7-8949-43d8-acb1-cbfda96d1d58",
   "metadata": {},
   "outputs": [
    {
     "name": "stdin",
     "output_type": "stream",
     "text": [
      "Enter Num1:  10\n",
      "Enter Num2:  5\n"
     ]
    },
    {
     "name": "stdout",
     "output_type": "stream",
     "text": [
      "**************************************\n",
      "Addition:  15\n",
      "Substraction: 5\n",
      "Multiplication:  50\n",
      "Division:  2.0\n",
      "Floor Division:  2\n",
      "Modulus:  0\n",
      "Exponention result:  100000\n"
     ]
    }
   ],
   "source": [
    "#Accepting values from user\n",
    "num1 = int(input('Enter Num1: '))\n",
    "num2 = int(input('Enter Num2: '))\n",
    "\n",
    "\n",
    "#performing arithmatic operations\n",
    "print('**************************************')\n",
    "addition= num1+num2\n",
    "substraction = num1-num2\n",
    "multiplication = num1*num2\n",
    "division = num1/num2\n",
    "floor_division = num1//num2\n",
    "modulus = num1%num2\n",
    "exponention = num1**num2\n",
    "\n",
    "# Displaying the results\n",
    "if num2 == 0:\n",
    "    print('Error: Division by zero is not allowed.')\n",
    "else:\n",
    "    print('Addition: ',addition)\n",
    "    print('Substraction:',substraction)\n",
    "    print('Multiplication: ',multiplication)\n",
    "    print('Division: ',division)\n",
    "    print('Floor Division: ',floor_division)\n",
    "    print('Modulus: ',modulus)\n",
    "    print('Exponention result: ',exponention)\n"
   ]
  },
  {
   "cell_type": "code",
   "execution_count": null,
   "id": "6eb30d16-fc61-419f-ab34-d5e1868b7b66",
   "metadata": {},
   "outputs": [],
   "source": []
  }
 ],
 "metadata": {
  "kernelspec": {
   "display_name": "Python 3 (ipykernel)",
   "language": "python",
   "name": "python3"
  },
  "language_info": {
   "codemirror_mode": {
    "name": "ipython",
    "version": 3
   },
   "file_extension": ".py",
   "mimetype": "text/x-python",
   "name": "python",
   "nbconvert_exporter": "python",
   "pygments_lexer": "ipython3",
   "version": "3.12.7"
  }
 },
 "nbformat": 4,
 "nbformat_minor": 5
}
