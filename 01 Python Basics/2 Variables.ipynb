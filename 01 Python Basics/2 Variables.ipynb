{
 "cells": [
  {
   "cell_type": "markdown",
   "id": "6b47642b-3f9e-4f27-9e46-90d06c3bb940",
   "metadata": {},
   "source": [
    "### Variables:-\n",
    "Name given to memory location.  \n",
    "varibles are used to store data that can be referenced and manipulated in the program.  \n",
    "Variables are created when we assign the value to it.\n",
    "the declaration happens automatically when you assign value to varible."
   ]
  },
  {
   "cell_type": "code",
   "execution_count": 3,
   "id": "8f6d9c37-d1d8-450c-ac6a-0346dd11f527",
   "metadata": {},
   "outputs": [
    {
     "name": "stdout",
     "output_type": "stream",
     "text": [
      "<class 'int'>\n",
      "value is: 100\n"
     ]
    }
   ],
   "source": [
    "a = 100\n",
    "print(type(a))\n",
    "print(f'value is: {a}')"
   ]
  },
  {
   "cell_type": "code",
   "execution_count": 4,
   "id": "f6debf09-3bfa-4ae3-9da1-9cd5b507663b",
   "metadata": {},
   "outputs": [
    {
     "name": "stdout",
     "output_type": "stream",
     "text": [
      "\n"
     ]
    }
   ],
   "source": [
    "# Declaring and assigning varibles:-\n",
    "age = 33\n",
    "height = 5.9\n",
    "name = 'Ganesh'\n",
    "is_student = True\n",
    "print()"
   ]
  },
  {
   "cell_type": "code",
   "execution_count": 9,
   "id": "2fcc0c85-377d-452e-b9f2-57a3c6611391",
   "metadata": {},
   "outputs": [
    {
     "name": "stdout",
     "output_type": "stream",
     "text": [
      "Age:  33\n",
      "<class 'int'>\n"
     ]
    }
   ],
   "source": [
    "print('Age: ',age)\n",
    "print(type(age))"
   ]
  },
  {
   "cell_type": "code",
   "execution_count": 10,
   "id": "3fe348a3-3602-48ec-b881-990b7bd673b3",
   "metadata": {},
   "outputs": [
    {
     "name": "stdout",
     "output_type": "stream",
     "text": [
      "Height:  5.9\n",
      "<class 'float'>\n"
     ]
    }
   ],
   "source": [
    "print('Height: ',height)\n",
    "print(type(height))"
   ]
  },
  {
   "cell_type": "code",
   "execution_count": 11,
   "id": "1a83f7e4-e387-4af1-a6bc-24d75e600c38",
   "metadata": {},
   "outputs": [
    {
     "name": "stdout",
     "output_type": "stream",
     "text": [
      "Name:  Ganesh\n",
      "<class 'str'>\n"
     ]
    }
   ],
   "source": [
    "print('Name: ',name)\n",
    "print(type(name))"
   ]
  },
  {
   "cell_type": "code",
   "execution_count": 12,
   "id": "04188b36-7270-4f16-b4c7-135312636b17",
   "metadata": {},
   "outputs": [
    {
     "name": "stdout",
     "output_type": "stream",
     "text": [
      "Is he student:  True\n",
      "<class 'bool'>\n"
     ]
    }
   ],
   "source": [
    "print('Is he student: ',is_student)\n",
    "print(type(is_student))"
   ]
  },
  {
   "cell_type": "markdown",
   "id": "c435c454-ecf4-4cf9-8f4c-5d1cf9f9919e",
   "metadata": {},
   "source": [
    "### Naming Convention:-\n",
    "1. varible names should be descriptive.\n",
    "2. they always start with letter or underscore.they can contain letters, numbers and underscore.\n",
    "3. names are case sensitive.\n",
    "4. Cannot contain special characters like @, #, $, %, &, *, -\n",
    "5. Cannot be a Python keyword (like if, else, while, etc.)\n"
   ]
  },
  {
   "cell_type": "code",
   "execution_count": 14,
   "id": "a483fe54-7065-44bf-a3d6-353b6f38c84d",
   "metadata": {},
   "outputs": [
    {
     "name": "stdout",
     "output_type": "stream",
     "text": [
      "Name:  Ganesh\n",
      "Surname:  Gunjal\n"
     ]
    }
   ],
   "source": [
    "# valid variable names:-\n",
    "my_name = 'Ganesh'\n",
    "surname_ = 'Gunjal'\n",
    "print('Name: ',my_name)\n",
    "print('Surname: ',surname_)"
   ]
  },
  {
   "cell_type": "code",
   "execution_count": 15,
   "id": "190be237-bfff-460f-b22d-4e4a98e3b7d0",
   "metadata": {},
   "outputs": [
    {
     "ename": "SyntaxError",
     "evalue": "invalid decimal literal (2842899733.py, line 2)",
     "output_type": "error",
     "traceback": [
      "\u001b[1;36m  Cell \u001b[1;32mIn[15], line 2\u001b[1;36m\u001b[0m\n\u001b[1;33m    2age = 32\u001b[0m\n\u001b[1;37m    ^\u001b[0m\n\u001b[1;31mSyntaxError\u001b[0m\u001b[1;31m:\u001b[0m invalid decimal literal\n"
     ]
    }
   ],
   "source": [
    "# Invalid variable names:- \n",
    "2age = 32\n",
    "print(2age)"
   ]
  },
  {
   "cell_type": "code",
   "execution_count": 16,
   "id": "1e12df71-68c8-4adf-a2e9-0dcef6f74d99",
   "metadata": {},
   "outputs": [
    {
     "ename": "SyntaxError",
     "evalue": "cannot assign to expression here. Maybe you meant '==' instead of '='? (1775505812.py, line 1)",
     "output_type": "error",
     "traceback": [
      "\u001b[1;36m  Cell \u001b[1;32mIn[16], line 1\u001b[1;36m\u001b[0m\n\u001b[1;33m    first-name = 'Ganaa'\u001b[0m\n\u001b[1;37m    ^\u001b[0m\n\u001b[1;31mSyntaxError\u001b[0m\u001b[1;31m:\u001b[0m cannot assign to expression here. Maybe you meant '==' instead of '='?\n"
     ]
    }
   ],
   "source": [
    "first-name = 'Ganaa'"
   ]
  },
  {
   "cell_type": "code",
   "execution_count": 17,
   "id": "9fa6a9c5-897f-4f6c-b986-fb46554ab0d8",
   "metadata": {},
   "outputs": [
    {
     "ename": "SyntaxError",
     "evalue": "invalid syntax. Maybe you meant '==' or ':=' instead of '='? (4235496735.py, line 1)",
     "output_type": "error",
     "traceback": [
      "\u001b[1;36m  Cell \u001b[1;32mIn[17], line 1\u001b[1;36m\u001b[0m\n\u001b[1;33m    @name = 'Ganesh'\u001b[0m\n\u001b[1;37m     ^\u001b[0m\n\u001b[1;31mSyntaxError\u001b[0m\u001b[1;31m:\u001b[0m invalid syntax. Maybe you meant '==' or ':=' instead of '='?\n"
     ]
    }
   ],
   "source": [
    "@name = 'Ganesh'\n",
    "print(@name)"
   ]
  },
  {
   "cell_type": "code",
   "execution_count": 18,
   "id": "489484c7-7a05-4cc6-a57a-e3fcbd190600",
   "metadata": {},
   "outputs": [
    {
     "name": "stdout",
     "output_type": "stream",
     "text": [
      "Ganesh\n",
      "gunjal\n"
     ]
    }
   ],
   "source": [
    "# Case sensitivity:-\n",
    "# both variable has different meaning according to python.\n",
    "name = 'Ganesh'\n",
    "Name = \"gunjal\"\n",
    "print(name)\n",
    "print(Name)"
   ]
  },
  {
   "cell_type": "code",
   "execution_count": 19,
   "id": "8b2ffad6-1414-4f48-b1d8-dd76ad67e270",
   "metadata": {},
   "outputs": [
    {
     "data": {
      "text/plain": [
       "False"
      ]
     },
     "execution_count": 19,
     "metadata": {},
     "output_type": "execute_result"
    }
   ],
   "source": [
    "name == Name    #both are not same."
   ]
  },
  {
   "cell_type": "markdown",
   "id": "17d92686-f46f-4ada-9cfe-8713cffb4402",
   "metadata": {},
   "source": [
    "#### **Python is dynamically typed. means type of variable is determined at the time of runtime.**"
   ]
  },
  {
   "cell_type": "code",
   "execution_count": 20,
   "id": "bf1b8e55-ec18-4093-9419-f1aee3e6f4ad",
   "metadata": {},
   "outputs": [],
   "source": [
    "age = 33\n",
    "height = 5.9\n"
   ]
  },
  {
   "cell_type": "markdown",
   "id": "0b901a80-cb91-4f7f-b99f-6dcb358c536f",
   "metadata": {},
   "source": [
    "here data types are determined at the time of runtime."
   ]
  },
  {
   "cell_type": "markdown",
   "id": "3e8d7fff-14f7-4b16-9d3a-f898912de9b1",
   "metadata": {},
   "source": [
    "#### Type Checking and Conversion:-"
   ]
  },
  {
   "cell_type": "code",
   "execution_count": 21,
   "id": "7c80f6f5-0ed3-4d77-b650-a34a85e22521",
   "metadata": {},
   "outputs": [
    {
     "data": {
      "text/plain": [
       "int"
      ]
     },
     "execution_count": 21,
     "metadata": {},
     "output_type": "execute_result"
    }
   ],
   "source": [
    "type(age)"
   ]
  },
  {
   "cell_type": "code",
   "execution_count": 23,
   "id": "8f5deaa3-0ae5-4192-af4d-d689753e4207",
   "metadata": {},
   "outputs": [
    {
     "data": {
      "text/plain": [
       "str"
      ]
     },
     "execution_count": 23,
     "metadata": {},
     "output_type": "execute_result"
    }
   ],
   "source": [
    "type(str(age))    # this is type conversion."
   ]
  },
  {
   "cell_type": "code",
   "execution_count": 26,
   "id": "545e7ccb-28e6-453f-9573-efe1c00077a6",
   "metadata": {},
   "outputs": [
    {
     "name": "stdout",
     "output_type": "stream",
     "text": [
      "Age:  33\n",
      "Type is:  <class 'str'>\n",
      "After conversion type is:  <class 'int'>\n"
     ]
    }
   ],
   "source": [
    "age = '33'\n",
    "print('Age: ',age)\n",
    "print('Type is: ',type(age))\n",
    "print('After conversion type is: ',type(int(age)))"
   ]
  },
  {
   "cell_type": "code",
   "execution_count": 27,
   "id": "c7708723-03b2-40d4-afd9-c07cab14c632",
   "metadata": {},
   "outputs": [
    {
     "ename": "ValueError",
     "evalue": "invalid literal for int() with base 10: 'Ganesh'",
     "output_type": "error",
     "traceback": [
      "\u001b[1;31m---------------------------------------------------------------------------\u001b[0m",
      "\u001b[1;31mValueError\u001b[0m                                Traceback (most recent call last)",
      "Cell \u001b[1;32mIn[27], line 2\u001b[0m\n\u001b[0;32m      1\u001b[0m name \u001b[38;5;241m=\u001b[39m \u001b[38;5;124m'\u001b[39m\u001b[38;5;124mGanesh\u001b[39m\u001b[38;5;124m'\u001b[39m\n\u001b[1;32m----> 2\u001b[0m \u001b[38;5;28mint\u001b[39m(name)\n",
      "\u001b[1;31mValueError\u001b[0m: invalid literal for int() with base 10: 'Ganesh'"
     ]
    }
   ],
   "source": [
    "name = 'Ganesh'\n",
    "int(name)   #not possible"
   ]
  },
  {
   "cell_type": "code",
   "execution_count": 28,
   "id": "be36f101-e728-4f81-a52b-8568c00f5c4a",
   "metadata": {},
   "outputs": [
    {
     "data": {
      "text/plain": [
       "25.0"
      ]
     },
     "execution_count": 28,
     "metadata": {},
     "output_type": "execute_result"
    }
   ],
   "source": [
    "float(25)    # int to float conversion"
   ]
  },
  {
   "cell_type": "markdown",
   "id": "c327686f-2ca6-4463-9bbd-410c9102005b",
   "metadata": {},
   "source": [
    "#### **Dynamic Typing:-**  \n",
    "Python allows the type of variable to change the program executes."
   ]
  },
  {
   "cell_type": "code",
   "execution_count": 29,
   "id": "ccb8fca7-5afe-4062-9f2f-ad08bbc2e465",
   "metadata": {},
   "outputs": [
    {
     "name": "stdout",
     "output_type": "stream",
     "text": [
      "10 <class 'int'>\n",
      "Ganesh <class 'str'>\n"
     ]
    }
   ],
   "source": [
    "var = 10\n",
    "print(var,type(var))\n",
    "var = 'Ganesh'\n",
    "print(var,type(var))"
   ]
  },
  {
   "cell_type": "markdown",
   "id": "1e546ec0-fd29-4314-ba27-4aee4123a0a7",
   "metadata": {},
   "source": [
    "#### **Input:**\n",
    "values taken from user"
   ]
  },
  {
   "cell_type": "code",
   "execution_count": 31,
   "id": "94a19b20-4af4-4908-b924-f6fecf209fbe",
   "metadata": {},
   "outputs": [
    {
     "name": "stdin",
     "output_type": "stream",
     "text": [
      "Enter name:  ganesh\n",
      "Enter your age:  33\n"
     ]
    },
    {
     "name": "stdout",
     "output_type": "stream",
     "text": [
      "ganesh <class 'str'>\n",
      "33 <class 'int'>\n"
     ]
    }
   ],
   "source": [
    "name = input('Enter name: ')\n",
    "age = int(input('Enter your age: '))\n",
    "print(name,type(name))\n",
    "print(age,type(age))"
   ]
  },
  {
   "cell_type": "markdown",
   "id": "f831598c-7693-4204-82d2-05149b734251",
   "metadata": {},
   "source": [
    "#### **Simple Calculator**"
   ]
  },
  {
   "cell_type": "code",
   "execution_count": 32,
   "id": "043ff6a2-b599-485c-bfbe-fec7e110d748",
   "metadata": {},
   "outputs": [
    {
     "name": "stdin",
     "output_type": "stream",
     "text": [
      "Enter Num1:  22\n",
      "Enter Num2:  11\n"
     ]
    },
    {
     "name": "stdout",
     "output_type": "stream",
     "text": [
      "************************************************\n",
      "Sum is:  33\n",
      "Substraction is:  11\n",
      "Multiplication is:  242\n",
      "Division is:  2.0\n",
      "************************************************\n"
     ]
    }
   ],
   "source": [
    "num1 = int(input('Enter Num1: '))\n",
    "num2 = int(input('Enter Num2: '))\n",
    "\n",
    "addition = num1 + num2\n",
    "substraction = num1 - num2\n",
    "multiplication = num1 * num2\n",
    "division = num1 / num2\n",
    "\n",
    "print('************************************************')\n",
    "print('Sum is: ',addition)\n",
    "print('Substraction is: ',substraction)\n",
    "print('Multiplication is: ',multiplication)\n",
    "print('Division is: ',division)\n",
    "print('************************************************')\n"
   ]
  },
  {
   "cell_type": "code",
   "execution_count": null,
   "id": "30f5c819-3001-4896-a693-c05b123329fe",
   "metadata": {},
   "outputs": [],
   "source": []
  }
 ],
 "metadata": {
  "kernelspec": {
   "display_name": "Python 3 (ipykernel)",
   "language": "python",
   "name": "python3"
  },
  "language_info": {
   "codemirror_mode": {
    "name": "ipython",
    "version": 3
   },
   "file_extension": ".py",
   "mimetype": "text/x-python",
   "name": "python",
   "nbconvert_exporter": "python",
   "pygments_lexer": "ipython3",
   "version": "3.12.7"
  }
 },
 "nbformat": 4,
 "nbformat_minor": 5
}
