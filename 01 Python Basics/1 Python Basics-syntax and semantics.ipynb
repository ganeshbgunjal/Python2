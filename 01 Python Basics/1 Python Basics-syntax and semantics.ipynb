{
 "cells": [
  {
   "cell_type": "markdown",
   "id": "3b878f26-60b6-4c15-8b6c-157488b856bb",
   "metadata": {},
   "source": [
    "### Syntax:- \n",
    "Correct arrangement of symbols and words in the code.  \n",
    "Simply how the code should be written."
   ]
  },
  {
   "cell_type": "markdown",
   "id": "03d7949e-0263-49ca-8403-53c0b3903b25",
   "metadata": {},
   "source": [
    "### Semantics:-\n",
    "refers to the meaning of code, or how Python interprets and executes it. While syntax defines the structure (how the code should be written),  \n",
    "semantics defines the behavior (what the code does when executed)."
   ]
  },
  {
   "cell_type": "markdown",
   "id": "2b6325a3-d57d-4430-bfb6-27d83a41629f",
   "metadata": {},
   "source": [
    "### Single and Multiline comment:-\n",
    " '# is consider as single line comment.'   \n",
    "''' this is multiline comment'''"
   ]
  },
  {
   "cell_type": "code",
   "execution_count": 1,
   "id": "509ce5de-1b3d-4bc1-83d5-4840f9f4c93c",
   "metadata": {},
   "outputs": [
    {
     "name": "stdout",
     "output_type": "stream",
     "text": [
      "Ganesh\n",
      "Gunjal\n"
     ]
    }
   ],
   "source": [
    "# Python is case sensitive.\n",
    "name = 'Ganesh'\n",
    "Name = 'Gunjal'\n",
    "print(name)\n",
    "print(Name)"
   ]
  },
  {
   "cell_type": "code",
   "execution_count": 1,
   "id": "afaf9d3c-3ca5-4610-b804-c77d53b7cdb5",
   "metadata": {},
   "outputs": [
    {
     "name": "stdout",
     "output_type": "stream",
     "text": [
      "You are young\n"
     ]
    }
   ],
   "source": [
    "### Indentation:- \n",
    "# Generally 4 spaces or tab is used for indentation. \n",
    "# below if block has indentation. it has used 4 spaces.\n",
    "age = 33\n",
    "if age>35:\n",
    "    print('You are aged person')\n",
    "else:\n",
    "    print('You are young')"
   ]
  },
  {
   "cell_type": "code",
   "execution_count": 2,
   "id": "b2385d02-82ec-464d-b2d0-e6771a11a02c",
   "metadata": {},
   "outputs": [
    {
     "name": "stdout",
     "output_type": "stream",
     "text": [
      "25\n"
     ]
    }
   ],
   "source": [
    "# Line continuation:-\n",
    "total = 1+2+3+4+5+\\     #this is line continuation. backslash is used here.\n",
    "4+3+2+1\n",
    "print(total)"
   ]
  },
  {
   "cell_type": "code",
   "execution_count": 3,
   "id": "0cc98ef4-54b5-4319-9bd3-43ddd80a1b91",
   "metadata": {},
   "outputs": [
    {
     "name": "stdout",
     "output_type": "stream",
     "text": [
      "30\n"
     ]
    }
   ],
   "source": [
    "# multiple statements in a single line.\n",
    "x=10; y=20;z=x+y\n",
    "print(z)"
   ]
  },
  {
   "cell_type": "code",
   "execution_count": null,
   "id": "32239c58-785d-40ac-814f-dd4c0a987c44",
   "metadata": {},
   "outputs": [],
   "source": []
  }
 ],
 "metadata": {
  "kernelspec": {
   "display_name": "Python 3 (ipykernel)",
   "language": "python",
   "name": "python3"
  },
  "language_info": {
   "codemirror_mode": {
    "name": "ipython",
    "version": 3
   },
   "file_extension": ".py",
   "mimetype": "text/x-python",
   "name": "python",
   "nbconvert_exporter": "python",
   "pygments_lexer": "ipython3",
   "version": "3.12.7"
  }
 },
 "nbformat": 4,
 "nbformat_minor": 5
}
