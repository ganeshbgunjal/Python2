{
 "cells": [
  {
   "cell_type": "markdown",
   "id": "8495a13d-cbe9-44f4-8631-f065ae54651c",
   "metadata": {},
   "source": [
    "### **Data Types:**\n",
    "its the classification of data that tells the compiler or interpreter how the programmer intends to use the data."
   ]
  },
  {
   "cell_type": "code",
   "execution_count": null,
   "id": "582767db-ea5b-4817-b795-373685a9392c",
   "metadata": {},
   "outputs": [],
   "source": []
  }
 ],
 "metadata": {
  "kernelspec": {
   "display_name": "Python 3 (ipykernel)",
   "language": "python",
   "name": "python3"
  },
  "language_info": {
   "codemirror_mode": {
    "name": "ipython",
    "version": 3
   },
   "file_extension": ".py",
   "mimetype": "text/x-python",
   "name": "python",
   "nbconvert_exporter": "python",
   "pygments_lexer": "ipython3",
   "version": "3.12.7"
  }
 },
 "nbformat": 4,
 "nbformat_minor": 5
}
