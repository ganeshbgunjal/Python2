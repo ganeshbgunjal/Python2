{
 "cells": [
  {
   "cell_type": "markdown",
   "id": "e121ba21-bf57-4146-abeb-27bf37e26b30",
   "metadata": {},
   "source": [
    "### Decorators:\n",
    "Decorators are powerful and flexible feature in python that allows you to modify the behaviour of function or class method. They are commonly used to add functionality to function or methods without modifying their acyual code. this lesson covers the basics of decorators including how to create and use them."
   ]
  },
  {
   "cell_type": "code",
   "execution_count": 2,
   "id": "84d8f964-13a2-42e6-93c6-8c8059252daf",
   "metadata": {},
   "outputs": [],
   "source": [
    "def Welcome():\n",
    "    print('Welcome to Advanced python course..')"
   ]
  },
  {
   "cell_type": "code",
   "execution_count": 3,
   "id": "b0d94789-6cf2-4790-abac-dd4f87a5303a",
   "metadata": {},
   "outputs": [
    {
     "name": "stdout",
     "output_type": "stream",
     "text": [
      "Welcome to Advanced python course..\n"
     ]
    }
   ],
   "source": [
    "Welcome()"
   ]
  },
  {
   "cell_type": "code",
   "execution_count": 4,
   "id": "ca51542f-6730-4648-bf26-2bed11a6800b",
   "metadata": {},
   "outputs": [],
   "source": [
    "wel = Welcome"
   ]
  },
  {
   "cell_type": "code",
   "execution_count": 5,
   "id": "41b16a1d-d131-4783-ac2a-917bf2571e1e",
   "metadata": {},
   "outputs": [
    {
     "data": {
      "text/plain": [
       "<function __main__.Welcome()>"
      ]
     },
     "execution_count": 5,
     "metadata": {},
     "output_type": "execute_result"
    }
   ],
   "source": [
    "wel"
   ]
  },
  {
   "cell_type": "code",
   "execution_count": 7,
   "id": "e17f39d1-800b-42ba-99aa-be3f7c557a4e",
   "metadata": {},
   "outputs": [
    {
     "name": "stdout",
     "output_type": "stream",
     "text": [
      "Welcome to Advanced python course..\n"
     ]
    }
   ],
   "source": [
    "wel()   #copied function to this variable."
   ]
  },
  {
   "cell_type": "code",
   "execution_count": 8,
   "id": "cff3337d-d43a-4485-95c1-c02afada4462",
   "metadata": {},
   "outputs": [],
   "source": [
    "del Welcome"
   ]
  },
  {
   "cell_type": "code",
   "execution_count": 10,
   "id": "acce8198-6e49-4ee9-a516-a5bf7c855653",
   "metadata": {},
   "outputs": [
    {
     "name": "stdout",
     "output_type": "stream",
     "text": [
      "Welcome to Advanced python course..\n"
     ]
    }
   ],
   "source": [
    "wel()    #after deleting main function copy of the function still there. it has not deleted."
   ]
  },
  {
   "cell_type": "code",
   "execution_count": null,
   "id": "d99c4c66-4c8a-40f0-a936-a0b8725be9de",
   "metadata": {},
   "outputs": [],
   "source": []
  }
 ],
 "metadata": {
  "kernelspec": {
   "display_name": "Python 3 (ipykernel)",
   "language": "python",
   "name": "python3"
  },
  "language_info": {
   "codemirror_mode": {
    "name": "ipython",
    "version": 3
   },
   "file_extension": ".py",
   "mimetype": "text/x-python",
   "name": "python",
   "nbconvert_exporter": "python",
   "pygments_lexer": "ipython3",
   "version": "3.12.7"
  }
 },
 "nbformat": 4,
 "nbformat_minor": 5
}
