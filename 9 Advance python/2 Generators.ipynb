{
 "cells": [
  {
   "cell_type": "markdown",
   "id": "c5c27085-5881-4223-93f1-36d3b9569e52",
   "metadata": {},
   "source": [
    "### Generators:\n",
    "Generators are the simpler way to create Iterators. They use the yield keyword to produce the series of values lazily. which means they generate values on the fly and do not store them in the memory."
   ]
  },
  {
   "cell_type": "code",
   "execution_count": 3,
   "id": "1eebd551-492d-4d03-9b82-89ffc6f86689",
   "metadata": {},
   "outputs": [],
   "source": [
    "def square(n):\n",
    "    for i in range(n):\n",
    "        return i**2"
   ]
  },
  {
   "cell_type": "code",
   "execution_count": 5,
   "id": "b58d2ec8-0dfb-48d0-bbcc-fb27fece3d93",
   "metadata": {},
   "outputs": [
    {
     "data": {
      "text/plain": [
       "0"
      ]
     },
     "execution_count": 5,
     "metadata": {},
     "output_type": "execute_result"
    }
   ],
   "source": [
    "square(3)    #showing 0 values because of n starting from zero."
   ]
  },
  {
   "cell_type": "markdown",
   "id": "6b7a7d11-34a9-47e7-b4ee-5e6129fd13dd",
   "metadata": {},
   "source": [
    "#### Let see How Generators are words: "
   ]
  },
  {
   "cell_type": "code",
   "execution_count": 7,
   "id": "1594d5be-b245-4df6-aae1-db0d26ca443d",
   "metadata": {},
   "outputs": [],
   "source": [
    "def square(n):\n",
    "    for i in range(n):\n",
    "        yield i**2"
   ]
  },
  {
   "cell_type": "code",
   "execution_count": 8,
   "id": "cb6040ba-21f6-45bd-8412-669a8206bf77",
   "metadata": {},
   "outputs": [
    {
     "name": "stdout",
     "output_type": "stream",
     "text": [
      "0\n",
      "1\n",
      "4\n"
     ]
    }
   ],
   "source": [
    "for i in square(3):\n",
    "    print(i)\n",
    "    "
   ]
  },
  {
   "cell_type": "markdown",
   "id": "80ec049e-843f-4bbb-b277-5ca05cac908f",
   "metadata": {},
   "source": [
    "here with the help of yield keyword, the function is return, then in for loop, values is given and then it will iterate untill given condition. yield keyword just storing values in it and not storing in memory."
   ]
  },
  {
   "cell_type": "code",
   "execution_count": 9,
   "id": "0f290790-3935-41c7-9c9d-41296c1b6088",
   "metadata": {},
   "outputs": [],
   "source": [
    "def my_generator():\n",
    "    yield 1\n",
    "    yield 2\n",
    "    yield 3"
   ]
  },
  {
   "cell_type": "code",
   "execution_count": 16,
   "id": "d3c7ba63-f1e6-42ac-9004-7db1d7f3085b",
   "metadata": {},
   "outputs": [
    {
     "data": {
      "text/plain": [
       "<generator object my_generator at 0x000001962C2ABED0>"
      ]
     },
     "execution_count": 16,
     "metadata": {},
     "output_type": "execute_result"
    }
   ],
   "source": [
    "gen = my_generator()\n",
    "gen"
   ]
  },
  {
   "cell_type": "code",
   "execution_count": 17,
   "id": "8b49255c-be1c-41d1-b0b8-fbe3d7d7fdf0",
   "metadata": {},
   "outputs": [
    {
     "data": {
      "text/plain": [
       "1"
      ]
     },
     "execution_count": 17,
     "metadata": {},
     "output_type": "execute_result"
    }
   ],
   "source": [
    "next(gen)"
   ]
  },
  {
   "cell_type": "code",
   "execution_count": 18,
   "id": "c58034cf-07fc-4545-a0f0-2ca4a4ab19ef",
   "metadata": {},
   "outputs": [
    {
     "data": {
      "text/plain": [
       "2"
      ]
     },
     "execution_count": 18,
     "metadata": {},
     "output_type": "execute_result"
    }
   ],
   "source": [
    "next(gen)"
   ]
  },
  {
   "cell_type": "code",
   "execution_count": 19,
   "id": "9992fb51-ac64-4875-8948-b573ff783dfb",
   "metadata": {},
   "outputs": [
    {
     "data": {
      "text/plain": [
       "3"
      ]
     },
     "execution_count": 19,
     "metadata": {},
     "output_type": "execute_result"
    }
   ],
   "source": [
    "next(gen)"
   ]
  },
  {
   "cell_type": "code",
   "execution_count": 23,
   "id": "8a06676a-034c-4fc0-9374-39393a8779ff",
   "metadata": {},
   "outputs": [],
   "source": [
    "for val in gen:\n",
    "    print(val)"
   ]
  },
  {
   "cell_type": "code",
   "execution_count": 24,
   "id": "3de70610-33aa-42b0-bcc7-b8d533c32630",
   "metadata": {},
   "outputs": [
    {
     "name": "stdout",
     "output_type": "stream",
     "text": [
      "1\n",
      "2\n",
      "3\n"
     ]
    }
   ],
   "source": [
    "def my_generator():\n",
    "    yield 1\n",
    "    yield 2\n",
    "    yield 3 \n",
    "\n",
    "gen = my_generator()  # Create a generator object\n",
    "\n",
    "for val in gen:  # Iterate over the generator\n",
    "    print(val)\n"
   ]
  },
  {
   "cell_type": "markdown",
   "id": "485262d0-aa36-4ed6-8b2c-b4cc1ae6d424",
   "metadata": {},
   "source": [
    "#### Reading large Files:\n",
    "Generators are useful for reading large file because they allow you to process one line at a time without loading the entire file into memory."
   ]
  },
  {
   "cell_type": "code",
   "execution_count": 25,
   "id": "8f20030e-d116-4ce9-85d6-d85ca3975689",
   "metadata": {},
   "outputs": [],
   "source": [
    "def read_large_file(file_path):\n",
    "    with open(file_path,'r') as file:\n",
    "        for line in file:\n",
    "            yield line"
   ]
  },
  {
   "cell_type": "code",
   "execution_count": 27,
   "id": "8814006c-8a72-4adf-bcdb-229d3fc02372",
   "metadata": {},
   "outputs": [
    {
     "name": "stdout",
     "output_type": "stream",
     "text": [
      "Smt. Droupadi Murmu is the 15th and current President of India, having taken office on July 25, 2022.\n",
      "PRESIDENTOFINDIA.GOV.IN\n",
      "As the head of state, she serves as the ceremonial leader of the country and the supreme commander of the Indian Armed Forces.\n",
      "EN.WIKIPEDIA.ORG\n",
      "Prior to her presidency, she was the Governor of Jharkhand from 2015 to 2021.\n",
      "PRESIDENTOFINDIA.GOV.IN\n",
      "\n",
      "The President of India is elected indirectly by an electoral college comprising elected members of both houses of Parliament and the legislative assemblies of India's states and union territories. The term of office is five years, with eligibility for re-election.\n",
      "EN.WIKIPEDIA.ORG\n",
      "\n",
      "For more information, you can visit the official website of the President of India.\n"
     ]
    }
   ],
   "source": [
    "file_path = 'large_file.txt'\n",
    "for line in read_large_file(file_path):\n",
    "    print(line.strip())"
   ]
  },
  {
   "cell_type": "code",
   "execution_count": null,
   "id": "01896884-c7de-4158-82e6-6d6a58b80df0",
   "metadata": {},
   "outputs": [],
   "source": []
  }
 ],
 "metadata": {
  "kernelspec": {
   "display_name": "Python 3 (ipykernel)",
   "language": "python",
   "name": "python3"
  },
  "language_info": {
   "codemirror_mode": {
    "name": "ipython",
    "version": 3
   },
   "file_extension": ".py",
   "mimetype": "text/x-python",
   "name": "python",
   "nbconvert_exporter": "python",
   "pygments_lexer": "ipython3",
   "version": "3.12.7"
  }
 },
 "nbformat": 4,
 "nbformat_minor": 5
}
