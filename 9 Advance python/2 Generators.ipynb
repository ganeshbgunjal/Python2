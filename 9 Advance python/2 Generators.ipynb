{
 "cells": [
  {
   "cell_type": "markdown",
   "id": "c5c27085-5881-4223-93f1-36d3b9569e52",
   "metadata": {},
   "source": [
    "### Generators:\n",
    "Generators are the simpler way to create Iterators. They use the yield keyword to produce the series of values lazily. which means they generate values on the fly and do not store them in the memory."
   ]
  },
  {
   "cell_type": "code",
   "execution_count": 3,
   "id": "1eebd551-492d-4d03-9b82-89ffc6f86689",
   "metadata": {},
   "outputs": [],
   "source": [
    "def square(n):\n",
    "    for i in range(n):\n",
    "        return i**2"
   ]
  },
  {
   "cell_type": "code",
   "execution_count": 5,
   "id": "b58d2ec8-0dfb-48d0-bbcc-fb27fece3d93",
   "metadata": {},
   "outputs": [
    {
     "data": {
      "text/plain": [
       "0"
      ]
     },
     "execution_count": 5,
     "metadata": {},
     "output_type": "execute_result"
    }
   ],
   "source": [
    "square(3)    #showing 0 values because of n starting from zero."
   ]
  },
  {
   "cell_type": "markdown",
   "id": "6b7a7d11-34a9-47e7-b4ee-5e6129fd13dd",
   "metadata": {},
   "source": [
    "#### Let see How Generators are words: "
   ]
  },
  {
   "cell_type": "code",
   "execution_count": 7,
   "id": "1594d5be-b245-4df6-aae1-db0d26ca443d",
   "metadata": {},
   "outputs": [],
   "source": [
    "def square(n):\n",
    "    for i in range(n):\n",
    "        yield i**2"
   ]
  },
  {
   "cell_type": "code",
   "execution_count": 8,
   "id": "cb6040ba-21f6-45bd-8412-669a8206bf77",
   "metadata": {},
   "outputs": [
    {
     "name": "stdout",
     "output_type": "stream",
     "text": [
      "0\n",
      "1\n",
      "4\n"
     ]
    }
   ],
   "source": [
    "for i in square(3):\n",
    "    print(i)\n",
    "    "
   ]
  },
  {
   "cell_type": "markdown",
   "id": "80ec049e-843f-4bbb-b277-5ca05cac908f",
   "metadata": {},
   "source": [
    "here with the help of yield keyword, the function is return, then in for loop, values is given and then it will iterate untill given condition. yield keyword just storing values in it and not storing in memory."
   ]
  },
  {
   "cell_type": "code",
   "execution_count": 9,
   "id": "0f290790-3935-41c7-9c9d-41296c1b6088",
   "metadata": {},
   "outputs": [],
   "source": [
    "def my_generator():\n",
    "    yield 1\n",
    "    yield 2\n",
    "    yield 3"
   ]
  },
  {
   "cell_type": "code",
   "execution_count": 10,
   "id": "d3c7ba63-f1e6-42ac-9004-7db1d7f3085b",
   "metadata": {},
   "outputs": [
    {
     "data": {
      "text/plain": [
       "<generator object my_generator at 0x000001962C2A9E80>"
      ]
     },
     "execution_count": 10,
     "metadata": {},
     "output_type": "execute_result"
    }
   ],
   "source": [
    "gen = my_generator()\n",
    "gen"
   ]
  },
  {
   "cell_type": "code",
   "execution_count": null,
   "id": "8b49255c-be1c-41d1-b0b8-fbe3d7d7fdf0",
   "metadata": {},
   "outputs": [],
   "source": []
  }
 ],
 "metadata": {
  "kernelspec": {
   "display_name": "Python 3 (ipykernel)",
   "language": "python",
   "name": "python3"
  },
  "language_info": {
   "codemirror_mode": {
    "name": "ipython",
    "version": 3
   },
   "file_extension": ".py",
   "mimetype": "text/x-python",
   "name": "python",
   "nbconvert_exporter": "python",
   "pygments_lexer": "ipython3",
   "version": "3.12.7"
  }
 },
 "nbformat": 4,
 "nbformat_minor": 5
}
