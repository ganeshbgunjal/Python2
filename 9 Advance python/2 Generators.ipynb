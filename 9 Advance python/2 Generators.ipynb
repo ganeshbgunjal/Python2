{
 "cells": [
  {
   "cell_type": "markdown",
   "id": "c5c27085-5881-4223-93f1-36d3b9569e52",
   "metadata": {},
   "source": [
    "### Generators:\n",
    "Generators are the simpler way to create Iterators. They use the yield keyword to produce the series of values lazily. which means they generate values on the fly and do not store them in the memory."
   ]
  },
  {
   "cell_type": "code",
   "execution_count": null,
   "id": "1eebd551-492d-4d03-9b82-89ffc6f86689",
   "metadata": {},
   "outputs": [],
   "source": []
  }
 ],
 "metadata": {
  "kernelspec": {
   "display_name": "Python 3 (ipykernel)",
   "language": "python",
   "name": "python3"
  },
  "language_info": {
   "codemirror_mode": {
    "name": "ipython",
    "version": 3
   },
   "file_extension": ".py",
   "mimetype": "text/x-python",
   "name": "python",
   "nbconvert_exporter": "python",
   "pygments_lexer": "ipython3",
   "version": "3.12.7"
  }
 },
 "nbformat": 4,
 "nbformat_minor": 5
}
