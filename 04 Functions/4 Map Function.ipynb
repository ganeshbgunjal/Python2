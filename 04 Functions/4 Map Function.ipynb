{
 "cells": [
  {
   "cell_type": "markdown",
   "id": "67e1d151-3b0b-4a85-9c9f-9ddc75209ab6",
   "metadata": {},
   "source": [
    "#### **Map:**\n",
    "1. It apllies on every item of iterable and return a map object.\n",
    "2. this is useful for transforming data in a list comprehensively."
   ]
  },
  {
   "cell_type": "markdown",
   "id": "349c1640-a55a-44b5-ac33-4b353b2c81d9",
   "metadata": {},
   "source": [
    "**Syntax:**"
   ]
  },
  {
   "cell_type": "markdown",
   "id": "e0c564a7-1fbe-49d4-9a66-d47471b7d1d2",
   "metadata": {},
   "source": [
    "**map(function_name,iterable)**"
   ]
  },
  {
   "cell_type": "code",
   "execution_count": 1,
   "id": "ec2fe723-7bd9-4396-9a33-17d904f35900",
   "metadata": {},
   "outputs": [],
   "source": [
    "def square(x):\n",
    "    return x*x"
   ]
  },
  {
   "cell_type": "code",
   "execution_count": 2,
   "id": "5ee16b38-7d7f-4365-adf8-25662bda66b2",
   "metadata": {},
   "outputs": [
    {
     "data": {
      "text/plain": [
       "16"
      ]
     },
     "execution_count": 2,
     "metadata": {},
     "output_type": "execute_result"
    }
   ],
   "source": [
    "square(4)"
   ]
  },
  {
   "cell_type": "code",
   "execution_count": 4,
   "id": "5a2e80e9-b8e2-459c-b5d8-3675f8aa8fa1",
   "metadata": {},
   "outputs": [],
   "source": [
    "numbers = [1,2,3,4,5,6,7,8,9]\n"
   ]
  },
  {
   "cell_type": "code",
   "execution_count": 7,
   "id": "fbba33c4-a396-4b90-87d8-df20124029c6",
   "metadata": {},
   "outputs": [
    {
     "data": {
      "text/plain": [
       "[1, 4, 9, 16, 25, 36, 49, 64, 81]"
      ]
     },
     "execution_count": 7,
     "metadata": {},
     "output_type": "execute_result"
    }
   ],
   "source": [
    "list(map(square,numbers))   #without using lambda function"
   ]
  },
  {
   "cell_type": "markdown",
   "id": "01ffd972-a882-4d39-9ca4-f9547cf74bea",
   "metadata": {},
   "source": [
    "#### Using lambda function"
   ]
  },
  {
   "cell_type": "code",
   "execution_count": 8,
   "id": "26cc68e4-3201-427b-8023-fa7cdbd61135",
   "metadata": {},
   "outputs": [
    {
     "data": {
      "text/plain": [
       "[1, 4, 9, 16, 25, 36, 49, 64, 81]"
      ]
     },
     "execution_count": 8,
     "metadata": {},
     "output_type": "execute_result"
    }
   ],
   "source": [
    "list(map(lambda x:x**2,numbers))"
   ]
  },
  {
   "cell_type": "markdown",
   "id": "05e6d8fb-1393-4b40-a000-8f216768a16e",
   "metadata": {},
   "source": [
    "#### Map Function using multile iterable"
   ]
  },
  {
   "cell_type": "code",
   "execution_count": 9,
   "id": "32706152-a49b-4dbf-b49a-3aeeeb9c67b0",
   "metadata": {},
   "outputs": [],
   "source": [
    "number1 = [1,2,3]\n",
    "number2 = [4,5,6]"
   ]
  },
  {
   "cell_type": "code",
   "execution_count": 10,
   "id": "0dc96929-4afc-4f58-a047-1f3983f0c3dc",
   "metadata": {},
   "outputs": [],
   "source": [
    "added_numbers = list(map(lambda x,y:x+y,number1,number2))"
   ]
  },
  {
   "cell_type": "code",
   "execution_count": 11,
   "id": "16c7a1e9-9701-4b9d-b71c-27c0f45f4fb6",
   "metadata": {},
   "outputs": [
    {
     "data": {
      "text/plain": [
       "[5, 7, 9]"
      ]
     },
     "execution_count": 11,
     "metadata": {},
     "output_type": "execute_result"
    }
   ],
   "source": [
    "added_numbers"
   ]
  },
  {
   "cell_type": "markdown",
   "id": "7b7becb5-b995-4544-a11e-3a245c72b847",
   "metadata": {},
   "source": [
    "#### Map to convert str to int"
   ]
  },
  {
   "cell_type": "code",
   "execution_count": 12,
   "id": "c572c680-d444-49e7-8362-23ea8eff5be3",
   "metadata": {},
   "outputs": [],
   "source": [
    "lst = ['1','2','3','4','5']\n"
   ]
  },
  {
   "cell_type": "code",
   "execution_count": 13,
   "id": "a67572d4-c87f-45b0-897a-6b8efe5f45d2",
   "metadata": {},
   "outputs": [],
   "source": [
    "conversion = list(map(int,lst))"
   ]
  },
  {
   "cell_type": "code",
   "execution_count": 14,
   "id": "ce2c4772-ecac-48ee-8eae-4e3bac94544a",
   "metadata": {},
   "outputs": [
    {
     "data": {
      "text/plain": [
       "[1, 2, 3, 4, 5]"
      ]
     },
     "execution_count": 14,
     "metadata": {},
     "output_type": "execute_result"
    }
   ],
   "source": [
    "conversion"
   ]
  },
  {
   "cell_type": "code",
   "execution_count": 16,
   "id": "d0878a1f-440a-48af-aae6-9c577e9638f4",
   "metadata": {},
   "outputs": [],
   "source": [
    "words = ['apple','banana','grapes','pineapple']\n",
    "upper_case = list(map(str.upper,words))"
   ]
  },
  {
   "cell_type": "code",
   "execution_count": 17,
   "id": "14f0c9dd-097e-43b5-9e4f-c53e6e5b6f57",
   "metadata": {},
   "outputs": [
    {
     "data": {
      "text/plain": [
       "['APPLE', 'BANANA', 'GRAPES', 'PINEAPPLE']"
      ]
     },
     "execution_count": 17,
     "metadata": {},
     "output_type": "execute_result"
    }
   ],
   "source": [
    "upper_case"
   ]
  },
  {
   "cell_type": "code",
   "execution_count": 18,
   "id": "da49bcc9-ead0-435c-8bd7-183c720b33a8",
   "metadata": {},
   "outputs": [],
   "source": [
    "def get_name(person):\n",
    "    return person['name']\n",
    "\n",
    "people = [\n",
    "    {'name':'Ganesh','age':33},\n",
    "    {'name':'Dilip','age':32},\n",
    "    {'name':'Amol','age':23}\n",
    "]"
   ]
  },
  {
   "cell_type": "code",
   "execution_count": 19,
   "id": "970f14f1-e44d-47fc-ad07-a56b18cddce1",
   "metadata": {},
   "outputs": [
    {
     "data": {
      "text/plain": [
       "['Ganesh', 'Dilip', 'Amol']"
      ]
     },
     "execution_count": 19,
     "metadata": {},
     "output_type": "execute_result"
    }
   ],
   "source": [
    "list(map(get_name,people))"
   ]
  },
  {
   "cell_type": "code",
   "execution_count": null,
   "id": "2b194b3d-099a-4470-ae08-1edff5afe908",
   "metadata": {},
   "outputs": [],
   "source": []
  }
 ],
 "metadata": {
  "kernelspec": {
   "display_name": "Python 3 (ipykernel)",
   "language": "python",
   "name": "python3"
  },
  "language_info": {
   "codemirror_mode": {
    "name": "ipython",
    "version": 3
   },
   "file_extension": ".py",
   "mimetype": "text/x-python",
   "name": "python",
   "nbconvert_exporter": "python",
   "pygments_lexer": "ipython3",
   "version": "3.12.7"
  }
 },
 "nbformat": 4,
 "nbformat_minor": 5
}
