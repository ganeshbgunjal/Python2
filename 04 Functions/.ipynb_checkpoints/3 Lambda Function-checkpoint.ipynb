{
 "cells": [
  {
   "cell_type": "markdown",
   "id": "ad0939b1-51ae-4027-9c44-513aaca816e9",
   "metadata": {},
   "source": [
    "### **Lambda Function:**\n",
    "1. Lambda is a anonymous function. anonymous means name without function.\n",
    "2. it can have multiple arguments but only one expression.\n",
    "3. they are used for short operations or as arguments to higher order functions."
   ]
  },
  {
   "cell_type": "markdown",
   "id": "00761cb9-11a2-4b85-a61a-46895fe47427",
   "metadata": {},
   "source": [
    "**Syntax:**"
   ]
  },
  {
   "cell_type": "markdown",
   "id": "33426b7d-b086-480c-a6a4-3a9eeb717595",
   "metadata": {},
   "source": [
    "**lambda arguments : expression**"
   ]
  },
  {
   "cell_type": "code",
   "execution_count": 10,
   "id": "62b07111-b950-4a5c-a40f-eb5a92106298",
   "metadata": {},
   "outputs": [],
   "source": [
    "def addition1(a,b):\n",
    "    return a+b"
   ]
  },
  {
   "cell_type": "code",
   "execution_count": 11,
   "id": "3d0ff43f-3063-4e17-b19b-090b34e8c375",
   "metadata": {},
   "outputs": [
    {
     "data": {
      "text/plain": [
       "7"
      ]
     },
     "execution_count": 11,
     "metadata": {},
     "output_type": "execute_result"
    }
   ],
   "source": [
    "addition1(3,4)"
   ]
  },
  {
   "cell_type": "markdown",
   "id": "dd23c081-af5a-49a2-92b7-3a360e9ebc77",
   "metadata": {},
   "source": [
    "**using lambda function**"
   ]
  },
  {
   "cell_type": "code",
   "execution_count": 12,
   "id": "beffdd69-191b-4ada-befe-f2b2d6a13bd4",
   "metadata": {},
   "outputs": [],
   "source": [
    "addition = lambda a,b :a+b"
   ]
  },
  {
   "cell_type": "code",
   "execution_count": 13,
   "id": "6db8233a-aa41-4930-9d37-0824fdec4657",
   "metadata": {},
   "outputs": [
    {
     "data": {
      "text/plain": [
       "function"
      ]
     },
     "execution_count": 13,
     "metadata": {},
     "output_type": "execute_result"
    }
   ],
   "source": [
    "type(addition)   #Its a function"
   ]
  },
  {
   "cell_type": "code",
   "execution_count": 14,
   "id": "4e339f32-837c-4cdd-ae17-0ca83cfcdd6c",
   "metadata": {},
   "outputs": [
    {
     "data": {
      "text/plain": [
       "7"
      ]
     },
     "execution_count": 14,
     "metadata": {},
     "output_type": "execute_result"
    }
   ],
   "source": [
    "addition(3,4)"
   ]
  },
  {
   "cell_type": "code",
   "execution_count": 17,
   "id": "57a5a06b-af4d-43e7-b7c0-04c5427fc573",
   "metadata": {},
   "outputs": [],
   "source": [
    "def even(n):\n",
    "    if n%2==0:\n",
    "        return True\n",
    "    else:\n",
    "        return False"
   ]
  },
  {
   "cell_type": "code",
   "execution_count": 18,
   "id": "0bb57962-292d-4bd1-bb96-00bd3eb0f37e",
   "metadata": {},
   "outputs": [
    {
     "data": {
      "text/plain": [
       "False"
      ]
     },
     "execution_count": 18,
     "metadata": {},
     "output_type": "execute_result"
    }
   ],
   "source": [
    "even(3)"
   ]
  },
  {
   "cell_type": "code",
   "execution_count": 19,
   "id": "853077f9-0090-462c-a366-62d1530adb57",
   "metadata": {},
   "outputs": [],
   "source": [
    "even1 = lambda n :n%2==0"
   ]
  },
  {
   "cell_type": "code",
   "execution_count": 21,
   "id": "695336bb-2797-42bc-9a5a-7ae95c28c74d",
   "metadata": {},
   "outputs": [
    {
     "data": {
      "text/plain": [
       "False"
      ]
     },
     "execution_count": 21,
     "metadata": {},
     "output_type": "execute_result"
    }
   ],
   "source": [
    "even1(3)"
   ]
  },
  {
   "cell_type": "code",
   "execution_count": 22,
   "id": "a09795d8-367b-4b50-8b73-5934d09488bc",
   "metadata": {},
   "outputs": [
    {
     "data": {
      "text/plain": [
       "True"
      ]
     },
     "execution_count": 22,
     "metadata": {},
     "output_type": "execute_result"
    }
   ],
   "source": [
    "even1(4)"
   ]
  },
  {
   "cell_type": "code",
   "execution_count": 23,
   "id": "72cc5a13-ec70-4d2c-b9b9-9713ca676d19",
   "metadata": {},
   "outputs": [],
   "source": [
    "def addition(x,y,z):\n",
    "    return x+y+z"
   ]
  },
  {
   "cell_type": "code",
   "execution_count": 24,
   "id": "b59a140b-96ae-4239-ac7f-19a828b5173c",
   "metadata": {},
   "outputs": [
    {
     "data": {
      "text/plain": [
       "15"
      ]
     },
     "execution_count": 24,
     "metadata": {},
     "output_type": "execute_result"
    }
   ],
   "source": [
    "addition(2,5,8)"
   ]
  },
  {
   "cell_type": "code",
   "execution_count": 25,
   "id": "395951dd-129c-48f5-aee4-200f913c1b37",
   "metadata": {},
   "outputs": [],
   "source": [
    "add = lambda x,y,z : x+y+z"
   ]
  },
  {
   "cell_type": "code",
   "execution_count": 26,
   "id": "4bf513b1-86b8-4a76-8d67-cdb23f981682",
   "metadata": {},
   "outputs": [
    {
     "data": {
      "text/plain": [
       "15"
      ]
     },
     "execution_count": 26,
     "metadata": {},
     "output_type": "execute_result"
    }
   ],
   "source": [
    "add(2,5,8)"
   ]
  },
  {
   "cell_type": "markdown",
   "id": "86cc054b-ea0a-47aa-a354-002477b409ac",
   "metadata": {},
   "source": [
    "### Map Function\n",
    "It applies function on all items of the list,"
   ]
  },
  {
   "cell_type": "code",
   "execution_count": 27,
   "id": "d07d4161-8668-4929-8d13-1570eacef25e",
   "metadata": {},
   "outputs": [],
   "source": [
    "numbers=[1,2,3,4,5,6,7]\n",
    "def square(number):\n",
    "    return number**2"
   ]
  },
  {
   "cell_type": "code",
   "execution_count": 28,
   "id": "85645c1b-619b-46ef-a181-3a2de709d2e5",
   "metadata": {},
   "outputs": [
    {
     "data": {
      "text/plain": [
       "16"
      ]
     },
     "execution_count": 28,
     "metadata": {},
     "output_type": "execute_result"
    }
   ],
   "source": [
    "square(4)"
   ]
  },
  {
   "cell_type": "code",
   "execution_count": 32,
   "id": "cfc4c0d5-348d-42bd-9ef9-8add6cca6bd7",
   "metadata": {},
   "outputs": [
    {
     "data": {
      "text/plain": [
       "[1, 4, 9, 16, 25, 36, 49]"
      ]
     },
     "execution_count": 32,
     "metadata": {},
     "output_type": "execute_result"
    }
   ],
   "source": [
    "list(map(lambda x:x**2,numbers))"
   ]
  },
  {
   "cell_type": "code",
   "execution_count": null,
   "id": "64b535aa-0662-4e1a-8c10-b096b1035a32",
   "metadata": {},
   "outputs": [],
   "source": []
  }
 ],
 "metadata": {
  "kernelspec": {
   "display_name": "Python 3 (ipykernel)",
   "language": "python",
   "name": "python3"
  },
  "language_info": {
   "codemirror_mode": {
    "name": "ipython",
    "version": 3
   },
   "file_extension": ".py",
   "mimetype": "text/x-python",
   "name": "python",
   "nbconvert_exporter": "python",
   "pygments_lexer": "ipython3",
   "version": "3.12.7"
  }
 },
 "nbformat": 4,
 "nbformat_minor": 5
}
