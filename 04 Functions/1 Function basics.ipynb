{
 "cells": [
  {
   "cell_type": "markdown",
   "id": "0c178d8f-a03f-4254-ba33-4f6e94ac091e",
   "metadata": {},
   "source": [
    "### **Functions:**\n",
    "Its a block of code that performs specific task.  \n",
    "FUnction helps in code reusability."
   ]
  },
  {
   "cell_type": "code",
   "execution_count": 1,
   "id": "d9898cfc-649d-4ebb-9e93-907f4177976b",
   "metadata": {},
   "outputs": [],
   "source": [
    "def function_name(parameters):\n",
    "    '''Docstring'''     #It describes the working of a function.\n",
    "    #function body\n",
    "    pass\n",
    "    return expression"
   ]
  },
  {
   "cell_type": "code",
   "execution_count": 2,
   "id": "814b5c93-fba2-470e-b553-ba61431beb08",
   "metadata": {},
   "outputs": [
    {
     "ename": "TypeError",
     "evalue": "function_name() missing 1 required positional argument: 'parameters'",
     "output_type": "error",
     "traceback": [
      "\u001b[1;31m---------------------------------------------------------------------------\u001b[0m",
      "\u001b[1;31mTypeError\u001b[0m                                 Traceback (most recent call last)",
      "Cell \u001b[1;32mIn[2], line 1\u001b[0m\n\u001b[1;32m----> 1\u001b[0m function_name()\n",
      "\u001b[1;31mTypeError\u001b[0m: function_name() missing 1 required positional argument: 'parameters'"
     ]
    }
   ],
   "source": [
    "function_name()    #this is called function calling. we dont provide any value. thats why its giving error."
   ]
  },
  {
   "cell_type": "markdown",
   "id": "024bf022-6c14-4ca9-8d4f-e020153b281b",
   "metadata": {},
   "source": [
    "**Why functions:**  \n",
    "1. if we dont use functions, then we will have to write below code again and again. "
   ]
  },
  {
   "cell_type": "code",
   "execution_count": 3,
   "id": "9c4aaccb-afdd-4b1d-8755-6df12425f009",
   "metadata": {},
   "outputs": [
    {
     "name": "stdout",
     "output_type": "stream",
     "text": [
      "The number is even.\n"
     ]
    }
   ],
   "source": [
    "num = 24\n",
    "if num%2 == 0:\n",
    "    print('The number is even.')\n",
    "else:\n",
    "    print('The number is odd')"
   ]
  },
  {
   "cell_type": "markdown",
   "id": "de05c5e6-2149-4749-be5b-f1f2c9b7230c",
   "metadata": {},
   "source": [
    "**Calling function:**"
   ]
  },
  {
   "cell_type": "code",
   "execution_count": 7,
   "id": "e411c116-8eea-4c28-acc1-a930040fc743",
   "metadata": {},
   "outputs": [],
   "source": [
    "def even_odd():\n",
    "    '''This function finds even and odd number given by user '''\n",
    "    num = int(input('Enter num:'))\n",
    "    if num%2 == 0:\n",
    "        print('The number is even')\n",
    "    else:\n",
    "        print('The number is odd')"
   ]
  },
  {
   "cell_type": "code",
   "execution_count": 8,
   "id": "530bbba1-c1e5-4360-9d74-56dc0bc80827",
   "metadata": {},
   "outputs": [
    {
     "name": "stdin",
     "output_type": "stream",
     "text": [
      "Enter num: 12\n"
     ]
    },
    {
     "name": "stdout",
     "output_type": "stream",
     "text": [
      "The number is even\n"
     ]
    }
   ],
   "source": [
    "even_odd()"
   ]
  },
  {
   "cell_type": "markdown",
   "id": "cad6d869-76b4-4300-8704-ca487bc8b5b4",
   "metadata": {},
   "source": [
    "**Function Parameters:**"
   ]
  },
  {
   "cell_type": "code",
   "execution_count": 9,
   "id": "aa4bddd7-f8cd-49d4-9981-3ef1f78e4e69",
   "metadata": {},
   "outputs": [],
   "source": [
    "def add(a,b):\n",
    "    return a+b"
   ]
  },
  {
   "cell_type": "code",
   "execution_count": 10,
   "id": "304b10c0-7623-4f0a-8858-21a6a484fc2c",
   "metadata": {},
   "outputs": [],
   "source": [
    "result = add(2,5)"
   ]
  },
  {
   "cell_type": "code",
   "execution_count": 11,
   "id": "8ca8f58e-2c5f-47f4-9814-49db95ba6207",
   "metadata": {},
   "outputs": [
    {
     "data": {
      "text/plain": [
       "7"
      ]
     },
     "execution_count": 11,
     "metadata": {},
     "output_type": "execute_result"
    }
   ],
   "source": [
    "result"
   ]
  },
  {
   "cell_type": "markdown",
   "id": "bc1f4de3-af36-4ac9-9ea1-932380d74011",
   "metadata": {},
   "source": [
    "**Function with Parameters:**"
   ]
  },
  {
   "cell_type": "code",
   "execution_count": 13,
   "id": "01940cf4-8653-454d-95ed-b5e48765792c",
   "metadata": {},
   "outputs": [
    {
     "name": "stdout",
     "output_type": "stream",
     "text": [
      "Hello Ganesh. Welcome to the paradise\n"
     ]
    }
   ],
   "source": [
    "def greet(name):\n",
    "    print(f'Hello {name}. Welcome to the paradise')\n",
    "\n",
    "greet('Ganesh')"
   ]
  },
  {
   "cell_type": "markdown",
   "id": "a68e4007-f09f-4083-b30d-5dec3543a0c5",
   "metadata": {},
   "source": [
    "#### **Default Parameters:**"
   ]
  },
  {
   "cell_type": "code",
   "execution_count": 15,
   "id": "0d90cb39-024e-4331-963b-60f6b08d5518",
   "metadata": {},
   "outputs": [
    {
     "name": "stdout",
     "output_type": "stream",
     "text": [
      "Hello Guest. Welcome to the paradise\n"
     ]
    }
   ],
   "source": [
    "def greet(name='Guest'):\n",
    "    print(f'Hello {name}. Welcome to the paradise')\n",
    "\n",
    "greet()   #we dont provide a function parameter. by default it will provide a name which is used as default argument"
   ]
  },
  {
   "cell_type": "markdown",
   "id": "a4376409-e30a-42bd-87e3-0ec4cd7cdfda",
   "metadata": {},
   "source": [
    "#### **Variable length arguments:**\n",
    "1. Positional and keyword arguments:\n",
    "2. Keyword arguments"
   ]
  },
  {
   "cell_type": "markdown",
   "id": "4db2a1bd-79a3-4c52-a4fd-17bb2a14e477",
   "metadata": {},
   "source": [
    "#### **1. Positional Arguments:**"
   ]
  },
  {
   "cell_type": "code",
   "execution_count": 16,
   "id": "2be8f13e-915f-41c0-b74e-f1c31c805ad1",
   "metadata": {},
   "outputs": [],
   "source": [
    "def print_numbers(*ganesh):     #*ganesh is just name given. its a positional argument.\n",
    "    for number in ganesh:\n",
    "        print(number)"
   ]
  },
  {
   "cell_type": "code",
   "execution_count": 17,
   "id": "f732ca6f-91ca-4c73-83ef-fa64b18588b2",
   "metadata": {},
   "outputs": [
    {
     "name": "stdout",
     "output_type": "stream",
     "text": [
      "1\n",
      "2\n",
      "3\n",
      "4\n",
      "5\n",
      "6\n",
      "7\n",
      "Ganesh\n"
     ]
    }
   ],
   "source": [
    "print_numbers(1,2,3,4,5,6,7,'Ganesh')    #all the parametrs will be referenced by ganesh keyword."
   ]
  },
  {
   "cell_type": "code",
   "execution_count": 23,
   "id": "089d1fb3-7939-4c36-8434-ab9e63c3c97b",
   "metadata": {},
   "outputs": [],
   "source": [
    "#best practices.\n",
    "def print_numbers1(*args):     #*args is just name given. its a positional argument.\n",
    "    for number in args:\n",
    "        print(number)\n"
   ]
  },
  {
   "cell_type": "code",
   "execution_count": 24,
   "id": "01e57353-7a23-4ec2-954d-0f4d1b044a19",
   "metadata": {},
   "outputs": [
    {
     "name": "stdout",
     "output_type": "stream",
     "text": [
      "1\n",
      "2\n",
      "3\n",
      "4\n",
      "5\n",
      "6\n",
      "7\n",
      "Ganesh\n"
     ]
    }
   ],
   "source": [
    "print_numbers1(1,2,3,4,5,6,7,'Ganesh')    #all the parametrs will be referenced by ganesh keyword."
   ]
  },
  {
   "cell_type": "markdown",
   "id": "613a4e7e-71f0-4c9d-afac-da68ae811d3f",
   "metadata": {},
   "source": [
    "#### **2. Keywords arguments:**\n",
    "1. In keyword arguments all the paramters are in the form of **key:value**\n",
    "2. kwargs means keyword argument. its standard practices.we can give another name also.\n"
   ]
  },
  {
   "cell_type": "code",
   "execution_count": 30,
   "id": "c325e67b-644b-4a77-8392-7c9331190ec4",
   "metadata": {},
   "outputs": [],
   "source": [
    "def print_details(**kwargs):\n",
    "    for key,value in kwargs.items():\n",
    "        print(f'{key} : {value}')"
   ]
  },
  {
   "cell_type": "code",
   "execution_count": 33,
   "id": "c6822045-cb44-4c46-bcaf-cd25d999a76f",
   "metadata": {},
   "outputs": [
    {
     "name": "stdout",
     "output_type": "stream",
     "text": [
      "Name : Ganesh\n",
      "Surname : Gunjal\n",
      "Age : 33\n",
      "Country : India\n"
     ]
    }
   ],
   "source": [
    "print_details(Name='Ganesh',Surname='Gunjal',Age=33,Country='India')   #all this parameter are references by **kwargs"
   ]
  },
  {
   "cell_type": "markdown",
   "id": "3020bc87-aa6c-4395-9ea0-bb79c8d4b536",
   "metadata": {},
   "source": [
    "#### Combining positional and keyword arguments:"
   ]
  },
  {
   "cell_type": "code",
   "execution_count": 36,
   "id": "1d4afecc-a64c-4988-b763-9cd0a32912e7",
   "metadata": {},
   "outputs": [],
   "source": [
    "def print_details_combine(*args,**kwargs):\n",
    "    for val in args:\n",
    "        print(f'Positional Argument: {val}')\n",
    "\n",
    "    for key, value in kwargs.items():\n",
    "        print(f'{key} : {value}')"
   ]
  },
  {
   "cell_type": "code",
   "execution_count": 39,
   "id": "5b32252f-eea0-4814-a9ca-779dedeff072",
   "metadata": {},
   "outputs": [
    {
     "name": "stdout",
     "output_type": "stream",
     "text": [
      "Positional Argument: 1\n",
      "Positional Argument: 2\n",
      "Positional Argument: 3\n",
      "Positional Argument: 4\n",
      "Positional Argument: 5\n",
      "Positional Argument: Data Scientist\n",
      "name : Ganesh\n",
      "Surname : Gunjal\n",
      "Age : 33\n"
     ]
    }
   ],
   "source": [
    "print_details_combine(1,2,3,4,5,'Data Scientist', name='Ganesh', Surname ='Gunjal', Age=33)"
   ]
  },
  {
   "cell_type": "markdown",
   "id": "96de1cbb-0e17-45ed-b4b1-756c6185a221",
   "metadata": {},
   "source": [
    "#### **Return statement:**"
   ]
  },
  {
   "cell_type": "code",
   "execution_count": 40,
   "id": "283f01bc-188b-40f9-b833-e634597e5d06",
   "metadata": {},
   "outputs": [],
   "source": [
    "def multiply(a,b):\n",
    "    return a*b"
   ]
  },
  {
   "cell_type": "code",
   "execution_count": 42,
   "id": "0fe19b8c-befe-446e-b857-58de60b3d972",
   "metadata": {},
   "outputs": [
    {
     "data": {
      "text/plain": [
       "12"
      ]
     },
     "execution_count": 42,
     "metadata": {},
     "output_type": "execute_result"
    }
   ],
   "source": [
    "multiply(3,4)"
   ]
  },
  {
   "cell_type": "code",
   "execution_count": 43,
   "id": "1ba7af78-21f4-469b-9b66-2ca8aaeffa2e",
   "metadata": {},
   "outputs": [],
   "source": [
    "#another aproach\n",
    "def multiply(a,b):\n",
    "    return a*b,a"
   ]
  },
  {
   "cell_type": "code",
   "execution_count": 44,
   "id": "05b27e36-b545-4a12-9d5e-79cdc9b3d4ce",
   "metadata": {},
   "outputs": [
    {
     "data": {
      "text/plain": [
       "(12, 3)"
      ]
     },
     "execution_count": 44,
     "metadata": {},
     "output_type": "execute_result"
    }
   ],
   "source": [
    "multiply(3,4)"
   ]
  },
  {
   "cell_type": "code",
   "execution_count": null,
   "id": "287e702b-e3fe-4931-8f49-ba2f666ece41",
   "metadata": {},
   "outputs": [],
   "source": []
  }
 ],
 "metadata": {
  "kernelspec": {
   "display_name": "Python 3 (ipykernel)",
   "language": "python",
   "name": "python3"
  },
  "language_info": {
   "codemirror_mode": {
    "name": "ipython",
    "version": 3
   },
   "file_extension": ".py",
   "mimetype": "text/x-python",
   "name": "python",
   "nbconvert_exporter": "python",
   "pygments_lexer": "ipython3",
   "version": "3.12.7"
  }
 },
 "nbformat": 4,
 "nbformat_minor": 5
}
