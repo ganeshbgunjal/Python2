{
 "cells": [
  {
   "cell_type": "markdown",
   "id": "0b50ea02-ae03-471e-ab4b-ed56318d32e2",
   "metadata": {},
   "source": [
    "### **List:**\n",
    "1. Lists are ordered collection of items.\n",
    "2. they can contain item of different data type."
   ]
  },
  {
   "cell_type": "code",
   "execution_count": 1,
   "id": "8d5efaf0-1390-4de1-99bd-bc483f161483",
   "metadata": {},
   "outputs": [],
   "source": [
    "lst = [2,2.2,'Ganesh',True]"
   ]
  },
  {
   "cell_type": "code",
   "execution_count": 3,
   "id": "9a18b9a9-0d49-4f28-aee5-5a9e47cb2765",
   "metadata": {},
   "outputs": [
    {
     "data": {
      "text/plain": [
       "[2, 2.2, 'Ganesh', True]"
      ]
     },
     "execution_count": 3,
     "metadata": {},
     "output_type": "execute_result"
    }
   ],
   "source": [
    "lst"
   ]
  },
  {
   "cell_type": "code",
   "execution_count": 4,
   "id": "a45ef5c9-1ebc-43a2-974f-67dbbf4d01cc",
   "metadata": {},
   "outputs": [
    {
     "name": "stdout",
     "output_type": "stream",
     "text": [
      "<class 'list'>\n"
     ]
    }
   ],
   "source": [
    "print(type(lst))"
   ]
  },
  {
   "cell_type": "code",
   "execution_count": 5,
   "id": "b83c3494-19ef-4723-80df-b32f1a04e2f8",
   "metadata": {},
   "outputs": [],
   "source": [
    "# accessing list items\n",
    "fruits = ['Apple','Banana','cherry','mango','grapes']"
   ]
  },
  {
   "cell_type": "code",
   "execution_count": 8,
   "id": "6a597ce9-e8f1-41ce-b40d-f33b97c94c68",
   "metadata": {},
   "outputs": [
    {
     "data": {
      "text/plain": [
       "'Apple'"
      ]
     },
     "execution_count": 8,
     "metadata": {},
     "output_type": "execute_result"
    }
   ],
   "source": [
    "fruits[0]  #this is ordered collection. coz every element has index."
   ]
  },
  {
   "cell_type": "code",
   "execution_count": 9,
   "id": "0ca8f53b-001c-4d95-9f01-efad52e9e9e4",
   "metadata": {},
   "outputs": [
    {
     "data": {
      "text/plain": [
       "'cherry'"
      ]
     },
     "execution_count": 9,
     "metadata": {},
     "output_type": "execute_result"
    }
   ],
   "source": [
    "fruits[2]"
   ]
  },
  {
   "cell_type": "code",
   "execution_count": 13,
   "id": "0eec37ac-a799-4916-96df-3074e41cb8f8",
   "metadata": {},
   "outputs": [
    {
     "data": {
      "text/plain": [
       "['Banana', 'cherry', 'mango']"
      ]
     },
     "execution_count": 13,
     "metadata": {},
     "output_type": "execute_result"
    }
   ],
   "source": [
    "fruits[1:4]  #4th index is excluded."
   ]
  },
  {
   "cell_type": "code",
   "execution_count": 14,
   "id": "294e4131-a960-46cb-af78-84fc8d28c5ce",
   "metadata": {},
   "outputs": [
    {
     "data": {
      "text/plain": [
       "['Banana', 'cherry', 'mango', 'grapes']"
      ]
     },
     "execution_count": 14,
     "metadata": {},
     "output_type": "execute_result"
    }
   ],
   "source": [
    "fruits[1:]   #from 1st index to last index."
   ]
  },
  {
   "cell_type": "code",
   "execution_count": 16,
   "id": "fa57e712-2559-4977-9ebb-7e9486abb346",
   "metadata": {},
   "outputs": [
    {
     "data": {
      "text/plain": [
       "'grapes'"
      ]
     },
     "execution_count": 16,
     "metadata": {},
     "output_type": "execute_result"
    }
   ],
   "source": [
    "fruits[-1]   #from last one."
   ]
  },
  {
   "cell_type": "code",
   "execution_count": 17,
   "id": "b48c5cfd-cd2d-4242-bfeb-99cacb86d529",
   "metadata": {},
   "outputs": [
    {
     "data": {
      "text/plain": [
       "[]"
      ]
     },
     "execution_count": 17,
     "metadata": {},
     "output_type": "execute_result"
    }
   ],
   "source": [
    "fruits[-1:-3]"
   ]
  },
  {
   "cell_type": "code",
   "execution_count": 18,
   "id": "b2c61791-d38b-4bdf-ac78-b890ed978258",
   "metadata": {},
   "outputs": [
    {
     "data": {
      "text/plain": [
       "['cherry', 'mango']"
      ]
     },
     "execution_count": 18,
     "metadata": {},
     "output_type": "execute_result"
    }
   ],
   "source": [
    "fruits[-3:-1]"
   ]
  },
  {
   "cell_type": "markdown",
   "id": "c4fc701a-5225-4104-becc-c9f5fcb290c7",
   "metadata": {},
   "source": [
    "### Modifying the list elements:"
   ]
  },
  {
   "cell_type": "code",
   "execution_count": 21,
   "id": "c552ec06-9d3b-4fa8-aa80-785db945520c",
   "metadata": {},
   "outputs": [],
   "source": [
    "fruits[3] = 'Guava'   #this is mutable. we can change its element."
   ]
  },
  {
   "cell_type": "code",
   "execution_count": 22,
   "id": "677e59c4-6a6d-48b0-8c85-afa0bdf0b94f",
   "metadata": {},
   "outputs": [
    {
     "data": {
      "text/plain": [
       "['Apple', 'Banana', 'cherry', 'Guava', 'grapes']"
      ]
     },
     "execution_count": 22,
     "metadata": {},
     "output_type": "execute_result"
    }
   ],
   "source": [
    "fruits"
   ]
  },
  {
   "cell_type": "markdown",
   "id": "be2a54de-96b3-4a06-bf3e-01ea01cbfd74",
   "metadata": {},
   "source": [
    "### List Methods:"
   ]
  },
  {
   "cell_type": "code",
   "execution_count": 25,
   "id": "d00052c7-e30f-42f1-ace4-989a63df1859",
   "metadata": {},
   "outputs": [],
   "source": [
    "fruits.append('pineapple')   #it will add at the end of the list."
   ]
  },
  {
   "cell_type": "code",
   "execution_count": 26,
   "id": "dac10f92-b4ee-40dd-9f65-5af63fe958a0",
   "metadata": {},
   "outputs": [
    {
     "data": {
      "text/plain": [
       "['Apple', 'Banana', 'cherry', 'Guava', 'grapes', 'pineapple', 'pineapple']"
      ]
     },
     "execution_count": 26,
     "metadata": {},
     "output_type": "execute_result"
    }
   ],
   "source": [
    "fruits"
   ]
  },
  {
   "cell_type": "code",
   "execution_count": 27,
   "id": "c1927e98-8df5-4b9a-91b2-b02102c2b966",
   "metadata": {},
   "outputs": [],
   "source": [
    "fruits.insert(2,'Watermelon')\n"
   ]
  },
  {
   "cell_type": "code",
   "execution_count": 28,
   "id": "b51988e7-77a3-4acd-a18c-58e4c2e21d2e",
   "metadata": {},
   "outputs": [
    {
     "data": {
      "text/plain": [
       "['Apple',\n",
       " 'Banana',\n",
       " 'Watermelon',\n",
       " 'cherry',\n",
       " 'Guava',\n",
       " 'grapes',\n",
       " 'pineapple',\n",
       " 'pineapple']"
      ]
     },
     "execution_count": 28,
     "metadata": {},
     "output_type": "execute_result"
    }
   ],
   "source": [
    "fruits"
   ]
  },
  {
   "cell_type": "code",
   "execution_count": 29,
   "id": "a97a59db-f242-42a7-8d55-7e250d17806f",
   "metadata": {},
   "outputs": [],
   "source": [
    "fruits.remove('pineapple')"
   ]
  },
  {
   "cell_type": "code",
   "execution_count": 30,
   "id": "c13d1513-78e6-460e-8fc8-cb88aba41cff",
   "metadata": {},
   "outputs": [
    {
     "data": {
      "text/plain": [
       "['Apple', 'Banana', 'Watermelon', 'cherry', 'Guava', 'grapes', 'pineapple']"
      ]
     },
     "execution_count": 30,
     "metadata": {},
     "output_type": "execute_result"
    }
   ],
   "source": [
    "fruits"
   ]
  },
  {
   "cell_type": "code",
   "execution_count": 31,
   "id": "df73008d-a12f-44c4-aafe-81d4725effc7",
   "metadata": {},
   "outputs": [
    {
     "data": {
      "text/plain": [
       "'pineapple'"
      ]
     },
     "execution_count": 31,
     "metadata": {},
     "output_type": "execute_result"
    }
   ],
   "source": [
    "fruits.pop()   #remove last item "
   ]
  },
  {
   "cell_type": "code",
   "execution_count": 32,
   "id": "7c1ec339-d4ec-4509-a22f-98a24d3230b5",
   "metadata": {},
   "outputs": [
    {
     "data": {
      "text/plain": [
       "['Apple', 'Banana', 'Watermelon', 'cherry', 'Guava', 'grapes']"
      ]
     },
     "execution_count": 32,
     "metadata": {},
     "output_type": "execute_result"
    }
   ],
   "source": [
    "fruits"
   ]
  },
  {
   "cell_type": "code",
   "execution_count": 33,
   "id": "7a7b1f40-8c88-4c6c-af17-593c5488da17",
   "metadata": {},
   "outputs": [
    {
     "data": {
      "text/plain": [
       "3"
      ]
     },
     "execution_count": 33,
     "metadata": {},
     "output_type": "execute_result"
    }
   ],
   "source": [
    "fruits.index('cherry')"
   ]
  },
  {
   "cell_type": "code",
   "execution_count": 37,
   "id": "f6e0520c-f451-492a-a365-b73dd598cd8a",
   "metadata": {},
   "outputs": [],
   "source": [
    "fruits.insert(4,'banana')"
   ]
  },
  {
   "cell_type": "code",
   "execution_count": 38,
   "id": "94aa19f1-0a8a-4f2f-a717-35136d8cf65a",
   "metadata": {},
   "outputs": [
    {
     "data": {
      "text/plain": [
       "['Apple',\n",
       " 'Banana',\n",
       " 'Watermelon',\n",
       " 'banana',\n",
       " 'banana',\n",
       " 'cherry',\n",
       " 'Guava',\n",
       " 'grapes']"
      ]
     },
     "execution_count": 38,
     "metadata": {},
     "output_type": "execute_result"
    }
   ],
   "source": [
    "fruits"
   ]
  },
  {
   "cell_type": "code",
   "execution_count": 40,
   "id": "93784389-abe3-4679-b456-56ab9b58ab53",
   "metadata": {},
   "outputs": [
    {
     "data": {
      "text/plain": [
       "2"
      ]
     },
     "execution_count": 40,
     "metadata": {},
     "output_type": "execute_result"
    }
   ],
   "source": [
    "fruits.count('banana')   #its case sensitive. it doesnt coount 'Banana'"
   ]
  },
  {
   "cell_type": "code",
   "execution_count": 41,
   "id": "367a98d8-e051-4d47-83f8-6d2e9d7fe60a",
   "metadata": {},
   "outputs": [],
   "source": [
    "fruits.sort()"
   ]
  },
  {
   "cell_type": "code",
   "execution_count": 42,
   "id": "cb23254f-ab26-4ff3-a142-b20ecfac56e7",
   "metadata": {},
   "outputs": [
    {
     "data": {
      "text/plain": [
       "['Apple',\n",
       " 'Banana',\n",
       " 'Guava',\n",
       " 'Watermelon',\n",
       " 'banana',\n",
       " 'banana',\n",
       " 'cherry',\n",
       " 'grapes']"
      ]
     },
     "execution_count": 42,
     "metadata": {},
     "output_type": "execute_result"
    }
   ],
   "source": [
    "fruits"
   ]
  },
  {
   "cell_type": "code",
   "execution_count": 43,
   "id": "74b07dea-1586-4d46-ad96-67a90b30030e",
   "metadata": {},
   "outputs": [],
   "source": [
    "fruits.reverse()"
   ]
  },
  {
   "cell_type": "code",
   "execution_count": 44,
   "id": "3beba929-6d08-452e-bc20-4b4a44d023e8",
   "metadata": {},
   "outputs": [
    {
     "data": {
      "text/plain": [
       "['grapes',\n",
       " 'cherry',\n",
       " 'banana',\n",
       " 'banana',\n",
       " 'Watermelon',\n",
       " 'Guava',\n",
       " 'Banana',\n",
       " 'Apple']"
      ]
     },
     "execution_count": 44,
     "metadata": {},
     "output_type": "execute_result"
    }
   ],
   "source": [
    "fruits"
   ]
  },
  {
   "cell_type": "code",
   "execution_count": 45,
   "id": "d6fc9b92-b8bf-49f9-a5e0-31036266f143",
   "metadata": {},
   "outputs": [],
   "source": [
    "numbers = [1,2,3,4,5,6,7,8,9,10]"
   ]
  },
  {
   "cell_type": "code",
   "execution_count": 46,
   "id": "e563e3f1-2d9d-4de6-ab6b-d9999c378e00",
   "metadata": {},
   "outputs": [
    {
     "data": {
      "text/plain": [
       "[2, 3, 4, 5, 6, 7, 8, 9, 10]"
      ]
     },
     "execution_count": 46,
     "metadata": {},
     "output_type": "execute_result"
    }
   ],
   "source": [
    "numbers[1:]"
   ]
  },
  {
   "cell_type": "code",
   "execution_count": 47,
   "id": "64083b70-b2b7-42f9-a12a-73678480e8d6",
   "metadata": {},
   "outputs": [
    {
     "data": {
      "text/plain": [
       "[2, 3, 4, 5, 6]"
      ]
     },
     "execution_count": 47,
     "metadata": {},
     "output_type": "execute_result"
    }
   ],
   "source": [
    "numbers[1:6]"
   ]
  },
  {
   "cell_type": "code",
   "execution_count": 48,
   "id": "1bfbe99a-c548-4fe0-b1a8-beb86dec7f6e",
   "metadata": {},
   "outputs": [
    {
     "data": {
      "text/plain": [
       "[1, 3, 5, 7, 9]"
      ]
     },
     "execution_count": 48,
     "metadata": {},
     "output_type": "execute_result"
    }
   ],
   "source": [
    "numbers[::2]"
   ]
  },
  {
   "cell_type": "code",
   "execution_count": 49,
   "id": "ae983922-8045-4dbc-bf35-621222d7bdef",
   "metadata": {},
   "outputs": [
    {
     "data": {
      "text/plain": [
       "[10, 9, 8, 7, 6, 5, 4, 3, 2, 1]"
      ]
     },
     "execution_count": 49,
     "metadata": {},
     "output_type": "execute_result"
    }
   ],
   "source": [
    "numbers[::-1]"
   ]
  },
  {
   "cell_type": "code",
   "execution_count": 50,
   "id": "aa862041-b7c9-473a-bd12-da8d737f2084",
   "metadata": {},
   "outputs": [
    {
     "data": {
      "text/plain": [
       "[10, 8, 6, 4, 2]"
      ]
     },
     "execution_count": 50,
     "metadata": {},
     "output_type": "execute_result"
    }
   ],
   "source": [
    "numbers[::-2]"
   ]
  },
  {
   "cell_type": "markdown",
   "id": "ecd488cd-5726-4024-82be-11afff89df53",
   "metadata": {},
   "source": [
    "### Iterating over the list:"
   ]
  },
  {
   "cell_type": "code",
   "execution_count": 51,
   "id": "4b16b521-fad4-4126-aeec-f59d8486cb16",
   "metadata": {},
   "outputs": [
    {
     "name": "stdout",
     "output_type": "stream",
     "text": [
      "1\n",
      "2\n",
      "3\n",
      "4\n",
      "5\n",
      "6\n",
      "7\n",
      "8\n",
      "9\n",
      "10\n"
     ]
    }
   ],
   "source": [
    "for i in numbers:\n",
    "    print(i)"
   ]
  },
  {
   "cell_type": "code",
   "execution_count": 56,
   "id": "a763da1c-faa7-4f50-98ee-7a286ee150c1",
   "metadata": {},
   "outputs": [
    {
     "name": "stdout",
     "output_type": "stream",
     "text": [
      "index:0, number:1\n",
      "index:1, number:2\n",
      "index:2, number:3\n",
      "index:3, number:4\n",
      "index:4, number:5\n",
      "index:5, number:6\n",
      "index:6, number:7\n",
      "index:7, number:8\n",
      "index:8, number:9\n",
      "index:9, number:10\n"
     ]
    }
   ],
   "source": [
    "for index,number in enumerate(numbers):\n",
    "    print(f'index:{index}, number:{number}')"
   ]
  },
  {
   "cell_type": "code",
   "execution_count": null,
   "id": "12b80b8e-ddb3-4da9-b15e-b6afd58e803d",
   "metadata": {},
   "outputs": [],
   "source": []
  }
 ],
 "metadata": {
  "kernelspec": {
   "display_name": "Python 3 (ipykernel)",
   "language": "python",
   "name": "python3"
  },
  "language_info": {
   "codemirror_mode": {
    "name": "ipython",
    "version": 3
   },
   "file_extension": ".py",
   "mimetype": "text/x-python",
   "name": "python",
   "nbconvert_exporter": "python",
   "pygments_lexer": "ipython3",
   "version": "3.12.7"
  }
 },
 "nbformat": 4,
 "nbformat_minor": 5
}
