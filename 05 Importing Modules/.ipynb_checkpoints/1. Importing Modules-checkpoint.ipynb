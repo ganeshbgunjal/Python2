{
 "cells": [
  {
   "cell_type": "markdown",
   "id": "672b672b-7a87-4877-83fc-67c7e77f9547",
   "metadata": {},
   "source": [
    "### Modules and Packages:-"
   ]
  },
  {
   "cell_type": "markdown",
   "id": "ea3d1f34-1dd5-4594-8ec9-baeb13d9d97d",
   "metadata": {},
   "source": [
    "modules and packages helps for writing code not from scratch. coder can import that module and can start coding with some readymade packages."
   ]
  },
  {
   "cell_type": "code",
   "execution_count": 1,
   "id": "141aa832-9922-4e30-8405-d81e0c5e7121",
   "metadata": {},
   "outputs": [],
   "source": [
    "import math"
   ]
  },
  {
   "cell_type": "code",
   "execution_count": 2,
   "id": "d08e2aef-8f79-4c4c-87bd-e564ef399b96",
   "metadata": {},
   "outputs": [
    {
     "data": {
      "text/plain": [
       "4.0"
      ]
     },
     "execution_count": 2,
     "metadata": {},
     "output_type": "execute_result"
    }
   ],
   "source": [
    "math.sqrt(16)"
   ]
  },
  {
   "cell_type": "code",
   "execution_count": 4,
   "id": "9028501b-6a4f-4e4f-bde3-990442f87502",
   "metadata": {},
   "outputs": [],
   "source": [
    "from math import sqrt, pi"
   ]
  },
  {
   "cell_type": "code",
   "execution_count": 5,
   "id": "db8e4ca1-c23a-4d8e-9f42-00f4308a3051",
   "metadata": {},
   "outputs": [
    {
     "name": "stdout",
     "output_type": "stream",
     "text": [
      "4.0\n",
      "10.0\n",
      "3.141592653589793\n"
     ]
    }
   ],
   "source": [
    "print(sqrt(16))\n",
    "print(sqrt(100))\n",
    "print(pi)"
   ]
  },
  {
   "cell_type": "code",
   "execution_count": 8,
   "id": "e81bc724-c0e0-42ed-9c4e-a5578dd62b74",
   "metadata": {},
   "outputs": [
    {
     "data": {
      "text/plain": [
       "array([1, 2, 3, 4])"
      ]
     },
     "execution_count": 8,
     "metadata": {},
     "output_type": "execute_result"
    }
   ],
   "source": [
    "import numpy as np   #we installed numpy that why any error doesnt come.\n",
    "np.array([1,2,3,4])"
   ]
  },
  {
   "cell_type": "code",
   "execution_count": 10,
   "id": "4204a6ec-c266-41ec-a35e-24230bc87978",
   "metadata": {},
   "outputs": [
    {
     "name": "stdout",
     "output_type": "stream",
     "text": [
      "10.0\n",
      "5.0\n",
      "3.141592653589793\n"
     ]
    }
   ],
   "source": [
    "from math import *    # star means all modules\n",
    "print(sqrt(100))\n",
    "print(sqrt(25))\n",
    "print(pi)"
   ]
  },
  {
   "cell_type": "code",
   "execution_count": 14,
   "id": "4b9c7bac-d21b-4973-b1e5-95ffb07d09d6",
   "metadata": {},
   "outputs": [
    {
     "data": {
      "text/plain": [
       "8"
      ]
     },
     "execution_count": 14,
     "metadata": {},
     "output_type": "execute_result"
    }
   ],
   "source": [
    "#this module is present in your current directory. you have created by your own.\n",
    "from package.math import addition    \n",
    "addition(3,5)"
   ]
  },
  {
   "cell_type": "code",
   "execution_count": 24,
   "id": "df5c0cf2-a46a-4e4b-8589-b27f40382e46",
   "metadata": {},
   "outputs": [
    {
     "data": {
      "text/plain": [
       "5"
      ]
     },
     "execution_count": 24,
     "metadata": {},
     "output_type": "execute_result"
    }
   ],
   "source": [
    "# another aproach\n",
    "from package import math\n",
    "math.addition(2,3)"
   ]
  },
  {
   "cell_type": "code",
   "execution_count": 26,
   "id": "839231f9-1904-4c55-9027-deb6a7e6e5be",
   "metadata": {},
   "outputs": [
    {
     "data": {
      "text/plain": [
       "21"
      ]
     },
     "execution_count": 26,
     "metadata": {},
     "output_type": "execute_result"
    }
   ],
   "source": [
    "from package.subpackages import multi   #this is how we import package and subpackage\n",
    "multi.multiplication(7,3)"
   ]
  },
  {
   "cell_type": "code",
   "execution_count": null,
   "id": "a7405ca3-03df-479e-864c-98f840e80413",
   "metadata": {},
   "outputs": [],
   "source": []
  }
 ],
 "metadata": {
  "kernelspec": {
   "display_name": "Python 3 (ipykernel)",
   "language": "python",
   "name": "python3"
  },
  "language_info": {
   "codemirror_mode": {
    "name": "ipython",
    "version": 3
   },
   "file_extension": ".py",
   "mimetype": "text/x-python",
   "name": "python",
   "nbconvert_exporter": "python",
   "pygments_lexer": "ipython3",
   "version": "3.12.7"
  }
 },
 "nbformat": 4,
 "nbformat_minor": 5
}
