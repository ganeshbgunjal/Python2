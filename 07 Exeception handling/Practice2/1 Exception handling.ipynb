{
 "cells": [
  {
   "cell_type": "markdown",
   "id": "2eaaffae-2551-4d5d-81f6-991dda597333",
   "metadata": {},
   "source": [
    "## Understanding Exceptions:-"
   ]
  },
  {
   "cell_type": "markdown",
   "id": "c0104ed8-d9c6-4c03-8368-0eef8350fd71",
   "metadata": {},
   "source": [
    "It’s how Python manages errors so your program doesn’t crash.\n",
    "You use it to gracefully handle unexpected issues (like file not found, division by zero, etc.)."
   ]
  },
  {
   "cell_type": "code",
   "execution_count": 2,
   "id": "e5bd1cc6-3fbc-4341-8b67-2ad14c2550bd",
   "metadata": {},
   "outputs": [
    {
     "ename": "NameError",
     "evalue": "name 'b' is not defined",
     "output_type": "error",
     "traceback": [
      "\u001b[1;31m---------------------------------------------------------------------------\u001b[0m",
      "\u001b[1;31mNameError\u001b[0m                                 Traceback (most recent call last)",
      "Cell \u001b[1;32mIn[2], line 1\u001b[0m\n\u001b[1;32m----> 1\u001b[0m a\u001b[38;5;241m=\u001b[39mb\n",
      "\u001b[1;31mNameError\u001b[0m: name 'b' is not defined"
     ]
    }
   ],
   "source": [
    "a=b   #this is error and handling of the error."
   ]
  },
  {
   "cell_type": "code",
   "execution_count": 3,
   "id": "b4ee8166-eea7-4723-81f6-f6c87b0495be",
   "metadata": {},
   "outputs": [
    {
     "name": "stdout",
     "output_type": "stream",
     "text": [
      "Error encountered as name 'b' is not defined\n"
     ]
    }
   ],
   "source": [
    "# Above code using Try Except block\n",
    "try:\n",
    "    a=b\n",
    "except Exception as e:\n",
    "    print(f'Error encountered as {e}')"
   ]
  },
  {
   "cell_type": "code",
   "execution_count": 4,
   "id": "1764d1a0-cac9-462f-8b3e-ab36d96cec21",
   "metadata": {},
   "outputs": [
    {
     "ename": "ZeroDivisionError",
     "evalue": "division by zero",
     "output_type": "error",
     "traceback": [
      "\u001b[1;31m---------------------------------------------------------------------------\u001b[0m",
      "\u001b[1;31mZeroDivisionError\u001b[0m                         Traceback (most recent call last)",
      "Cell \u001b[1;32mIn[4], line 1\u001b[0m\n\u001b[1;32m----> 1\u001b[0m result \u001b[38;5;241m=\u001b[39m \u001b[38;5;241m1\u001b[39m\u001b[38;5;241m/\u001b[39m\u001b[38;5;241m0\u001b[39m\n",
      "\u001b[1;31mZeroDivisionError\u001b[0m: division by zero"
     ]
    }
   ],
   "source": [
    "result = 1/0"
   ]
  },
  {
   "cell_type": "code",
   "execution_count": 6,
   "id": "f88593c9-4208-4310-9a66-78c6add07a16",
   "metadata": {},
   "outputs": [
    {
     "name": "stdout",
     "output_type": "stream",
     "text": [
      "Error: division by zero\n",
      "Enter denominator value greater than zero\n"
     ]
    }
   ],
   "source": [
    "try:\n",
    "    1/0\n",
    "except Exception as e:\n",
    "    print(f'Error: {e}')\n",
    "    print('Enter denominator value greater than zero')"
   ]
  },
  {
   "cell_type": "code",
   "execution_count": 8,
   "id": "aef58ee3-7686-4e18-af3a-d4feac430683",
   "metadata": {},
   "outputs": [
    {
     "name": "stdout",
     "output_type": "stream",
     "text": [
      "Error: name 'a' is not defined\n",
      "Enter denominator value greater than zero\n"
     ]
    }
   ],
   "source": [
    "try:\n",
    "    1/2\n",
    "    a/b\n",
    "except Exception as e:\n",
    "    print(f'Error: {e}')\n",
    "    print('Enter denominator value greater than zero')\n",
    "except Exception as e:\n",
    "    pint(f'Error: {e}')"
   ]
  },
  {
   "cell_type": "code",
   "execution_count": null,
   "id": "71052aca-d44f-4b4e-8af8-244f482a0498",
   "metadata": {},
   "outputs": [],
   "source": []
  }
 ],
 "metadata": {
  "kernelspec": {
   "display_name": "Python 3 (ipykernel)",
   "language": "python",
   "name": "python3"
  },
  "language_info": {
   "codemirror_mode": {
    "name": "ipython",
    "version": 3
   },
   "file_extension": ".py",
   "mimetype": "text/x-python",
   "name": "python",
   "nbconvert_exporter": "python",
   "pygments_lexer": "ipython3",
   "version": "3.12.7"
  }
 },
 "nbformat": 4,
 "nbformat_minor": 5
}
