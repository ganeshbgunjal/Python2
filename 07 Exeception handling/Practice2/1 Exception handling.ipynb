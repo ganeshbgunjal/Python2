{
 "cells": [
  {
   "cell_type": "markdown",
   "id": "2eaaffae-2551-4d5d-81f6-991dda597333",
   "metadata": {},
   "source": [
    "## Understanding Exceptions:-"
   ]
  },
  {
   "cell_type": "markdown",
   "id": "c0104ed8-d9c6-4c03-8368-0eef8350fd71",
   "metadata": {},
   "source": [
    "It’s how Python manages errors so your program doesn’t crash.\n",
    "You use it to gracefully handle unexpected issues (like file not found, division by zero, etc.)."
   ]
  },
  {
   "cell_type": "code",
   "execution_count": null,
   "id": "e5bd1cc6-3fbc-4341-8b67-2ad14c2550bd",
   "metadata": {},
   "outputs": [],
   "source": []
  }
 ],
 "metadata": {
  "kernelspec": {
   "display_name": "Python 3 (ipykernel)",
   "language": "python",
   "name": "python3"
  },
  "language_info": {
   "codemirror_mode": {
    "name": "ipython",
    "version": 3
   },
   "file_extension": ".py",
   "mimetype": "text/x-python",
   "name": "python",
   "nbconvert_exporter": "python",
   "pygments_lexer": "ipython3",
   "version": "3.12.7"
  }
 },
 "nbformat": 4,
 "nbformat_minor": 5
}
