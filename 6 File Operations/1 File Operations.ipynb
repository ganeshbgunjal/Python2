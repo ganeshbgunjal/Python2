{
 "cells": [
  {
   "cell_type": "markdown",
   "id": "fa63dc18-e1be-4fdd-8167-e9088e211165",
   "metadata": {},
   "source": [
    "### File Operations: Read and write files:"
   ]
  },
  {
   "cell_type": "markdown",
   "id": "64614873-38a2-4d0c-a2ca-462aa6524572",
   "metadata": {},
   "source": [
    "File handling is a crucial part of any programming language today. Python provides built in functions and methods to read from and write to files. both text and binary. this section will cover file handling including reading and writing text files and binary files. "
   ]
  },
  {
   "cell_type": "markdown",
   "id": "571b4191-bf9d-4372-aecb-75c334103c80",
   "metadata": {},
   "source": [
    "#### Read a whole file:"
   ]
  },
  {
   "cell_type": "code",
   "execution_count": 2,
   "id": "56846e45-3183-4735-8018-4c24320d62f1",
   "metadata": {},
   "outputs": [
    {
     "name": "stdout",
     "output_type": "stream",
     "text": [
      "Hello Ganesh. \n",
      "How are you?\n",
      "You are good data scientist. make this journey best now.\n"
     ]
    }
   ],
   "source": [
    "with open('examples.txt','r') as file:     \n",
    "    content = file.read()\n",
    "    print(content)"
   ]
  },
  {
   "cell_type": "markdown",
   "id": "31251c16-c67b-4e3a-90d8-f861acf98a54",
   "metadata": {},
   "source": [
    "#### Read file line by line"
   ]
  },
  {
   "cell_type": "code",
   "execution_count": 5,
   "id": "824142b0-b256-4f36-abed-46549f1da25b",
   "metadata": {},
   "outputs": [
    {
     "name": "stdout",
     "output_type": "stream",
     "text": [
      "Hello Ganesh.\n",
      "How are you?\n",
      "You are good data scientist. make this journey best now.\n"
     ]
    }
   ],
   "source": [
    "with open('examples.txt','r') as file:\n",
    "    for line in file:\n",
    "        print(line.strip())      #new line is added and thats why its giving one line space. that why we used .strips() method.\n",
    "\n",
    "# .strip() removes new line characters."
   ]
  },
  {
   "cell_type": "markdown",
   "id": "ad4c4722-e12c-42c1-b0ea-8e17b803bc50",
   "metadata": {},
   "source": [
    "#### Writing a file:  (overwriting: writing something into new in old file)"
   ]
  },
  {
   "cell_type": "code",
   "execution_count": 6,
   "id": "f0586fb4-b5be-45ec-9f95-fca4aac32db5",
   "metadata": {},
   "outputs": [],
   "source": [
    "with open('examples.txt','w') as file:\n",
    "    file.write('Hello Data scientist.')\n",
    "    file.write('You are data scientist now. go and earn more money.')"
   ]
  },
  {
   "cell_type": "code",
   "execution_count": 8,
   "id": "887f9ada-792b-4691-9dda-8294f4798ee8",
   "metadata": {},
   "outputs": [
    {
     "name": "stdout",
     "output_type": "stream",
     "text": [
      "Hello Data scientist.\n",
      "You are data scientist now.\n",
      "go and earn more money.\n"
     ]
    }
   ],
   "source": [
    "with open('examples.txt','r') as file:\n",
    "    data = file.read()\n",
    "    print(data)"
   ]
  },
  {
   "cell_type": "markdown",
   "id": "691e6b7b-c4e0-4ea1-8314-cecd68fcbd4a",
   "metadata": {},
   "source": [
    "#### Writing a file without Overwriting"
   ]
  },
  {
   "cell_type": "code",
   "execution_count": 9,
   "id": "d60e3caf-9729-45af-ae7c-32ef8158bd8b",
   "metadata": {},
   "outputs": [],
   "source": [
    "with open('examples.txt','a') as file:    #this is append mode. it writes at the end of the file. not overwrite.\n",
    "    file.write('It will give you everything which are dreaming. work more hard.\\n')\n",
    "    file.write('as no one is helping you.so become independant.')"
   ]
  },
  {
   "cell_type": "markdown",
   "id": "7f01ceea-3972-4e73-a8e1-69d2cdd5fcaf",
   "metadata": {},
   "source": [
    "#### Writing a list of lines to a file:"
   ]
  },
  {
   "cell_type": "code",
   "execution_count": 10,
   "id": "de80ec85-46fb-442e-b1af-c8e5391abcf4",
   "metadata": {},
   "outputs": [],
   "source": [
    "lines = ['first line \\n','second line \\n','third line \\n','fourth line \\n']\n",
    "with open('examples.txt','a') as file:\n",
    "    file.writelines(lines)"
   ]
  },
  {
   "cell_type": "code",
   "execution_count": 20,
   "id": "190f00db-3bfc-4e5d-bce2-a1d8bb83f978",
   "metadata": {},
   "outputs": [
    {
     "name": "stdout",
     "output_type": "stream",
     "text": [
      "Hello Data scientist.\n",
      "You are data scientist now.\n",
      "go and earn more money.\n",
      "It will give you everything which are dreaming. work more hard.\n",
      "as no one is helping you.so become independant.first line \n",
      "second line \n",
      "third line \n",
      "fourth line \n",
      "\n"
     ]
    }
   ],
   "source": [
    "with open('examples.txt','r') as file:\n",
    "    data =  file.read()\n",
    "    print(data)"
   ]
  },
  {
   "cell_type": "markdown",
   "id": "223344b4-f8c3-4e04-917e-f32c86ea3dc6",
   "metadata": {},
   "source": [
    "### Binary file:"
   ]
  },
  {
   "cell_type": "markdown",
   "id": "74e7b5d6-62ff-4045-8548-b51726509a38",
   "metadata": {},
   "source": [
    "#### Writing to binary file:"
   ]
  },
  {
   "cell_type": "code",
   "execution_count": 21,
   "id": "1e704a52-8dcc-4476-ab30-99a861964357",
   "metadata": {},
   "outputs": [],
   "source": [
    "data = b'\\x00\\x01\\x02\\x03\\x04'\n",
    "with open('ex.bin','wb') as file:       #wb means write byte mode.\n",
    "    file.write(data)\n",
    "              "
   ]
  },
  {
   "cell_type": "markdown",
   "id": "284a2b39-7ff4-41ca-bd75-c18c54e10dd8",
   "metadata": {},
   "source": [
    "#### Reading from binary file:"
   ]
  },
  {
   "cell_type": "code",
   "execution_count": 22,
   "id": "c3a49dc0-04c8-4847-9529-576e3d315bea",
   "metadata": {},
   "outputs": [
    {
     "name": "stdout",
     "output_type": "stream",
     "text": [
      "b'\\x00\\x01\\x02\\x03\\x04'\n"
     ]
    }
   ],
   "source": [
    "with open('ex.bin','rb') as file:\n",
    "    data = file.read()\n",
    "    print(data)"
   ]
  },
  {
   "cell_type": "markdown",
   "id": "8f1ab15a-eb06-4476-905c-0f4abd4630d4",
   "metadata": {},
   "source": [
    "#### Read the content from source text file and write it to the destination text file:"
   ]
  },
  {
   "cell_type": "code",
   "execution_count": 23,
   "id": "8c14b26f-2970-4a8e-89a9-752a3504c066",
   "metadata": {},
   "outputs": [],
   "source": [
    "with open('examples.txt','r') as source_file:\n",
    "    data = source_file.read()\n",
    "\n",
    "with open('destination.txt','w') as destination_file:    # w mode creates new file also and then it writes data.\n",
    "    data = destination_file.write(content)\n",
    "    "
   ]
  },
  {
   "cell_type": "markdown",
   "id": "2fdb44de-ad92-411d-8ad0-7d0ec8a31684",
   "metadata": {},
   "source": [
    "#### Read the text file and count the line,words and characters."
   ]
  },
  {
   "cell_type": "code",
   "execution_count": 26,
   "id": "eb7d4240-1949-4646-a2e0-5f1af017bbac",
   "metadata": {},
   "outputs": [
    {
     "name": "stdout",
     "output_type": "stream",
     "text": [
      "Total lines: 8\n"
     ]
    }
   ],
   "source": [
    "with open('examples.txt','r') as file:\n",
    "    lines = file.readlines()\n",
    "    print(f'Total lines:',len(lines))"
   ]
  },
  {
   "cell_type": "code",
   "execution_count": 27,
   "id": "00c50fcd-bb02-48d0-829d-3a7a591a232a",
   "metadata": {},
   "outputs": [
    {
     "name": "stdout",
     "output_type": "stream",
     "text": [
      "Total Lines: 8\n"
     ]
    }
   ],
   "source": [
    "# another way and its best way because it doesnt store all lines in the memory.\n",
    "count = 0\n",
    "with open('examples.txt','r') as file:\n",
    "    for line in file:\n",
    "        count+=1\n",
    "    print(f'Total Lines:',count)"
   ]
  },
  {
   "cell_type": "code",
   "execution_count": null,
   "id": "aef8e9a1-bdcb-4d75-b604-4286e6a732be",
   "metadata": {},
   "outputs": [],
   "source": []
  }
 ],
 "metadata": {
  "kernelspec": {
   "display_name": "Python 3 (ipykernel)",
   "language": "python",
   "name": "python3"
  },
  "language_info": {
   "codemirror_mode": {
    "name": "ipython",
    "version": 3
   },
   "file_extension": ".py",
   "mimetype": "text/x-python",
   "name": "python",
   "nbconvert_exporter": "python",
   "pygments_lexer": "ipython3",
   "version": "3.12.7"
  }
 },
 "nbformat": 4,
 "nbformat_minor": 5
}
