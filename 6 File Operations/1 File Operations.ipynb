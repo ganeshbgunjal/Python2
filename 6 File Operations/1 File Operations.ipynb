{
 "cells": [
  {
   "cell_type": "markdown",
   "id": "fa63dc18-e1be-4fdd-8167-e9088e211165",
   "metadata": {},
   "source": [
    "### File Operations: Read and write files:"
   ]
  },
  {
   "cell_type": "markdown",
   "id": "64614873-38a2-4d0c-a2ca-462aa6524572",
   "metadata": {},
   "source": [
    "File handling is a crucial part of any programming language today. Python provides built in functions and methods to read from and write to files. both text and binary. this section will cover file handling including reading and writing text files and binary files. "
   ]
  },
  {
   "cell_type": "markdown",
   "id": "571b4191-bf9d-4372-aecb-75c334103c80",
   "metadata": {},
   "source": [
    "#### Read a whole file:"
   ]
  },
  {
   "cell_type": "code",
   "execution_count": 2,
   "id": "56846e45-3183-4735-8018-4c24320d62f1",
   "metadata": {},
   "outputs": [
    {
     "name": "stdout",
     "output_type": "stream",
     "text": [
      "Hello Ganesh. \n",
      "How are you?\n",
      "You are good data scientist. make this journey best now.\n"
     ]
    }
   ],
   "source": [
    "with open('examples.txt','r') as file:     \n",
    "    content = file.read()\n",
    "    print(content)"
   ]
  },
  {
   "cell_type": "markdown",
   "id": "31251c16-c67b-4e3a-90d8-f861acf98a54",
   "metadata": {},
   "source": [
    "#### Read file line by line"
   ]
  },
  {
   "cell_type": "code",
   "execution_count": 5,
   "id": "824142b0-b256-4f36-abed-46549f1da25b",
   "metadata": {},
   "outputs": [
    {
     "name": "stdout",
     "output_type": "stream",
     "text": [
      "Hello Ganesh.\n",
      "How are you?\n",
      "You are good data scientist. make this journey best now.\n"
     ]
    }
   ],
   "source": [
    "with open('examples.txt','r') as file:\n",
    "    for line in file:\n",
    "        print(line.strip())      #new line is added and thats why its giving one line space. that why we used .strips() method.\n",
    "\n",
    "# .strip() removes new line characters."
   ]
  },
  {
   "cell_type": "markdown",
   "id": "ad4c4722-e12c-42c1-b0ea-8e17b803bc50",
   "metadata": {},
   "source": [
    "#### Writing a file:  (overwriting: writing something into new in old file)"
   ]
  },
  {
   "cell_type": "code",
   "execution_count": null,
   "id": "f0586fb4-b5be-45ec-9f95-fca4aac32db5",
   "metadata": {},
   "outputs": [],
   "source": [
    "with open('examples.txt','w') as file:\n",
    "    file.write()"
   ]
  }
 ],
 "metadata": {
  "kernelspec": {
   "display_name": "Python 3 (ipykernel)",
   "language": "python",
   "name": "python3"
  },
  "language_info": {
   "codemirror_mode": {
    "name": "ipython",
    "version": 3
   },
   "file_extension": ".py",
   "mimetype": "text/x-python",
   "name": "python",
   "nbconvert_exporter": "python",
   "pygments_lexer": "ipython3",
   "version": "3.12.7"
  }
 },
 "nbformat": 4,
 "nbformat_minor": 5
}
