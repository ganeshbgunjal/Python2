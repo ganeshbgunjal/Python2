{
 "cells": [
  {
   "cell_type": "markdown",
   "id": "dd9de8a7-b3be-46ef-af57-27958d058aa2",
   "metadata": {},
   "source": [
    "### Create new directory:"
   ]
  },
  {
   "cell_type": "code",
   "execution_count": 4,
   "id": "d0ae2e8a-6b92-48d5-9c53-3be5a5d76d1b",
   "metadata": {},
   "outputs": [
    {
     "name": "stdout",
     "output_type": "stream",
     "text": [
      " Directory package created\n"
     ]
    }
   ],
   "source": [
    "import os\n",
    "new_directory = 'package'\n",
    "os.mkdir(new_directory)\n",
    "print(f' Directory {new_directory} created')"
   ]
  },
  {
   "cell_type": "markdown",
   "id": "fc3c46ff-9db4-41fa-8a33-ca57c0b68edc",
   "metadata": {},
   "source": [
    "#### Listing all files and directories"
   ]
  },
  {
   "cell_type": "code",
   "execution_count": 5,
   "id": "59dc06d9-6f4d-4c21-81ed-830417405a22",
   "metadata": {},
   "outputs": [
    {
     "name": "stdout",
     "output_type": "stream",
     "text": [
      "['.ipynb_checkpoints', '1 File Operations.ipynb', '2 Working with file paths.ipynb', 'destination.txt', 'ex.bin', 'examples.txt', 'package']\n"
     ]
    }
   ],
   "source": [
    "items = os.listdir('.')   #this dot means all items in current directory.\n",
    "print(items)"
   ]
  },
  {
   "cell_type": "markdown",
   "id": "84de1a06-b0db-4277-9602-333ac477b6f2",
   "metadata": {},
   "source": [
    "### Joining paths"
   ]
  },
  {
   "cell_type": "code",
   "execution_count": 7,
   "id": "d9f89863-2757-4607-83f6-041dca08baa4",
   "metadata": {},
   "outputs": [
    {
     "name": "stdout",
     "output_type": "stream",
     "text": [
      "folder\\file.txt\n"
     ]
    }
   ],
   "source": [
    "dir_name = 'folder'\n",
    "file_name = 'file.txt'\n",
    "full_path = os.path.join(dir_name,file_name)\n",
    "print(full_path)"
   ]
  },
  {
   "cell_type": "code",
   "execution_count": 8,
   "id": "bfb24ce5-d39a-4ab9-a9c7-ad5ab9cc932c",
   "metadata": {},
   "outputs": [
    {
     "name": "stdout",
     "output_type": "stream",
     "text": [
      "D:\\2. Udemy Course\\1 Python\\Python\\6 File Operations\\folder\\file.txt\n"
     ]
    }
   ],
   "source": [
    "# to get with whole path.\n",
    "dir_name = 'folder'\n",
    "file_name = 'file.txt'\n",
    "full_path = os.path.join(os.getcwd(),dir_name,file_name)\n",
    "print(full_path)"
   ]
  },
  {
   "cell_type": "code",
   "execution_count": 11,
   "id": "a6b4ed72-a434-46d2-a728-40ec660d9c4b",
   "metadata": {},
   "outputs": [
    {
     "name": "stdout",
     "output_type": "stream",
     "text": [
      "the path \"example.txt\" does not exist.\n"
     ]
    }
   ],
   "source": [
    "path = 'example.txt'\n",
    "if os.path.exists(path):\n",
    "    print(f'the path \"{path}\" is exists.')\n",
    "else:\n",
    "    print(f'the path \"{path}\" does not exist.')"
   ]
  },
  {
   "cell_type": "markdown",
   "id": "d41f2fca-1c9b-4e1d-9398-e967d8f0da47",
   "metadata": {},
   "source": [
    "#### Checking if there file or directory."
   ]
  },
  {
   "cell_type": "code",
   "execution_count": 13,
   "id": "00707414-9be6-4b86-80c1-f1c852760605",
   "metadata": {},
   "outputs": [
    {
     "name": "stdout",
     "output_type": "stream",
     "text": [
      "the path 'examples.txt' is a file.\n"
     ]
    }
   ],
   "source": [
    "import os\n",
    "path = 'examples.txt'\n",
    "if os.path.isfile(path):\n",
    "    print(f\"the path '{path}' is a file.\")\n",
    "elif os.path.isdir(path):\n",
    "    print(f\"the path '{path}'is a directory.\")\n",
    "else:\n",
    "    print(f\"the path '{path}' is neither file not directory.\")"
   ]
  },
  {
   "cell_type": "markdown",
   "id": "966307fb-6ec5-4f78-ba0c-d4329a9a9ef5",
   "metadata": {},
   "source": [
    "### Getting relative and absolute path:\n",
    "1. absolute path means whole file path. \n",
    "2. relative path means only file path.\n"
   ]
  },
  {
   "cell_type": "code",
   "execution_count": 16,
   "id": "dde5d9a8-1e82-430b-a506-b8182b31600b",
   "metadata": {},
   "outputs": [
    {
     "name": "stdout",
     "output_type": "stream",
     "text": [
      "D:\\2. Udemy Course\\1 Python\\Python\\6 File Operations\\examples.txt\n"
     ]
    }
   ],
   "source": [
    "relative_path = 'examples.txt'\n",
    "absolute_path = os.path.abspath(relative_path)\n",
    "print(absolute_path)"
   ]
  },
  {
   "cell_type": "code",
   "execution_count": null,
   "id": "6d5986f8-88b3-460f-9a35-ddac29a5abf7",
   "metadata": {},
   "outputs": [],
   "source": []
  }
 ],
 "metadata": {
  "kernelspec": {
   "display_name": "Python 3 (ipykernel)",
   "language": "python",
   "name": "python3"
  },
  "language_info": {
   "codemirror_mode": {
    "name": "ipython",
    "version": 3
   },
   "file_extension": ".py",
   "mimetype": "text/x-python",
   "name": "python",
   "nbconvert_exporter": "python",
   "pygments_lexer": "ipython3",
   "version": "3.12.7"
  }
 },
 "nbformat": 4,
 "nbformat_minor": 5
}
