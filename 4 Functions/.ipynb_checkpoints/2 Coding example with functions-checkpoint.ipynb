{
 "cells": [
  {
   "cell_type": "markdown",
   "id": "2953f6d1-a9b4-472f-82ed-9a6a40d7394f",
   "metadata": {},
   "source": [
    "#### **Coding Examples on Functions:**"
   ]
  },
  {
   "cell_type": "markdown",
   "id": "0e35aa8f-ee5b-417c-be2e-aede0181a38a",
   "metadata": {},
   "source": [
    "**Example 1: Temperature Conversion**"
   ]
  },
  {
   "cell_type": "code",
   "execution_count": 10,
   "id": "2f28dfc9-ed85-48f6-b63a-ba05caaeeeee",
   "metadata": {},
   "outputs": [],
   "source": [
    "def temp_conversion():\n",
    "    ''' this function temp to fahreinheit to celsius and vice versa'''\n",
    "    temp = int(input(\"Enter temp to calculate:\"))\n",
    "    Fahreinheit = (temp*9/5)+32\n",
    "    celsius = temp-32*(5/9)\n",
    "    print(f'Fareinheit of {temp} degree is {Fahreinheit} F')\n",
    "    print(f'Celsius of {temp} is {celsius} C')"
   ]
  },
  {
   "cell_type": "code",
   "execution_count": 11,
   "id": "ae071223-a477-4932-9b4d-9a2a2772d290",
   "metadata": {},
   "outputs": [
    {
     "name": "stdin",
     "output_type": "stream",
     "text": [
      "Enter temp to calculate: 0\n"
     ]
    },
    {
     "name": "stdout",
     "output_type": "stream",
     "text": [
      "Fareinheit of 0 degree is 32.0 F\n",
      "Celsius of 0 is -17.77777777777778 C\n"
     ]
    }
   ],
   "source": [
    "temp_conversion()"
   ]
  },
  {
   "cell_type": "markdown",
   "id": "2a8db765-1506-459f-aa56-cde5b23b8b24",
   "metadata": {},
   "source": [
    "**Example 2: Password Strength Checker**"
   ]
  },
  {
   "cell_type": "code",
   "execution_count": 12,
   "id": "a2fdbd53-db95-4224-9dbf-fd8868b85ded",
   "metadata": {},
   "outputs": [],
   "source": [
    "def is_strong_password(password):\n",
    "    '''This function checks whether password is strong or not'''\n",
    "    if len(password) <8:\n",
    "        return False\n",
    "    if not any(char.isdigit() for char in password):\n",
    "        return False\n",
    "    if not any(char.islower() for char in password):\n",
    "        return False\n",
    "    if not any(char.upper() for char in password):\n",
    "        return False\n",
    "    if not any(char in '!@#$%^&*()' for char in password):\n",
    "        return False\n",
    "    return True"
   ]
  },
  {
   "cell_type": "code",
   "execution_count": 16,
   "id": "7af6ffa5-32b9-4ddf-b527-8fe53d3c08e5",
   "metadata": {},
   "outputs": [
    {
     "data": {
      "text/plain": [
       "False"
      ]
     },
     "execution_count": 16,
     "metadata": {},
     "output_type": "execute_result"
    }
   ],
   "source": [
    "# Calling the function.\n",
    "is_strong_password('WeakPwd')   #this is weak password\n"
   ]
  },
  {
   "cell_type": "code",
   "execution_count": 17,
   "id": "872a1191-6c36-4fcc-afa4-5daf81084634",
   "metadata": {},
   "outputs": [
    {
     "data": {
      "text/plain": [
       "True"
      ]
     },
     "execution_count": 17,
     "metadata": {},
     "output_type": "execute_result"
    }
   ],
   "source": [
    "is_strong_password('Strong0Pwd!')   #This is correct passowrd"
   ]
  },
  {
   "cell_type": "markdown",
   "id": "fa7181c5-df6c-4935-8252-9cc1f6e1f715",
   "metadata": {},
   "source": [
    "**Exampl 3: Calculate the total cost of items in a shopping cart.**"
   ]
  },
  {
   "cell_type": "code",
   "execution_count": 25,
   "id": "f905e3f3-0ead-453d-b8a8-a2d352ccde7f",
   "metadata": {},
   "outputs": [],
   "source": [
    "def calculate_total_cost(cart):\n",
    "    '''This function calculates total cost of the item in a cart'''\n",
    "    total_cost = 0\n",
    "    for item in cart:\n",
    "        total_cost = total_cost +item['price']*item['qty']\n",
    "    return total_cost\n",
    "\n",
    "\n",
    "#cart data\n",
    "cart = [\n",
    "    {'name':'Apple','price':20,'qty':4},\n",
    "    {'name':'Banana','price':10,'qty':6},\n",
    "    {'name':'Orange','price':30,'qty':7},\n",
    "    {'name':'Grapes','price':25,'qty':9}\n",
    "]"
   ]
  },
  {
   "cell_type": "code",
   "execution_count": 26,
   "id": "32b64587-f16e-4dcd-aec8-5b1671003494",
   "metadata": {},
   "outputs": [
    {
     "name": "stdout",
     "output_type": "stream",
     "text": [
      "575\n"
     ]
    }
   ],
   "source": [
    "total_cost = calculate_total_cost(cart)\n",
    "print(total_cost)"
   ]
  },
  {
   "cell_type": "markdown",
   "id": "0dabe351-83d5-4824-b146-bd1b3e2fa0a5",
   "metadata": {},
   "source": [
    "**Example 4: If a string is Palindrome or not**"
   ]
  },
  {
   "cell_type": "code",
   "execution_count": 27,
   "id": "9a01fc98-b391-472f-9626-cb0bddc4f270",
   "metadata": {},
   "outputs": [],
   "source": [
    "def is_palindrome(string):\n",
    "    '''this function checks whether the string is palindrome or not'''\n",
    "    if string ==string[::-1]:\n",
    "        return True\n",
    "    else:\n",
    "        return False"
   ]
  },
  {
   "cell_type": "code",
   "execution_count": 28,
   "id": "09cac448-d1dd-490f-af4c-30ffa52325f7",
   "metadata": {},
   "outputs": [
    {
     "data": {
      "text/plain": [
       "True"
      ]
     },
     "execution_count": 28,
     "metadata": {},
     "output_type": "execute_result"
    }
   ],
   "source": [
    "is_palindrome('kadak')"
   ]
  },
  {
   "cell_type": "code",
   "execution_count": 29,
   "id": "4d2a52d9-4e9d-4526-aa0f-6b4fcdea6b50",
   "metadata": {},
   "outputs": [
    {
     "data": {
      "text/plain": [
       "False"
      ]
     },
     "execution_count": 29,
     "metadata": {},
     "output_type": "execute_result"
    }
   ],
   "source": [
    "is_palindrome('ganaa')"
   ]
  },
  {
   "cell_type": "code",
   "execution_count": 32,
   "id": "9ac7f723-c119-4e80-a749-03480787413e",
   "metadata": {},
   "outputs": [],
   "source": [
    "#another approch\n",
    "def isPalindrom(s):\n",
    "        '''this function checks whether the string is palindrome or not'''\n",
    "        s = s.lower().replace(' ','')\n",
    "        return s == s[::-1]\n",
    "    "
   ]
  },
  {
   "cell_type": "code",
   "execution_count": 33,
   "id": "b06c8652-99c5-4ee3-bac8-8d97d8d2cd9f",
   "metadata": {},
   "outputs": [
    {
     "data": {
      "text/plain": [
       "True"
      ]
     },
     "execution_count": 33,
     "metadata": {},
     "output_type": "execute_result"
    }
   ],
   "source": [
    "isPalindrom('kadak')"
   ]
  },
  {
   "cell_type": "code",
   "execution_count": 34,
   "id": "42f3d3d7-cdbc-42a7-83fb-4986c4035abf",
   "metadata": {},
   "outputs": [
    {
     "data": {
      "text/plain": [
       "False"
      ]
     },
     "execution_count": 34,
     "metadata": {},
     "output_type": "execute_result"
    }
   ],
   "source": [
    "isPalindrom('ganaa')"
   ]
  },
  {
   "cell_type": "markdown",
   "id": "08b760ff-472e-4c41-a0ad-ddb4f11aceb9",
   "metadata": {},
   "source": [
    "**Example 5: Calculate the factorial of a number using recursion.**"
   ]
  },
  {
   "cell_type": "code",
   "execution_count": 42,
   "id": "14dfb14a-33d2-43c3-8cda-e651473744f3",
   "metadata": {},
   "outputs": [],
   "source": [
    "def factorial(n):\n",
    "    '''this function calculates factorial of given number'''\n",
    "    if n == 0:\n",
    "        return 1\n",
    "    else:\n",
    "        return (n)*factorial(n-1)"
   ]
  },
  {
   "cell_type": "code",
   "execution_count": 43,
   "id": "dbf11f09-3fe3-4789-85b5-9dfa39e823c4",
   "metadata": {},
   "outputs": [
    {
     "data": {
      "text/plain": [
       "120"
      ]
     },
     "execution_count": 43,
     "metadata": {},
     "output_type": "execute_result"
    }
   ],
   "source": [
    "factorial(5)"
   ]
  },
  {
   "cell_type": "code",
   "execution_count": null,
   "id": "b2a83237-1bee-47a1-9774-e8fcb12e4805",
   "metadata": {},
   "outputs": [],
   "source": []
  }
 ],
 "metadata": {
  "kernelspec": {
   "display_name": "Python 3 (ipykernel)",
   "language": "python",
   "name": "python3"
  },
  "language_info": {
   "codemirror_mode": {
    "name": "ipython",
    "version": 3
   },
   "file_extension": ".py",
   "mimetype": "text/x-python",
   "name": "python",
   "nbconvert_exporter": "python",
   "pygments_lexer": "ipython3",
   "version": "3.12.7"
  }
 },
 "nbformat": 4,
 "nbformat_minor": 5
}
