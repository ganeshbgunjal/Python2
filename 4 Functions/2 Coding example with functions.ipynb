{
 "cells": [
  {
   "cell_type": "markdown",
   "id": "2953f6d1-a9b4-472f-82ed-9a6a40d7394f",
   "metadata": {},
   "source": [
    "#### **Coding Examples on Functions:**"
   ]
  },
  {
   "cell_type": "markdown",
   "id": "0e35aa8f-ee5b-417c-be2e-aede0181a38a",
   "metadata": {},
   "source": [
    "**Example 1: Temperature Conversion**"
   ]
  },
  {
   "cell_type": "code",
   "execution_count": 10,
   "id": "2f28dfc9-ed85-48f6-b63a-ba05caaeeeee",
   "metadata": {},
   "outputs": [],
   "source": [
    "def temp_conversion():\n",
    "    ''' this function temp to fahreinheit to celsius and vice versa'''\n",
    "    temp = int(input(\"Enter temp to calculate:\"))\n",
    "    Fahreinheit = (temp*9/5)+32\n",
    "    celsius = temp-32*(5/9)\n",
    "    print(f'Fareinheit of {temp} degree is {Fahreinheit} F')\n",
    "    print(f'Celsius of {temp} is {celsius} C')"
   ]
  },
  {
   "cell_type": "code",
   "execution_count": 11,
   "id": "ae071223-a477-4932-9b4d-9a2a2772d290",
   "metadata": {},
   "outputs": [
    {
     "name": "stdin",
     "output_type": "stream",
     "text": [
      "Enter temp to calculate: 0\n"
     ]
    },
    {
     "name": "stdout",
     "output_type": "stream",
     "text": [
      "Fareinheit of 0 degree is 32.0 F\n",
      "Celsius of 0 is -17.77777777777778 C\n"
     ]
    }
   ],
   "source": [
    "temp_conversion()"
   ]
  },
  {
   "cell_type": "code",
   "execution_count": null,
   "id": "7a893629-0179-46a7-b7fd-dbe3fbad9082",
   "metadata": {},
   "outputs": [],
   "source": [
    "**Example 2: "
   ]
  }
 ],
 "metadata": {
  "kernelspec": {
   "display_name": "Python 3 (ipykernel)",
   "language": "python",
   "name": "python3"
  },
  "language_info": {
   "codemirror_mode": {
    "name": "ipython",
    "version": 3
   },
   "file_extension": ".py",
   "mimetype": "text/x-python",
   "name": "python",
   "nbconvert_exporter": "python",
   "pygments_lexer": "ipython3",
   "version": "3.12.7"
  }
 },
 "nbformat": 4,
 "nbformat_minor": 5
}
