{
 "cells": [
  {
   "cell_type": "markdown",
   "id": "1767554e-a234-442d-bddb-c7e87ad23061",
   "metadata": {},
   "source": [
    "#### **Filter function:**\n",
    "1. Filter function constructs an iterator from elements of an iterable for which function returns true.\n",
    "2. its use to filter out items from list or other iterable based on condition."
   ]
  },
  {
   "cell_type": "code",
   "execution_count": 1,
   "id": "db05a670-d0f6-4b68-a06c-153ca84f1fbd",
   "metadata": {},
   "outputs": [],
   "source": [
    "def even(n):\n",
    "    if n%2==0:\n",
    "        return True\n",
    "    else:\n",
    "        return False"
   ]
  },
  {
   "cell_type": "code",
   "execution_count": 4,
   "id": "b7e09825-6b43-4993-bc46-6404a04c8535",
   "metadata": {},
   "outputs": [
    {
     "data": {
      "text/plain": [
       "False"
      ]
     },
     "execution_count": 4,
     "metadata": {},
     "output_type": "execute_result"
    }
   ],
   "source": [
    "even(5)"
   ]
  },
  {
   "cell_type": "markdown",
   "id": "df5ac07f-24f1-4cd9-a876-934562d12a27",
   "metadata": {},
   "source": [
    "but we can not apply this function on below list.\n"
   ]
  },
  {
   "cell_type": "code",
   "execution_count": 5,
   "id": "03abff14-d3c9-42dd-99b1-082c29f7f1ba",
   "metadata": {},
   "outputs": [],
   "source": [
    "lst = [1,2,3,4,5,6,7,8,9,10,11,12]"
   ]
  },
  {
   "cell_type": "markdown",
   "id": "5b7858a9-1732-47d1-bcc1-77ead71c3ec6",
   "metadata": {},
   "source": [
    "so for this, filter funciton works perfectly."
   ]
  },
  {
   "cell_type": "code",
   "execution_count": 8,
   "id": "a1ee0adc-a60d-4c64-a0ff-ad8505da0744",
   "metadata": {},
   "outputs": [
    {
     "data": {
      "text/plain": [
       "[2, 4, 6, 8, 10, 12]"
      ]
     },
     "execution_count": 8,
     "metadata": {},
     "output_type": "execute_result"
    }
   ],
   "source": [
    "list(filter(even,lst))   #output is given based on specified condition."
   ]
  },
  {
   "cell_type": "markdown",
   "id": "825a9f30-1731-4145-8476-740cb9366589",
   "metadata": {},
   "source": [
    "#### Filter with Lambda function:"
   ]
  },
  {
   "cell_type": "code",
   "execution_count": 12,
   "id": "8b01bf79-f9bd-44de-a0f4-892b622ebaf8",
   "metadata": {},
   "outputs": [],
   "source": [
    "evens = list(filter(lambda x:x%2==0,lst))"
   ]
  },
  {
   "cell_type": "code",
   "execution_count": 13,
   "id": "eb53e218-8e5d-49ea-b049-254b4c5901cc",
   "metadata": {},
   "outputs": [
    {
     "data": {
      "text/plain": [
       "[2, 4, 6, 8, 10, 12]"
      ]
     },
     "execution_count": 13,
     "metadata": {},
     "output_type": "execute_result"
    }
   ],
   "source": [
    "evens"
   ]
  },
  {
   "cell_type": "code",
   "execution_count": 15,
   "id": "c04d1981-4f8e-4414-8d39-e2651f4affec",
   "metadata": {},
   "outputs": [],
   "source": [
    "# to find out numbers greater than 5.\n",
    "number_greater_than_five = list(filter(lambda x:x>5,lst))"
   ]
  },
  {
   "cell_type": "code",
   "execution_count": 16,
   "id": "c857b37d-3e2f-47c7-adcc-ef383cf727ee",
   "metadata": {},
   "outputs": [
    {
     "data": {
      "text/plain": [
       "[6, 7, 8, 9, 10, 11, 12]"
      ]
     },
     "execution_count": 16,
     "metadata": {},
     "output_type": "execute_result"
    }
   ],
   "source": [
    "number_greater_than_five"
   ]
  },
  {
   "cell_type": "markdown",
   "id": "9725158f-ed48-4e2b-bcc1-81721dc1db55",
   "metadata": {},
   "source": [
    "#### Filter with multiple conditions:"
   ]
  },
  {
   "cell_type": "code",
   "execution_count": 17,
   "id": "ba382c2f-d413-4c66-9d2e-10940ae7756f",
   "metadata": {},
   "outputs": [],
   "source": [
    "lst = [1,2,3,4,5,6,7,8,9,10,11,12]\n"
   ]
  },
  {
   "cell_type": "code",
   "execution_count": 18,
   "id": "15902356-e35e-4b00-aca5-957e06328a3b",
   "metadata": {},
   "outputs": [],
   "source": [
    "even_and_greater_than_five = list(filter(lambda x:x>5 and x%2==0,lst))"
   ]
  },
  {
   "cell_type": "code",
   "execution_count": 19,
   "id": "f0b8ddb9-76b0-4466-aac1-649a586a45c4",
   "metadata": {},
   "outputs": [
    {
     "data": {
      "text/plain": [
       "[6, 8, 10, 12]"
      ]
     },
     "execution_count": 19,
     "metadata": {},
     "output_type": "execute_result"
    }
   ],
   "source": [
    "even_and_greater_than_five"
   ]
  },
  {
   "cell_type": "markdown",
   "id": "7384a7ca-13cc-40a1-92d1-e8ce313753fc",
   "metadata": {},
   "source": [
    "#### Filter with dictionary data:"
   ]
  },
  {
   "cell_type": "code",
   "execution_count": 23,
   "id": "752dbfb5-7948-4b59-92e8-23db24d7add1",
   "metadata": {},
   "outputs": [],
   "source": [
    "people = [\n",
    "    {'name':'Ganesh','age':33},\n",
    "    {'name':'Dilip','age':32},\n",
    "    {'name':'Amol','age':23}\n",
    "]\n",
    "\n",
    "def age_greater_than_25(person):\n",
    "    return person['age'] >25\n",
    "\n",
    "def age_less_than_25(person):\n",
    "    return person['age'] <25"
   ]
  },
  {
   "cell_type": "code",
   "execution_count": 22,
   "id": "29ec9879-4899-4397-9b78-5f59beb6bdd2",
   "metadata": {},
   "outputs": [
    {
     "data": {
      "text/plain": [
       "[{'name': 'Ganesh', 'age': 33}, {'name': 'Dilip', 'age': 32}]"
      ]
     },
     "execution_count": 22,
     "metadata": {},
     "output_type": "execute_result"
    }
   ],
   "source": [
    "list(filter(age_greater_than_25,people))"
   ]
  },
  {
   "cell_type": "code",
   "execution_count": 24,
   "id": "86a2f9f3-6793-4350-86a1-a0a0b2dbe12c",
   "metadata": {},
   "outputs": [
    {
     "data": {
      "text/plain": [
       "[{'name': 'Amol', 'age': 23}]"
      ]
     },
     "execution_count": 24,
     "metadata": {},
     "output_type": "execute_result"
    }
   ],
   "source": [
    "list(filter(age_less_than_25,people))"
   ]
  },
  {
   "cell_type": "code",
   "execution_count": null,
   "id": "99b60554-5891-49a0-8446-fbfdb5aea508",
   "metadata": {},
   "outputs": [],
   "source": []
  }
 ],
 "metadata": {
  "kernelspec": {
   "display_name": "Python 3 (ipykernel)",
   "language": "python",
   "name": "python3"
  },
  "language_info": {
   "codemirror_mode": {
    "name": "ipython",
    "version": 3
   },
   "file_extension": ".py",
   "mimetype": "text/x-python",
   "name": "python",
   "nbconvert_exporter": "python",
   "pygments_lexer": "ipython3",
   "version": "3.12.7"
  }
 },
 "nbformat": 4,
 "nbformat_minor": 5
}
