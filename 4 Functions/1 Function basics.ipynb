{
 "cells": [
  {
   "cell_type": "markdown",
   "id": "0c178d8f-a03f-4254-ba33-4f6e94ac091e",
   "metadata": {},
   "source": [
    "### **Functions:**\n",
    "Its a block of code that performs specific task.  \n",
    "FUnction helps in code reusability."
   ]
  },
  {
   "cell_type": "code",
   "execution_count": 1,
   "id": "d9898cfc-649d-4ebb-9e93-907f4177976b",
   "metadata": {},
   "outputs": [],
   "source": [
    "def function_name(parameters):\n",
    "    '''Docstring'''     #It describes the working of a function.\n",
    "    #function body\n",
    "    pass\n",
    "    return expression"
   ]
  },
  {
   "cell_type": "code",
   "execution_count": 2,
   "id": "814b5c93-fba2-470e-b553-ba61431beb08",
   "metadata": {},
   "outputs": [
    {
     "ename": "TypeError",
     "evalue": "function_name() missing 1 required positional argument: 'parameters'",
     "output_type": "error",
     "traceback": [
      "\u001b[1;31m---------------------------------------------------------------------------\u001b[0m",
      "\u001b[1;31mTypeError\u001b[0m                                 Traceback (most recent call last)",
      "Cell \u001b[1;32mIn[2], line 1\u001b[0m\n\u001b[1;32m----> 1\u001b[0m function_name()\n",
      "\u001b[1;31mTypeError\u001b[0m: function_name() missing 1 required positional argument: 'parameters'"
     ]
    }
   ],
   "source": [
    "function_name()    #this is called function calling. we dont provide any value. thats why its giving error."
   ]
  },
  {
   "cell_type": "markdown",
   "id": "024bf022-6c14-4ca9-8d4f-e020153b281b",
   "metadata": {},
   "source": [
    "**Why functions:**  \n",
    "1. if we dont use functions, then we will have to write below code again and again. "
   ]
  },
  {
   "cell_type": "code",
   "execution_count": 3,
   "id": "9c4aaccb-afdd-4b1d-8755-6df12425f009",
   "metadata": {},
   "outputs": [
    {
     "name": "stdout",
     "output_type": "stream",
     "text": [
      "The number is even.\n"
     ]
    }
   ],
   "source": [
    "num = 24\n",
    "if num%2 == 0:\n",
    "    print('The number is even.')\n",
    "else:\n",
    "    print('The number is odd')"
   ]
  },
  {
   "cell_type": "markdown",
   "id": "de05c5e6-2149-4749-be5b-f1f2c9b7230c",
   "metadata": {},
   "source": [
    "**Calling function:**"
   ]
  },
  {
   "cell_type": "code",
   "execution_count": 7,
   "id": "e411c116-8eea-4c28-acc1-a930040fc743",
   "metadata": {},
   "outputs": [],
   "source": [
    "def even_odd():\n",
    "    '''This function finds even and odd number given by user '''\n",
    "    num = int(input('Enter num:'))\n",
    "    if num%2 == 0:\n",
    "        print('The number is even')\n",
    "    else:\n",
    "        print('The number is odd')"
   ]
  },
  {
   "cell_type": "code",
   "execution_count": 8,
   "id": "530bbba1-c1e5-4360-9d74-56dc0bc80827",
   "metadata": {},
   "outputs": [
    {
     "name": "stdin",
     "output_type": "stream",
     "text": [
      "Enter num: 12\n"
     ]
    },
    {
     "name": "stdout",
     "output_type": "stream",
     "text": [
      "The number is even\n"
     ]
    }
   ],
   "source": [
    "even_odd()"
   ]
  },
  {
   "cell_type": "markdown",
   "id": "cad6d869-76b4-4300-8704-ca487bc8b5b4",
   "metadata": {},
   "source": [
    "**Function Parameters:**"
   ]
  },
  {
   "cell_type": "code",
   "execution_count": 9,
   "id": "aa4bddd7-f8cd-49d4-9981-3ef1f78e4e69",
   "metadata": {},
   "outputs": [],
   "source": [
    "def add(a,b):\n",
    "    return a+b"
   ]
  },
  {
   "cell_type": "code",
   "execution_count": 10,
   "id": "304b10c0-7623-4f0a-8858-21a6a484fc2c",
   "metadata": {},
   "outputs": [],
   "source": [
    "result = add(2,5)"
   ]
  },
  {
   "cell_type": "code",
   "execution_count": 11,
   "id": "8ca8f58e-2c5f-47f4-9814-49db95ba6207",
   "metadata": {},
   "outputs": [
    {
     "data": {
      "text/plain": [
       "7"
      ]
     },
     "execution_count": 11,
     "metadata": {},
     "output_type": "execute_result"
    }
   ],
   "source": [
    "result"
   ]
  },
  {
   "cell_type": "code",
   "execution_count": null,
   "id": "7a81522d-ad9b-4ef0-a8dd-d29164606018",
   "metadata": {},
   "outputs": [],
   "source": []
  }
 ],
 "metadata": {
  "kernelspec": {
   "display_name": "Python 3 (ipykernel)",
   "language": "python",
   "name": "python3"
  },
  "language_info": {
   "codemirror_mode": {
    "name": "ipython",
    "version": 3
   },
   "file_extension": ".py",
   "mimetype": "text/x-python",
   "name": "python",
   "nbconvert_exporter": "python",
   "pygments_lexer": "ipython3",
   "version": "3.12.7"
  }
 },
 "nbformat": 4,
 "nbformat_minor": 5
}
