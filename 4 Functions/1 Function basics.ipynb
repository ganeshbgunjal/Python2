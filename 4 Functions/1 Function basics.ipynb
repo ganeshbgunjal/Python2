{
 "cells": [
  {
   "cell_type": "markdown",
   "id": "0c178d8f-a03f-4254-ba33-4f6e94ac091e",
   "metadata": {},
   "source": [
    "### **Functions:**\n",
    "Its a block of code that performs specific task.  \n",
    "FUnction helps in code reusability."
   ]
  },
  {
   "cell_type": "code",
   "execution_count": 1,
   "id": "d9898cfc-649d-4ebb-9e93-907f4177976b",
   "metadata": {},
   "outputs": [],
   "source": [
    "def function_name(parameters):\n",
    "    '''Docstring'''     #It describes the working of a function.\n",
    "    #function body\n",
    "    pass\n",
    "    return expression"
   ]
  },
  {
   "cell_type": "code",
   "execution_count": 2,
   "id": "814b5c93-fba2-470e-b553-ba61431beb08",
   "metadata": {},
   "outputs": [
    {
     "ename": "TypeError",
     "evalue": "function_name() missing 1 required positional argument: 'parameters'",
     "output_type": "error",
     "traceback": [
      "\u001b[1;31m---------------------------------------------------------------------------\u001b[0m",
      "\u001b[1;31mTypeError\u001b[0m                                 Traceback (most recent call last)",
      "Cell \u001b[1;32mIn[2], line 1\u001b[0m\n\u001b[1;32m----> 1\u001b[0m function_name()\n",
      "\u001b[1;31mTypeError\u001b[0m: function_name() missing 1 required positional argument: 'parameters'"
     ]
    }
   ],
   "source": [
    "function_name()    #this is called function calling. we dont provide any value. thats why its giving error."
   ]
  },
  {
   "cell_type": "markdown",
   "id": "024bf022-6c14-4ca9-8d4f-e020153b281b",
   "metadata": {},
   "source": [
    "**Why functions:**  \n",
    "1. if we dont use functions, then we will have to write below code again and again. "
   ]
  },
  {
   "cell_type": "code",
   "execution_count": 3,
   "id": "9c4aaccb-afdd-4b1d-8755-6df12425f009",
   "metadata": {},
   "outputs": [
    {
     "name": "stdout",
     "output_type": "stream",
     "text": [
      "The number is even.\n"
     ]
    }
   ],
   "source": [
    "num = 24\n",
    "if num%2 == 0:\n",
    "    print('The number is even.')\n",
    "else:\n",
    "    print('The number is odd')"
   ]
  },
  {
   "cell_type": "code",
   "execution_count": null,
   "id": "530bbba1-c1e5-4360-9d74-56dc0bc80827",
   "metadata": {},
   "outputs": [],
   "source": []
  }
 ],
 "metadata": {
  "kernelspec": {
   "display_name": "Python 3 (ipykernel)",
   "language": "python",
   "name": "python3"
  },
  "language_info": {
   "codemirror_mode": {
    "name": "ipython",
    "version": 3
   },
   "file_extension": ".py",
   "mimetype": "text/x-python",
   "name": "python",
   "nbconvert_exporter": "python",
   "pygments_lexer": "ipython3",
   "version": "3.12.7"
  }
 },
 "nbformat": 4,
 "nbformat_minor": 5
}
