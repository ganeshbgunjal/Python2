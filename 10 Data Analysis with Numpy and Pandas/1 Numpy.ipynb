{
 "cells": [
  {
   "cell_type": "markdown",
   "id": "f3f7b782-3b5f-4ffe-a9e8-b3fd88ac4f58",
   "metadata": {},
   "source": [
    "## Numpy:\n",
    "Numpy is a fundamental library in computing in python. It provides support for arrays and matrices along with mathmatical functions to operate on these data struture."
   ]
  },
  {
   "cell_type": "code",
   "execution_count": 1,
   "id": "2fc6f757-5239-41b0-adcb-abd01a8c7b15",
   "metadata": {},
   "outputs": [],
   "source": [
    "import numpy as np"
   ]
  },
  {
   "cell_type": "markdown",
   "id": "f8e118ef-244d-430d-a812-852eadf37545",
   "metadata": {},
   "source": [
    "#### Creating arrays:\n",
    "####     1 D arrays "
   ]
  },
  {
   "cell_type": "code",
   "execution_count": 2,
   "id": "dfd853eb-0327-4174-afea-014ea2d9a585",
   "metadata": {},
   "outputs": [
    {
     "data": {
      "text/plain": [
       "array([1, 2, 3, 4, 5])"
      ]
     },
     "execution_count": 2,
     "metadata": {},
     "output_type": "execute_result"
    }
   ],
   "source": [
    "arr = np.array([1,2,3,4,5])\n",
    "arr"
   ]
  },
  {
   "cell_type": "code",
   "execution_count": 3,
   "id": "ec3ecd93-59f2-4624-bf64-02b945ab8cd2",
   "metadata": {},
   "outputs": [
    {
     "data": {
      "text/plain": [
       "numpy.ndarray"
      ]
     },
     "execution_count": 3,
     "metadata": {},
     "output_type": "execute_result"
    }
   ],
   "source": [
    "type(arr)"
   ]
  },
  {
   "cell_type": "code",
   "execution_count": 4,
   "id": "bb6d4538-63cd-4e51-927e-1bcb1d4363c2",
   "metadata": {},
   "outputs": [
    {
     "data": {
      "text/plain": [
       "(5,)"
      ]
     },
     "execution_count": 4,
     "metadata": {},
     "output_type": "execute_result"
    }
   ],
   "source": [
    "np.shape(arr)"
   ]
  },
  {
   "cell_type": "code",
   "execution_count": 8,
   "id": "05c87c0b-b662-40b0-bff7-793c75c97adb",
   "metadata": {},
   "outputs": [],
   "source": [
    "arr = arr.reshape(1,5)"
   ]
  },
  {
   "cell_type": "code",
   "execution_count": 9,
   "id": "5180bce9-aee7-48ea-bce9-4ea9524725d7",
   "metadata": {},
   "outputs": [
    {
     "data": {
      "text/plain": [
       "(1, 5)"
      ]
     },
     "execution_count": 9,
     "metadata": {},
     "output_type": "execute_result"
    }
   ],
   "source": [
    "np.shape(arr)"
   ]
  },
  {
   "cell_type": "code",
   "execution_count": null,
   "id": "f54f5dfc-23a8-40ce-94cf-54f9ecba040f",
   "metadata": {},
   "outputs": [],
   "source": []
  }
 ],
 "metadata": {
  "kernelspec": {
   "display_name": "Python 3 (ipykernel)",
   "language": "python",
   "name": "python3"
  },
  "language_info": {
   "codemirror_mode": {
    "name": "ipython",
    "version": 3
   },
   "file_extension": ".py",
   "mimetype": "text/x-python",
   "name": "python",
   "nbconvert_exporter": "python",
   "pygments_lexer": "ipython3",
   "version": "3.12.7"
  }
 },
 "nbformat": 4,
 "nbformat_minor": 5
}
