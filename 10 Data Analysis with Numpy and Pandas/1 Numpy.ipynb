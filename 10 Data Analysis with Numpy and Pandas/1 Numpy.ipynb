{
 "cells": [
  {
   "cell_type": "markdown",
   "id": "f3f7b782-3b5f-4ffe-a9e8-b3fd88ac4f58",
   "metadata": {},
   "source": [
    "## Numpy:\n",
    "Numpy is a fundamental library in computing in python. It provides support for arrays and matrices along with mathmatical functions to operate on these data struture."
   ]
  },
  {
   "cell_type": "code",
   "execution_count": 1,
   "id": "2fc6f757-5239-41b0-adcb-abd01a8c7b15",
   "metadata": {},
   "outputs": [],
   "source": [
    "import numpy as np"
   ]
  },
  {
   "cell_type": "markdown",
   "id": "f8e118ef-244d-430d-a812-852eadf37545",
   "metadata": {},
   "source": [
    "#### Creating arrays:\n",
    "####     1 D arrays "
   ]
  },
  {
   "cell_type": "code",
   "execution_count": 2,
   "id": "dfd853eb-0327-4174-afea-014ea2d9a585",
   "metadata": {},
   "outputs": [
    {
     "data": {
      "text/plain": [
       "array([1, 2, 3, 4, 5])"
      ]
     },
     "execution_count": 2,
     "metadata": {},
     "output_type": "execute_result"
    }
   ],
   "source": [
    "arr = np.array([1,2,3,4,5])\n",
    "arr"
   ]
  },
  {
   "cell_type": "code",
   "execution_count": 3,
   "id": "ec3ecd93-59f2-4624-bf64-02b945ab8cd2",
   "metadata": {},
   "outputs": [
    {
     "data": {
      "text/plain": [
       "numpy.ndarray"
      ]
     },
     "execution_count": 3,
     "metadata": {},
     "output_type": "execute_result"
    }
   ],
   "source": [
    "type(arr)"
   ]
  },
  {
   "cell_type": "code",
   "execution_count": 4,
   "id": "bb6d4538-63cd-4e51-927e-1bcb1d4363c2",
   "metadata": {},
   "outputs": [
    {
     "data": {
      "text/plain": [
       "(5,)"
      ]
     },
     "execution_count": 4,
     "metadata": {},
     "output_type": "execute_result"
    }
   ],
   "source": [
    "np.shape(arr)"
   ]
  },
  {
   "cell_type": "code",
   "execution_count": 5,
   "id": "05c87c0b-b662-40b0-bff7-793c75c97adb",
   "metadata": {},
   "outputs": [],
   "source": [
    "arr = arr.reshape(1,5)   #1 row and 5 columns"
   ]
  },
  {
   "cell_type": "code",
   "execution_count": 6,
   "id": "5180bce9-aee7-48ea-bce9-4ea9524725d7",
   "metadata": {},
   "outputs": [
    {
     "data": {
      "text/plain": [
       "(1, 5)"
      ]
     },
     "execution_count": 6,
     "metadata": {},
     "output_type": "execute_result"
    }
   ],
   "source": [
    "np.shape(arr)"
   ]
  },
  {
   "cell_type": "markdown",
   "id": "ddb4ce53-e6b5-4f96-b726-1cb439da7fb6",
   "metadata": {},
   "source": [
    "#### 2D array:"
   ]
  },
  {
   "cell_type": "code",
   "execution_count": 7,
   "id": "f54f5dfc-23a8-40ce-94cf-54f9ecba040f",
   "metadata": {},
   "outputs": [
    {
     "name": "stdout",
     "output_type": "stream",
     "text": [
      "[[1 2 3 4]\n",
      " [4 5 6 7]]\n",
      "(2, 4)\n"
     ]
    }
   ],
   "source": [
    "arr2 = np.array([[1,2,3,4],[4,5,6,7]])\n",
    "print(arr2)\n",
    "print(arr2.shape)"
   ]
  },
  {
   "cell_type": "markdown",
   "id": "711180d9-1dbd-4cc3-92a3-4a60543e450f",
   "metadata": {},
   "source": [
    "#### Some Important Numpy functions:"
   ]
  },
  {
   "cell_type": "code",
   "execution_count": 8,
   "id": "87290a3a-37c5-4433-a4a3-fef11bb6f085",
   "metadata": {},
   "outputs": [
    {
     "data": {
      "text/plain": [
       "array([0, 1, 2, 3, 4, 5, 6, 7, 8, 9])"
      ]
     },
     "execution_count": 8,
     "metadata": {},
     "output_type": "execute_result"
    }
   ],
   "source": [
    "np.arange(0,10)"
   ]
  },
  {
   "cell_type": "code",
   "execution_count": 9,
   "id": "9faca0b0-348b-4c4e-b04b-97815d210841",
   "metadata": {},
   "outputs": [
    {
     "data": {
      "text/plain": [
       "array([0, 2, 4, 6, 8])"
      ]
     },
     "execution_count": 9,
     "metadata": {},
     "output_type": "execute_result"
    }
   ],
   "source": [
    "np.arange(0,10,2)"
   ]
  },
  {
   "cell_type": "code",
   "execution_count": 10,
   "id": "541e2d7b-d409-4ab9-a4a2-890e512f3b3b",
   "metadata": {},
   "outputs": [
    {
     "data": {
      "text/plain": [
       "array([[0],\n",
       "       [2],\n",
       "       [4],\n",
       "       [6],\n",
       "       [8]])"
      ]
     },
     "execution_count": 10,
     "metadata": {},
     "output_type": "execute_result"
    }
   ],
   "source": [
    "np.arange(0,10,2).reshape(5,1)"
   ]
  },
  {
   "cell_type": "code",
   "execution_count": 11,
   "id": "952ea447-c886-43b5-8638-d932ed60d7f9",
   "metadata": {},
   "outputs": [
    {
     "data": {
      "text/plain": [
       "array([[1., 1., 1., 1.],\n",
       "       [1., 1., 1., 1.],\n",
       "       [1., 1., 1., 1.]])"
      ]
     },
     "execution_count": 11,
     "metadata": {},
     "output_type": "execute_result"
    }
   ],
   "source": [
    "np.ones((3,4))"
   ]
  },
  {
   "cell_type": "code",
   "execution_count": 12,
   "id": "39059c4a-d74d-4a9b-9281-58a301f75890",
   "metadata": {},
   "outputs": [
    {
     "data": {
      "text/plain": [
       "array([[0., 0., 0., 0., 0.],\n",
       "       [0., 0., 0., 0., 0.],\n",
       "       [0., 0., 0., 0., 0.],\n",
       "       [0., 0., 0., 0., 0.]])"
      ]
     },
     "execution_count": 12,
     "metadata": {},
     "output_type": "execute_result"
    }
   ],
   "source": [
    "np.zeros((4,5))"
   ]
  },
  {
   "cell_type": "markdown",
   "id": "fe45b8eb-cf9f-45f5-9a20-4a356187dae0",
   "metadata": {},
   "source": [
    "#### Identity matrix: \n",
    "    Diagonal elements are 1:"
   ]
  },
  {
   "cell_type": "code",
   "execution_count": 13,
   "id": "e0aa5905-0338-4cff-86e2-30382562d4e5",
   "metadata": {},
   "outputs": [
    {
     "data": {
      "text/plain": [
       "array([[1., 0., 0., 0., 0.],\n",
       "       [0., 1., 0., 0., 0.],\n",
       "       [0., 0., 1., 0., 0.],\n",
       "       [0., 0., 0., 1., 0.]])"
      ]
     },
     "execution_count": 13,
     "metadata": {},
     "output_type": "execute_result"
    }
   ],
   "source": [
    "np.eye(4,5)"
   ]
  },
  {
   "cell_type": "code",
   "execution_count": 14,
   "id": "f458324a-15a8-4158-a7cd-84938debb0ea",
   "metadata": {},
   "outputs": [
    {
     "name": "stdout",
     "output_type": "stream",
     "text": [
      "Array: [[1 2 3]\n",
      " [4 5 6]]\n",
      "Shape: (2, 3)\n",
      "No of dimension: 2\n",
      "No of elements: 6\n",
      "Data type: int32\n"
     ]
    }
   ],
   "source": [
    "arr = np.array([[1,2,3],[4,5,6]])\n",
    "print(f'Array: {arr}')\n",
    "print(f'Shape: {np.shape(arr)}')\n",
    "print(f'No of dimension: {np.ndim(arr)}')\n",
    "print(f'No of elements: {np.size(arr)}')\n",
    "print(f'Data type: {arr.dtype}')"
   ]
  },
  {
   "cell_type": "code",
   "execution_count": null,
   "id": "2075ad45-1cd4-491b-8128-9b624d084357",
   "metadata": {},
   "outputs": [],
   "source": []
  }
 ],
 "metadata": {
  "kernelspec": {
   "display_name": "Python 3 (ipykernel)",
   "language": "python",
   "name": "python3"
  },
  "language_info": {
   "codemirror_mode": {
    "name": "ipython",
    "version": 3
   },
   "file_extension": ".py",
   "mimetype": "text/x-python",
   "name": "python",
   "nbconvert_exporter": "python",
   "pygments_lexer": "ipython3",
   "version": "3.12.7"
  }
 },
 "nbformat": 4,
 "nbformat_minor": 5
}
