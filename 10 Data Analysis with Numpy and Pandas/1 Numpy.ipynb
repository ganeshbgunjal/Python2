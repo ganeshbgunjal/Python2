{
 "cells": [
  {
   "cell_type": "markdown",
   "id": "f3f7b782-3b5f-4ffe-a9e8-b3fd88ac4f58",
   "metadata": {},
   "source": [
    "## Numpy:\n",
    "Numpy is a fundamental library in computing in python. It provides support for arrays and matrices along with mathmatical functions to operate on these data struture."
   ]
  },
  {
   "cell_type": "code",
   "execution_count": 1,
   "id": "2fc6f757-5239-41b0-adcb-abd01a8c7b15",
   "metadata": {},
   "outputs": [],
   "source": [
    "import numpy as np"
   ]
  },
  {
   "cell_type": "markdown",
   "id": "f8e118ef-244d-430d-a812-852eadf37545",
   "metadata": {},
   "source": [
    "#### Creating arrays:\n",
    "####     1 D arrays "
   ]
  },
  {
   "cell_type": "code",
   "execution_count": 2,
   "id": "dfd853eb-0327-4174-afea-014ea2d9a585",
   "metadata": {},
   "outputs": [
    {
     "data": {
      "text/plain": [
       "array([1, 2, 3, 4, 5])"
      ]
     },
     "execution_count": 2,
     "metadata": {},
     "output_type": "execute_result"
    }
   ],
   "source": [
    "arr = np.array([1,2,3,4,5])\n",
    "arr"
   ]
  },
  {
   "cell_type": "code",
   "execution_count": 3,
   "id": "ec3ecd93-59f2-4624-bf64-02b945ab8cd2",
   "metadata": {},
   "outputs": [
    {
     "data": {
      "text/plain": [
       "numpy.ndarray"
      ]
     },
     "execution_count": 3,
     "metadata": {},
     "output_type": "execute_result"
    }
   ],
   "source": [
    "type(arr)"
   ]
  },
  {
   "cell_type": "code",
   "execution_count": 4,
   "id": "bb6d4538-63cd-4e51-927e-1bcb1d4363c2",
   "metadata": {},
   "outputs": [
    {
     "data": {
      "text/plain": [
       "(5,)"
      ]
     },
     "execution_count": 4,
     "metadata": {},
     "output_type": "execute_result"
    }
   ],
   "source": [
    "np.shape(arr)"
   ]
  },
  {
   "cell_type": "code",
   "execution_count": 5,
   "id": "05c87c0b-b662-40b0-bff7-793c75c97adb",
   "metadata": {},
   "outputs": [],
   "source": [
    "arr = arr.reshape(1,5)   #1 row and 5 columns"
   ]
  },
  {
   "cell_type": "code",
   "execution_count": 6,
   "id": "5180bce9-aee7-48ea-bce9-4ea9524725d7",
   "metadata": {},
   "outputs": [
    {
     "data": {
      "text/plain": [
       "(1, 5)"
      ]
     },
     "execution_count": 6,
     "metadata": {},
     "output_type": "execute_result"
    }
   ],
   "source": [
    "np.shape(arr)"
   ]
  },
  {
   "cell_type": "markdown",
   "id": "ddb4ce53-e6b5-4f96-b726-1cb439da7fb6",
   "metadata": {},
   "source": [
    "#### 2D array:"
   ]
  },
  {
   "cell_type": "code",
   "execution_count": 7,
   "id": "f54f5dfc-23a8-40ce-94cf-54f9ecba040f",
   "metadata": {},
   "outputs": [
    {
     "name": "stdout",
     "output_type": "stream",
     "text": [
      "[[1 2 3 4]\n",
      " [4 5 6 7]]\n",
      "(2, 4)\n"
     ]
    }
   ],
   "source": [
    "arr2 = np.array([[1,2,3,4],[4,5,6,7]])\n",
    "print(arr2)\n",
    "print(arr2.shape)"
   ]
  },
  {
   "cell_type": "markdown",
   "id": "711180d9-1dbd-4cc3-92a3-4a60543e450f",
   "metadata": {},
   "source": [
    "#### Some Important Numpy functions:"
   ]
  },
  {
   "cell_type": "code",
   "execution_count": 8,
   "id": "87290a3a-37c5-4433-a4a3-fef11bb6f085",
   "metadata": {},
   "outputs": [
    {
     "data": {
      "text/plain": [
       "array([0, 1, 2, 3, 4, 5, 6, 7, 8, 9])"
      ]
     },
     "execution_count": 8,
     "metadata": {},
     "output_type": "execute_result"
    }
   ],
   "source": [
    "np.arange(0,10)"
   ]
  },
  {
   "cell_type": "code",
   "execution_count": 9,
   "id": "9faca0b0-348b-4c4e-b04b-97815d210841",
   "metadata": {},
   "outputs": [
    {
     "data": {
      "text/plain": [
       "array([0, 2, 4, 6, 8])"
      ]
     },
     "execution_count": 9,
     "metadata": {},
     "output_type": "execute_result"
    }
   ],
   "source": [
    "np.arange(0,10,2)"
   ]
  },
  {
   "cell_type": "code",
   "execution_count": 10,
   "id": "541e2d7b-d409-4ab9-a4a2-890e512f3b3b",
   "metadata": {},
   "outputs": [
    {
     "data": {
      "text/plain": [
       "array([[0],\n",
       "       [2],\n",
       "       [4],\n",
       "       [6],\n",
       "       [8]])"
      ]
     },
     "execution_count": 10,
     "metadata": {},
     "output_type": "execute_result"
    }
   ],
   "source": [
    "np.arange(0,10,2).reshape(5,1)"
   ]
  },
  {
   "cell_type": "code",
   "execution_count": 11,
   "id": "952ea447-c886-43b5-8638-d932ed60d7f9",
   "metadata": {},
   "outputs": [
    {
     "data": {
      "text/plain": [
       "array([[1., 1., 1., 1.],\n",
       "       [1., 1., 1., 1.],\n",
       "       [1., 1., 1., 1.]])"
      ]
     },
     "execution_count": 11,
     "metadata": {},
     "output_type": "execute_result"
    }
   ],
   "source": [
    "np.ones((3,4))"
   ]
  },
  {
   "cell_type": "code",
   "execution_count": 12,
   "id": "39059c4a-d74d-4a9b-9281-58a301f75890",
   "metadata": {},
   "outputs": [
    {
     "data": {
      "text/plain": [
       "array([[0., 0., 0., 0., 0.],\n",
       "       [0., 0., 0., 0., 0.],\n",
       "       [0., 0., 0., 0., 0.],\n",
       "       [0., 0., 0., 0., 0.]])"
      ]
     },
     "execution_count": 12,
     "metadata": {},
     "output_type": "execute_result"
    }
   ],
   "source": [
    "np.zeros((4,5))"
   ]
  },
  {
   "cell_type": "markdown",
   "id": "fe45b8eb-cf9f-45f5-9a20-4a356187dae0",
   "metadata": {},
   "source": [
    "#### Identity matrix: \n",
    "    Diagonal elements are 1:"
   ]
  },
  {
   "cell_type": "code",
   "execution_count": 13,
   "id": "e0aa5905-0338-4cff-86e2-30382562d4e5",
   "metadata": {},
   "outputs": [
    {
     "data": {
      "text/plain": [
       "array([[1., 0., 0., 0., 0.],\n",
       "       [0., 1., 0., 0., 0.],\n",
       "       [0., 0., 1., 0., 0.],\n",
       "       [0., 0., 0., 1., 0.]])"
      ]
     },
     "execution_count": 13,
     "metadata": {},
     "output_type": "execute_result"
    }
   ],
   "source": [
    "np.eye(4,5)"
   ]
  },
  {
   "cell_type": "markdown",
   "id": "6ed33307-3c08-4c26-8857-f0f62a48c921",
   "metadata": {},
   "source": [
    "#### Attributes of Numpy:"
   ]
  },
  {
   "cell_type": "code",
   "execution_count": 14,
   "id": "f458324a-15a8-4158-a7cd-84938debb0ea",
   "metadata": {},
   "outputs": [
    {
     "name": "stdout",
     "output_type": "stream",
     "text": [
      "Array: [[1 2 3]\n",
      " [4 5 6]]\n",
      "Shape: (2, 3)\n",
      "No of dimension: 2\n",
      "No of elements: 6\n",
      "Data type: int32\n",
      "Item Size(In bytes): 4\n"
     ]
    }
   ],
   "source": [
    "arr = np.array([[1,2,3],[4,5,6]])\n",
    "print(f'Array: {arr}')\n",
    "print(f'Shape: {np.shape(arr)}')\n",
    "print(f'No of dimension: {np.ndim(arr)}')\n",
    "print(f'No of elements: {np.size(arr)}')\n",
    "print(f'Data type: {arr.dtype}')\n",
    "print(f'Item Size(In bytes): {arr.itemsize}')"
   ]
  },
  {
   "cell_type": "markdown",
   "id": "548db33c-c4d1-42a9-ab3d-05b88d30b839",
   "metadata": {},
   "source": [
    "#### Numpy Vectorization Operations:"
   ]
  },
  {
   "cell_type": "code",
   "execution_count": 15,
   "id": "89434c2b-59c8-4b10-88b1-9ccc0ddc3870",
   "metadata": {},
   "outputs": [],
   "source": [
    "arr1 = np.array([1,2,3,4,5])\n",
    "arr2 = np.array([10,20,30,40,50])"
   ]
  },
  {
   "cell_type": "markdown",
   "id": "6baee565-889d-4093-9e17-69ba9e20cf28",
   "metadata": {},
   "source": [
    "#### Elementwise addition Substraction Multiplication Division:"
   ]
  },
  {
   "cell_type": "code",
   "execution_count": 16,
   "id": "f5b447fe-0739-4e3f-afca-cb2e47e4068c",
   "metadata": {},
   "outputs": [
    {
     "name": "stdout",
     "output_type": "stream",
     "text": [
      "1) Addition: [11 22 33 44 55]\n",
      "2) Substraction: [ -9 -18 -27 -36 -45]\n",
      "3) Multiplication: [ 10  40  90 160 250]\n",
      "4) Division: [0.1 0.1 0.1 0.1 0.1]\n"
     ]
    }
   ],
   "source": [
    "print(f'1) Addition: {arr1 + arr2}')\n",
    "print(f'2) Substraction: {arr1 - arr2}')\n",
    "print(f'3) Multiplication: {arr1 * arr2}')\n",
    "print(f'4) Division: {arr1/arr2}')"
   ]
  },
  {
   "cell_type": "markdown",
   "id": "0812c5c8-2e6c-4e59-906b-c771601d67b0",
   "metadata": {},
   "source": [
    "##### *for above code, return type is ndarray. mind it.*"
   ]
  },
  {
   "cell_type": "markdown",
   "id": "332ebf5d-87fe-4e23-9773-6f4cf285ac37",
   "metadata": {},
   "source": [
    "#### Universal function that applies on whole array:"
   ]
  },
  {
   "cell_type": "code",
   "execution_count": 17,
   "id": "5a7bc48a-e4e5-4ce1-8ee0-b3fccfeaa736",
   "metadata": {},
   "outputs": [],
   "source": [
    "arr1 = np.array([2,3,4,5,6])"
   ]
  },
  {
   "cell_type": "markdown",
   "id": "174c9829-42a0-4e60-b763-d060541ca467",
   "metadata": {},
   "source": [
    "#### 1) Square root:"
   ]
  },
  {
   "cell_type": "code",
   "execution_count": 18,
   "id": "be5331a5-73c0-41ec-8fe3-e9f927b11322",
   "metadata": {},
   "outputs": [
    {
     "name": "stdout",
     "output_type": "stream",
     "text": [
      "Square root: [1.41421356 1.73205081 2.         2.23606798 2.44948974]\n"
     ]
    }
   ],
   "source": [
    "print(f'Square root: {np.sqrt(arr1)}')"
   ]
  },
  {
   "cell_type": "markdown",
   "id": "0d1827ec-e703-4658-86a8-1fdf6a74a194",
   "metadata": {},
   "source": [
    "#### 2) Exponential:  "
   ]
  },
  {
   "cell_type": "code",
   "execution_count": 19,
   "id": "18c6c461-8085-4499-aa02-6f403f307bff",
   "metadata": {},
   "outputs": [
    {
     "name": "stdout",
     "output_type": "stream",
     "text": [
      "Exponential: [  7.3890561   20.08553692  54.59815003 148.4131591  403.42879349]\n"
     ]
    }
   ],
   "source": [
    "print(f'Exponential: {np.exp(arr1)}')"
   ]
  },
  {
   "cell_type": "markdown",
   "id": "a8464bf4-1a8a-48b3-b6e9-b2fb3a40bf13",
   "metadata": {},
   "source": [
    "#### 3) Sin function:"
   ]
  },
  {
   "cell_type": "code",
   "execution_count": 20,
   "id": "eecabd88-3b4c-409a-8f49-d314ff37bed4",
   "metadata": {},
   "outputs": [
    {
     "name": "stdout",
     "output_type": "stream",
     "text": [
      "Sin of array: [ 0.90929743  0.14112001 -0.7568025  -0.95892427 -0.2794155 ]\n"
     ]
    }
   ],
   "source": [
    "print(f'Sin of array: {np.sin(arr1)}')"
   ]
  },
  {
   "cell_type": "markdown",
   "id": "071911b9-77dc-417e-8785-cf3b2e365b0c",
   "metadata": {},
   "source": [
    "#### 4) natural log: "
   ]
  },
  {
   "cell_type": "code",
   "execution_count": 21,
   "id": "0cc303e0-1232-48df-9216-a5fab4d0642e",
   "metadata": {},
   "outputs": [
    {
     "name": "stdout",
     "output_type": "stream",
     "text": [
      "Natural Log: [0.69314718 1.09861229 1.38629436 1.60943791 1.79175947]\n"
     ]
    }
   ],
   "source": [
    "print(f'Natural Log: {np.log(arr1)}')"
   ]
  },
  {
   "cell_type": "markdown",
   "id": "86e0bdff-6da3-45fa-9928-90cd76a93ad6",
   "metadata": {},
   "source": [
    "#### Array Slicing and Indexing: "
   ]
  },
  {
   "cell_type": "code",
   "execution_count": 22,
   "id": "2854e546-cbba-4525-b29c-82e9e84ac3a2",
   "metadata": {},
   "outputs": [
    {
     "name": "stdout",
     "output_type": "stream",
     "text": [
      "Array: [[ 1  2  3  4]\n",
      " [ 5  6  7  8]\n",
      " [ 9 10 11 12]]\n"
     ]
    }
   ],
   "source": [
    "arr = np.array([[1,2,3,4],[5,6,7,8],[9,10,11,12]])\n",
    "print(f'Array: {arr}')"
   ]
  },
  {
   "cell_type": "code",
   "execution_count": 23,
   "id": "2bb309ba-8941-4a15-89f8-3089a37ce2c9",
   "metadata": {},
   "outputs": [
    {
     "name": "stdout",
     "output_type": "stream",
     "text": [
      "[1 2 3 4]\n",
      "[5 6 7 8]\n",
      "[ 9 10 11 12]\n"
     ]
    }
   ],
   "source": [
    "print(arr[0])\n",
    "print(arr[1])\n",
    "print(arr[2])"
   ]
  },
  {
   "cell_type": "code",
   "execution_count": 24,
   "id": "b3c9ee57-b796-4b95-a6f3-5a83984c3596",
   "metadata": {},
   "outputs": [
    {
     "name": "stdout",
     "output_type": "stream",
     "text": [
      "First row and first column: 1\n",
      "Third row and second column: 10\n"
     ]
    }
   ],
   "source": [
    "print(f'First row and first column: {arr[0][0]}')\n",
    "print(f'Third row and second column: {arr[2][1]}')"
   ]
  },
  {
   "cell_type": "code",
   "execution_count": 25,
   "id": "a606a32c-c832-4216-acf5-3575994ed3b8",
   "metadata": {},
   "outputs": [
    {
     "name": "stdout",
     "output_type": "stream",
     "text": [
      "[[ 5  6  7  8]\n",
      " [ 9 10 11 12]]\n"
     ]
    }
   ],
   "source": [
    "print(arr[1:])"
   ]
  },
  {
   "cell_type": "code",
   "execution_count": 26,
   "id": "b93bff2a-96c2-43e8-9c5d-f30fa9816c05",
   "metadata": {},
   "outputs": [
    {
     "name": "stdout",
     "output_type": "stream",
     "text": [
      "[[ 7  8]\n",
      " [11 12]]\n"
     ]
    }
   ],
   "source": [
    "print(arr[1:,2:])"
   ]
  },
  {
   "cell_type": "code",
   "execution_count": 27,
   "id": "cec6a474-fa38-437b-9d39-b51c1c03e192",
   "metadata": {},
   "outputs": [
    {
     "name": "stdout",
     "output_type": "stream",
     "text": [
      "[[2 3]\n",
      " [6 7]]\n"
     ]
    }
   ],
   "source": [
    "print(arr[0:2,1:3])"
   ]
  },
  {
   "cell_type": "code",
   "execution_count": 28,
   "id": "a055961f-9284-487c-a76a-61b5bbb90729",
   "metadata": {},
   "outputs": [
    {
     "name": "stdout",
     "output_type": "stream",
     "text": [
      "[[ 6  7]\n",
      " [10 11]]\n"
     ]
    }
   ],
   "source": [
    "print(arr[1:3,1:3])"
   ]
  },
  {
   "cell_type": "code",
   "execution_count": 29,
   "id": "93d5be68-4f7c-43a2-a9e4-8eb126ae883b",
   "metadata": {},
   "outputs": [
    {
     "name": "stdout",
     "output_type": "stream",
     "text": [
      "[[ 1  4]\n",
      " [ 9 12]]\n"
     ]
    }
   ],
   "source": [
    "corner_matrix = arr[[0, -1]][:, [0, -1]]\n",
    "print(corner_matrix)\n"
   ]
  },
  {
   "cell_type": "code",
   "execution_count": 30,
   "id": "db503902-ce65-4806-a0c2-0e95faca1e6d",
   "metadata": {},
   "outputs": [
    {
     "data": {
      "text/plain": [
       "4"
      ]
     },
     "execution_count": 30,
     "metadata": {},
     "output_type": "execute_result"
    }
   ],
   "source": [
    "arr[0,-1]"
   ]
  },
  {
   "cell_type": "code",
   "execution_count": 31,
   "id": "0857d1af-afd8-4172-b37e-01643a41c963",
   "metadata": {},
   "outputs": [
    {
     "data": {
      "text/plain": [
       "array([[ 1,  2,  3,  4],\n",
       "       [ 5,  6,  7,  8],\n",
       "       [ 9, 10, 11, 12]])"
      ]
     },
     "execution_count": 31,
     "metadata": {},
     "output_type": "execute_result"
    }
   ],
   "source": [
    "arr[:]"
   ]
  },
  {
   "cell_type": "code",
   "execution_count": 34,
   "id": "f49a8d73-fdf1-4e71-aa43-351e3d98a5d5",
   "metadata": {},
   "outputs": [
    {
     "data": {
      "text/plain": [
       "4"
      ]
     },
     "execution_count": 34,
     "metadata": {},
     "output_type": "execute_result"
    }
   ],
   "source": [
    "arr[0,-1]"
   ]
  },
  {
   "cell_type": "code",
   "execution_count": 36,
   "id": "fef4f760-0ac1-4266-8cf1-53b4f6526f4f",
   "metadata": {},
   "outputs": [
    {
     "data": {
      "text/plain": [
       "array([[ 1,  4],\n",
       "       [ 5,  8],\n",
       "       [ 9, 12]])"
      ]
     },
     "execution_count": 36,
     "metadata": {},
     "output_type": "execute_result"
    }
   ],
   "source": [
    "arr[:,[0,-1]]"
   ]
  },
  {
   "cell_type": "markdown",
   "id": "707c1e33-7a71-488d-b6c2-7418b8e16439",
   "metadata": {},
   "source": [
    "The first column (0) contains [1, 4, 7].\n",
    "\n",
    "The last column (-1) contains [3, 6, 9].\n",
    "\n",
    "So, the result extracts only these two columns from all rows."
   ]
  },
  {
   "cell_type": "code",
   "execution_count": 40,
   "id": "9cdf2a8c-5403-421d-923f-de02e934e34c",
   "metadata": {},
   "outputs": [
    {
     "data": {
      "text/plain": [
       "array([[ 1,  4],\n",
       "       [ 9, 12]])"
      ]
     },
     "execution_count": 40,
     "metadata": {},
     "output_type": "execute_result"
    }
   ],
   "source": [
    "arr[[0,-1]][:,[0,-1]]"
   ]
  },
  {
   "cell_type": "markdown",
   "id": "995aad5e-6952-4439-ab2d-2e8446617c86",
   "metadata": {},
   "source": [
    "arr[[0, -1]]:-  \n",
    "This selects specific rows (0 and -1, i.e., the first and last rows).\n",
    "\n",
    "The result is a new sub-array containing only those rows.\n",
    "\n",
    "[:, [0, -1]]  \n",
    "Now, we apply [:, [0, -1]] on the new sub-array:\n",
    "\n",
    ": → Selects all rows from the sub-array.\n",
    "\n",
    "[0, -1] → Selects first and last columns.\n",
    "                            "
   ]
  },
  {
   "cell_type": "code",
   "execution_count": 41,
   "id": "d9bea3e6-6e9e-4863-a40d-d0ca8de923c7",
   "metadata": {},
   "outputs": [
    {
     "data": {
      "text/plain": [
       "array([[ 7,  8],\n",
       "       [11, 12]])"
      ]
     },
     "execution_count": 41,
     "metadata": {},
     "output_type": "execute_result"
    }
   ],
   "source": [
    "arr[1:,2:]"
   ]
  },
  {
   "cell_type": "code",
   "execution_count": 44,
   "id": "742da625-4dab-4aa6-9a60-54a173dc99ac",
   "metadata": {},
   "outputs": [
    {
     "data": {
      "text/plain": [
       "array([[3, 4],\n",
       "       [7, 8]])"
      ]
     },
     "execution_count": 44,
     "metadata": {},
     "output_type": "execute_result"
    }
   ],
   "source": [
    "arr[0:2,2:]"
   ]
  },
  {
   "cell_type": "code",
   "execution_count": 48,
   "id": "ff8cefd4-0ef4-4d7c-b70d-cd4ac9c22b63",
   "metadata": {},
   "outputs": [
    {
     "data": {
      "text/plain": [
       "array([[1, 2],\n",
       "       [5, 6]])"
      ]
     },
     "execution_count": 48,
     "metadata": {},
     "output_type": "execute_result"
    }
   ],
   "source": [
    "arr[0:2,0:2]"
   ]
  },
  {
   "cell_type": "code",
   "execution_count": 51,
   "id": "944a24f2-8992-4b11-9d59-9faf298be899",
   "metadata": {},
   "outputs": [
    {
     "data": {
      "text/plain": [
       "array([[ 6,  7],\n",
       "       [10, 11]])"
      ]
     },
     "execution_count": 51,
     "metadata": {},
     "output_type": "execute_result"
    }
   ],
   "source": [
    "arr[1:3,1:3]"
   ]
  },
  {
   "cell_type": "markdown",
   "id": "7152a292-5885-4cde-bf9d-b5eb32992f87",
   "metadata": {},
   "source": [
    "#### Modify array elements:"
   ]
  },
  {
   "cell_type": "code",
   "execution_count": 54,
   "id": "4175785c-9d7f-401f-b8eb-6017cac280e3",
   "metadata": {},
   "outputs": [],
   "source": [
    "arr[0][0] = 100"
   ]
  },
  {
   "cell_type": "code",
   "execution_count": 55,
   "id": "4d4a389d-46bc-470c-ab32-e6577218dce0",
   "metadata": {},
   "outputs": [
    {
     "data": {
      "text/plain": [
       "array([[100,   2,   3,   4],\n",
       "       [  5,   6,   7,   8],\n",
       "       [  9,  10,  11,  12]])"
      ]
     },
     "execution_count": 55,
     "metadata": {},
     "output_type": "execute_result"
    }
   ],
   "source": [
    "arr"
   ]
  },
  {
   "cell_type": "code",
   "execution_count": 57,
   "id": "41bb5880-c0da-410a-8f6e-88683ed404cb",
   "metadata": {},
   "outputs": [],
   "source": [
    "arr[1][2] = 200"
   ]
  },
  {
   "cell_type": "code",
   "execution_count": 58,
   "id": "1c576a87-f2cf-4e64-bfc2-196501034214",
   "metadata": {},
   "outputs": [
    {
     "data": {
      "text/plain": [
       "array([[100,   2,   3,   4],\n",
       "       [  5,   6, 200,   8],\n",
       "       [  9,  10,  11,  12]])"
      ]
     },
     "execution_count": 58,
     "metadata": {},
     "output_type": "execute_result"
    }
   ],
   "source": [
    "arr"
   ]
  },
  {
   "cell_type": "code",
   "execution_count": null,
   "id": "9f2575b0-6ea8-473c-9cdd-5d0c6b1e5436",
   "metadata": {},
   "outputs": [],
   "source": []
  }
 ],
 "metadata": {
  "kernelspec": {
   "display_name": "base",
   "language": "python",
   "name": "python3"
  },
  "language_info": {
   "codemirror_mode": {
    "name": "ipython",
    "version": 3
   },
   "file_extension": ".py",
   "mimetype": "text/x-python",
   "name": "python",
   "nbconvert_exporter": "python",
   "pygments_lexer": "ipython3",
   "version": "3.12.7"
  }
 },
 "nbformat": 4,
 "nbformat_minor": 5
}
