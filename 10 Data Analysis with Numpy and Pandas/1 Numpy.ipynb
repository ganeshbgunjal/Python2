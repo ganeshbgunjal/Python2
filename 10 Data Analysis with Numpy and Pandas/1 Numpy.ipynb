{
 "cells": [
  {
   "cell_type": "markdown",
   "id": "f3f7b782-3b5f-4ffe-a9e8-b3fd88ac4f58",
   "metadata": {},
   "source": [
    "## Numpy:\n",
    "Numpy is a fundamental library in computing in python. It provides support for arrays and matrices along with mathmatical functions to operate on these data struture."
   ]
  },
  {
   "cell_type": "code",
   "execution_count": 1,
   "id": "2fc6f757-5239-41b0-adcb-abd01a8c7b15",
   "metadata": {},
   "outputs": [],
   "source": [
    "import numpy as np"
   ]
  },
  {
   "cell_type": "markdown",
   "id": "f8e118ef-244d-430d-a812-852eadf37545",
   "metadata": {},
   "source": [
    "#### Creating arrays:\n",
    "####     1 D arrays "
   ]
  },
  {
   "cell_type": "code",
   "execution_count": 2,
   "id": "dfd853eb-0327-4174-afea-014ea2d9a585",
   "metadata": {},
   "outputs": [
    {
     "data": {
      "text/plain": [
       "array([1, 2, 3, 4, 5])"
      ]
     },
     "execution_count": 2,
     "metadata": {},
     "output_type": "execute_result"
    }
   ],
   "source": [
    "arr = np.array([1,2,3,4,5])\n",
    "arr"
   ]
  },
  {
   "cell_type": "code",
   "execution_count": 3,
   "id": "ec3ecd93-59f2-4624-bf64-02b945ab8cd2",
   "metadata": {},
   "outputs": [
    {
     "data": {
      "text/plain": [
       "numpy.ndarray"
      ]
     },
     "execution_count": 3,
     "metadata": {},
     "output_type": "execute_result"
    }
   ],
   "source": [
    "type(arr)"
   ]
  },
  {
   "cell_type": "code",
   "execution_count": 4,
   "id": "bb6d4538-63cd-4e51-927e-1bcb1d4363c2",
   "metadata": {},
   "outputs": [
    {
     "data": {
      "text/plain": [
       "(5,)"
      ]
     },
     "execution_count": 4,
     "metadata": {},
     "output_type": "execute_result"
    }
   ],
   "source": [
    "np.shape(arr)"
   ]
  },
  {
   "cell_type": "code",
   "execution_count": 10,
   "id": "05c87c0b-b662-40b0-bff7-793c75c97adb",
   "metadata": {},
   "outputs": [],
   "source": [
    "arr = arr.reshape(1,5)   #1 row and 5 columns"
   ]
  },
  {
   "cell_type": "code",
   "execution_count": 11,
   "id": "5180bce9-aee7-48ea-bce9-4ea9524725d7",
   "metadata": {},
   "outputs": [
    {
     "data": {
      "text/plain": [
       "(1, 5)"
      ]
     },
     "execution_count": 11,
     "metadata": {},
     "output_type": "execute_result"
    }
   ],
   "source": [
    "np.shape(arr)"
   ]
  },
  {
   "cell_type": "markdown",
   "id": "ddb4ce53-e6b5-4f96-b726-1cb439da7fb6",
   "metadata": {},
   "source": [
    "#### 2D array:"
   ]
  },
  {
   "cell_type": "code",
   "execution_count": 14,
   "id": "f54f5dfc-23a8-40ce-94cf-54f9ecba040f",
   "metadata": {},
   "outputs": [
    {
     "name": "stdout",
     "output_type": "stream",
     "text": [
      "[[1 2 3 4]\n",
      " [4 5 6 7]]\n",
      "(2, 4)\n"
     ]
    }
   ],
   "source": [
    "arr2 = np.array([[1,2,3,4],[4,5,6,7]])\n",
    "print(arr2)\n",
    "print(arr2.shape)"
   ]
  },
  {
   "cell_type": "markdown",
   "id": "711180d9-1dbd-4cc3-92a3-4a60543e450f",
   "metadata": {},
   "source": [
    "#### Some Important Numpy functions:"
   ]
  },
  {
   "cell_type": "code",
   "execution_count": 15,
   "id": "87290a3a-37c5-4433-a4a3-fef11bb6f085",
   "metadata": {},
   "outputs": [
    {
     "data": {
      "text/plain": [
       "array([0, 1, 2, 3, 4, 5, 6, 7, 8, 9])"
      ]
     },
     "execution_count": 15,
     "metadata": {},
     "output_type": "execute_result"
    }
   ],
   "source": [
    "np.arange(0,10)"
   ]
  },
  {
   "cell_type": "code",
   "execution_count": 16,
   "id": "9faca0b0-348b-4c4e-b04b-97815d210841",
   "metadata": {},
   "outputs": [
    {
     "data": {
      "text/plain": [
       "array([0, 2, 4, 6, 8])"
      ]
     },
     "execution_count": 16,
     "metadata": {},
     "output_type": "execute_result"
    }
   ],
   "source": [
    "np.arange(0,10,2)"
   ]
  },
  {
   "cell_type": "code",
   "execution_count": 17,
   "id": "541e2d7b-d409-4ab9-a4a2-890e512f3b3b",
   "metadata": {},
   "outputs": [
    {
     "data": {
      "text/plain": [
       "array([[0, 2, 4, 6, 8]])"
      ]
     },
     "execution_count": 17,
     "metadata": {},
     "output_type": "execute_result"
    }
   ],
   "source": [
    "np.arange(0,10,2).reshape(1,5)"
   ]
  },
  {
   "cell_type": "code",
   "execution_count": null,
   "id": "952ea447-c886-43b5-8638-d932ed60d7f9",
   "metadata": {},
   "outputs": [],
   "source": []
  }
 ],
 "metadata": {
  "kernelspec": {
   "display_name": "Python 3 (ipykernel)",
   "language": "python",
   "name": "python3"
  },
  "language_info": {
   "codemirror_mode": {
    "name": "ipython",
    "version": 3
   },
   "file_extension": ".py",
   "mimetype": "text/x-python",
   "name": "python",
   "nbconvert_exporter": "python",
   "pygments_lexer": "ipython3",
   "version": "3.12.7"
  }
 },
 "nbformat": 4,
 "nbformat_minor": 5
}
