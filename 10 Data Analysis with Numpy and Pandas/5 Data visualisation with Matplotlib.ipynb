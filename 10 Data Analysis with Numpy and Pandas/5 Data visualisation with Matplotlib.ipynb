{
 "cells": [
  {
   "cell_type": "markdown",
   "id": "679d5fd1-369b-47e8-9810-d02d42c63ad3",
   "metadata": {},
   "source": [
    "### Data Visualisation with Matplotlib:"
   ]
  },
  {
   "cell_type": "markdown",
   "id": "9732fa4f-554b-4433-8846-65a5afb4075e",
   "metadata": {},
   "source": [
    "Matplotlib is a popular Python library used for creating static, animated, and interactive visualizations. It is widely used in data analysis and scientific computing for generating plots, charts, and graphs.\n",
    "\n",
    "#### Key Features of Matplotlib\n",
    "    Supports various types of plots: line plots, bar charts, histograms, scatter plots, etc.\n",
    "\n",
    "    Highly customizable (labels, colors, markers, grids, etc.).\n",
    "\n",
    "    Works well with NumPy and pandas (great for data analysis).\n",
    "\n",
    "    Can be used in Jupyter Notebooks for inline visualization.\n",
    "\n",
    "    Supports multiple backends for rendering (SVG, PDF, PNG, etc.)."
   ]
  },
  {
   "cell_type": "code",
   "execution_count": 1,
   "id": "4e6e50ce-e7ca-497e-a15b-ef9db673d3f7",
   "metadata": {},
   "outputs": [
    {
     "name": "stdout",
     "output_type": "stream",
     "text": [
      "Requirement already satisfied: matplotlib in c:\\programdata\\anaconda3\\lib\\site-packages (3.9.2)\n",
      "Requirement already satisfied: contourpy>=1.0.1 in c:\\programdata\\anaconda3\\lib\\site-packages (from matplotlib) (1.2.0)\n",
      "Requirement already satisfied: cycler>=0.10 in c:\\programdata\\anaconda3\\lib\\site-packages (from matplotlib) (0.11.0)\n",
      "Requirement already satisfied: fonttools>=4.22.0 in c:\\programdata\\anaconda3\\lib\\site-packages (from matplotlib) (4.51.0)\n",
      "Requirement already satisfied: kiwisolver>=1.3.1 in c:\\programdata\\anaconda3\\lib\\site-packages (from matplotlib) (1.4.4)\n",
      "Requirement already satisfied: numpy>=1.23 in c:\\programdata\\anaconda3\\lib\\site-packages (from matplotlib) (1.26.4)\n",
      "Requirement already satisfied: packaging>=20.0 in c:\\programdata\\anaconda3\\lib\\site-packages (from matplotlib) (24.1)\n",
      "Requirement already satisfied: pillow>=8 in c:\\programdata\\anaconda3\\lib\\site-packages (from matplotlib) (10.4.0)\n",
      "Requirement already satisfied: pyparsing>=2.3.1 in c:\\programdata\\anaconda3\\lib\\site-packages (from matplotlib) (3.1.2)\n",
      "Requirement already satisfied: python-dateutil>=2.7 in c:\\programdata\\anaconda3\\lib\\site-packages (from matplotlib) (2.9.0.post0)\n",
      "Requirement already satisfied: six>=1.5 in c:\\programdata\\anaconda3\\lib\\site-packages (from python-dateutil>=2.7->matplotlib) (1.16.0)\n"
     ]
    }
   ],
   "source": [
    "!pip install matplotlib"
   ]
  },
  {
   "cell_type": "code",
   "execution_count": 4,
   "id": "175412b0-d32e-4cb2-9765-b72253deb8e6",
   "metadata": {},
   "outputs": [],
   "source": [
    "import matplotlib.pyplot as plt"
   ]
  },
  {
   "cell_type": "code",
   "execution_count": 5,
   "id": "e18b8356-9d9c-4211-af0a-642aeca37748",
   "metadata": {},
   "outputs": [],
   "source": [
    "x = [1,2,3,4,5]\n",
    "y = [1,4,9,16,25]\n"
   ]
  },
  {
   "cell_type": "markdown",
   "id": "2566c67c-1155-473d-88e3-3f01407d2aa3",
   "metadata": {},
   "source": [
    "### create a line plot:"
   ]
  },
  {
   "cell_type": "code",
   "execution_count": 7,
   "id": "92e9c710-0a7b-4ff7-a955-20e7902c3c92",
   "metadata": {},
   "outputs": [
    {
     "data": {
      "text/plain": [
       "[<matplotlib.lines.Line2D at 0x22e4e27f830>]"
      ]
     },
     "execution_count": 7,
     "metadata": {},
     "output_type": "execute_result"
    },
    {
     "data": {
      "image/png": "[encoded data removed]",
      "text/plain": [
       "<Figure size 640x480 with 1 Axes>"
      ]
     },
     "metadata": {},
     "output_type": "display_data"
    }
   ],
   "source": [
    "plt.plot(x,y,color='red')"
   ]
  },
  {
   "cell_type": "code",
   "execution_count": null,
   "id": "df9d2011-dd23-4d87-b6aa-ecba26835585",
   "metadata": {},
   "outputs": [],
   "source": []
  }
 ],
 "metadata": {
  "kernelspec": {
   "display_name": "Python 3 (ipykernel)",
   "language": "python",
   "name": "python3"
  },
  "language_info": {
   "codemirror_mode": {
    "name": "ipython",
    "version": 3
   },
   "file_extension": ".py",
   "mimetype": "text/x-python",
   "name": "python",
   "nbconvert_exporter": "python",
   "pygments_lexer": "ipython3",
   "version": "3.12.7"
  }
 },
 "nbformat": 4,
 "nbformat_minor": 5
}
