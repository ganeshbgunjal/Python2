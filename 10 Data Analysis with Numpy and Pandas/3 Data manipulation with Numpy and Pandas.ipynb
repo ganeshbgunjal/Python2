{
 "cells": [
  {
   "cell_type": "markdown",
   "id": "641c915e-4085-4291-b050-51a18760305c",
   "metadata": {},
   "source": [
    "### Data Manipulation with Numpy and Pandas:  \n",
    "Data manipulation and analysis are the key tasks in data science or data analysis project. Pandas provides a wide range of functions for data manipulation and analysis. making it easier and clean and extract insights from data. "
   ]
  },
  {
   "cell_type": "code",
   "execution_count": null,
   "id": "c74beb80-2ffb-4979-a969-84164b95169a",
   "metadata": {},
   "outputs": [],
   "source": []
  }
 ],
 "metadata": {
  "kernelspec": {
   "display_name": "Python 3 (ipykernel)",
   "language": "python",
   "name": "python3"
  },
  "language_info": {
   "codemirror_mode": {
    "name": "ipython",
    "version": 3
   },
   "file_extension": ".py",
   "mimetype": "text/x-python",
   "name": "python",
   "nbconvert_exporter": "python",
   "pygments_lexer": "ipython3",
   "version": "3.12.7"
  }
 },
 "nbformat": 4,
 "nbformat_minor": 5
}
