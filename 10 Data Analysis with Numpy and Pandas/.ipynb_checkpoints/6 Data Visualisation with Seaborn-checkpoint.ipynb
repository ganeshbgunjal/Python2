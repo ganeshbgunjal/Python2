{
 "cells": [
  {
   "cell_type": "markdown",
   "id": "d43cf7a7-a17d-415f-99c7-b2b9da5a37c0",
   "metadata": {},
   "source": [
    "### Data Visualisation With Seaborn:"
   ]
  },
  {
   "cell_type": "code",
   "execution_count": null,
   "id": "096647c6-bebf-4bbf-8742-90695a09469b",
   "metadata": {},
   "outputs": [],
   "source": []
  }
 ],
 "metadata": {
  "kernelspec": {
   "display_name": "Python 3 (ipykernel)",
   "language": "python",
   "name": "python3"
  },
  "language_info": {
   "codemirror_mode": {
    "name": "ipython",
    "version": 3
   },
   "file_extension": ".py",
   "mimetype": "text/x-python",
   "name": "python",
   "nbconvert_exporter": "python",
   "pygments_lexer": "ipython3",
   "version": "3.12.7"
  }
 },
 "nbformat": 4,
 "nbformat_minor": 5
}
