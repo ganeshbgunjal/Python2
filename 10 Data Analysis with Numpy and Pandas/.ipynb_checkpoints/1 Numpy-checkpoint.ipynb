{
 "cells": [
  {
   "cell_type": "markdown",
   "id": "f3f7b782-3b5f-4ffe-a9e8-b3fd88ac4f58",
   "metadata": {},
   "source": [
    "## Numpy:\n",
    "Numpy is a fundamental library in computing in python."
   ]
  },
  {
   "cell_type": "code",
   "execution_count": null,
   "id": "2fc6f757-5239-41b0-adcb-abd01a8c7b15",
   "metadata": {},
   "outputs": [],
   "source": []
  }
 ],
 "metadata": {
  "kernelspec": {
   "display_name": "Python 3 (ipykernel)",
   "language": "python",
   "name": "python3"
  },
  "language_info": {
   "codemirror_mode": {
    "name": "ipython",
    "version": 3
   },
   "file_extension": ".py",
   "mimetype": "text/x-python",
   "name": "python",
   "nbconvert_exporter": "python",
   "pygments_lexer": "ipython3",
   "version": "3.12.7"
  }
 },
 "nbformat": 4,
 "nbformat_minor": 5
}
