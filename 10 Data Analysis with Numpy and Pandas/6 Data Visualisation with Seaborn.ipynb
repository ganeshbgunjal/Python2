{
 "cells": [
  {
   "cell_type": "markdown",
   "id": "d43cf7a7-a17d-415f-99c7-b2b9da5a37c0",
   "metadata": {},
   "source": [
    "### Data Visualisation With Seaborn:"
   ]
  },
  {
   "cell_type": "markdown",
   "id": "4d75956e-a3d5-4dff-b685-9f3b7877d647",
   "metadata": {},
   "source": [
    "Seaborn is a Python library for statistical data visualization. It's built on top of Matplotlib and integrates well with pandas, making it great for exploratory data analysis."
   ]
  },
  {
   "cell_type": "markdown",
   "id": "584e9c96-0509-4776-ac13-7554f45b3a73",
   "metadata": {},
   "source": [
    "#### Why Use Seaborn?\n",
    "✔️ Prettier & More Readable Plots (compared to Matplotlib)  \n",
    "✔️ Built-in Datasets (easy to practice)  \n",
    "✔️ Works Well with Pandas DataFrames  \n",
    "✔️ Great for Statistical Visualizations (heatmaps, pair plots, violin plots, etc.)"
   ]
  },
  {
   "cell_type": "code",
   "execution_count": 1,
   "id": "57530b48-6383-4db6-ba19-b3d6946acd64",
   "metadata": {},
   "outputs": [],
   "source": [
    "import seaborn as sns"
   ]
  },
  {
   "cell_type": "code",
   "execution_count": null,
   "id": "d856da17-9c3d-4474-93b5-65c5406f067f",
   "metadata": {},
   "outputs": [],
   "source": []
  }
 ],
 "metadata": {
  "kernelspec": {
   "display_name": "Python 3 (ipykernel)",
   "language": "python",
   "name": "python3"
  },
  "language_info": {
   "codemirror_mode": {
    "name": "ipython",
    "version": 3
   },
   "file_extension": ".py",
   "mimetype": "text/x-python",
   "name": "python",
   "nbconvert_exporter": "python",
   "pygments_lexer": "ipython3",
   "version": "3.12.7"
  }
 },
 "nbformat": 4,
 "nbformat_minor": 5
}
