{
 "cells": [
  {
   "cell_type": "markdown",
   "id": "a5f68fc8-6e38-404f-a7fc-5e4439998747",
   "metadata": {},
   "source": [
    "### Pandas: \n",
    "Its a powerful data manipulation library widely used for data analysis and data cleaning. it provides two primary data structures Series and DataFrame. A series is a one dimenssional array while DataFrame is a two dimensional. size mutable and potentially heterogeneous tablular data structure with labelled axes."
   ]
  },
  {
   "cell_type": "code",
   "execution_count": 1,
   "id": "d2902d19-6527-44f0-9985-2993c4fc5a56",
   "metadata": {},
   "outputs": [
    {
     "name": "stdout",
     "output_type": "stream",
     "text": [
      "Requirement already satisfied: pandas in c:\\users\\administrator\\anaconda3\\lib\\site-packages (2.2.2)\n",
      "Requirement already satisfied: numpy>=1.26.0 in c:\\users\\administrator\\anaconda3\\lib\\site-packages (from pandas) (1.26.4)\n",
      "Requirement already satisfied: python-dateutil>=2.8.2 in c:\\users\\administrator\\anaconda3\\lib\\site-packages (from pandas) (2.9.0.post0)\n",
      "Requirement already satisfied: pytz>=2020.1 in c:\\users\\administrator\\anaconda3\\lib\\site-packages (from pandas) (2024.1)\n",
      "Requirement already satisfied: tzdata>=2022.7 in c:\\users\\administrator\\anaconda3\\lib\\site-packages (from pandas) (2023.3)\n",
      "Requirement already satisfied: six>=1.5 in c:\\users\\administrator\\anaconda3\\lib\\site-packages (from python-dateutil>=2.8.2->pandas) (1.16.0)\n"
     ]
    }
   ],
   "source": [
    "!pip install pandas"
   ]
  },
  {
   "cell_type": "code",
   "execution_count": 2,
   "id": "085227f1-20d1-4c1c-976d-6af4895d9a54",
   "metadata": {},
   "outputs": [
    {
     "name": "stdout",
     "output_type": "stream",
     "text": [
      "2.2.2\n"
     ]
    }
   ],
   "source": [
    "import pandas as pd\n",
    "print(pd.__version__)"
   ]
  },
  {
   "cell_type": "markdown",
   "id": "aae8ba56-0045-4940-90fa-36eaaea099f7",
   "metadata": {},
   "source": [
    "###  Pandas Series:"
   ]
  },
  {
   "cell_type": "markdown",
   "id": "31bb4359-4730-4c45-a714-86e496d78be0",
   "metadata": {},
   "source": [
    "A Series in pandas is a one-dimensional labeled array that can hold any data type (integers, floats, strings, etc.). It is like a column in a spreadsheet or a list with an index."
   ]
  },
  {
   "cell_type": "code",
   "execution_count": 3,
   "id": "1c75c3d4-21ce-442c-89ba-88c3a5c4281e",
   "metadata": {},
   "outputs": [
    {
     "name": "stdout",
     "output_type": "stream",
     "text": [
      "0    1\n",
      "1    2\n",
      "2    3\n",
      "3    4\n",
      "4    5\n",
      "5    6\n",
      "6    7\n",
      "dtype: int64\n"
     ]
    }
   ],
   "source": [
    "data = [1,2,3,4,5,6,7]\n",
    "series = pd.Series(data)\n",
    "print(series)"
   ]
  },
  {
   "cell_type": "markdown",
   "id": "ff365cbe-d151-402c-ba44-903a66c4237e",
   "metadata": {},
   "source": [
    "#### create series from dictionary:"
   ]
  },
  {
   "cell_type": "code",
   "execution_count": 4,
   "id": "9c9db3b0-1536-493c-827c-6a3e551ee781",
   "metadata": {},
   "outputs": [
    {
     "name": "stdout",
     "output_type": "stream",
     "text": [
      "a    1\n",
      "b    2\n",
      "c    3\n",
      "dtype: int64\n"
     ]
    }
   ],
   "source": [
    "data = {'a':1,'b':2,'c':3}\n",
    "series_dict = pd.Series(data)\n",
    "print(series_dict)"
   ]
  },
  {
   "cell_type": "code",
   "execution_count": 5,
   "id": "31a0713f-3055-486a-8a49-5e6e764a346a",
   "metadata": {},
   "outputs": [
    {
     "data": {
      "text/plain": [
       "a    10\n",
       "b    20\n",
       "c    30\n",
       "dtype: int64"
      ]
     },
     "execution_count": 5,
     "metadata": {},
     "output_type": "execute_result"
    }
   ],
   "source": [
    "data = [10,20,30]\n",
    "index = ['a','b','c']\n",
    "\n",
    "pd.Series(data,index=index)"
   ]
  },
  {
   "cell_type": "code",
   "execution_count": 6,
   "id": "f11eaa1a-9c09-4694-84f0-1c47dd0e144f",
   "metadata": {},
   "outputs": [
    {
     "data": {
      "text/plain": [
       "Marathi        98\n",
       "English        97\n",
       "Physics        94\n",
       "Chemistry      92\n",
       "Mathematics    98\n",
       "Biology        96\n",
       "dtype: int64"
      ]
     },
     "execution_count": 6,
     "metadata": {},
     "output_type": "execute_result"
    }
   ],
   "source": [
    "marks = [98,97,94,92,98,96]\n",
    "subjects = ['Marathi','English','Physics','Chemistry','Mathematics','Biology']\n",
    "\n",
    "pd.Series(marks,index=subjects)"
   ]
  },
  {
   "cell_type": "markdown",
   "id": "3bf29ac4-33c3-45e4-93e7-cfc52d45418b",
   "metadata": {},
   "source": [
    "### DataFrame: \n",
    "A DataFrame is a two-dimensional, size-mutable, and labeled data structure in pandas, similar to a table or spreadsheet with rows and columns."
   ]
  },
  {
   "cell_type": "markdown",
   "id": "2ca70397-1e91-42fa-a980-838effa006be",
   "metadata": {},
   "source": [
    "#### create a Dataframe from dictionary:"
   ]
  },
  {
   "cell_type": "code",
   "execution_count": 7,
   "id": "c1832aaa-38a7-4024-a445-24058efd0b03",
   "metadata": {},
   "outputs": [],
   "source": [
    "data = {\n",
    "    'Name' : ['Ganesh','Dilip','Amol'],\n",
    "    'Age' : [33,31,23],\n",
    "    'City' : ['Bangalore','Nashik','Pune']\n",
    "}"
   ]
  },
  {
   "cell_type": "code",
   "execution_count": 8,
   "id": "b64e1fc3-0a15-4524-bff1-31c40048dda6",
   "metadata": {},
   "outputs": [
    {
     "name": "stdout",
     "output_type": "stream",
     "text": [
      "<class 'pandas.core.frame.DataFrame'>\n",
      "--------------------------\n",
      "     Name  Age       City\n",
      "0  Ganesh   33  Bangalore\n",
      "1   Dilip   31     Nashik\n",
      "2    Amol   23       Pune\n"
     ]
    }
   ],
   "source": [
    "df = pd.DataFrame(data)\n",
    "print(type(df))\n",
    "print('--------------------------')\n",
    "print(df)"
   ]
  },
  {
   "cell_type": "markdown",
   "id": "e2fd4430-acb9-49d6-9dfc-f2986c442ccd",
   "metadata": {},
   "source": [
    "#### create data frame from list of dictionaries:"
   ]
  },
  {
   "cell_type": "code",
   "execution_count": 9,
   "id": "7ef385ef-8b1b-44ed-aefb-0ce3ca1cc04b",
   "metadata": {},
   "outputs": [],
   "source": [
    "data = [\n",
    "    {'Name':'Ganesh','Age':33,'City':'Bangalore'},\n",
    "    {'Name':'Ganaa','Age':34,'City':'Pune'},\n",
    "    {'Name':'Dilip','Age':31,'City':'Nashik'},\n",
    "    {'Name':'Amol','Age':23,'City':'Niphad'},\n",
    "    {'Name':'Yogesh','Age':33,'City':'Dindori'},\n",
    "]"
   ]
  },
  {
   "cell_type": "code",
   "execution_count": 10,
   "id": "4dfb11df-233f-434e-a7a8-5e4ccb19db03",
   "metadata": {},
   "outputs": [
    {
     "name": "stdout",
     "output_type": "stream",
     "text": [
      "<class 'pandas.core.frame.DataFrame'>\n",
      "-------------------------------\n",
      "     Name  Age       City\n",
      "0  Ganesh   33  Bangalore\n",
      "1   Ganaa   34       Pune\n",
      "2   Dilip   31     Nashik\n",
      "3    Amol   23     Niphad\n",
      "4  Yogesh   33    Dindori\n"
     ]
    }
   ],
   "source": [
    "df = pd.DataFrame(data)\n",
    "print(type(df))\n",
    "print('-------------------------------')\n",
    "print(df)"
   ]
  },
  {
   "cell_type": "code",
   "execution_count": 11,
   "id": "89b260cd-5738-47b8-b335-b9c74732fc38",
   "metadata": {},
   "outputs": [
    {
     "data": {
      "text/html": [
       "<div>\n",
       "<style scoped>\n",
       "    .dataframe tbody tr th:only-of-type {\n",
       "        vertical-align: middle;\n",
       "    }\n",
       "\n",
       "    .dataframe tbody tr th {\n",
       "        vertical-align: top;\n",
       "    }\n",
       "\n",
       "    .dataframe thead th {\n",
       "        text-align: right;\n",
       "    }\n",
       "</style>\n",
       "<table border=\"1\" class=\"dataframe\">\n",
       "  <thead>\n",
       "    <tr style=\"text-align: right;\">\n",
       "      <th></th>\n",
       "      <th>Order ID</th>\n",
       "      <th>Amount</th>\n",
       "      <th>Profit</th>\n",
       "      <th>Quantity</th>\n",
       "      <th>Category</th>\n",
       "      <th>Sub-Category</th>\n",
       "      <th>PaymentMode</th>\n",
       "    </tr>\n",
       "  </thead>\n",
       "  <tbody>\n",
       "    <tr>\n",
       "      <th>0</th>\n",
       "      <td>B-25681</td>\n",
       "      <td>1096</td>\n",
       "      <td>658</td>\n",
       "      <td>7</td>\n",
       "      <td>Electronics</td>\n",
       "      <td>Electronic Games</td>\n",
       "      <td>COD</td>\n",
       "    </tr>\n",
       "    <tr>\n",
       "      <th>1</th>\n",
       "      <td>B-26055</td>\n",
       "      <td>5729</td>\n",
       "      <td>64</td>\n",
       "      <td>14</td>\n",
       "      <td>Furniture</td>\n",
       "      <td>Chairs</td>\n",
       "      <td>EMI</td>\n",
       "    </tr>\n",
       "    <tr>\n",
       "      <th>2</th>\n",
       "      <td>B-25955</td>\n",
       "      <td>2927</td>\n",
       "      <td>146</td>\n",
       "      <td>8</td>\n",
       "      <td>Furniture</td>\n",
       "      <td>Bookcases</td>\n",
       "      <td>EMI</td>\n",
       "    </tr>\n",
       "    <tr>\n",
       "      <th>3</th>\n",
       "      <td>B-26093</td>\n",
       "      <td>2847</td>\n",
       "      <td>712</td>\n",
       "      <td>8</td>\n",
       "      <td>Electronics</td>\n",
       "      <td>Printers</td>\n",
       "      <td>Credit Card</td>\n",
       "    </tr>\n",
       "    <tr>\n",
       "      <th>4</th>\n",
       "      <td>B-25602</td>\n",
       "      <td>2617</td>\n",
       "      <td>1151</td>\n",
       "      <td>4</td>\n",
       "      <td>Electronics</td>\n",
       "      <td>Phones</td>\n",
       "      <td>Credit Card</td>\n",
       "    </tr>\n",
       "  </tbody>\n",
       "</table>\n",
       "</div>"
      ],
      "text/plain": [
       "  Order ID  Amount  Profit  Quantity     Category      Sub-Category  \\\n",
       "0  B-25681    1096     658         7  Electronics  Electronic Games   \n",
       "1  B-26055    5729      64        14    Furniture            Chairs   \n",
       "2  B-25955    2927     146         8    Furniture         Bookcases   \n",
       "3  B-26093    2847     712         8  Electronics          Printers   \n",
       "4  B-25602    2617    1151         4  Electronics            Phones   \n",
       "\n",
       "   PaymentMode  \n",
       "0          COD  \n",
       "1          EMI  \n",
       "2          EMI  \n",
       "3  Credit Card  \n",
       "4  Credit Card  "
      ]
     },
     "execution_count": 11,
     "metadata": {},
     "output_type": "execute_result"
    }
   ],
   "source": [
    "df1 = pd.read_csv('Sales Details.csv')\n",
    "df1.head()    #top 10 records"
   ]
  },
  {
   "cell_type": "markdown",
   "id": "8204de92-85f0-42c2-9949-fc0795490e36",
   "metadata": {},
   "source": [
    "#### Accessing data from Data frame:"
   ]
  },
  {
   "cell_type": "code",
   "execution_count": 12,
   "id": "d7d95790-87fe-4812-89c7-71a88e453845",
   "metadata": {},
   "outputs": [
    {
     "data": {
      "text/html": [
       "<div>\n",
       "<style scoped>\n",
       "    .dataframe tbody tr th:only-of-type {\n",
       "        vertical-align: middle;\n",
       "    }\n",
       "\n",
       "    .dataframe tbody tr th {\n",
       "        vertical-align: top;\n",
       "    }\n",
       "\n",
       "    .dataframe thead th {\n",
       "        text-align: right;\n",
       "    }\n",
       "</style>\n",
       "<table border=\"1\" class=\"dataframe\">\n",
       "  <thead>\n",
       "    <tr style=\"text-align: right;\">\n",
       "      <th></th>\n",
       "      <th>Order ID</th>\n",
       "      <th>Amount</th>\n",
       "      <th>Profit</th>\n",
       "      <th>Quantity</th>\n",
       "      <th>Category</th>\n",
       "      <th>Sub-Category</th>\n",
       "      <th>PaymentMode</th>\n",
       "    </tr>\n",
       "  </thead>\n",
       "  <tbody>\n",
       "    <tr>\n",
       "      <th>0</th>\n",
       "      <td>B-25681</td>\n",
       "      <td>1096</td>\n",
       "      <td>658</td>\n",
       "      <td>7</td>\n",
       "      <td>Electronics</td>\n",
       "      <td>Electronic Games</td>\n",
       "      <td>COD</td>\n",
       "    </tr>\n",
       "    <tr>\n",
       "      <th>1</th>\n",
       "      <td>B-26055</td>\n",
       "      <td>5729</td>\n",
       "      <td>64</td>\n",
       "      <td>14</td>\n",
       "      <td>Furniture</td>\n",
       "      <td>Chairs</td>\n",
       "      <td>EMI</td>\n",
       "    </tr>\n",
       "    <tr>\n",
       "      <th>2</th>\n",
       "      <td>B-25955</td>\n",
       "      <td>2927</td>\n",
       "      <td>146</td>\n",
       "      <td>8</td>\n",
       "      <td>Furniture</td>\n",
       "      <td>Bookcases</td>\n",
       "      <td>EMI</td>\n",
       "    </tr>\n",
       "    <tr>\n",
       "      <th>3</th>\n",
       "      <td>B-26093</td>\n",
       "      <td>2847</td>\n",
       "      <td>712</td>\n",
       "      <td>8</td>\n",
       "      <td>Electronics</td>\n",
       "      <td>Printers</td>\n",
       "      <td>Credit Card</td>\n",
       "    </tr>\n",
       "    <tr>\n",
       "      <th>4</th>\n",
       "      <td>B-25602</td>\n",
       "      <td>2617</td>\n",
       "      <td>1151</td>\n",
       "      <td>4</td>\n",
       "      <td>Electronics</td>\n",
       "      <td>Phones</td>\n",
       "      <td>Credit Card</td>\n",
       "    </tr>\n",
       "    <tr>\n",
       "      <th>...</th>\n",
       "      <td>...</td>\n",
       "      <td>...</td>\n",
       "      <td>...</td>\n",
       "      <td>...</td>\n",
       "      <td>...</td>\n",
       "      <td>...</td>\n",
       "      <td>...</td>\n",
       "    </tr>\n",
       "    <tr>\n",
       "      <th>1495</th>\n",
       "      <td>B-25700</td>\n",
       "      <td>7</td>\n",
       "      <td>-3</td>\n",
       "      <td>2</td>\n",
       "      <td>Clothing</td>\n",
       "      <td>Hankerchief</td>\n",
       "      <td>COD</td>\n",
       "    </tr>\n",
       "    <tr>\n",
       "      <th>1496</th>\n",
       "      <td>B-25757</td>\n",
       "      <td>3151</td>\n",
       "      <td>-35</td>\n",
       "      <td>7</td>\n",
       "      <td>Clothing</td>\n",
       "      <td>Trousers</td>\n",
       "      <td>EMI</td>\n",
       "    </tr>\n",
       "    <tr>\n",
       "      <th>1497</th>\n",
       "      <td>B-25973</td>\n",
       "      <td>4141</td>\n",
       "      <td>1698</td>\n",
       "      <td>13</td>\n",
       "      <td>Electronics</td>\n",
       "      <td>Printers</td>\n",
       "      <td>COD</td>\n",
       "    </tr>\n",
       "    <tr>\n",
       "      <th>1498</th>\n",
       "      <td>B-25698</td>\n",
       "      <td>7</td>\n",
       "      <td>-2</td>\n",
       "      <td>1</td>\n",
       "      <td>Clothing</td>\n",
       "      <td>Hankerchief</td>\n",
       "      <td>COD</td>\n",
       "    </tr>\n",
       "    <tr>\n",
       "      <th>1499</th>\n",
       "      <td>B-25993</td>\n",
       "      <td>4363</td>\n",
       "      <td>305</td>\n",
       "      <td>5</td>\n",
       "      <td>Furniture</td>\n",
       "      <td>Tables</td>\n",
       "      <td>EMI</td>\n",
       "    </tr>\n",
       "  </tbody>\n",
       "</table>\n",
       "<p>1500 rows × 7 columns</p>\n",
       "</div>"
      ],
      "text/plain": [
       "     Order ID  Amount  Profit  Quantity     Category      Sub-Category  \\\n",
       "0     B-25681    1096     658         7  Electronics  Electronic Games   \n",
       "1     B-26055    5729      64        14    Furniture            Chairs   \n",
       "2     B-25955    2927     146         8    Furniture         Bookcases   \n",
       "3     B-26093    2847     712         8  Electronics          Printers   \n",
       "4     B-25602    2617    1151         4  Electronics            Phones   \n",
       "...       ...     ...     ...       ...          ...               ...   \n",
       "1495  B-25700       7      -3         2     Clothing       Hankerchief   \n",
       "1496  B-25757    3151     -35         7     Clothing          Trousers   \n",
       "1497  B-25973    4141    1698        13  Electronics          Printers   \n",
       "1498  B-25698       7      -2         1     Clothing       Hankerchief   \n",
       "1499  B-25993    4363     305         5    Furniture            Tables   \n",
       "\n",
       "      PaymentMode  \n",
       "0             COD  \n",
       "1             EMI  \n",
       "2             EMI  \n",
       "3     Credit Card  \n",
       "4     Credit Card  \n",
       "...           ...  \n",
       "1495          COD  \n",
       "1496          EMI  \n",
       "1497          COD  \n",
       "1498          COD  \n",
       "1499          EMI  \n",
       "\n",
       "[1500 rows x 7 columns]"
      ]
     },
     "execution_count": 12,
     "metadata": {},
     "output_type": "execute_result"
    }
   ],
   "source": [
    "df1"
   ]
  },
  {
   "cell_type": "code",
   "execution_count": 13,
   "id": "40a3911d-08f1-4ce0-9ff3-5bdad8f8a709",
   "metadata": {},
   "outputs": [
    {
     "data": {
      "text/html": [
       "<div>\n",
       "<style scoped>\n",
       "    .dataframe tbody tr th:only-of-type {\n",
       "        vertical-align: middle;\n",
       "    }\n",
       "\n",
       "    .dataframe tbody tr th {\n",
       "        vertical-align: top;\n",
       "    }\n",
       "\n",
       "    .dataframe thead th {\n",
       "        text-align: right;\n",
       "    }\n",
       "</style>\n",
       "<table border=\"1\" class=\"dataframe\">\n",
       "  <thead>\n",
       "    <tr style=\"text-align: right;\">\n",
       "      <th></th>\n",
       "      <th>Name</th>\n",
       "      <th>Age</th>\n",
       "      <th>City</th>\n",
       "    </tr>\n",
       "  </thead>\n",
       "  <tbody>\n",
       "    <tr>\n",
       "      <th>0</th>\n",
       "      <td>Ganesh</td>\n",
       "      <td>33</td>\n",
       "      <td>Bangalore</td>\n",
       "    </tr>\n",
       "    <tr>\n",
       "      <th>1</th>\n",
       "      <td>Ganaa</td>\n",
       "      <td>34</td>\n",
       "      <td>Pune</td>\n",
       "    </tr>\n",
       "    <tr>\n",
       "      <th>2</th>\n",
       "      <td>Dilip</td>\n",
       "      <td>31</td>\n",
       "      <td>Nashik</td>\n",
       "    </tr>\n",
       "    <tr>\n",
       "      <th>3</th>\n",
       "      <td>Amol</td>\n",
       "      <td>23</td>\n",
       "      <td>Niphad</td>\n",
       "    </tr>\n",
       "    <tr>\n",
       "      <th>4</th>\n",
       "      <td>Yogesh</td>\n",
       "      <td>33</td>\n",
       "      <td>Dindori</td>\n",
       "    </tr>\n",
       "  </tbody>\n",
       "</table>\n",
       "</div>"
      ],
      "text/plain": [
       "     Name  Age       City\n",
       "0  Ganesh   33  Bangalore\n",
       "1   Ganaa   34       Pune\n",
       "2   Dilip   31     Nashik\n",
       "3    Amol   23     Niphad\n",
       "4  Yogesh   33    Dindori"
      ]
     },
     "execution_count": 13,
     "metadata": {},
     "output_type": "execute_result"
    }
   ],
   "source": [
    "df"
   ]
  },
  {
   "cell_type": "code",
   "execution_count": 14,
   "id": "b9b00563-28d6-4785-b458-478776baf11a",
   "metadata": {},
   "outputs": [
    {
     "data": {
      "text/plain": [
       "0    Ganesh\n",
       "1     Ganaa\n",
       "2     Dilip\n",
       "3      Amol\n",
       "4    Yogesh\n",
       "Name: Name, dtype: object"
      ]
     },
     "execution_count": 14,
     "metadata": {},
     "output_type": "execute_result"
    }
   ],
   "source": [
    "df['Name']"
   ]
  },
  {
   "cell_type": "code",
   "execution_count": 15,
   "id": "1079d14a-2e46-43bd-9aa6-f6b24d173760",
   "metadata": {},
   "outputs": [
    {
     "data": {
      "text/html": [
       "<div>\n",
       "<style scoped>\n",
       "    .dataframe tbody tr th:only-of-type {\n",
       "        vertical-align: middle;\n",
       "    }\n",
       "\n",
       "    .dataframe tbody tr th {\n",
       "        vertical-align: top;\n",
       "    }\n",
       "\n",
       "    .dataframe thead th {\n",
       "        text-align: right;\n",
       "    }\n",
       "</style>\n",
       "<table border=\"1\" class=\"dataframe\">\n",
       "  <thead>\n",
       "    <tr style=\"text-align: right;\">\n",
       "      <th></th>\n",
       "      <th>Name</th>\n",
       "      <th>City</th>\n",
       "    </tr>\n",
       "  </thead>\n",
       "  <tbody>\n",
       "    <tr>\n",
       "      <th>0</th>\n",
       "      <td>Ganesh</td>\n",
       "      <td>Bangalore</td>\n",
       "    </tr>\n",
       "    <tr>\n",
       "      <th>1</th>\n",
       "      <td>Ganaa</td>\n",
       "      <td>Pune</td>\n",
       "    </tr>\n",
       "    <tr>\n",
       "      <th>2</th>\n",
       "      <td>Dilip</td>\n",
       "      <td>Nashik</td>\n",
       "    </tr>\n",
       "    <tr>\n",
       "      <th>3</th>\n",
       "      <td>Amol</td>\n",
       "      <td>Niphad</td>\n",
       "    </tr>\n",
       "    <tr>\n",
       "      <th>4</th>\n",
       "      <td>Yogesh</td>\n",
       "      <td>Dindori</td>\n",
       "    </tr>\n",
       "  </tbody>\n",
       "</table>\n",
       "</div>"
      ],
      "text/plain": [
       "     Name       City\n",
       "0  Ganesh  Bangalore\n",
       "1   Ganaa       Pune\n",
       "2   Dilip     Nashik\n",
       "3    Amol     Niphad\n",
       "4  Yogesh    Dindori"
      ]
     },
     "execution_count": 15,
     "metadata": {},
     "output_type": "execute_result"
    }
   ],
   "source": [
    "df[['Name','City']]"
   ]
  },
  {
   "cell_type": "code",
   "execution_count": 16,
   "id": "acd774ac-c94f-43ee-a778-6f7675d06b05",
   "metadata": {},
   "outputs": [
    {
     "data": {
      "text/plain": [
       "Name       Ganesh\n",
       "Age            33\n",
       "City    Bangalore\n",
       "Name: 0, dtype: object"
      ]
     },
     "execution_count": 16,
     "metadata": {},
     "output_type": "execute_result"
    }
   ],
   "source": [
    "df.loc[0]"
   ]
  },
  {
   "cell_type": "code",
   "execution_count": 17,
   "id": "afcfca5c-02f8-4873-97af-4f171008c94d",
   "metadata": {},
   "outputs": [
    {
     "name": "stderr",
     "output_type": "stream",
     "text": [
      "C:\\Users\\Administrator\\AppData\\Local\\Temp\\ipykernel_1492\\1785976580.py:1: FutureWarning: Series.__getitem__ treating keys as positions is deprecated. In a future version, integer keys will always be treated as labels (consistent with DataFrame behavior). To access a value by position, use `ser.iloc[pos]`\n",
      "  df.loc[0][0]    #showing name at the place of [0][0].\n"
     ]
    },
    {
     "data": {
      "text/plain": [
       "'Ganesh'"
      ]
     },
     "execution_count": 17,
     "metadata": {},
     "output_type": "execute_result"
    }
   ],
   "source": [
    "df.loc[0][0]    #showing name at the place of [0][0]."
   ]
  },
  {
   "cell_type": "code",
   "execution_count": 18,
   "id": "b271eace-20e8-4225-aa8d-4e6205852b61",
   "metadata": {},
   "outputs": [
    {
     "data": {
      "text/plain": [
       "Name       Ganesh\n",
       "Age            33\n",
       "City    Bangalore\n",
       "Name: 0, dtype: object"
      ]
     },
     "execution_count": 18,
     "metadata": {},
     "output_type": "execute_result"
    }
   ],
   "source": [
    "df.iloc[0]"
   ]
  },
  {
   "cell_type": "markdown",
   "id": "f4096c08-d730-415a-ae81-efb1a810dbff",
   "metadata": {},
   "source": [
    "**1. .loc():** Uses labels (row/col names)  \n",
    "**2. .iloc():** Uses integer positions"
   ]
  },
  {
   "cell_type": "markdown",
   "id": "6c3c2ab9-74dd-492b-9327-ee3795036f92",
   "metadata": {},
   "source": [
    "#### Accessing specific element:"
   ]
  },
  {
   "cell_type": "code",
   "execution_count": 19,
   "id": "a193f5e4-7b20-4ba4-b8eb-5a3e117fceb2",
   "metadata": {},
   "outputs": [
    {
     "data": {
      "text/html": [
       "<div>\n",
       "<style scoped>\n",
       "    .dataframe tbody tr th:only-of-type {\n",
       "        vertical-align: middle;\n",
       "    }\n",
       "\n",
       "    .dataframe tbody tr th {\n",
       "        vertical-align: top;\n",
       "    }\n",
       "\n",
       "    .dataframe thead th {\n",
       "        text-align: right;\n",
       "    }\n",
       "</style>\n",
       "<table border=\"1\" class=\"dataframe\">\n",
       "  <thead>\n",
       "    <tr style=\"text-align: right;\">\n",
       "      <th></th>\n",
       "      <th>Name</th>\n",
       "      <th>Age</th>\n",
       "      <th>City</th>\n",
       "    </tr>\n",
       "  </thead>\n",
       "  <tbody>\n",
       "    <tr>\n",
       "      <th>0</th>\n",
       "      <td>Ganesh</td>\n",
       "      <td>33</td>\n",
       "      <td>Bangalore</td>\n",
       "    </tr>\n",
       "    <tr>\n",
       "      <th>1</th>\n",
       "      <td>Ganaa</td>\n",
       "      <td>34</td>\n",
       "      <td>Pune</td>\n",
       "    </tr>\n",
       "    <tr>\n",
       "      <th>2</th>\n",
       "      <td>Dilip</td>\n",
       "      <td>31</td>\n",
       "      <td>Nashik</td>\n",
       "    </tr>\n",
       "    <tr>\n",
       "      <th>3</th>\n",
       "      <td>Amol</td>\n",
       "      <td>23</td>\n",
       "      <td>Niphad</td>\n",
       "    </tr>\n",
       "    <tr>\n",
       "      <th>4</th>\n",
       "      <td>Yogesh</td>\n",
       "      <td>33</td>\n",
       "      <td>Dindori</td>\n",
       "    </tr>\n",
       "  </tbody>\n",
       "</table>\n",
       "</div>"
      ],
      "text/plain": [
       "     Name  Age       City\n",
       "0  Ganesh   33  Bangalore\n",
       "1   Ganaa   34       Pune\n",
       "2   Dilip   31     Nashik\n",
       "3    Amol   23     Niphad\n",
       "4  Yogesh   33    Dindori"
      ]
     },
     "execution_count": 19,
     "metadata": {},
     "output_type": "execute_result"
    }
   ],
   "source": [
    "df"
   ]
  },
  {
   "cell_type": "code",
   "execution_count": 20,
   "id": "ba450474-b9ca-4877-b08d-d556464a6567",
   "metadata": {},
   "outputs": [
    {
     "data": {
      "text/plain": [
       "34"
      ]
     },
     "execution_count": 20,
     "metadata": {},
     "output_type": "execute_result"
    }
   ],
   "source": [
    "df.at[1,'Age']"
   ]
  },
  {
   "cell_type": "code",
   "execution_count": 21,
   "id": "cac6aaf4-9636-4f42-b6f3-62eccdd64c73",
   "metadata": {},
   "outputs": [
    {
     "data": {
      "text/plain": [
       "31"
      ]
     },
     "execution_count": 21,
     "metadata": {},
     "output_type": "execute_result"
    }
   ],
   "source": [
    "df.iat[2,1]"
   ]
  },
  {
   "cell_type": "code",
   "execution_count": 22,
   "id": "9b41d050-812e-428e-86f3-07a87dfbb940",
   "metadata": {},
   "outputs": [
    {
     "data": {
      "text/plain": [
       "'Nashik'"
      ]
     },
     "execution_count": 22,
     "metadata": {},
     "output_type": "execute_result"
    }
   ],
   "source": [
    "df.iat[2,2]    #second row and second column."
   ]
  },
  {
   "cell_type": "markdown",
   "id": "17bc79ed-0c21-4a7d-8fa1-5ba03eba6cc5",
   "metadata": {},
   "source": [
    "#### Data Manipulation with DataFrame:"
   ]
  },
  {
   "cell_type": "code",
   "execution_count": 23,
   "id": "1694817c-0b9a-4736-b205-a5e35f514f54",
   "metadata": {},
   "outputs": [
    {
     "data": {
      "text/html": [
       "<div>\n",
       "<style scoped>\n",
       "    .dataframe tbody tr th:only-of-type {\n",
       "        vertical-align: middle;\n",
       "    }\n",
       "\n",
       "    .dataframe tbody tr th {\n",
       "        vertical-align: top;\n",
       "    }\n",
       "\n",
       "    .dataframe thead th {\n",
       "        text-align: right;\n",
       "    }\n",
       "</style>\n",
       "<table border=\"1\" class=\"dataframe\">\n",
       "  <thead>\n",
       "    <tr style=\"text-align: right;\">\n",
       "      <th></th>\n",
       "      <th>Name</th>\n",
       "      <th>Age</th>\n",
       "      <th>City</th>\n",
       "    </tr>\n",
       "  </thead>\n",
       "  <tbody>\n",
       "    <tr>\n",
       "      <th>0</th>\n",
       "      <td>Ganesh</td>\n",
       "      <td>33</td>\n",
       "      <td>Bangalore</td>\n",
       "    </tr>\n",
       "    <tr>\n",
       "      <th>1</th>\n",
       "      <td>Ganaa</td>\n",
       "      <td>34</td>\n",
       "      <td>Pune</td>\n",
       "    </tr>\n",
       "    <tr>\n",
       "      <th>2</th>\n",
       "      <td>Dilip</td>\n",
       "      <td>31</td>\n",
       "      <td>Nashik</td>\n",
       "    </tr>\n",
       "    <tr>\n",
       "      <th>3</th>\n",
       "      <td>Amol</td>\n",
       "      <td>23</td>\n",
       "      <td>Niphad</td>\n",
       "    </tr>\n",
       "    <tr>\n",
       "      <th>4</th>\n",
       "      <td>Yogesh</td>\n",
       "      <td>33</td>\n",
       "      <td>Dindori</td>\n",
       "    </tr>\n",
       "  </tbody>\n",
       "</table>\n",
       "</div>"
      ],
      "text/plain": [
       "     Name  Age       City\n",
       "0  Ganesh   33  Bangalore\n",
       "1   Ganaa   34       Pune\n",
       "2   Dilip   31     Nashik\n",
       "3    Amol   23     Niphad\n",
       "4  Yogesh   33    Dindori"
      ]
     },
     "execution_count": 23,
     "metadata": {},
     "output_type": "execute_result"
    }
   ],
   "source": [
    "df"
   ]
  },
  {
   "cell_type": "markdown",
   "id": "f7ffbee0-b954-4f3c-920d-9b2ad171dacc",
   "metadata": {},
   "source": [
    "#### Adding a column:"
   ]
  },
  {
   "cell_type": "code",
   "execution_count": 24,
   "id": "f17a0d9e-fa8d-4860-9f26-ba594a1a969c",
   "metadata": {},
   "outputs": [],
   "source": [
    "df['Salary'] = [10000,20000,30000,40000,50000]"
   ]
  },
  {
   "cell_type": "code",
   "execution_count": 25,
   "id": "5a6ed447-e387-481a-bfa0-82bebd0a797b",
   "metadata": {},
   "outputs": [
    {
     "data": {
      "text/html": [
       "<div>\n",
       "<style scoped>\n",
       "    .dataframe tbody tr th:only-of-type {\n",
       "        vertical-align: middle;\n",
       "    }\n",
       "\n",
       "    .dataframe tbody tr th {\n",
       "        vertical-align: top;\n",
       "    }\n",
       "\n",
       "    .dataframe thead th {\n",
       "        text-align: right;\n",
       "    }\n",
       "</style>\n",
       "<table border=\"1\" class=\"dataframe\">\n",
       "  <thead>\n",
       "    <tr style=\"text-align: right;\">\n",
       "      <th></th>\n",
       "      <th>Name</th>\n",
       "      <th>Age</th>\n",
       "      <th>City</th>\n",
       "      <th>Salary</th>\n",
       "    </tr>\n",
       "  </thead>\n",
       "  <tbody>\n",
       "    <tr>\n",
       "      <th>0</th>\n",
       "      <td>Ganesh</td>\n",
       "      <td>33</td>\n",
       "      <td>Bangalore</td>\n",
       "      <td>10000</td>\n",
       "    </tr>\n",
       "    <tr>\n",
       "      <th>1</th>\n",
       "      <td>Ganaa</td>\n",
       "      <td>34</td>\n",
       "      <td>Pune</td>\n",
       "      <td>20000</td>\n",
       "    </tr>\n",
       "    <tr>\n",
       "      <th>2</th>\n",
       "      <td>Dilip</td>\n",
       "      <td>31</td>\n",
       "      <td>Nashik</td>\n",
       "      <td>30000</td>\n",
       "    </tr>\n",
       "    <tr>\n",
       "      <th>3</th>\n",
       "      <td>Amol</td>\n",
       "      <td>23</td>\n",
       "      <td>Niphad</td>\n",
       "      <td>40000</td>\n",
       "    </tr>\n",
       "    <tr>\n",
       "      <th>4</th>\n",
       "      <td>Yogesh</td>\n",
       "      <td>33</td>\n",
       "      <td>Dindori</td>\n",
       "      <td>50000</td>\n",
       "    </tr>\n",
       "  </tbody>\n",
       "</table>\n",
       "</div>"
      ],
      "text/plain": [
       "     Name  Age       City  Salary\n",
       "0  Ganesh   33  Bangalore   10000\n",
       "1   Ganaa   34       Pune   20000\n",
       "2   Dilip   31     Nashik   30000\n",
       "3    Amol   23     Niphad   40000\n",
       "4  Yogesh   33    Dindori   50000"
      ]
     },
     "execution_count": 25,
     "metadata": {},
     "output_type": "execute_result"
    }
   ],
   "source": [
    "df"
   ]
  },
  {
   "cell_type": "markdown",
   "id": "104292f3-dc02-4192-9e21-e460088e1fa7",
   "metadata": {},
   "source": [
    "#### Remove a column:"
   ]
  },
  {
   "cell_type": "code",
   "execution_count": 26,
   "id": "811dee8f-933b-437e-84da-90803ec0730f",
   "metadata": {},
   "outputs": [],
   "source": [
    "df.drop('Salary',axis=1,inplace=True)    #inplace does the permanent changes."
   ]
  },
  {
   "cell_type": "code",
   "execution_count": 27,
   "id": "1ee96fd1-2067-4e2c-9d19-7f2ec2d15827",
   "metadata": {},
   "outputs": [
    {
     "data": {
      "text/html": [
       "<div>\n",
       "<style scoped>\n",
       "    .dataframe tbody tr th:only-of-type {\n",
       "        vertical-align: middle;\n",
       "    }\n",
       "\n",
       "    .dataframe tbody tr th {\n",
       "        vertical-align: top;\n",
       "    }\n",
       "\n",
       "    .dataframe thead th {\n",
       "        text-align: right;\n",
       "    }\n",
       "</style>\n",
       "<table border=\"1\" class=\"dataframe\">\n",
       "  <thead>\n",
       "    <tr style=\"text-align: right;\">\n",
       "      <th></th>\n",
       "      <th>Name</th>\n",
       "      <th>Age</th>\n",
       "      <th>City</th>\n",
       "    </tr>\n",
       "  </thead>\n",
       "  <tbody>\n",
       "    <tr>\n",
       "      <th>0</th>\n",
       "      <td>Ganesh</td>\n",
       "      <td>33</td>\n",
       "      <td>Bangalore</td>\n",
       "    </tr>\n",
       "    <tr>\n",
       "      <th>1</th>\n",
       "      <td>Ganaa</td>\n",
       "      <td>34</td>\n",
       "      <td>Pune</td>\n",
       "    </tr>\n",
       "    <tr>\n",
       "      <th>2</th>\n",
       "      <td>Dilip</td>\n",
       "      <td>31</td>\n",
       "      <td>Nashik</td>\n",
       "    </tr>\n",
       "    <tr>\n",
       "      <th>3</th>\n",
       "      <td>Amol</td>\n",
       "      <td>23</td>\n",
       "      <td>Niphad</td>\n",
       "    </tr>\n",
       "    <tr>\n",
       "      <th>4</th>\n",
       "      <td>Yogesh</td>\n",
       "      <td>33</td>\n",
       "      <td>Dindori</td>\n",
       "    </tr>\n",
       "  </tbody>\n",
       "</table>\n",
       "</div>"
      ],
      "text/plain": [
       "     Name  Age       City\n",
       "0  Ganesh   33  Bangalore\n",
       "1   Ganaa   34       Pune\n",
       "2   Dilip   31     Nashik\n",
       "3    Amol   23     Niphad\n",
       "4  Yogesh   33    Dindori"
      ]
     },
     "execution_count": 27,
     "metadata": {},
     "output_type": "execute_result"
    }
   ],
   "source": [
    "df"
   ]
  },
  {
   "cell_type": "code",
   "execution_count": 30,
   "id": "14be7f4a-bd34-4476-8df1-ebcfcb093fdb",
   "metadata": {},
   "outputs": [],
   "source": [
    "df['Age'] = df['Age']+1     # Age is increased by 1"
   ]
  },
  {
   "cell_type": "code",
   "execution_count": 31,
   "id": "3cdc0567-4893-40d9-bbf1-fc62546fa281",
   "metadata": {},
   "outputs": [
    {
     "data": {
      "text/html": [
       "<div>\n",
       "<style scoped>\n",
       "    .dataframe tbody tr th:only-of-type {\n",
       "        vertical-align: middle;\n",
       "    }\n",
       "\n",
       "    .dataframe tbody tr th {\n",
       "        vertical-align: top;\n",
       "    }\n",
       "\n",
       "    .dataframe thead th {\n",
       "        text-align: right;\n",
       "    }\n",
       "</style>\n",
       "<table border=\"1\" class=\"dataframe\">\n",
       "  <thead>\n",
       "    <tr style=\"text-align: right;\">\n",
       "      <th></th>\n",
       "      <th>Name</th>\n",
       "      <th>Age</th>\n",
       "      <th>City</th>\n",
       "    </tr>\n",
       "  </thead>\n",
       "  <tbody>\n",
       "    <tr>\n",
       "      <th>0</th>\n",
       "      <td>Ganesh</td>\n",
       "      <td>35</td>\n",
       "      <td>Bangalore</td>\n",
       "    </tr>\n",
       "    <tr>\n",
       "      <th>1</th>\n",
       "      <td>Ganaa</td>\n",
       "      <td>36</td>\n",
       "      <td>Pune</td>\n",
       "    </tr>\n",
       "    <tr>\n",
       "      <th>2</th>\n",
       "      <td>Dilip</td>\n",
       "      <td>33</td>\n",
       "      <td>Nashik</td>\n",
       "    </tr>\n",
       "    <tr>\n",
       "      <th>3</th>\n",
       "      <td>Amol</td>\n",
       "      <td>25</td>\n",
       "      <td>Niphad</td>\n",
       "    </tr>\n",
       "    <tr>\n",
       "      <th>4</th>\n",
       "      <td>Yogesh</td>\n",
       "      <td>35</td>\n",
       "      <td>Dindori</td>\n",
       "    </tr>\n",
       "  </tbody>\n",
       "</table>\n",
       "</div>"
      ],
      "text/plain": [
       "     Name  Age       City\n",
       "0  Ganesh   35  Bangalore\n",
       "1   Ganaa   36       Pune\n",
       "2   Dilip   33     Nashik\n",
       "3    Amol   25     Niphad\n",
       "4  Yogesh   35    Dindori"
      ]
     },
     "execution_count": 31,
     "metadata": {},
     "output_type": "execute_result"
    }
   ],
   "source": [
    "df"
   ]
  },
  {
   "cell_type": "markdown",
   "id": "44502c3b-bc52-422c-a6fe-7b9857afafe2",
   "metadata": {},
   "source": [
    "#### drop data row-wise"
   ]
  },
  {
   "cell_type": "code",
   "execution_count": 32,
   "id": "a5d5ec72-c898-444b-b5bd-6f9b8ce6b0de",
   "metadata": {},
   "outputs": [],
   "source": [
    "df.drop(0,inplace=True)"
   ]
  },
  {
   "cell_type": "code",
   "execution_count": 34,
   "id": "dfe147bf-9a8b-41cd-a93d-27266745ec64",
   "metadata": {},
   "outputs": [
    {
     "data": {
      "text/html": [
       "<div>\n",
       "<style scoped>\n",
       "    .dataframe tbody tr th:only-of-type {\n",
       "        vertical-align: middle;\n",
       "    }\n",
       "\n",
       "    .dataframe tbody tr th {\n",
       "        vertical-align: top;\n",
       "    }\n",
       "\n",
       "    .dataframe thead th {\n",
       "        text-align: right;\n",
       "    }\n",
       "</style>\n",
       "<table border=\"1\" class=\"dataframe\">\n",
       "  <thead>\n",
       "    <tr style=\"text-align: right;\">\n",
       "      <th></th>\n",
       "      <th>Name</th>\n",
       "      <th>Age</th>\n",
       "      <th>City</th>\n",
       "    </tr>\n",
       "  </thead>\n",
       "  <tbody>\n",
       "    <tr>\n",
       "      <th>1</th>\n",
       "      <td>Ganaa</td>\n",
       "      <td>36</td>\n",
       "      <td>Pune</td>\n",
       "    </tr>\n",
       "    <tr>\n",
       "      <th>2</th>\n",
       "      <td>Dilip</td>\n",
       "      <td>33</td>\n",
       "      <td>Nashik</td>\n",
       "    </tr>\n",
       "    <tr>\n",
       "      <th>3</th>\n",
       "      <td>Amol</td>\n",
       "      <td>25</td>\n",
       "      <td>Niphad</td>\n",
       "    </tr>\n",
       "    <tr>\n",
       "      <th>4</th>\n",
       "      <td>Yogesh</td>\n",
       "      <td>35</td>\n",
       "      <td>Dindori</td>\n",
       "    </tr>\n",
       "  </tbody>\n",
       "</table>\n",
       "</div>"
      ],
      "text/plain": [
       "     Name  Age     City\n",
       "1   Ganaa   36     Pune\n",
       "2   Dilip   33   Nashik\n",
       "3    Amol   25   Niphad\n",
       "4  Yogesh   35  Dindori"
      ]
     },
     "execution_count": 34,
     "metadata": {},
     "output_type": "execute_result"
    }
   ],
   "source": [
    "df     #data at 0th location is removed."
   ]
  },
  {
   "cell_type": "code",
   "execution_count": 35,
   "id": "30d198dc-c6f3-47be-8d5b-71e241b14ae2",
   "metadata": {},
   "outputs": [
    {
     "data": {
      "text/html": [
       "<div>\n",
       "<style scoped>\n",
       "    .dataframe tbody tr th:only-of-type {\n",
       "        vertical-align: middle;\n",
       "    }\n",
       "\n",
       "    .dataframe tbody tr th {\n",
       "        vertical-align: top;\n",
       "    }\n",
       "\n",
       "    .dataframe thead th {\n",
       "        text-align: right;\n",
       "    }\n",
       "</style>\n",
       "<table border=\"1\" class=\"dataframe\">\n",
       "  <thead>\n",
       "    <tr style=\"text-align: right;\">\n",
       "      <th></th>\n",
       "      <th>Order ID</th>\n",
       "      <th>Amount</th>\n",
       "      <th>Profit</th>\n",
       "      <th>Quantity</th>\n",
       "      <th>Category</th>\n",
       "      <th>Sub-Category</th>\n",
       "      <th>PaymentMode</th>\n",
       "    </tr>\n",
       "  </thead>\n",
       "  <tbody>\n",
       "    <tr>\n",
       "      <th>0</th>\n",
       "      <td>B-25681</td>\n",
       "      <td>1096</td>\n",
       "      <td>658</td>\n",
       "      <td>7</td>\n",
       "      <td>Electronics</td>\n",
       "      <td>Electronic Games</td>\n",
       "      <td>COD</td>\n",
       "    </tr>\n",
       "    <tr>\n",
       "      <th>1</th>\n",
       "      <td>B-26055</td>\n",
       "      <td>5729</td>\n",
       "      <td>64</td>\n",
       "      <td>14</td>\n",
       "      <td>Furniture</td>\n",
       "      <td>Chairs</td>\n",
       "      <td>EMI</td>\n",
       "    </tr>\n",
       "    <tr>\n",
       "      <th>2</th>\n",
       "      <td>B-25955</td>\n",
       "      <td>2927</td>\n",
       "      <td>146</td>\n",
       "      <td>8</td>\n",
       "      <td>Furniture</td>\n",
       "      <td>Bookcases</td>\n",
       "      <td>EMI</td>\n",
       "    </tr>\n",
       "    <tr>\n",
       "      <th>3</th>\n",
       "      <td>B-26093</td>\n",
       "      <td>2847</td>\n",
       "      <td>712</td>\n",
       "      <td>8</td>\n",
       "      <td>Electronics</td>\n",
       "      <td>Printers</td>\n",
       "      <td>Credit Card</td>\n",
       "    </tr>\n",
       "    <tr>\n",
       "      <th>4</th>\n",
       "      <td>B-25602</td>\n",
       "      <td>2617</td>\n",
       "      <td>1151</td>\n",
       "      <td>4</td>\n",
       "      <td>Electronics</td>\n",
       "      <td>Phones</td>\n",
       "      <td>Credit Card</td>\n",
       "    </tr>\n",
       "  </tbody>\n",
       "</table>\n",
       "</div>"
      ],
      "text/plain": [
       "  Order ID  Amount  Profit  Quantity     Category      Sub-Category  \\\n",
       "0  B-25681    1096     658         7  Electronics  Electronic Games   \n",
       "1  B-26055    5729      64        14    Furniture            Chairs   \n",
       "2  B-25955    2927     146         8    Furniture         Bookcases   \n",
       "3  B-26093    2847     712         8  Electronics          Printers   \n",
       "4  B-25602    2617    1151         4  Electronics            Phones   \n",
       "\n",
       "   PaymentMode  \n",
       "0          COD  \n",
       "1          EMI  \n",
       "2          EMI  \n",
       "3  Credit Card  \n",
       "4  Credit Card  "
      ]
     },
     "execution_count": 35,
     "metadata": {},
     "output_type": "execute_result"
    }
   ],
   "source": [
    "df1 = pd.read_csv('Sales Details.csv')\n",
    "df1.head()    #top 10 records"
   ]
  },
  {
   "cell_type": "markdown",
   "id": "9b4c04b2-65cf-498a-a98a-ac3b29f5f0ac",
   "metadata": {},
   "source": [
    "#### Display data type of each column:"
   ]
  },
  {
   "cell_type": "code",
   "execution_count": 37,
   "id": "f3ed1103-02b2-4ce6-ab1f-95390df8aa05",
   "metadata": {},
   "outputs": [
    {
     "name": "stdout",
     "output_type": "stream",
     "text": [
      "Data Types: Order ID        object\n",
      "Amount           int64\n",
      "Profit           int64\n",
      "Quantity         int64\n",
      "Category        object\n",
      "Sub-Category    object\n",
      "PaymentMode     object\n",
      "dtype: object\n"
     ]
    }
   ],
   "source": [
    "print(f'Data Types: {df1.dtypes}')"
   ]
  },
  {
   "cell_type": "markdown",
   "id": "27db3bc9-729a-4ac0-9911-02d5972f9c45",
   "metadata": {},
   "source": [
    "#### Describe the Dataframe:"
   ]
  },
  {
   "cell_type": "code",
   "execution_count": 45,
   "id": "f6634bdf-e881-4aea-a1fb-7442ee9581a6",
   "metadata": {},
   "outputs": [
    {
     "name": "stdout",
     "output_type": "stream",
     "text": [
      "---- Statistical Summery:----\n"
     ]
    },
    {
     "data": {
      "text/html": [
       "<div>\n",
       "<style scoped>\n",
       "    .dataframe tbody tr th:only-of-type {\n",
       "        vertical-align: middle;\n",
       "    }\n",
       "\n",
       "    .dataframe tbody tr th {\n",
       "        vertical-align: top;\n",
       "    }\n",
       "\n",
       "    .dataframe thead th {\n",
       "        text-align: right;\n",
       "    }\n",
       "</style>\n",
       "<table border=\"1\" class=\"dataframe\">\n",
       "  <thead>\n",
       "    <tr style=\"text-align: right;\">\n",
       "      <th></th>\n",
       "      <th>Amount</th>\n",
       "      <th>Profit</th>\n",
       "      <th>Quantity</th>\n",
       "    </tr>\n",
       "  </thead>\n",
       "  <tbody>\n",
       "    <tr>\n",
       "      <th>count</th>\n",
       "      <td>1500.000000</td>\n",
       "      <td>1500.00000</td>\n",
       "      <td>1500.000000</td>\n",
       "    </tr>\n",
       "    <tr>\n",
       "      <th>mean</th>\n",
       "      <td>291.847333</td>\n",
       "      <td>24.64200</td>\n",
       "      <td>3.743333</td>\n",
       "    </tr>\n",
       "    <tr>\n",
       "      <th>std</th>\n",
       "      <td>461.924620</td>\n",
       "      <td>168.55881</td>\n",
       "      <td>2.184942</td>\n",
       "    </tr>\n",
       "    <tr>\n",
       "      <th>min</th>\n",
       "      <td>4.000000</td>\n",
       "      <td>-1981.00000</td>\n",
       "      <td>1.000000</td>\n",
       "    </tr>\n",
       "    <tr>\n",
       "      <th>25%</th>\n",
       "      <td>47.750000</td>\n",
       "      <td>-12.00000</td>\n",
       "      <td>2.000000</td>\n",
       "    </tr>\n",
       "    <tr>\n",
       "      <th>50%</th>\n",
       "      <td>122.000000</td>\n",
       "      <td>8.00000</td>\n",
       "      <td>3.000000</td>\n",
       "    </tr>\n",
       "    <tr>\n",
       "      <th>75%</th>\n",
       "      <td>326.250000</td>\n",
       "      <td>38.00000</td>\n",
       "      <td>5.000000</td>\n",
       "    </tr>\n",
       "    <tr>\n",
       "      <th>max</th>\n",
       "      <td>5729.000000</td>\n",
       "      <td>1864.00000</td>\n",
       "      <td>14.000000</td>\n",
       "    </tr>\n",
       "  </tbody>\n",
       "</table>\n",
       "</div>"
      ],
      "text/plain": [
       "            Amount      Profit     Quantity\n",
       "count  1500.000000  1500.00000  1500.000000\n",
       "mean    291.847333    24.64200     3.743333\n",
       "std     461.924620   168.55881     2.184942\n",
       "min       4.000000 -1981.00000     1.000000\n",
       "25%      47.750000   -12.00000     2.000000\n",
       "50%     122.000000     8.00000     3.000000\n",
       "75%     326.250000    38.00000     5.000000\n",
       "max    5729.000000  1864.00000    14.000000"
      ]
     },
     "execution_count": 45,
     "metadata": {},
     "output_type": "execute_result"
    }
   ],
   "source": [
    "print(f'---- Statistical Summery:----')\n",
    "df1.describe()"
   ]
  },
  {
   "cell_type": "code",
   "execution_count": null,
   "id": "f8ce278b-349f-4395-9dd5-73011354f217",
   "metadata": {},
   "outputs": [],
   "source": []
  }
 ],
 "metadata": {
  "kernelspec": {
   "display_name": "Python 3 (ipykernel)",
   "language": "python",
   "name": "python3"
  },
  "language_info": {
   "codemirror_mode": {
    "name": "ipython",
    "version": 3
   },
   "file_extension": ".py",
   "mimetype": "text/x-python",
   "name": "python",
   "nbconvert_exporter": "python",
   "pygments_lexer": "ipython3",
   "version": "3.12.7"
  }
 },
 "nbformat": 4,
 "nbformat_minor": 5
}
