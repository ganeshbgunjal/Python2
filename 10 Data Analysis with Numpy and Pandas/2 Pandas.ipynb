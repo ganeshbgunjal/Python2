{
 "cells": [
  {
   "cell_type": "markdown",
   "id": "a5f68fc8-6e38-404f-a7fc-5e4439998747",
   "metadata": {},
   "source": [
    "### Pandas: \n",
    "its a powerful data manipulation library widely used for data analysis and data cleaning. it provides two primary data structures Series and DataFrame. A series is a one dimenssional array while DataFrame is a two dimensional. size mutable and potentially heterogeneous tablular data structure with labelled axes."
   ]
  },
  {
   "cell_type": "code",
   "execution_count": null,
   "id": "d2902d19-6527-44f0-9985-2993c4fc5a56",
   "metadata": {},
   "outputs": [],
   "source": []
  }
 ],
 "metadata": {
  "kernelspec": {
   "display_name": "Python 3 (ipykernel)",
   "language": "python",
   "name": "python3"
  },
  "language_info": {
   "codemirror_mode": {
    "name": "ipython",
    "version": 3
   },
   "file_extension": ".py",
   "mimetype": "text/x-python",
   "name": "python",
   "nbconvert_exporter": "python",
   "pygments_lexer": "ipython3",
   "version": "3.12.7"
  }
 },
 "nbformat": 4,
 "nbformat_minor": 5
}
