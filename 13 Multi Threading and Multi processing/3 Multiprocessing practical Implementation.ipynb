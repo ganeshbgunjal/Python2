{
 "cells": [
  {
   "cell_type": "markdown",
   "id": "c17a94a5-6e51-4784-9bd0-03ad14a8908d",
   "metadata": {},
   "source": [
    "### Multiprocessing Practical Implementation:"
   ]
  },
  {
   "cell_type": "markdown",
   "id": "616c8a81-fa35-4ec6-b31d-c47b8fd13ece",
   "metadata": {},
   "source": [
    "Multiprocessing allows you to run in parellel."
   ]
  },
  {
   "cell_type": "markdown",
   "id": "098d24eb-e7f3-4f64-8f35-3afba9d13e21",
   "metadata": {},
   "source": [
    "1. When to use them: \n",
    "    1. **CPU bound tasks:** Tasks that are heavy on CPU usage(mathmatical computation, data processing)\n",
    "    2. **Parellel execution:** Multiple core of CPU executed at the same time.\n"
   ]
  },
  {
   "cell_type": "code",
   "execution_count": 1,
   "id": "f5b8421d-5645-4bf8-9f47-2b996b7b1685",
   "metadata": {},
   "outputs": [],
   "source": [
    "import multiprocessing\n",
    "import time"
   ]
  },
  {
   "cell_type": "code",
   "execution_count": 11,
   "id": "d6719f91-8c9c-4c7d-8938-857fb5a00784",
   "metadata": {},
   "outputs": [
    {
     "name": "stdout",
     "output_type": "stream",
     "text": [
      "Finished time is: 0.31876444816589355 sec\n"
     ]
    }
   ],
   "source": [
    "def square_numbers():\n",
    "    for i in range(5):\n",
    "        time.sleep(1)\n",
    "        print(f'Square: {i*i}')\n",
    "\n",
    "def cube_numbers():\n",
    "    for i in range(5):\n",
    "        time.sleep(1.5)\n",
    "        print(f'Cube: {i*i*i}')\n",
    "\n",
    "if __name__ == '__main__':\n",
    "\n",
    "    #### Create 2 processes:\n",
    "    p1 = multiprocessing.Process(target=square_numbers)\n",
    "    p2 = multiprocessing.Process(target=cube_numbers)\n",
    "    \n",
    "    #### Start the process\n",
    "    t = time.time()\n",
    "    \n",
    "    \n",
    "    p1.start()\n",
    "    p2.start()\n",
    "    \n",
    "    #### we will wait for process finish\n",
    "    p1.join()\n",
    "    p2.join()\n",
    "    \n",
    "    finished_time = time.time()-t\n",
    "    print(f'Finished time is: {finished_time} sec')\n",
    "\n"
   ]
  },
  {
   "cell_type": "markdown",
   "id": "a542d828-aba1-4566-9fe3-29bba950c869",
   "metadata": {},
   "source": []
  },
  {
   "cell_type": "code",
   "execution_count": 7,
   "id": "aea37086-3da4-4a23-acc3-1c0db9df8dda",
   "metadata": {},
   "outputs": [],
   "source": []
  },
  {
   "cell_type": "markdown",
   "id": "02c30c6b-b5dd-456f-9ba7-b09375e5cbb0",
   "metadata": {},
   "source": []
  },
  {
   "cell_type": "code",
   "execution_count": null,
   "id": "c68772fb-272c-4a64-b8bf-a8595a4a2c1c",
   "metadata": {},
   "outputs": [],
   "source": []
  },
  {
   "cell_type": "markdown",
   "id": "5f516081-3070-4ed0-8dcb-5f18f46615b1",
   "metadata": {},
   "source": []
  },
  {
   "cell_type": "code",
   "execution_count": null,
   "id": "c979174f-c3cd-4a98-aef4-a25ce88caa93",
   "metadata": {},
   "outputs": [],
   "source": []
  }
 ],
 "metadata": {
  "kernelspec": {
   "display_name": "Python 3 (ipykernel)",
   "language": "python",
   "name": "python3"
  },
  "language_info": {
   "codemirror_mode": {
    "name": "ipython",
    "version": 3
   },
   "file_extension": ".py",
   "mimetype": "text/x-python",
   "name": "python",
   "nbconvert_exporter": "python",
   "pygments_lexer": "ipython3",
   "version": "3.12.7"
  }
 },
 "nbformat": 4,
 "nbformat_minor": 5
}
