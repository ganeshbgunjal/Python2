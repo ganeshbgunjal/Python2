{
 "cells": [
  {
   "cell_type": "code",
   "execution_count": null,
   "id": "6d0e9f12-fc53-4656-832b-de791385d00c",
   "metadata": {},
   "outputs": [],
   "source": []
  }
 ],
 "metadata": {
  "kernelspec": {
   "display_name": "",
   "name": ""
  },
  "language_info": {
   "name": ""
  }
 },
 "nbformat": 4,
 "nbformat_minor": 5
}
