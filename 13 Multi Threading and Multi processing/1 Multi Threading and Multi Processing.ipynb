{
 "cells": [
  {
   "cell_type": "markdown",
   "id": "57c1f1a6-9494-420a-b08e-ac39fc4e8770",
   "metadata": {},
   "source": [
    "### Multi Threading and Multi Processing:"
   ]
  },
  {
   "cell_type": "markdown",
   "id": "4548328d-3a46-4dc5-abc7-34ca52308bca",
   "metadata": {},
   "source": [
    "There are 3 important things in this. \n",
    "*    1. Program:\n",
    "*    2. Process:\n",
    "*    3. Thread:"
   ]
  },
  {
   "cell_type": "markdown",
   "id": "37865240-dd81-4816-a5a9-15b65b4e7f5f",
   "metadata": {},
   "source": [
    "#### 1. Program: \n",
    "Program is a set of instruction written in specific language. eg: Python, c++, C sharp  \n",
    "Google chrome, word, powerpoint etc."
   ]
  },
  {
   "cell_type": "markdown",
   "id": "d07f9843-d2a8-420b-ae9d-1b528b1414d8",
   "metadata": {},
   "source": [
    "#### 2. Process:\n",
    "A process is a instance of a program that is being executed. If we double click on google chrome, a process will started. this is \"Process.\""
   ]
  },
  {
   "cell_type": "code",
   "execution_count": null,
   "id": "f8f349ed-72d8-4c37-8c2c-8311b9d06f14",
   "metadata": {},
   "outputs": [],
   "source": []
  }
 ],
 "metadata": {
  "kernelspec": {
   "display_name": "Python 3 (ipykernel)",
   "language": "python",
   "name": "python3"
  },
  "language_info": {
   "codemirror_mode": {
    "name": "ipython",
    "version": 3
   },
   "file_extension": ".py",
   "mimetype": "text/x-python",
   "name": "python",
   "nbconvert_exporter": "python",
   "pygments_lexer": "ipython3",
   "version": "3.12.7"
  }
 },
 "nbformat": 4,
 "nbformat_minor": 5
}
