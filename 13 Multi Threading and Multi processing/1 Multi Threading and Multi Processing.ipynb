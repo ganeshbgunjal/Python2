{
 "cells": [
  {
   "cell_type": "markdown",
   "id": "57c1f1a6-9494-420a-b08e-ac39fc4e8770",
   "metadata": {},
   "source": [
    "### Multi Threading and Multi Processing:"
   ]
  },
  {
   "cell_type": "markdown",
   "id": "4548328d-3a46-4dc5-abc7-34ca52308bca",
   "metadata": {},
   "source": [
    "There are 3 important things in this. \n",
    "*    1. Program:\n",
    "*    2. Process:\n",
    "*    3. Thread:"
   ]
  },
  {
   "cell_type": "markdown",
   "id": "37865240-dd81-4816-a5a9-15b65b4e7f5f",
   "metadata": {},
   "source": [
    "#### 1. Program: \n",
    "Program is a set of instruction written in specific language. eg: Python, c++, C sharp"
   ]
  },
  {
   "cell_type": "code",
   "execution_count": null,
   "id": "dc83ac53-5659-42b2-9422-c51e85c20b6c",
   "metadata": {},
   "outputs": [],
   "source": []
  }
 ],
 "metadata": {
  "kernelspec": {
   "display_name": "Python 3 (ipykernel)",
   "language": "python",
   "name": "python3"
  },
  "language_info": {
   "codemirror_mode": {
    "name": "ipython",
    "version": 3
   },
   "file_extension": ".py",
   "mimetype": "text/x-python",
   "name": "python",
   "nbconvert_exporter": "python",
   "pygments_lexer": "ipython3",
   "version": "3.12.7"
  }
 },
 "nbformat": 4,
 "nbformat_minor": 5
}
