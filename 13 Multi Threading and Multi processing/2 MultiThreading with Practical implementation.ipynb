{
 "cells": [
  {
   "cell_type": "markdown",
   "id": "11c640d0-ecc8-46b9-84ae-422599e17df5",
   "metadata": {},
   "source": [
    "### Multithreading:"
   ]
  },
  {
   "cell_type": "markdown",
   "id": "ec71898e-06b0-47c6-963a-87af4a7ff808",
   "metadata": {},
   "source": [
    "1. When to use Multithreading: "
   ]
  },
  {
   "cell_type": "markdown",
   "id": "81154a17-59d5-450c-b736-deb032b87bee",
   "metadata": {},
   "source": [
    "2. I/O bound tasks: Tasks that takes more time waiting for I/O operations.(e.g. File Operations, network requests)"
   ]
  },
  {
   "cell_type": "markdown",
   "id": "ff7cee95-a643-41fd-bbd0-54d916cde447",
   "metadata": {},
   "source": [
    "3. Concurrent Execution: when you want the throughput of your application by performing multiple operations concurrently."
   ]
  },
  {
   "cell_type": "code",
   "execution_count": null,
   "id": "b9e7f944-d598-43ea-8f0f-7a6e77be8044",
   "metadata": {},
   "outputs": [],
   "source": []
  }
 ],
 "metadata": {
  "kernelspec": {
   "display_name": "Python 3 (ipykernel)",
   "language": "python",
   "name": "python3"
  },
  "language_info": {
   "codemirror_mode": {
    "name": "ipython",
    "version": 3
   },
   "file_extension": ".py",
   "mimetype": "text/x-python",
   "name": "python",
   "nbconvert_exporter": "python",
   "pygments_lexer": "ipython3",
   "version": "3.12.7"
  }
 },
 "nbformat": 4,
 "nbformat_minor": 5
}
