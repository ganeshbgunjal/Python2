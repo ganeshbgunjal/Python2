{
 "cells": [
  {
   "cell_type": "markdown",
   "id": "11c640d0-ecc8-46b9-84ae-422599e17df5",
   "metadata": {},
   "source": [
    "### Multithreading:"
   ]
  },
  {
   "cell_type": "markdown",
   "id": "ec71898e-06b0-47c6-963a-87af4a7ff808",
   "metadata": {},
   "source": [
    "1. When to use Multithreading: "
   ]
  },
  {
   "cell_type": "markdown",
   "id": "81154a17-59d5-450c-b736-deb032b87bee",
   "metadata": {},
   "source": [
    "2. I/O bound tasks: Tasks that takes more time waiting for I/O operations.(e.g. File Operations, network requests)"
   ]
  },
  {
   "cell_type": "markdown",
   "id": "ff7cee95-a643-41fd-bbd0-54d916cde447",
   "metadata": {},
   "source": [
    "3. Concurrent Execution: when you want the throughput of your application by performing multiple operations concurrently."
   ]
  },
  {
   "cell_type": "code",
   "execution_count": 2,
   "id": "b9e7f944-d598-43ea-8f0f-7a6e77be8044",
   "metadata": {},
   "outputs": [],
   "source": [
    "import threading\n",
    "import time"
   ]
  },
  {
   "cell_type": "code",
   "execution_count": 11,
   "id": "58fe4d37-da15-4f84-8092-d5d1f62086a1",
   "metadata": {},
   "outputs": [
    {
     "name": "stdout",
     "output_type": "stream",
     "text": [
      "Number: 0\n",
      "Number: 1\n",
      "Number: 2\n",
      "Number: 3\n",
      "Number: 4\n",
      "Letter: a\n",
      "Letter: b\n",
      "Letter: c\n",
      "Letter: d\n",
      "Letter: e\n",
      "Letter: g\n",
      "Letter: t\n",
      "Finished time in :24.019081354141235 seconds\n"
     ]
    }
   ],
   "source": [
    "def print_numbers():\n",
    "    for i in range(5):\n",
    "        time.sleep(2)\n",
    "        print(f'Number: {i}')\n",
    "\n",
    "def print_letters():\n",
    "    for letter in 'abcdegt':\n",
    "        time.sleep(2)\n",
    "        print(f'Letter: {letter}')\n",
    "\n",
    "t = time.time()   #start time\n",
    "\n",
    "print_numbers()\n",
    "print_letters()\n",
    "\n",
    "finished_time = time.time()-t    #End time\n",
    "print(f'Finished time in :{finished_time} seconds')"
   ]
  }
 ],
 "metadata": {
  "kernelspec": {
   "display_name": "Python 3 (ipykernel)",
   "language": "python",
   "name": "python3"
  },
  "language_info": {
   "codemirror_mode": {
    "name": "ipython",
    "version": 3
   },
   "file_extension": ".py",
   "mimetype": "text/x-python",
   "name": "python",
   "nbconvert_exporter": "python",
   "pygments_lexer": "ipython3",
   "version": "3.12.7"
  }
 },
 "nbformat": 4,
 "nbformat_minor": 5
}
