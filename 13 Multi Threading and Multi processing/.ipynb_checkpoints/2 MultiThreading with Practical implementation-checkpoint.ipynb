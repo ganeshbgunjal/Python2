{
 "cells": [
  {
   "cell_type": "markdown",
   "id": "11c640d0-ecc8-46b9-84ae-422599e17df5",
   "metadata": {},
   "source": [
    "### Multithreading:"
   ]
  },
  {
   "cell_type": "markdown",
   "id": "ec71898e-06b0-47c6-963a-87af4a7ff808",
   "metadata": {},
   "source": [
    "1. When to use Multithreading: "
   ]
  },
  {
   "cell_type": "markdown",
   "id": "81154a17-59d5-450c-b736-deb032b87bee",
   "metadata": {},
   "source": [
    "2. I/O bound tasks: Tasks that takes more time waiting for I/O operations.(e.g. File Operations, network requests)"
   ]
  },
  {
   "cell_type": "markdown",
   "id": "ff7cee95-a643-41fd-bbd0-54d916cde447",
   "metadata": {},
   "source": [
    "3. Concurrent Execution: when you want the throughput of your application by performing multiple operations concurrently."
   ]
  },
  {
   "cell_type": "code",
   "execution_count": 2,
   "id": "b9e7f944-d598-43ea-8f0f-7a6e77be8044",
   "metadata": {},
   "outputs": [],
   "source": [
    "import threading\n",
    "import time"
   ]
  },
  {
   "cell_type": "code",
   "execution_count": 13,
   "id": "3b4b714a-fd6a-46c8-b093-a6bf8cd203f9",
   "metadata": {},
   "outputs": [
    {
     "name": "stdout",
     "output_type": "stream",
     "text": [
      "Number: 0\n",
      "Number: 1\n",
      "Number: 2\n",
      "Number: 3\n",
      "Number: 4\n",
      "Letter: a\n",
      "Letter: b\n",
      "Letter: c\n",
      "Letter: d\n",
      "Letter: e\n",
      "Letter: g\n",
      "Letter: t\n",
      "Finished in 0.0015823841094970703 seconds\n"
     ]
    }
   ],
   "source": [
    "import time\n",
    "\n",
    "def print_numbers():\n",
    "    for i in range(5):\n",
    "        print(f'Number: {i}')\n",
    "\n",
    "def print_letters():\n",
    "    for letter in 'abcdegt':\n",
    "        print(f'Letter: {letter}')\n",
    "\n",
    "t = time.time()  # Start timer\n",
    "\n",
    "print_numbers()\n",
    "print_letters()\n",
    "\n",
    "finished_time = time.time() - t  # End timer after functions run\n",
    "\n",
    "print(f\"Finished in {finished_time} seconds\")\n"
   ]
  },
  {
   "cell_type": "code",
   "execution_count": 14,
   "id": "58fe4d37-da15-4f84-8092-d5d1f62086a1",
   "metadata": {},
   "outputs": [
    {
     "name": "stdout",
     "output_type": "stream",
     "text": [
      "Number: 0Letter: a\n",
      "\n",
      "Letter: bNumber: 1\n",
      "\n",
      "Number: 2Letter: c\n",
      "\n",
      "Letter: d\n",
      "Number: 3\n",
      "Letter: e\n",
      "Number: 4\n",
      "Letter: g\n",
      "Letter: t\n",
      "Finished time in :14.019478797912598 seconds\n"
     ]
    }
   ],
   "source": [
    "def print_numbers():\n",
    "    for i in range(5):\n",
    "        time.sleep(2)\n",
    "        print(f'Number: {i}')\n",
    "\n",
    "def print_letters():\n",
    "    for letter in 'abcdegt':\n",
    "        time.sleep(2)\n",
    "        print(f'Letter: {letter}')\n",
    "\n",
    "\n",
    "t1 = threading.Thread(target= print_numbers)\n",
    "t2 = threading.Thread(target=print_letters)\n",
    "\n",
    "t = time.time()   #start time\n",
    "\n",
    "t1.start()\n",
    "t2.start()\n",
    "\n",
    "#waits for the thred to complete.\n",
    "t1.join()\n",
    "t2.join()\n",
    "\n",
    "finished_time = time.time()-t    #End time\n",
    "print(f'Finished time in :{finished_time} seconds')"
   ]
  },
  {
   "cell_type": "markdown",
   "id": "8c1aecb4-2a92-4798-862a-279ba076b0e8",
   "metadata": {},
   "source": [
    "#### See this above 2 code. see their time of execution. in 2nd code, both threads executed concurrently. when 1 thread is busy, we keep executing another thread."
   ]
  },
  {
   "cell_type": "code",
   "execution_count": null,
   "id": "c8d6403f-463c-47ba-bd2e-6cbdbd15c82d",
   "metadata": {},
   "outputs": [],
   "source": []
  }
 ],
 "metadata": {
  "kernelspec": {
   "display_name": "Python 3 (ipykernel)",
   "language": "python",
   "name": "python3"
  },
  "language_info": {
   "codemirror_mode": {
    "name": "ipython",
    "version": 3
   },
   "file_extension": ".py",
   "mimetype": "text/x-python",
   "name": "python",
   "nbconvert_exporter": "python",
   "pygments_lexer": "ipython3",
   "version": "3.12.7"
  }
 },
 "nbformat": 4,
 "nbformat_minor": 5
}
