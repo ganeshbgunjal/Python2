{
 "cells": [
  {
   "cell_type": "markdown",
   "id": "d7128134-4ff8-47b2-aaa2-0dc69bd3f1aa",
   "metadata": {},
   "source": [
    "Python's standard library is a vast collection of modules and packages that come bundled with python. Providing with wide range of functionalities out of the box. Here is an overview of most commonly used libraries and modules and packages in the python standard library."
   ]
  },
  {
   "cell_type": "markdown",
   "id": "7d2d0a4d-d192-4721-9a95-f03c6b93319a",
   "metadata": {},
   "source": [
    "ALmost 300+ librairs present in the python."
   ]
  },
  {
   "cell_type": "code",
   "execution_count": 1,
   "id": "da17e93d-fc61-4ff6-8e9a-ca1714a96cbf",
   "metadata": {},
   "outputs": [],
   "source": [
    "import array\n"
   ]
  },
  {
   "cell_type": "code",
   "execution_count": 3,
   "id": "c0b9d46e-9e2c-4be1-b993-fd6c313b3abe",
   "metadata": {},
   "outputs": [],
   "source": [
    "arr = array.array('i',[1,2,3,4])\n"
   ]
  },
  {
   "cell_type": "code",
   "execution_count": 4,
   "id": "8dc6cd9f-8432-4374-9d1e-db18243dc1df",
   "metadata": {},
   "outputs": [
    {
     "name": "stdout",
     "output_type": "stream",
     "text": [
      "array('i', [1, 2, 3, 4])\n"
     ]
    }
   ],
   "source": [
    "print(arr)"
   ]
  },
  {
   "cell_type": "code",
   "execution_count": 7,
   "id": "eac249f4-1e81-441a-8402-66b5267006ca",
   "metadata": {},
   "outputs": [],
   "source": [
    "import math"
   ]
  },
  {
   "cell_type": "code",
   "execution_count": 10,
   "id": "3f8db635-3569-4169-8b4a-e96ced110a40",
   "metadata": {},
   "outputs": [
    {
     "name": "stdout",
     "output_type": "stream",
     "text": [
      "9.0\n",
      "3.141592653589793\n"
     ]
    }
   ],
   "source": [
    "print(math.sqrt(81))\n",
    "print(math.pi)"
   ]
  },
  {
   "cell_type": "code",
   "execution_count": 18,
   "id": "3de55fdd-eca1-45cb-9c96-241242fd26d1",
   "metadata": {},
   "outputs": [
    {
     "name": "stdout",
     "output_type": "stream",
     "text": [
      "3\n"
     ]
    }
   ],
   "source": [
    "import random\n",
    "print(random.randint(1,10))   #will give random integers from 1 to 10."
   ]
  },
  {
   "cell_type": "code",
   "execution_count": 22,
   "id": "6b7d96a0-1ffd-4f8d-9518-5c56a4adc593",
   "metadata": {},
   "outputs": [
    {
     "name": "stdout",
     "output_type": "stream",
     "text": [
      "apple\n"
     ]
    }
   ],
   "source": [
    "print(random.choice(['banana','cherry','grapes','apple']))   #will give values from this list randomly."
   ]
  },
  {
   "cell_type": "code",
   "execution_count": 24,
   "id": "b9d9ac19-4c35-4445-897e-85a0d6416750",
   "metadata": {},
   "outputs": [
    {
     "name": "stdout",
     "output_type": "stream",
     "text": [
      "D:\\2. Udemy Course\\1 Python\\Python\\5 Importing Modules\n"
     ]
    }
   ],
   "source": [
    "# For file and directory access\n",
    "import os\n",
    "print(os.getcwd())"
   ]
  },
  {
   "cell_type": "code",
   "execution_count": 26,
   "id": "5cf42733-dd79-40a7-b34d-abd2ecf66805",
   "metadata": {},
   "outputs": [],
   "source": [
    "# to create new folder in current working directory using os module.\n",
    "os.mkdir('test_directory')"
   ]
  },
  {
   "cell_type": "code",
   "execution_count": 28,
   "id": "2c44936c-fa9f-41b5-96a9-e3dd1daf38c1",
   "metadata": {},
   "outputs": [
    {
     "name": "stdout",
     "output_type": "stream",
     "text": [
      "new_file_with_os_module.txt created successfully.\n"
     ]
    }
   ],
   "source": [
    "path = 'new_file_with_os_module.txt'\n",
    "\n",
    "# create new file.\n",
    "with open(path,'w') as file:\n",
    "    file.write('New file created successfully.')\n",
    "\n",
    "print(f'{path} created successfully.')"
   ]
  },
  {
   "cell_type": "markdown",
   "id": "41e76f51-6567-4d41-b07f-427643afcd07",
   "metadata": {},
   "source": [
    "#### Highe level opearations on file and collection of files."
   ]
  },
  {
   "cell_type": "code",
   "execution_count": 31,
   "id": "c0e234f0-a9fe-4b46-b314-b758e7cf6720",
   "metadata": {},
   "outputs": [],
   "source": [
    "import shutil as sh"
   ]
  },
  {
   "cell_type": "code",
   "execution_count": 32,
   "id": "07645e8c-ec3f-4c43-9292-7fc14c83a974",
   "metadata": {},
   "outputs": [
    {
     "data": {
      "text/plain": [
       "'destination.txt'"
      ]
     },
     "execution_count": 32,
     "metadata": {},
     "output_type": "execute_result"
    }
   ],
   "source": [
    "sh.copyfile('source.txt','destination.txt')   #copying file source file to new created file destination file."
   ]
  },
  {
   "cell_type": "markdown",
   "id": "0cf6816e-10a5-40e0-8fbd-0b7572763bde",
   "metadata": {},
   "source": [
    "#### Data Serialization"
   ]
  },
  {
   "cell_type": "code",
   "execution_count": null,
   "id": "c98cb1b4-6b94-4062-b242-b36d2b15aef9",
   "metadata": {},
   "outputs": [],
   "source": []
  }
 ],
 "metadata": {
  "kernelspec": {
   "display_name": "Python 3 (ipykernel)",
   "language": "python",
   "name": "python3"
  },
  "language_info": {
   "codemirror_mode": {
    "name": "ipython",
    "version": 3
   },
   "file_extension": ".py",
   "mimetype": "text/x-python",
   "name": "python",
   "nbconvert_exporter": "python",
   "pygments_lexer": "ipython3",
   "version": "3.12.7"
  }
 },
 "nbformat": 4,
 "nbformat_minor": 5
}
